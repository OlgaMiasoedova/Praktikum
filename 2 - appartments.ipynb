{
 "cells": [
  {
   "cell_type": "markdown",
   "metadata": {},
   "source": [
    "# Исследование объявлений о продаже квартир\n",
    "\n",
    "В вашем распоряжении данные сервиса Яндекс.Недвижимость — архив объявлений о продаже квартир в Санкт-Петербурге и соседних населённых пунктов за несколько лет. Нужно научиться определять рыночную стоимость объектов недвижимости. Ваша задача — установить параметры. Это позволит построить автоматизированную систему: она отследит аномалии и мошенническую деятельность. \n",
    "\n",
    "По каждой квартире на продажу доступны два вида данных. Первые вписаны пользователем, вторые — получены автоматически на основе картографических данных. Например, расстояние до центра, аэропорта, ближайшего парка и водоёма. "
   ]
  },
  {
   "cell_type": "markdown",
   "metadata": {},
   "source": [
    "Нам требуется изучить как влияет стоимость квартиры от различных показателей: общей площади, числа комнат, удаленности от центра, этажа и т.д.\n",
    "\n",
    "Анализ будет проводиться в несколько этапов:\n",
    "\n"
   ]
  },
  {
   "cell_type": "markdown",
   "metadata": {},
   "source": [
    "* [Шаг 1. Общая информация](#cell2)\n",
    "* [Шаг 2. Предобработка данных](#cell3)\n",
    "* [Шаг 3. Добавление новых данных](#cell4)\n",
    "* [Шаг 4. Анализ данных](#cell5)\n",
    "* [Шаг 5. Общий вывод](#cell6)"
   ]
  },
  {
   "cell_type": "markdown",
   "metadata": {},
   "source": [
    "<a id=\"cell2\"></a>\n",
    "### Шаг 1. Откройте файл с данными и изучите общую информацию. "
   ]
  },
  {
   "cell_type": "code",
   "execution_count": 1,
   "metadata": {},
   "outputs": [],
   "source": [
    "import pandas as pd\n",
    "import matplotlib.pyplot as plt"
   ]
  },
  {
   "cell_type": "code",
   "execution_count": 2,
   "metadata": {},
   "outputs": [
    {
     "name": "stdout",
     "output_type": "stream",
     "text": [
      "<class 'pandas.core.frame.DataFrame'>\n",
      "RangeIndex: 23699 entries, 0 to 23698\n",
      "Data columns (total 22 columns):\n",
      "total_images            23699 non-null int64\n",
      "last_price              23699 non-null float64\n",
      "total_area              23699 non-null float64\n",
      "first_day_exposition    23699 non-null object\n",
      "rooms                   23699 non-null int64\n",
      "ceiling_height          14504 non-null float64\n",
      "floors_total            23613 non-null float64\n",
      "living_area             21796 non-null float64\n",
      "floor                   23699 non-null int64\n",
      "is_apartment            2775 non-null object\n",
      "studio                  23699 non-null bool\n",
      "open_plan               23699 non-null bool\n",
      "kitchen_area            21421 non-null float64\n",
      "balcony                 12180 non-null float64\n",
      "locality_name           23650 non-null object\n",
      "airports_nearest        18157 non-null float64\n",
      "cityCenters_nearest     18180 non-null float64\n",
      "parks_around3000        18181 non-null float64\n",
      "parks_nearest           8079 non-null float64\n",
      "ponds_around3000        18181 non-null float64\n",
      "ponds_nearest           9110 non-null float64\n",
      "days_exposition         20518 non-null float64\n",
      "dtypes: bool(2), float64(14), int64(3), object(3)\n",
      "memory usage: 3.7+ MB\n"
     ]
    }
   ],
   "source": [
    "#import pandas as pd\n",
    "data = pd.read_csv('/datasets/real_estate_data.csv', sep='\\t') #загружаем файл с данными и используем разделитель столбцов \\t\n",
    "data.info()"
   ]
  },
  {
   "cell_type": "code",
   "execution_count": 3,
   "metadata": {},
   "outputs": [
    {
     "data": {
      "text/html": [
       "<div>\n",
       "<style scoped>\n",
       "    .dataframe tbody tr th:only-of-type {\n",
       "        vertical-align: middle;\n",
       "    }\n",
       "\n",
       "    .dataframe tbody tr th {\n",
       "        vertical-align: top;\n",
       "    }\n",
       "\n",
       "    .dataframe thead th {\n",
       "        text-align: right;\n",
       "    }\n",
       "</style>\n",
       "<table border=\"1\" class=\"dataframe\">\n",
       "  <thead>\n",
       "    <tr style=\"text-align: right;\">\n",
       "      <th></th>\n",
       "      <th>total_images</th>\n",
       "      <th>last_price</th>\n",
       "      <th>total_area</th>\n",
       "      <th>first_day_exposition</th>\n",
       "      <th>rooms</th>\n",
       "      <th>ceiling_height</th>\n",
       "      <th>floors_total</th>\n",
       "      <th>living_area</th>\n",
       "      <th>floor</th>\n",
       "      <th>is_apartment</th>\n",
       "      <th>...</th>\n",
       "      <th>kitchen_area</th>\n",
       "      <th>balcony</th>\n",
       "      <th>locality_name</th>\n",
       "      <th>airports_nearest</th>\n",
       "      <th>cityCenters_nearest</th>\n",
       "      <th>parks_around3000</th>\n",
       "      <th>parks_nearest</th>\n",
       "      <th>ponds_around3000</th>\n",
       "      <th>ponds_nearest</th>\n",
       "      <th>days_exposition</th>\n",
       "    </tr>\n",
       "  </thead>\n",
       "  <tbody>\n",
       "    <tr>\n",
       "      <td>0</td>\n",
       "      <td>20</td>\n",
       "      <td>13000000.0</td>\n",
       "      <td>108.0</td>\n",
       "      <td>2019-03-07T00:00:00</td>\n",
       "      <td>3</td>\n",
       "      <td>2.70</td>\n",
       "      <td>16.0</td>\n",
       "      <td>51.0</td>\n",
       "      <td>8</td>\n",
       "      <td>NaN</td>\n",
       "      <td>...</td>\n",
       "      <td>25.0</td>\n",
       "      <td>NaN</td>\n",
       "      <td>Санкт-Петербург</td>\n",
       "      <td>18863.0</td>\n",
       "      <td>16028.0</td>\n",
       "      <td>1.0</td>\n",
       "      <td>482.0</td>\n",
       "      <td>2.0</td>\n",
       "      <td>755.0</td>\n",
       "      <td>NaN</td>\n",
       "    </tr>\n",
       "    <tr>\n",
       "      <td>1</td>\n",
       "      <td>7</td>\n",
       "      <td>3350000.0</td>\n",
       "      <td>40.4</td>\n",
       "      <td>2018-12-04T00:00:00</td>\n",
       "      <td>1</td>\n",
       "      <td>NaN</td>\n",
       "      <td>11.0</td>\n",
       "      <td>18.6</td>\n",
       "      <td>1</td>\n",
       "      <td>NaN</td>\n",
       "      <td>...</td>\n",
       "      <td>11.0</td>\n",
       "      <td>2.0</td>\n",
       "      <td>посёлок Шушары</td>\n",
       "      <td>12817.0</td>\n",
       "      <td>18603.0</td>\n",
       "      <td>0.0</td>\n",
       "      <td>NaN</td>\n",
       "      <td>0.0</td>\n",
       "      <td>NaN</td>\n",
       "      <td>81.0</td>\n",
       "    </tr>\n",
       "    <tr>\n",
       "      <td>2</td>\n",
       "      <td>10</td>\n",
       "      <td>5196000.0</td>\n",
       "      <td>56.0</td>\n",
       "      <td>2015-08-20T00:00:00</td>\n",
       "      <td>2</td>\n",
       "      <td>NaN</td>\n",
       "      <td>5.0</td>\n",
       "      <td>34.3</td>\n",
       "      <td>4</td>\n",
       "      <td>NaN</td>\n",
       "      <td>...</td>\n",
       "      <td>8.3</td>\n",
       "      <td>0.0</td>\n",
       "      <td>Санкт-Петербург</td>\n",
       "      <td>21741.0</td>\n",
       "      <td>13933.0</td>\n",
       "      <td>1.0</td>\n",
       "      <td>90.0</td>\n",
       "      <td>2.0</td>\n",
       "      <td>574.0</td>\n",
       "      <td>558.0</td>\n",
       "    </tr>\n",
       "    <tr>\n",
       "      <td>3</td>\n",
       "      <td>0</td>\n",
       "      <td>64900000.0</td>\n",
       "      <td>159.0</td>\n",
       "      <td>2015-07-24T00:00:00</td>\n",
       "      <td>3</td>\n",
       "      <td>NaN</td>\n",
       "      <td>14.0</td>\n",
       "      <td>NaN</td>\n",
       "      <td>9</td>\n",
       "      <td>NaN</td>\n",
       "      <td>...</td>\n",
       "      <td>NaN</td>\n",
       "      <td>0.0</td>\n",
       "      <td>Санкт-Петербург</td>\n",
       "      <td>28098.0</td>\n",
       "      <td>6800.0</td>\n",
       "      <td>2.0</td>\n",
       "      <td>84.0</td>\n",
       "      <td>3.0</td>\n",
       "      <td>234.0</td>\n",
       "      <td>424.0</td>\n",
       "    </tr>\n",
       "    <tr>\n",
       "      <td>4</td>\n",
       "      <td>2</td>\n",
       "      <td>10000000.0</td>\n",
       "      <td>100.0</td>\n",
       "      <td>2018-06-19T00:00:00</td>\n",
       "      <td>2</td>\n",
       "      <td>3.03</td>\n",
       "      <td>14.0</td>\n",
       "      <td>32.0</td>\n",
       "      <td>13</td>\n",
       "      <td>NaN</td>\n",
       "      <td>...</td>\n",
       "      <td>41.0</td>\n",
       "      <td>NaN</td>\n",
       "      <td>Санкт-Петербург</td>\n",
       "      <td>31856.0</td>\n",
       "      <td>8098.0</td>\n",
       "      <td>2.0</td>\n",
       "      <td>112.0</td>\n",
       "      <td>1.0</td>\n",
       "      <td>48.0</td>\n",
       "      <td>121.0</td>\n",
       "    </tr>\n",
       "  </tbody>\n",
       "</table>\n",
       "<p>5 rows × 22 columns</p>\n",
       "</div>"
      ],
      "text/plain": [
       "   total_images  last_price  total_area first_day_exposition  rooms  \\\n",
       "0            20  13000000.0       108.0  2019-03-07T00:00:00      3   \n",
       "1             7   3350000.0        40.4  2018-12-04T00:00:00      1   \n",
       "2            10   5196000.0        56.0  2015-08-20T00:00:00      2   \n",
       "3             0  64900000.0       159.0  2015-07-24T00:00:00      3   \n",
       "4             2  10000000.0       100.0  2018-06-19T00:00:00      2   \n",
       "\n",
       "   ceiling_height  floors_total  living_area  floor is_apartment  ...  \\\n",
       "0            2.70          16.0         51.0      8          NaN  ...   \n",
       "1             NaN          11.0         18.6      1          NaN  ...   \n",
       "2             NaN           5.0         34.3      4          NaN  ...   \n",
       "3             NaN          14.0          NaN      9          NaN  ...   \n",
       "4            3.03          14.0         32.0     13          NaN  ...   \n",
       "\n",
       "   kitchen_area  balcony    locality_name  airports_nearest  \\\n",
       "0          25.0      NaN  Санкт-Петербург           18863.0   \n",
       "1          11.0      2.0   посёлок Шушары           12817.0   \n",
       "2           8.3      0.0  Санкт-Петербург           21741.0   \n",
       "3           NaN      0.0  Санкт-Петербург           28098.0   \n",
       "4          41.0      NaN  Санкт-Петербург           31856.0   \n",
       "\n",
       "  cityCenters_nearest  parks_around3000  parks_nearest  ponds_around3000  \\\n",
       "0             16028.0               1.0          482.0               2.0   \n",
       "1             18603.0               0.0            NaN               0.0   \n",
       "2             13933.0               1.0           90.0               2.0   \n",
       "3              6800.0               2.0           84.0               3.0   \n",
       "4              8098.0               2.0          112.0               1.0   \n",
       "\n",
       "   ponds_nearest  days_exposition  \n",
       "0          755.0              NaN  \n",
       "1            NaN             81.0  \n",
       "2          574.0            558.0  \n",
       "3          234.0            424.0  \n",
       "4           48.0            121.0  \n",
       "\n",
       "[5 rows x 22 columns]"
      ]
     },
     "execution_count": 3,
     "metadata": {},
     "output_type": "execute_result"
    }
   ],
   "source": [
    "data.head()"
   ]
  },
  {
   "cell_type": "markdown",
   "metadata": {},
   "source": [
    "### Вывод"
   ]
  },
  {
   "cell_type": "markdown",
   "metadata": {},
   "source": [
    "\n",
    "Мы загрузили файл с данными о продаже недвижимости в Санкт-Петербурге и соседних населенных пунктах.\n",
    "\n",
    "Всего в таблице загружено 22 столбца, содержащие следующую информацию:\n",
    "\n",
    "<li> <i>airports_nearest</i> - расстояние до ближайшего аэропорта в метрах </li>\n",
    "<li> <i>balcony</i> - число балконов </li>\n",
    "<li> <i>ceiling_height</i> - высота потолков в метрах </li>\n",
    "<li> <i>cityCenters_nearest</i> - расстояние до ближайшего центра города в метрах </li>\n",
    "<li> <i>days_exposition</i> - сколько дней было размещено объявление (от публикации до снятия) </li>\n",
    "<li> <i>first_day_exposition</i> - дата публикации </li>\n",
    "<li> <i>floor</i> - этаж </li>\n",
    "<li> <i>floors_total</i> - всего этажей в доме </li>\n",
    "<li> <i>is_apartment</i> - апартаменты </li>\n",
    "<li> <i>kitchen_area</i> - площадь кухни в квадратных метрах </li>\n",
    "<li> <i>last_price</i> - цена на момент снятия публикации </li>\n",
    "<li> <i>living_area</i> - жилая площадь в квадратных метрах </li>\n",
    "<li> <i>locality_name</i> - название населенного пункта </li>\n",
    "<li> <i>open_plan</i> - свободная планировка </li>\n",
    "<li> <i>parks_around3000</i> - число парков в радиусе 3 км </li>\n",
    "<li> <i>parks_nearest</i> - расстояние до ближайшего парка в метрах </li>\n",
    "<li> <i>ponds_around3000</i> - число водоемов в радиусе 3 км </li>\n",
    "<li> <i>ponds_nearest</i> - расстояние до ближайшего водоема в метрах </li>\n",
    "<li> <i>rooms</i> - число комнат </li>\n",
    "<li> <i>studio</i> - квартира-студия </li>\n",
    "<li> <i>total_area</i> - площадь квартиры в квадратных метрах </li>\n",
    "<li> <i>total_images</i> - число фотографий квартиры в объявлении </li>\n",
    "\n",
    "Мы видим много пропущенных значений в таблице и столбцы, в которых следует изменить тип данных. Например, данные о количестве балконов должны иметь целочисленный тип.\n"
   ]
  },
  {
   "cell_type": "markdown",
   "metadata": {},
   "source": [
    "<a id=\"cell3\"></a>\n",
    "### Шаг 2. Предобработка данных"
   ]
  },
  {
   "cell_type": "markdown",
   "metadata": {},
   "source": [
    "\n",
    "Сперва изучим пропущенные значения и попробуем определить можем ли мы их заменить.\n"
   ]
  },
  {
   "cell_type": "code",
   "execution_count": 4,
   "metadata": {},
   "outputs": [
    {
     "data": {
      "text/plain": [
       "total_images                0\n",
       "last_price                  0\n",
       "total_area                  0\n",
       "first_day_exposition        0\n",
       "rooms                       0\n",
       "ceiling_height           9195\n",
       "floors_total               86\n",
       "living_area              1903\n",
       "floor                       0\n",
       "is_apartment            20924\n",
       "studio                      0\n",
       "open_plan                   0\n",
       "kitchen_area             2278\n",
       "balcony                 11519\n",
       "locality_name              49\n",
       "airports_nearest         5542\n",
       "cityCenters_nearest      5519\n",
       "parks_around3000         5518\n",
       "parks_nearest           15620\n",
       "ponds_around3000         5518\n",
       "ponds_nearest           14589\n",
       "days_exposition          3181\n",
       "dtype: int64"
      ]
     },
     "execution_count": 4,
     "metadata": {},
     "output_type": "execute_result"
    }
   ],
   "source": [
    "data.isna().sum()"
   ]
  },
  {
   "cell_type": "markdown",
   "metadata": {},
   "source": [
    "\n",
    "Довольно много данных нам неизвестно.\n",
    "\n",
    "Первое, что можно предположить, это в случае, если в столбце о количестве балконов есть пропуски, то, скорее всего, балконов нет. Значит эти пропущенные значения мы можем заменить на 0.\n",
    "\n",
    "Далее, если отсутствуют значения в столбце <i>is_apartment</i>, то это может означать, что квартира не является апартаментами, то есть нежилым помещением. Такие пропуски лучше заменить на False.\n",
    "\n",
    "Пропуски в столбце <i>days_exposition</i> могут означать, что квартира еще не продана, т.е. объявление о продаже еще не снято. В этом случае можем также оставить пустое значение ячейки.\n",
    "\n",
    "В случае, если не указано число парков и водоемов в радиусе 3000 м, вероятно, поблизости нет парков и водоемов. Значит эти столбцы можно заполнить нулями.\n",
    "\n",
    "Данные по расстоянию до аэропорта и центра города попробуем заменить медианными значениями по населенным пунктам.\n",
    "\n",
    "Пропуски в столбце по высоте потолков заменим стандартным 2.5 м. Это минимальное значение для жилых помещений.\n"
   ]
  },
  {
   "cell_type": "code",
   "execution_count": 5,
   "metadata": {},
   "outputs": [],
   "source": [
    "airport = data.groupby(by='locality_name')['airports_nearest'].median() #создаем таблицу с медианными значениями\n",
    "airport = airport.reset_index().rename(columns={airport.index.name: 'locality_name'})\n",
    "data['airports_nearest'] = data['airports_nearest'].fillna(value=-1)"
   ]
  },
  {
   "cell_type": "code",
   "execution_count": 6,
   "metadata": {},
   "outputs": [],
   "source": [
    "def airport_near(row): #функция заменяет неизвестные расстояния до аэропорта медианными\n",
    "    locality = row['locality_name']\n",
    "    if row['airports_nearest']==-1:\n",
    "        for i in range(len(airport)):\n",
    "            if airport['locality_name'][i] == locality:\n",
    "                return airport['airports_nearest'][i]\n",
    "            else:\n",
    "                return row['airports_nearest']\n",
    "    else:\n",
    "        return row['airports_nearest']\n",
    "data['airports_nearest'] = data.apply(airport_near, axis=1)"
   ]
  },
  {
   "cell_type": "code",
   "execution_count": 7,
   "metadata": {},
   "outputs": [],
   "source": [
    "city = data.groupby(by='locality_name')['cityCenters_nearest'].median()\n",
    "city = city.reset_index().rename(columns={city.index.name: 'locality_name'})\n",
    "data['cityCenters_nearest'] = data['cityCenters_nearest'].fillna(value=-1)"
   ]
  },
  {
   "cell_type": "code",
   "execution_count": 8,
   "metadata": {},
   "outputs": [],
   "source": [
    "def center_near(row): #функция заменяет неизвестные расстояния до центра медианными\n",
    "    locality = row['locality_name']\n",
    "    if row['cityCenters_nearest']==-1:\n",
    "        for i in range(len(city)):\n",
    "            if city['locality_name'][i] == locality:\n",
    "                return city['cityCenters_nearest'][i]\n",
    "            else:\n",
    "                return row['cityCenters_nearest']\n",
    "    else:\n",
    "        return row['cityCenters_nearest']\n",
    "data['cityCenters_nearest'] = data.apply(center_near, axis=1)"
   ]
  },
  {
   "cell_type": "code",
   "execution_count": 9,
   "metadata": {},
   "outputs": [],
   "source": [
    "data['balcony'] = data['balcony'].fillna(value=0) #заполняем пропуски в количестве балконов, парков и прочего\n",
    "data['is_apartment'] = data['is_apartment'].fillna(value=False)\n",
    "data['floors_total'] = data['floors_total'].fillna(value=0)\n",
    "data['days_exposition'] = data['days_exposition'].fillna(value='')\n",
    "data['parks_around3000'] = data['parks_around3000'].fillna(value=0)\n",
    "data['ponds_around3000'] = data['ponds_around3000'].fillna(value=0)\n",
    "data['ceiling_height'] = data['ceiling_height'].fillna(value=2.5)"
   ]
  },
  {
   "cell_type": "markdown",
   "metadata": {},
   "source": [
    "Вычислим столбец с отдаленностью от центра в километрах."
   ]
  },
  {
   "cell_type": "code",
   "execution_count": 10,
   "metadata": {},
   "outputs": [
    {
     "data": {
      "text/html": [
       "<div>\n",
       "<style scoped>\n",
       "    .dataframe tbody tr th:only-of-type {\n",
       "        vertical-align: middle;\n",
       "    }\n",
       "\n",
       "    .dataframe tbody tr th {\n",
       "        vertical-align: top;\n",
       "    }\n",
       "\n",
       "    .dataframe thead th {\n",
       "        text-align: right;\n",
       "    }\n",
       "</style>\n",
       "<table border=\"1\" class=\"dataframe\">\n",
       "  <thead>\n",
       "    <tr style=\"text-align: right;\">\n",
       "      <th></th>\n",
       "      <th>total_images</th>\n",
       "      <th>last_price</th>\n",
       "      <th>total_area</th>\n",
       "      <th>first_day_exposition</th>\n",
       "      <th>rooms</th>\n",
       "      <th>ceiling_height</th>\n",
       "      <th>floors_total</th>\n",
       "      <th>living_area</th>\n",
       "      <th>floor</th>\n",
       "      <th>is_apartment</th>\n",
       "      <th>...</th>\n",
       "      <th>balcony</th>\n",
       "      <th>locality_name</th>\n",
       "      <th>airports_nearest</th>\n",
       "      <th>cityCenters_nearest</th>\n",
       "      <th>parks_around3000</th>\n",
       "      <th>parks_nearest</th>\n",
       "      <th>ponds_around3000</th>\n",
       "      <th>ponds_nearest</th>\n",
       "      <th>days_exposition</th>\n",
       "      <th>center</th>\n",
       "    </tr>\n",
       "  </thead>\n",
       "  <tbody>\n",
       "    <tr>\n",
       "      <td>0</td>\n",
       "      <td>20</td>\n",
       "      <td>13000000.0</td>\n",
       "      <td>108.0</td>\n",
       "      <td>2019-03-07T00:00:00</td>\n",
       "      <td>3</td>\n",
       "      <td>2.70</td>\n",
       "      <td>16.0</td>\n",
       "      <td>51.0</td>\n",
       "      <td>8</td>\n",
       "      <td>False</td>\n",
       "      <td>...</td>\n",
       "      <td>0.0</td>\n",
       "      <td>Санкт-Петербург</td>\n",
       "      <td>18863.0</td>\n",
       "      <td>16028.0</td>\n",
       "      <td>1.0</td>\n",
       "      <td>482.0</td>\n",
       "      <td>2.0</td>\n",
       "      <td>755.0</td>\n",
       "      <td></td>\n",
       "      <td>16</td>\n",
       "    </tr>\n",
       "    <tr>\n",
       "      <td>1</td>\n",
       "      <td>7</td>\n",
       "      <td>3350000.0</td>\n",
       "      <td>40.4</td>\n",
       "      <td>2018-12-04T00:00:00</td>\n",
       "      <td>1</td>\n",
       "      <td>2.50</td>\n",
       "      <td>11.0</td>\n",
       "      <td>18.6</td>\n",
       "      <td>1</td>\n",
       "      <td>False</td>\n",
       "      <td>...</td>\n",
       "      <td>2.0</td>\n",
       "      <td>посёлок Шушары</td>\n",
       "      <td>12817.0</td>\n",
       "      <td>18603.0</td>\n",
       "      <td>0.0</td>\n",
       "      <td>NaN</td>\n",
       "      <td>0.0</td>\n",
       "      <td>NaN</td>\n",
       "      <td>81</td>\n",
       "      <td>18</td>\n",
       "    </tr>\n",
       "    <tr>\n",
       "      <td>2</td>\n",
       "      <td>10</td>\n",
       "      <td>5196000.0</td>\n",
       "      <td>56.0</td>\n",
       "      <td>2015-08-20T00:00:00</td>\n",
       "      <td>2</td>\n",
       "      <td>2.50</td>\n",
       "      <td>5.0</td>\n",
       "      <td>34.3</td>\n",
       "      <td>4</td>\n",
       "      <td>False</td>\n",
       "      <td>...</td>\n",
       "      <td>0.0</td>\n",
       "      <td>Санкт-Петербург</td>\n",
       "      <td>21741.0</td>\n",
       "      <td>13933.0</td>\n",
       "      <td>1.0</td>\n",
       "      <td>90.0</td>\n",
       "      <td>2.0</td>\n",
       "      <td>574.0</td>\n",
       "      <td>558</td>\n",
       "      <td>13</td>\n",
       "    </tr>\n",
       "    <tr>\n",
       "      <td>3</td>\n",
       "      <td>0</td>\n",
       "      <td>64900000.0</td>\n",
       "      <td>159.0</td>\n",
       "      <td>2015-07-24T00:00:00</td>\n",
       "      <td>3</td>\n",
       "      <td>2.50</td>\n",
       "      <td>14.0</td>\n",
       "      <td>NaN</td>\n",
       "      <td>9</td>\n",
       "      <td>False</td>\n",
       "      <td>...</td>\n",
       "      <td>0.0</td>\n",
       "      <td>Санкт-Петербург</td>\n",
       "      <td>28098.0</td>\n",
       "      <td>6800.0</td>\n",
       "      <td>2.0</td>\n",
       "      <td>84.0</td>\n",
       "      <td>3.0</td>\n",
       "      <td>234.0</td>\n",
       "      <td>424</td>\n",
       "      <td>6</td>\n",
       "    </tr>\n",
       "    <tr>\n",
       "      <td>4</td>\n",
       "      <td>2</td>\n",
       "      <td>10000000.0</td>\n",
       "      <td>100.0</td>\n",
       "      <td>2018-06-19T00:00:00</td>\n",
       "      <td>2</td>\n",
       "      <td>3.03</td>\n",
       "      <td>14.0</td>\n",
       "      <td>32.0</td>\n",
       "      <td>13</td>\n",
       "      <td>False</td>\n",
       "      <td>...</td>\n",
       "      <td>0.0</td>\n",
       "      <td>Санкт-Петербург</td>\n",
       "      <td>31856.0</td>\n",
       "      <td>8098.0</td>\n",
       "      <td>2.0</td>\n",
       "      <td>112.0</td>\n",
       "      <td>1.0</td>\n",
       "      <td>48.0</td>\n",
       "      <td>121</td>\n",
       "      <td>8</td>\n",
       "    </tr>\n",
       "  </tbody>\n",
       "</table>\n",
       "<p>5 rows × 23 columns</p>\n",
       "</div>"
      ],
      "text/plain": [
       "   total_images  last_price  total_area first_day_exposition  rooms  \\\n",
       "0            20  13000000.0       108.0  2019-03-07T00:00:00      3   \n",
       "1             7   3350000.0        40.4  2018-12-04T00:00:00      1   \n",
       "2            10   5196000.0        56.0  2015-08-20T00:00:00      2   \n",
       "3             0  64900000.0       159.0  2015-07-24T00:00:00      3   \n",
       "4             2  10000000.0       100.0  2018-06-19T00:00:00      2   \n",
       "\n",
       "   ceiling_height  floors_total  living_area  floor  is_apartment  ...  \\\n",
       "0            2.70          16.0         51.0      8         False  ...   \n",
       "1            2.50          11.0         18.6      1         False  ...   \n",
       "2            2.50           5.0         34.3      4         False  ...   \n",
       "3            2.50          14.0          NaN      9         False  ...   \n",
       "4            3.03          14.0         32.0     13         False  ...   \n",
       "\n",
       "   balcony    locality_name  airports_nearest  cityCenters_nearest  \\\n",
       "0      0.0  Санкт-Петербург           18863.0              16028.0   \n",
       "1      2.0   посёлок Шушары           12817.0              18603.0   \n",
       "2      0.0  Санкт-Петербург           21741.0              13933.0   \n",
       "3      0.0  Санкт-Петербург           28098.0               6800.0   \n",
       "4      0.0  Санкт-Петербург           31856.0               8098.0   \n",
       "\n",
       "  parks_around3000  parks_nearest  ponds_around3000  ponds_nearest  \\\n",
       "0              1.0          482.0               2.0          755.0   \n",
       "1              0.0            NaN               0.0            NaN   \n",
       "2              1.0           90.0               2.0          574.0   \n",
       "3              2.0           84.0               3.0          234.0   \n",
       "4              2.0          112.0               1.0           48.0   \n",
       "\n",
       "   days_exposition  center  \n",
       "0                       16  \n",
       "1               81      18  \n",
       "2              558      13  \n",
       "3              424       6  \n",
       "4              121       8  \n",
       "\n",
       "[5 rows x 23 columns]"
      ]
     },
     "execution_count": 10,
     "metadata": {},
     "output_type": "execute_result"
    }
   ],
   "source": [
    "data['center'] = data['cityCenters_nearest'] / 1000\n",
    "data['center'] = data['center'].fillna(value=0)\n",
    "data['center'] = data['center'].astype('int')\n",
    "data.head()"
   ]
  },
  {
   "cell_type": "markdown",
   "metadata": {},
   "source": [
    "\n",
    "Парки в городах расположены более ли менее с равной плотностью, примерно в каждом районе. Расстояние до ближайшего парка оценим через отдаленность от центра города.\n"
   ]
  },
  {
   "cell_type": "code",
   "execution_count": 11,
   "metadata": {},
   "outputs": [],
   "source": [
    "park = data.groupby(by='center')['parks_nearest'].median()\n",
    "park = park.reset_index().rename(columns={park.index.name: 'center'})\n",
    "data['parks_nearest'] = data['parks_nearest'].fillna(value=-1)"
   ]
  },
  {
   "cell_type": "code",
   "execution_count": 12,
   "metadata": {},
   "outputs": [],
   "source": [
    "def park_near(row):\n",
    "    local = row['center']\n",
    "    if row['parks_nearest']==-1:\n",
    "        for i in range(len(park)):\n",
    "            if park['center'][i] == local:\n",
    "                return park['parks_nearest'][i]\n",
    "            else:\n",
    "                return row['parks_nearest']\n",
    "    else:\n",
    "        return row['parks_nearest']\n",
    "data['parks_nearest'] = data.apply(park_near, axis=1)"
   ]
  },
  {
   "cell_type": "code",
   "execution_count": 13,
   "metadata": {},
   "outputs": [],
   "source": [
    "pond = data.groupby(by='center')['ponds_nearest'].median()\n",
    "pond = pond.reset_index().rename(columns={pond.index.name: 'center'})\n",
    "data['ponds_nearest'] = data['ponds_nearest'].fillna(value=-1)"
   ]
  },
  {
   "cell_type": "code",
   "execution_count": 14,
   "metadata": {},
   "outputs": [],
   "source": [
    "def pond_near(row):\n",
    "    local = row['center']\n",
    "    if row['ponds_nearest']==-1:\n",
    "        for i in range(len(pond)):\n",
    "            if pond['center'][i] == local:\n",
    "                return pond['ponds_nearest'][i]\n",
    "            else:\n",
    "                return row['ponds_nearest']\n",
    "    else:\n",
    "        return row['ponds_nearest']\n",
    "data['ponds_nearest'] = data.apply(pond_near, axis=1)"
   ]
  },
  {
   "cell_type": "markdown",
   "metadata": {},
   "source": [
    "\n",
    "Приведем столбцы к нужным типам данных:\n",
    "\n",
    "* столбец <i>first_day_exposition</i> должен быть типа \"дата\"\n",
    "* столбец <i>floors_total</i> имеет целочисленный тип\n",
    "* столбец <i>is_apartment</i> приведем к булеву типу, т.к. он принимает только значения True или False\n",
    "* столбец <i>balcony</i> должен быть целочисленного типа, т.к. не может быть дробное число балконов\n",
    "* столбец <i>days_exposition</i> также маловероятно, что имеет тип Float, т.к. содержит данные о количестве дней\n"
   ]
  },
  {
   "cell_type": "code",
   "execution_count": 15,
   "metadata": {},
   "outputs": [],
   "source": [
    "data['first_day_exposition'] = pd.to_datetime(data['first_day_exposition'], format='%Y-%m-%dT%H:%M:%S')\n",
    "data['floors_total'] = data['floors_total'].astype('int')\n",
    "data['is_apartment'] = data['is_apartment'].astype('bool')\n",
    "data['balcony'] = data['balcony'].astype('int')\n",
    "data['days_exposition'] = pd.to_numeric(data['days_exposition'], errors='coerce')"
   ]
  },
  {
   "cell_type": "markdown",
   "metadata": {},
   "source": [
    "<a id=\"cell4\"></a>\n",
    "### Шаг 3. Посчитайте и добавьте в таблицу"
   ]
  },
  {
   "cell_type": "markdown",
   "metadata": {},
   "source": [
    "\n",
    "Добавим в таблицу несколько новых столбцов, которые могут понадобиться для последующего анализа данных:\n",
    "\n",
    "* цену квадратного метра - <i>price_per_meter</i>;\n",
    "* день недели, месяц и год публикации объявления - <i>day_of_week</i>, <i>month</i> и <i>year</i> соответственно;\n",
    "* этаж квартиры, имеющий категориальный тип - <i>floor_category</i>;\n",
    "* соотношение жилой и общей площади - <i>living_ratio</i>;\n",
    "* отношение площади кухни к общей - <i>kitchen_ratio</i>.\n"
   ]
  },
  {
   "cell_type": "code",
   "execution_count": 16,
   "metadata": {},
   "outputs": [],
   "source": [
    "data['price_per_meter'] = data['last_price'] / data['total_area']\n",
    "data['day_of_week'] = pd.DatetimeIndex(data['first_day_exposition']).day_name()\n",
    "data['month'] = pd.DatetimeIndex(data['first_day_exposition']).month\n",
    "data['year'] = pd.DatetimeIndex(data['first_day_exposition']).year"
   ]
  },
  {
   "cell_type": "markdown",
   "metadata": {},
   "source": [
    "Столбец с категорией этажа будет принимать следующие значения: \"первый\", \"последний\", \"другой\"."
   ]
  },
  {
   "cell_type": "code",
   "execution_count": 19,
   "metadata": {},
   "outputs": [],
   "source": [
    "data['floor_category'] = 'другой'\n",
    "data.loc[data['floor']==1, 'floor_category'] = 'первый'\n",
    "data.loc[data['floor']==data['floors_total'], 'floor_category'] = 'последний'"
   ]
  },
  {
   "cell_type": "markdown",
   "metadata": {},
   "source": [
    "Рассчитаем несколько второстепенных параметров - соотношение жилой и общей площади, отношение площади кухни к общей."
   ]
  },
  {
   "cell_type": "code",
   "execution_count": 20,
   "metadata": {},
   "outputs": [
    {
     "data": {
      "text/html": [
       "<div>\n",
       "<style scoped>\n",
       "    .dataframe tbody tr th:only-of-type {\n",
       "        vertical-align: middle;\n",
       "    }\n",
       "\n",
       "    .dataframe tbody tr th {\n",
       "        vertical-align: top;\n",
       "    }\n",
       "\n",
       "    .dataframe thead th {\n",
       "        text-align: right;\n",
       "    }\n",
       "</style>\n",
       "<table border=\"1\" class=\"dataframe\">\n",
       "  <thead>\n",
       "    <tr style=\"text-align: right;\">\n",
       "      <th></th>\n",
       "      <th>total_images</th>\n",
       "      <th>last_price</th>\n",
       "      <th>total_area</th>\n",
       "      <th>first_day_exposition</th>\n",
       "      <th>rooms</th>\n",
       "      <th>ceiling_height</th>\n",
       "      <th>floors_total</th>\n",
       "      <th>living_area</th>\n",
       "      <th>floor</th>\n",
       "      <th>is_apartment</th>\n",
       "      <th>...</th>\n",
       "      <th>ponds_nearest</th>\n",
       "      <th>days_exposition</th>\n",
       "      <th>center</th>\n",
       "      <th>price_per_meter</th>\n",
       "      <th>day_of_week</th>\n",
       "      <th>month</th>\n",
       "      <th>year</th>\n",
       "      <th>floor_category</th>\n",
       "      <th>living_ratio</th>\n",
       "      <th>kitchen_ratio</th>\n",
       "    </tr>\n",
       "  </thead>\n",
       "  <tbody>\n",
       "    <tr>\n",
       "      <td>0</td>\n",
       "      <td>20</td>\n",
       "      <td>13000000.0</td>\n",
       "      <td>108.0</td>\n",
       "      <td>2019-03-07</td>\n",
       "      <td>3</td>\n",
       "      <td>2.70</td>\n",
       "      <td>16</td>\n",
       "      <td>51.0</td>\n",
       "      <td>8</td>\n",
       "      <td>False</td>\n",
       "      <td>...</td>\n",
       "      <td>755.0</td>\n",
       "      <td>NaN</td>\n",
       "      <td>16</td>\n",
       "      <td>120370.370370</td>\n",
       "      <td>Thursday</td>\n",
       "      <td>3</td>\n",
       "      <td>2019</td>\n",
       "      <td>другой</td>\n",
       "      <td>0.472222</td>\n",
       "      <td>0.231481</td>\n",
       "    </tr>\n",
       "    <tr>\n",
       "      <td>1</td>\n",
       "      <td>7</td>\n",
       "      <td>3350000.0</td>\n",
       "      <td>40.4</td>\n",
       "      <td>2018-12-04</td>\n",
       "      <td>1</td>\n",
       "      <td>2.50</td>\n",
       "      <td>11</td>\n",
       "      <td>18.6</td>\n",
       "      <td>1</td>\n",
       "      <td>False</td>\n",
       "      <td>...</td>\n",
       "      <td>-1.0</td>\n",
       "      <td>81.0</td>\n",
       "      <td>18</td>\n",
       "      <td>82920.792079</td>\n",
       "      <td>Tuesday</td>\n",
       "      <td>12</td>\n",
       "      <td>2018</td>\n",
       "      <td>первый</td>\n",
       "      <td>0.460396</td>\n",
       "      <td>0.272277</td>\n",
       "    </tr>\n",
       "    <tr>\n",
       "      <td>2</td>\n",
       "      <td>10</td>\n",
       "      <td>5196000.0</td>\n",
       "      <td>56.0</td>\n",
       "      <td>2015-08-20</td>\n",
       "      <td>2</td>\n",
       "      <td>2.50</td>\n",
       "      <td>5</td>\n",
       "      <td>34.3</td>\n",
       "      <td>4</td>\n",
       "      <td>False</td>\n",
       "      <td>...</td>\n",
       "      <td>574.0</td>\n",
       "      <td>558.0</td>\n",
       "      <td>13</td>\n",
       "      <td>92785.714286</td>\n",
       "      <td>Thursday</td>\n",
       "      <td>8</td>\n",
       "      <td>2015</td>\n",
       "      <td>другой</td>\n",
       "      <td>0.612500</td>\n",
       "      <td>0.148214</td>\n",
       "    </tr>\n",
       "    <tr>\n",
       "      <td>3</td>\n",
       "      <td>0</td>\n",
       "      <td>64900000.0</td>\n",
       "      <td>159.0</td>\n",
       "      <td>2015-07-24</td>\n",
       "      <td>3</td>\n",
       "      <td>2.50</td>\n",
       "      <td>14</td>\n",
       "      <td>NaN</td>\n",
       "      <td>9</td>\n",
       "      <td>False</td>\n",
       "      <td>...</td>\n",
       "      <td>234.0</td>\n",
       "      <td>424.0</td>\n",
       "      <td>6</td>\n",
       "      <td>408176.100629</td>\n",
       "      <td>Friday</td>\n",
       "      <td>7</td>\n",
       "      <td>2015</td>\n",
       "      <td>другой</td>\n",
       "      <td>NaN</td>\n",
       "      <td>NaN</td>\n",
       "    </tr>\n",
       "    <tr>\n",
       "      <td>4</td>\n",
       "      <td>2</td>\n",
       "      <td>10000000.0</td>\n",
       "      <td>100.0</td>\n",
       "      <td>2018-06-19</td>\n",
       "      <td>2</td>\n",
       "      <td>3.03</td>\n",
       "      <td>14</td>\n",
       "      <td>32.0</td>\n",
       "      <td>13</td>\n",
       "      <td>False</td>\n",
       "      <td>...</td>\n",
       "      <td>48.0</td>\n",
       "      <td>121.0</td>\n",
       "      <td>8</td>\n",
       "      <td>100000.000000</td>\n",
       "      <td>Tuesday</td>\n",
       "      <td>6</td>\n",
       "      <td>2018</td>\n",
       "      <td>другой</td>\n",
       "      <td>0.320000</td>\n",
       "      <td>0.410000</td>\n",
       "    </tr>\n",
       "  </tbody>\n",
       "</table>\n",
       "<p>5 rows × 30 columns</p>\n",
       "</div>"
      ],
      "text/plain": [
       "   total_images  last_price  total_area first_day_exposition  rooms  \\\n",
       "0            20  13000000.0       108.0           2019-03-07      3   \n",
       "1             7   3350000.0        40.4           2018-12-04      1   \n",
       "2            10   5196000.0        56.0           2015-08-20      2   \n",
       "3             0  64900000.0       159.0           2015-07-24      3   \n",
       "4             2  10000000.0       100.0           2018-06-19      2   \n",
       "\n",
       "   ceiling_height  floors_total  living_area  floor  is_apartment  ...  \\\n",
       "0            2.70            16         51.0      8         False  ...   \n",
       "1            2.50            11         18.6      1         False  ...   \n",
       "2            2.50             5         34.3      4         False  ...   \n",
       "3            2.50            14          NaN      9         False  ...   \n",
       "4            3.03            14         32.0     13         False  ...   \n",
       "\n",
       "   ponds_nearest  days_exposition  center  price_per_meter day_of_week  month  \\\n",
       "0          755.0              NaN      16    120370.370370    Thursday      3   \n",
       "1           -1.0             81.0      18     82920.792079     Tuesday     12   \n",
       "2          574.0            558.0      13     92785.714286    Thursday      8   \n",
       "3          234.0            424.0       6    408176.100629      Friday      7   \n",
       "4           48.0            121.0       8    100000.000000     Tuesday      6   \n",
       "\n",
       "   year  floor_category  living_ratio  kitchen_ratio  \n",
       "0  2019          другой      0.472222       0.231481  \n",
       "1  2018          первый      0.460396       0.272277  \n",
       "2  2015          другой      0.612500       0.148214  \n",
       "3  2015          другой           NaN            NaN  \n",
       "4  2018          другой      0.320000       0.410000  \n",
       "\n",
       "[5 rows x 30 columns]"
      ]
     },
     "execution_count": 20,
     "metadata": {},
     "output_type": "execute_result"
    }
   ],
   "source": [
    "data['living_ratio'] = data['living_area'] / data['total_area']\n",
    "data['kitchen_ratio'] = data['kitchen_area'] / data['total_area']\n",
    "data.head()"
   ]
  },
  {
   "cell_type": "markdown",
   "metadata": {},
   "source": [
    "<a id=\"cell5\"></a>\n",
    "### Шаг 4. Проведите исследовательский анализ данных и выполните инструкции:"
   ]
  },
  {
   "cell_type": "markdown",
   "metadata": {},
   "source": [
    "\n",
    "Построим гистограммы параметров: площади, цены, числа комнат, высоты потолка.\n"
   ]
  },
  {
   "cell_type": "code",
   "execution_count": 30,
   "metadata": {},
   "outputs": [
    {
     "data": {
      "image/png": "[encoded data removed]",
      "text/plain": [
       "<Figure size 432x288 with 1 Axes>"
      ]
     },
     "metadata": {
      "needs_background": "light"
     },
     "output_type": "display_data"
    }
   ],
   "source": [
    "data.hist(column='total_area', bins=100, sharex=True, sharey=True);\n",
    "plt.title('Распределение общей площади квартир');\n",
    "plt.xlabel(\"Общая площадь квартиры\");\n",
    "plt.ylabel(\"Частота появлений\");"
   ]
  },
  {
   "cell_type": "code",
   "execution_count": 31,
   "metadata": {},
   "outputs": [
    {
     "data": {
      "image/png": "[encoded data removed]",
      "text/plain": [
       "<Figure size 432x288 with 1 Axes>"
      ]
     },
     "metadata": {
      "needs_background": "light"
     },
     "output_type": "display_data"
    }
   ],
   "source": [
    "data.hist(column='last_price', sharex=True, sharey=True);\n",
    "plt.title('Распределение цен на недвижимость');\n",
    "plt.xlabel(\"Цена\");\n",
    "plt.ylabel(\"Частота появлений\");"
   ]
  },
  {
   "cell_type": "code",
   "execution_count": 32,
   "metadata": {},
   "outputs": [
    {
     "data": {
      "image/png": "[encoded data removed]",
      "text/plain": [
       "<Figure size 432x288 with 1 Axes>"
      ]
     },
     "metadata": {
      "needs_background": "light"
     },
     "output_type": "display_data"
    }
   ],
   "source": [
    "data.hist(column='rooms', sharex=True, sharey=True);\n",
    "plt.title('Распределение количества комнат');\n",
    "plt.xlabel(\"Количество комнат\");\n",
    "plt.ylabel(\"Частота появлений\");"
   ]
  },
  {
   "cell_type": "code",
   "execution_count": 33,
   "metadata": {},
   "outputs": [
    {
     "data": {
      "image/png": "[encoded data removed]",
      "text/plain": [
       "<Figure size 432x288 with 1 Axes>"
      ]
     },
     "metadata": {
      "needs_background": "light"
     },
     "output_type": "display_data"
    }
   ],
   "source": [
    "data.hist(column='ceiling_height', bins=50);\n",
    "plt.title('Распределение высоты потолков в квартирах');\n",
    "plt.xlabel(\"Высота потолка\");\n",
    "plt.ylabel(\"Частота появлений\");"
   ]
  },
  {
   "cell_type": "markdown",
   "metadata": {},
   "source": [
    "\n",
    "Видим, что график распределения имеют распределение Пуассона. При этом видим несколько выбивающихся значений.\n",
    "\n",
    "Например, есть несколько квартир, имеющих довольно маленькую площадь. По стандартам минимальный размер жилого помещения на одного человека - 33 квадратных метра. Вероятно, квартиры, имеющие площадь меньше допустимого - либо артефакты, либо не являются жилыми помещениями, а значит столбец <i>is_apartment</i> должен принимать значение True. Квартиры, с площадью 900 квадратных метров - это также редкие значения.\n",
    "\n",
    "Цены, по которым продавали недвижимость имеют очень большой разброс: от нескольких тысяч до миллионов. Гистограмму, имеющую такой разброс значений очень сложно оценить.\n",
    "\n",
    "Количество комнат изменяется от нуля (очевидно, в студиях или при свободной планировке) до 19 (скорее всего, в частных домах). Вряд ли эти значения можно назвать ошибочными. Они возможны, хотя и затрудняют анализ даных.\n",
    "\n",
    "А вот данные о высоте потолков явно ошибочны: они изменяются от одного метра до 100. Трудно сказать есть ли какие-то стандарты строительства для частных домов или нежилых помещений, но вообще-то минимальная высота потолка принята 2.5 метра. В новостройках она еще выше - примерно 2.7 м. Но и стометровый потолок точно делать никто не будет.\n",
    "\n",
    "При анализе данных все эти значения должны быть отсечены.\n"
   ]
  },
  {
   "cell_type": "code",
   "execution_count": 35,
   "metadata": {},
   "outputs": [
    {
     "data": {
      "text/plain": [
       "count    20518.000000\n",
       "mean       180.888634\n",
       "std        219.727988\n",
       "min          1.000000\n",
       "25%         45.000000\n",
       "50%         95.000000\n",
       "75%        232.000000\n",
       "max       1580.000000\n",
       "Name: days_exposition, dtype: float64"
      ]
     },
     "execution_count": 35,
     "metadata": {},
     "output_type": "execute_result"
    },
    {
     "data": {
      "image/png": "[encoded data removed]",
      "text/plain": [
       "<Figure size 432x288 with 1 Axes>"
      ]
     },
     "metadata": {
      "needs_background": "light"
     },
     "output_type": "display_data"
    }
   ],
   "source": [
    "data.hist(column='days_exposition');\n",
    "plt.title('Распределение длительности продажи квартиры');\n",
    "plt.xlabel(\"Количество дней\");\n",
    "plt.ylabel(\"Частота появлений\");\n",
    "data['days_exposition'].describe()"
   ]
  },
  {
   "cell_type": "markdown",
   "metadata": {},
   "source": [
    "Время продажи квартиры также сильно колеблется - от одного дня до четырех с половиной лет. Среднее значение времени продажи квартиры - полгода, при этом медиана равна всего 95 дней.\n",
    "\n",
    "Нормальным временем продажи считается число до 515 дней. Все, что после этого - выбросы.\n"
   ]
  },
  {
   "cell_type": "code",
   "execution_count": 42,
   "metadata": {},
   "outputs": [
    {
     "data": {
      "image/png": "[encoded data removed]",
      "text/plain": [
       "<Figure size 432x288 with 1 Axes>"
      ]
     },
     "metadata": {
      "needs_background": "light"
     },
     "output_type": "display_data"
    }
   ],
   "source": [
    "#import matplotlib.pyplot as plt\n",
    "plt.ylim(0, 600)\n",
    "data.boxplot(column='days_exposition');\n",
    "plt.title('Распределение длительности продажи квартиры');\n",
    "plt.xlabel(\"Длительность продажи квартиры\");\n",
    "plt.ylabel(\"Плотность распределения\");"
   ]
  },
  {
   "cell_type": "code",
   "execution_count": 36,
   "metadata": {},
   "outputs": [],
   "source": [
    "good_data = data.query('last_price<13000000') #создадим таблицу, исключающую редкие значения\n",
    "good_data = good_data.query('total_area<115')\n",
    "good_data = good_data.query('rooms<6')"
   ]
  },
  {
   "cell_type": "markdown",
   "metadata": {},
   "source": [
    "Изучим зависимость цены квартиры от общей площади, количества комнат, удаленности от центра."
   ]
  },
  {
   "cell_type": "code",
   "execution_count": 37,
   "metadata": {},
   "outputs": [
    {
     "data": {
      "text/html": [
       "<div>\n",
       "<style scoped>\n",
       "    .dataframe tbody tr th:only-of-type {\n",
       "        vertical-align: middle;\n",
       "    }\n",
       "\n",
       "    .dataframe tbody tr th {\n",
       "        vertical-align: top;\n",
       "    }\n",
       "\n",
       "    .dataframe thead th {\n",
       "        text-align: right;\n",
       "    }\n",
       "</style>\n",
       "<table border=\"1\" class=\"dataframe\">\n",
       "  <thead>\n",
       "    <tr style=\"text-align: right;\">\n",
       "      <th></th>\n",
       "      <th>last_price</th>\n",
       "      <th>total_area</th>\n",
       "      <th>rooms</th>\n",
       "      <th>cityCenters_nearest</th>\n",
       "    </tr>\n",
       "  </thead>\n",
       "  <tbody>\n",
       "    <tr>\n",
       "      <td>last_price</td>\n",
       "      <td>1.000000</td>\n",
       "      <td>0.710669</td>\n",
       "      <td>0.441223</td>\n",
       "      <td>0.094051</td>\n",
       "    </tr>\n",
       "    <tr>\n",
       "      <td>total_area</td>\n",
       "      <td>0.710669</td>\n",
       "      <td>1.000000</td>\n",
       "      <td>0.802195</td>\n",
       "      <td>-0.018124</td>\n",
       "    </tr>\n",
       "    <tr>\n",
       "      <td>rooms</td>\n",
       "      <td>0.441223</td>\n",
       "      <td>0.802195</td>\n",
       "      <td>1.000000</td>\n",
       "      <td>-0.011665</td>\n",
       "    </tr>\n",
       "    <tr>\n",
       "      <td>cityCenters_nearest</td>\n",
       "      <td>0.094051</td>\n",
       "      <td>-0.018124</td>\n",
       "      <td>-0.011665</td>\n",
       "      <td>1.000000</td>\n",
       "    </tr>\n",
       "  </tbody>\n",
       "</table>\n",
       "</div>"
      ],
      "text/plain": [
       "                     last_price  total_area     rooms  cityCenters_nearest\n",
       "last_price             1.000000    0.710669  0.441223             0.094051\n",
       "total_area             0.710669    1.000000  0.802195            -0.018124\n",
       "rooms                  0.441223    0.802195  1.000000            -0.011665\n",
       "cityCenters_nearest    0.094051   -0.018124 -0.011665             1.000000"
      ]
     },
     "execution_count": 37,
     "metadata": {},
     "output_type": "execute_result"
    },
    {
     "data": {
      "image/png": "[encoded data removed]",
      "text/plain": [
       "<Figure size 432x288 with 16 Axes>"
      ]
     },
     "metadata": {
      "needs_background": "light"
     },
     "output_type": "display_data"
    }
   ],
   "source": [
    "data_scatter = good_data[['last_price', 'total_area', 'rooms', 'cityCenters_nearest']]\n",
    "pd.plotting.scatter_matrix(data_scatter)\n",
    "data_scatter.corr()"
   ]
  },
  {
   "cell_type": "markdown",
   "metadata": {},
   "source": [
    "\n",
    "Зависимость цены квартиры от площади видна невооруженным глазом. Есть небольшая корреляция с количеством комнат, но она, вероятнее всего происходит от зависимости площади квартиры от количества комнат. Зависимости цены от отдаленности от центра не наблюдается никакой, что весьма странно.\n"
   ]
  },
  {
   "cell_type": "markdown",
   "metadata": {},
   "source": [
    "Посмотрим, влияет ли дата публикации объявления о продаже на стоимость квартиры."
   ]
  },
  {
   "cell_type": "code",
   "execution_count": 38,
   "metadata": {},
   "outputs": [
    {
     "data": {
      "text/html": [
       "<div>\n",
       "<style scoped>\n",
       "    .dataframe tbody tr th:only-of-type {\n",
       "        vertical-align: middle;\n",
       "    }\n",
       "\n",
       "    .dataframe tbody tr th {\n",
       "        vertical-align: top;\n",
       "    }\n",
       "\n",
       "    .dataframe thead th {\n",
       "        text-align: right;\n",
       "    }\n",
       "</style>\n",
       "<table border=\"1\" class=\"dataframe\">\n",
       "  <thead>\n",
       "    <tr style=\"text-align: right;\">\n",
       "      <th></th>\n",
       "      <th>last_price</th>\n",
       "      <th>month</th>\n",
       "      <th>year</th>\n",
       "    </tr>\n",
       "  </thead>\n",
       "  <tbody>\n",
       "    <tr>\n",
       "      <td>last_price</td>\n",
       "      <td>1.000000</td>\n",
       "      <td>0.006781</td>\n",
       "      <td>-0.001366</td>\n",
       "    </tr>\n",
       "    <tr>\n",
       "      <td>month</td>\n",
       "      <td>0.006781</td>\n",
       "      <td>1.000000</td>\n",
       "      <td>-0.267011</td>\n",
       "    </tr>\n",
       "    <tr>\n",
       "      <td>year</td>\n",
       "      <td>-0.001366</td>\n",
       "      <td>-0.267011</td>\n",
       "      <td>1.000000</td>\n",
       "    </tr>\n",
       "  </tbody>\n",
       "</table>\n",
       "</div>"
      ],
      "text/plain": [
       "            last_price     month      year\n",
       "last_price    1.000000  0.006781 -0.001366\n",
       "month         0.006781  1.000000 -0.267011\n",
       "year         -0.001366 -0.267011  1.000000"
      ]
     },
     "execution_count": 38,
     "metadata": {},
     "output_type": "execute_result"
    },
    {
     "data": {
      "image/png": "[encoded data removed]",
      "text/plain": [
       "<Figure size 432x288 with 9 Axes>"
      ]
     },
     "metadata": {
      "needs_background": "light"
     },
     "output_type": "display_data"
    }
   ],
   "source": [
    "data_scatter = good_data[['last_price', 'month', 'year']]\n",
    "pd.plotting.scatter_matrix(data_scatter)\n",
    "data_scatter.corr()"
   ]
  },
  {
   "cell_type": "markdown",
   "metadata": {},
   "source": [
    "\n",
    "Графики выше демонстрируют, что цена квартиры никак не зависела от даты размещения объявления.\n",
    "Совершенно разные стоимости независимо от года и месяца.\n"
   ]
  },
  {
   "cell_type": "code",
   "execution_count": 39,
   "metadata": {},
   "outputs": [
    {
     "data": {
      "text/html": [
       "<div>\n",
       "<style scoped>\n",
       "    .dataframe tbody tr th:only-of-type {\n",
       "        vertical-align: middle;\n",
       "    }\n",
       "\n",
       "    .dataframe tbody tr th {\n",
       "        vertical-align: top;\n",
       "    }\n",
       "\n",
       "    .dataframe thead th {\n",
       "        text-align: right;\n",
       "    }\n",
       "</style>\n",
       "<table border=\"1\" class=\"dataframe\">\n",
       "  <thead>\n",
       "    <tr style=\"text-align: right;\">\n",
       "      <th></th>\n",
       "      <th>last_price</th>\n",
       "    </tr>\n",
       "    <tr>\n",
       "      <th>floor_category</th>\n",
       "      <th></th>\n",
       "    </tr>\n",
       "  </thead>\n",
       "  <tbody>\n",
       "    <tr>\n",
       "      <td>другой</td>\n",
       "      <td>5.116716e+06</td>\n",
       "    </tr>\n",
       "    <tr>\n",
       "      <td>первый</td>\n",
       "      <td>4.148570e+06</td>\n",
       "    </tr>\n",
       "    <tr>\n",
       "      <td>последний</td>\n",
       "      <td>4.507412e+06</td>\n",
       "    </tr>\n",
       "  </tbody>\n",
       "</table>\n",
       "</div>"
      ],
      "text/plain": [
       "                  last_price\n",
       "floor_category              \n",
       "другой          5.116716e+06\n",
       "первый          4.148570e+06\n",
       "последний       4.507412e+06"
      ]
     },
     "execution_count": 39,
     "metadata": {},
     "output_type": "execute_result"
    }
   ],
   "source": [
    "good_data.pivot_table(index='floor_category', values='last_price')"
   ]
  },
  {
   "cell_type": "code",
   "execution_count": 51,
   "metadata": {},
   "outputs": [
    {
     "name": "stderr",
     "output_type": "stream",
     "text": [
      "/opt/conda/lib/python3.7/site-packages/numpy/core/_asarray.py:83: VisibleDeprecationWarning: Creating an ndarray from ragged nested sequences (which is a list-or-tuple of lists-or-tuples-or ndarrays with different lengths or shapes) is deprecated. If you meant to do this, you must specify 'dtype=object' when creating the ndarray\n",
      "  return array(a, dtype, copy=False, order=order)\n"
     ]
    },
    {
     "data": {
      "image/png": "[encoded data removed]",
      "text/plain": [
       "<Figure size 432x288 with 1 Axes>"
      ]
     },
     "metadata": {
      "needs_background": "light"
     },
     "output_type": "display_data"
    }
   ],
   "source": [
    "good_data.boxplot(column='last_price', by='floor_category');\n",
    "plt.xlabel(\"Этаж\");\n",
    "plt.ylabel(\"Цена квартиры\");"
   ]
  },
  {
   "cell_type": "markdown",
   "metadata": {},
   "source": [
    "Видим, что, хоть и среднее значение цены примерно на одном уровне, но в целом мы видим, что квартиры на первом этаже примерно на 200 тысяч дешевле, чем квартиры, расположенные на других этажах. Очевидно, квартиры на первом этаже считаются наиболее неудобными в плане шума, уровня безопасности, загазованности воздуха.\n",
    "\n",
    "Квартиры на последнем этаже также чуть менее популярны. Скорее всего, это связано с возможностью затопления квартиры, если потечет крыша. Также крыша может сильно нагреваться на солнце, тогда в квартире становится очень душно."
   ]
  },
  {
   "cell_type": "code",
   "execution_count": 52,
   "metadata": {},
   "outputs": [
    {
     "data": {
      "text/html": [
       "<div>\n",
       "<style scoped>\n",
       "    .dataframe tbody tr th:only-of-type {\n",
       "        vertical-align: middle;\n",
       "    }\n",
       "\n",
       "    .dataframe tbody tr th {\n",
       "        vertical-align: top;\n",
       "    }\n",
       "\n",
       "    .dataframe thead th {\n",
       "        text-align: right;\n",
       "    }\n",
       "</style>\n",
       "<table border=\"1\" class=\"dataframe\">\n",
       "  <thead>\n",
       "    <tr style=\"text-align: right;\">\n",
       "      <th></th>\n",
       "      <th>last_price</th>\n",
       "    </tr>\n",
       "    <tr>\n",
       "      <th>day_of_week</th>\n",
       "      <th></th>\n",
       "    </tr>\n",
       "  </thead>\n",
       "  <tbody>\n",
       "    <tr>\n",
       "      <td>Friday</td>\n",
       "      <td>4.880641e+06</td>\n",
       "    </tr>\n",
       "    <tr>\n",
       "      <td>Monday</td>\n",
       "      <td>4.903225e+06</td>\n",
       "    </tr>\n",
       "    <tr>\n",
       "      <td>Saturday</td>\n",
       "      <td>4.781034e+06</td>\n",
       "    </tr>\n",
       "    <tr>\n",
       "      <td>Sunday</td>\n",
       "      <td>4.829780e+06</td>\n",
       "    </tr>\n",
       "    <tr>\n",
       "      <td>Thursday</td>\n",
       "      <td>4.923191e+06</td>\n",
       "    </tr>\n",
       "    <tr>\n",
       "      <td>Tuesday</td>\n",
       "      <td>4.980405e+06</td>\n",
       "    </tr>\n",
       "    <tr>\n",
       "      <td>Wednesday</td>\n",
       "      <td>4.948623e+06</td>\n",
       "    </tr>\n",
       "  </tbody>\n",
       "</table>\n",
       "</div>"
      ],
      "text/plain": [
       "               last_price\n",
       "day_of_week              \n",
       "Friday       4.880641e+06\n",
       "Monday       4.903225e+06\n",
       "Saturday     4.781034e+06\n",
       "Sunday       4.829780e+06\n",
       "Thursday     4.923191e+06\n",
       "Tuesday      4.980405e+06\n",
       "Wednesday    4.948623e+06"
      ]
     },
     "execution_count": 52,
     "metadata": {},
     "output_type": "execute_result"
    }
   ],
   "source": [
    "good_data.pivot_table(index='day_of_week', values='last_price')"
   ]
  },
  {
   "cell_type": "markdown",
   "metadata": {},
   "source": [
    "\n",
    "Также цена не зависит ни от дня недели, когда было опубликовано объявление, ни от категории этажа, где размещена квартира.\n",
    "\n",
    "Пока что одна безусловная зависимость: цена от площади квартиры.\n"
   ]
  },
  {
   "cell_type": "markdown",
   "metadata": {},
   "source": [
    "Выделим населенные пункты с наибольшим числом объявлений о продаже квартир.\n"
   ]
  },
  {
   "cell_type": "code",
   "execution_count": 53,
   "metadata": {},
   "outputs": [
    {
     "data": {
      "text/plain": [
       "locality_name      locality_name    \n",
       "Санкт-Петербург    Санкт-Петербург      13901\n",
       "посёлок Мурино     посёлок Мурино         522\n",
       "посёлок Шушары     посёлок Шушары         437\n",
       "Всеволожск         Всеволожск             394\n",
       "Пушкин             Пушкин                 338\n",
       "Колпино            Колпино                336\n",
       "посёлок Парголово  посёлок Парголово      326\n",
       "Гатчина            Гатчина                303\n",
       "деревня Кудрово    деревня Кудрово        298\n",
       "Выборг             Выборг                 228\n",
       "Name: locality_name, dtype: int64"
      ]
     },
     "execution_count": 53,
     "metadata": {},
     "output_type": "execute_result"
    }
   ],
   "source": [
    "good_data.groupby(by='locality_name')['locality_name'].value_counts().sort_values(ascending=False).head(10)"
   ]
  },
  {
   "cell_type": "code",
   "execution_count": 54,
   "metadata": {},
   "outputs": [
    {
     "data": {
      "text/plain": [
       "locality_name\n",
       "Санкт-Петербург        111.834862\n",
       "Гатчина              10897.435897\n",
       "Выборг               18750.000000\n",
       "Всеволожск           31400.000000\n",
       "посёлок Шушары       47700.416089\n",
       "Колпино              47957.371226\n",
       "посёлок Парголово    48405.466970\n",
       "посёлок Мурино       50000.000000\n",
       "деревня Кудрово      54160.346696\n",
       "Пушкин               59836.065574\n",
       "Name: price_per_meter, dtype: float64"
      ]
     },
     "execution_count": 54,
     "metadata": {},
     "output_type": "execute_result"
    }
   ],
   "source": [
    "top_ten = good_data.pivot_table(index='locality_name', values='last_price', aggfunc='count')\n",
    "top_ten = top_ten.where(top_ten['last_price']>=228).dropna()\n",
    "top_data = good_data.query('locality_name in @top_ten.index')\n",
    "top_data.groupby(by='locality_name')['price_per_meter'].min().sort_values()"
   ]
  },
  {
   "cell_type": "code",
   "execution_count": 55,
   "metadata": {},
   "outputs": [
    {
     "data": {
      "text/plain": [
       "locality_name\n",
       "Санкт-Петербург      387096.774194\n",
       "Пушкин               166666.666667\n",
       "посёлок Шушары       147826.086957\n",
       "деревня Кудрово      142857.142857\n",
       "посёлок Мурино       138580.246914\n",
       "посёлок Парголово    138522.427441\n",
       "Всеволожск           136423.841060\n",
       "Гатчина              130853.994490\n",
       "Колпино              125000.000000\n",
       "Выборг                94805.194805\n",
       "Name: price_per_meter, dtype: float64"
      ]
     },
     "execution_count": 55,
     "metadata": {},
     "output_type": "execute_result"
    }
   ],
   "source": [
    "top_data.groupby(by='locality_name')['price_per_meter'].max().sort_values(ascending=False)"
   ]
  },
  {
   "cell_type": "markdown",
   "metadata": {},
   "source": [
    "\n",
    "Больше всего объявлений о продаже недвижимости в Санкт-Петербурге. Количество объявлений в остальных населенных пунктах отличасются от питерских больше, чем в три раза. При этом в Санкт-Петербурге и самая низкая, и самая высокая стоимость квадратного метра. И это не удивительно: огромный город - огромное разнообразие квартир на любой вкус и возможности.\n"
   ]
  },
  {
   "cell_type": "markdown",
   "metadata": {},
   "source": [
    "Изучим подробнее цены на квартиры в Санкт-Петербурге. Прежде всего, определим какая область города входит в центр."
   ]
  },
  {
   "cell_type": "code",
   "execution_count": 57,
   "metadata": {},
   "outputs": [
    {
     "data": {
      "image/png": "[encoded data removed]",
      "text/plain": [
       "<Figure size 432x288 with 1 Axes>"
      ]
     },
     "metadata": {
      "needs_background": "light"
     },
     "output_type": "display_data"
    }
   ],
   "source": [
    "data_spb = good_data.query('locality_name ==\"Санкт-Петербург\"')\n",
    "data_spb_table = data_spb.pivot_table(index='center', values='last_price')\n",
    "data_spb_table.plot(grid=True, xlim=(0, 18));\n",
    "plt.title('Распределение цены квартиры в зависимости от расстояния до центра')\n",
    "plt.xlabel(\"Расстояние\");\n",
    "plt.ylabel(\"Цена квартиры\");"
   ]
  },
  {
   "cell_type": "markdown",
   "metadata": {},
   "source": [
    "Видим, что при удаленности больше 8 км цена на квартиры резко упала. Значит можем сделать вывод, что центр города - в пределах 8 км."
   ]
  },
  {
   "cell_type": "code",
   "execution_count": 58,
   "metadata": {},
   "outputs": [
    {
     "data": {
      "text/html": [
       "<div>\n",
       "<style scoped>\n",
       "    .dataframe tbody tr th:only-of-type {\n",
       "        vertical-align: middle;\n",
       "    }\n",
       "\n",
       "    .dataframe tbody tr th {\n",
       "        vertical-align: top;\n",
       "    }\n",
       "\n",
       "    .dataframe thead th {\n",
       "        text-align: right;\n",
       "    }\n",
       "</style>\n",
       "<table border=\"1\" class=\"dataframe\">\n",
       "  <thead>\n",
       "    <tr style=\"text-align: right;\">\n",
       "      <th></th>\n",
       "      <th>total_images</th>\n",
       "      <th>last_price</th>\n",
       "      <th>total_area</th>\n",
       "      <th>rooms</th>\n",
       "      <th>ceiling_height</th>\n",
       "      <th>floors_total</th>\n",
       "      <th>living_area</th>\n",
       "      <th>floor</th>\n",
       "      <th>kitchen_area</th>\n",
       "      <th>balcony</th>\n",
       "      <th>...</th>\n",
       "      <th>parks_nearest</th>\n",
       "      <th>ponds_around3000</th>\n",
       "      <th>ponds_nearest</th>\n",
       "      <th>days_exposition</th>\n",
       "      <th>center</th>\n",
       "      <th>price_per_meter</th>\n",
       "      <th>month</th>\n",
       "      <th>year</th>\n",
       "      <th>living_ratio</th>\n",
       "      <th>kitchen_ratio</th>\n",
       "    </tr>\n",
       "  </thead>\n",
       "  <tbody>\n",
       "    <tr>\n",
       "      <td>count</td>\n",
       "      <td>2531.000000</td>\n",
       "      <td>2.531000e+03</td>\n",
       "      <td>2531.000000</td>\n",
       "      <td>2531.000000</td>\n",
       "      <td>2531.000000</td>\n",
       "      <td>2531.000000</td>\n",
       "      <td>2350.000000</td>\n",
       "      <td>2531.000000</td>\n",
       "      <td>2297.000000</td>\n",
       "      <td>2531.000000</td>\n",
       "      <td>...</td>\n",
       "      <td>2531.000000</td>\n",
       "      <td>2531.000000</td>\n",
       "      <td>2531.000000</td>\n",
       "      <td>2200.000000</td>\n",
       "      <td>2531.000000</td>\n",
       "      <td>2531.000000</td>\n",
       "      <td>2531.000000</td>\n",
       "      <td>2531.000000</td>\n",
       "      <td>2350.000000</td>\n",
       "      <td>2297.000000</td>\n",
       "    </tr>\n",
       "    <tr>\n",
       "      <td>mean</td>\n",
       "      <td>9.758593</td>\n",
       "      <td>7.557511e+06</td>\n",
       "      <td>65.214714</td>\n",
       "      <td>2.285263</td>\n",
       "      <td>2.839798</td>\n",
       "      <td>7.229158</td>\n",
       "      <td>38.343757</td>\n",
       "      <td>4.112604</td>\n",
       "      <td>11.315855</td>\n",
       "      <td>0.290399</td>\n",
       "      <td>...</td>\n",
       "      <td>305.978269</td>\n",
       "      <td>1.224812</td>\n",
       "      <td>340.944686</td>\n",
       "      <td>220.312273</td>\n",
       "      <td>4.259581</td>\n",
       "      <td>120027.190634</td>\n",
       "      <td>6.484394</td>\n",
       "      <td>2017.241011</td>\n",
       "      <td>0.576981</td>\n",
       "      <td>0.182622</td>\n",
       "    </tr>\n",
       "    <tr>\n",
       "      <td>std</td>\n",
       "      <td>5.633732</td>\n",
       "      <td>2.377049e+06</td>\n",
       "      <td>21.308654</td>\n",
       "      <td>0.962958</td>\n",
       "      <td>0.837132</td>\n",
       "      <td>4.103363</td>\n",
       "      <td>15.959491</td>\n",
       "      <td>2.982883</td>\n",
       "      <td>4.875377</td>\n",
       "      <td>0.683966</td>\n",
       "      <td>...</td>\n",
       "      <td>340.959422</td>\n",
       "      <td>1.071935</td>\n",
       "      <td>309.993357</td>\n",
       "      <td>255.389760</td>\n",
       "      <td>1.805619</td>\n",
       "      <td>30239.714215</td>\n",
       "      <td>3.439835</td>\n",
       "      <td>1.089109</td>\n",
       "      <td>0.112221</td>\n",
       "      <td>0.080076</td>\n",
       "    </tr>\n",
       "    <tr>\n",
       "      <td>min</td>\n",
       "      <td>0.000000</td>\n",
       "      <td>1.600000e+06</td>\n",
       "      <td>12.000000</td>\n",
       "      <td>0.000000</td>\n",
       "      <td>2.000000</td>\n",
       "      <td>0.000000</td>\n",
       "      <td>2.000000</td>\n",
       "      <td>1.000000</td>\n",
       "      <td>2.000000</td>\n",
       "      <td>0.000000</td>\n",
       "      <td>...</td>\n",
       "      <td>-1.000000</td>\n",
       "      <td>0.000000</td>\n",
       "      <td>-1.000000</td>\n",
       "      <td>3.000000</td>\n",
       "      <td>0.000000</td>\n",
       "      <td>17391.304348</td>\n",
       "      <td>1.000000</td>\n",
       "      <td>2014.000000</td>\n",
       "      <td>0.038462</td>\n",
       "      <td>0.054348</td>\n",
       "    </tr>\n",
       "    <tr>\n",
       "      <td>25%</td>\n",
       "      <td>6.000000</td>\n",
       "      <td>5.800000e+06</td>\n",
       "      <td>47.950000</td>\n",
       "      <td>2.000000</td>\n",
       "      <td>2.500000</td>\n",
       "      <td>5.000000</td>\n",
       "      <td>26.500000</td>\n",
       "      <td>2.000000</td>\n",
       "      <td>8.000000</td>\n",
       "      <td>0.000000</td>\n",
       "      <td>...</td>\n",
       "      <td>-1.000000</td>\n",
       "      <td>0.000000</td>\n",
       "      <td>-1.000000</td>\n",
       "      <td>51.000000</td>\n",
       "      <td>3.000000</td>\n",
       "      <td>97995.449307</td>\n",
       "      <td>3.000000</td>\n",
       "      <td>2017.000000</td>\n",
       "      <td>0.511508</td>\n",
       "      <td>0.126582</td>\n",
       "    </tr>\n",
       "    <tr>\n",
       "      <td>50%</td>\n",
       "      <td>9.000000</td>\n",
       "      <td>7.350000e+06</td>\n",
       "      <td>64.000000</td>\n",
       "      <td>2.000000</td>\n",
       "      <td>2.700000</td>\n",
       "      <td>6.000000</td>\n",
       "      <td>36.300000</td>\n",
       "      <td>3.000000</td>\n",
       "      <td>10.000000</td>\n",
       "      <td>0.000000</td>\n",
       "      <td>...</td>\n",
       "      <td>273.000000</td>\n",
       "      <td>1.000000</td>\n",
       "      <td>292.000000</td>\n",
       "      <td>118.000000</td>\n",
       "      <td>4.000000</td>\n",
       "      <td>115384.615385</td>\n",
       "      <td>6.000000</td>\n",
       "      <td>2017.000000</td>\n",
       "      <td>0.591993</td>\n",
       "      <td>0.160000</td>\n",
       "    </tr>\n",
       "    <tr>\n",
       "      <td>75%</td>\n",
       "      <td>14.000000</td>\n",
       "      <td>9.200000e+06</td>\n",
       "      <td>80.550000</td>\n",
       "      <td>3.000000</td>\n",
       "      <td>3.000000</td>\n",
       "      <td>9.000000</td>\n",
       "      <td>49.500000</td>\n",
       "      <td>5.000000</td>\n",
       "      <td>13.000000</td>\n",
       "      <td>0.000000</td>\n",
       "      <td>...</td>\n",
       "      <td>505.000000</td>\n",
       "      <td>2.000000</td>\n",
       "      <td>579.000000</td>\n",
       "      <td>294.000000</td>\n",
       "      <td>6.000000</td>\n",
       "      <td>137586.653212</td>\n",
       "      <td>10.000000</td>\n",
       "      <td>2018.000000</td>\n",
       "      <td>0.656331</td>\n",
       "      <td>0.217105</td>\n",
       "    </tr>\n",
       "    <tr>\n",
       "      <td>max</td>\n",
       "      <td>32.000000</td>\n",
       "      <td>1.299900e+07</td>\n",
       "      <td>114.800000</td>\n",
       "      <td>5.000000</td>\n",
       "      <td>32.000000</td>\n",
       "      <td>27.000000</td>\n",
       "      <td>90.200000</td>\n",
       "      <td>24.000000</td>\n",
       "      <td>48.300000</td>\n",
       "      <td>5.000000</td>\n",
       "      <td>...</td>\n",
       "      <td>2295.000000</td>\n",
       "      <td>3.000000</td>\n",
       "      <td>1199.000000</td>\n",
       "      <td>1497.000000</td>\n",
       "      <td>7.000000</td>\n",
       "      <td>387096.774194</td>\n",
       "      <td>12.000000</td>\n",
       "      <td>2019.000000</td>\n",
       "      <td>0.972222</td>\n",
       "      <td>0.625000</td>\n",
       "    </tr>\n",
       "  </tbody>\n",
       "</table>\n",
       "<p>8 rows × 23 columns</p>\n",
       "</div>"
      ],
      "text/plain": [
       "       total_images    last_price   total_area        rooms  ceiling_height  \\\n",
       "count   2531.000000  2.531000e+03  2531.000000  2531.000000     2531.000000   \n",
       "mean       9.758593  7.557511e+06    65.214714     2.285263        2.839798   \n",
       "std        5.633732  2.377049e+06    21.308654     0.962958        0.837132   \n",
       "min        0.000000  1.600000e+06    12.000000     0.000000        2.000000   \n",
       "25%        6.000000  5.800000e+06    47.950000     2.000000        2.500000   \n",
       "50%        9.000000  7.350000e+06    64.000000     2.000000        2.700000   \n",
       "75%       14.000000  9.200000e+06    80.550000     3.000000        3.000000   \n",
       "max       32.000000  1.299900e+07   114.800000     5.000000       32.000000   \n",
       "\n",
       "       floors_total  living_area        floor  kitchen_area      balcony  ...  \\\n",
       "count   2531.000000  2350.000000  2531.000000   2297.000000  2531.000000  ...   \n",
       "mean       7.229158    38.343757     4.112604     11.315855     0.290399  ...   \n",
       "std        4.103363    15.959491     2.982883      4.875377     0.683966  ...   \n",
       "min        0.000000     2.000000     1.000000      2.000000     0.000000  ...   \n",
       "25%        5.000000    26.500000     2.000000      8.000000     0.000000  ...   \n",
       "50%        6.000000    36.300000     3.000000     10.000000     0.000000  ...   \n",
       "75%        9.000000    49.500000     5.000000     13.000000     0.000000  ...   \n",
       "max       27.000000    90.200000    24.000000     48.300000     5.000000  ...   \n",
       "\n",
       "       parks_nearest  ponds_around3000  ponds_nearest  days_exposition  \\\n",
       "count    2531.000000       2531.000000    2531.000000      2200.000000   \n",
       "mean      305.978269          1.224812     340.944686       220.312273   \n",
       "std       340.959422          1.071935     309.993357       255.389760   \n",
       "min        -1.000000          0.000000      -1.000000         3.000000   \n",
       "25%        -1.000000          0.000000      -1.000000        51.000000   \n",
       "50%       273.000000          1.000000     292.000000       118.000000   \n",
       "75%       505.000000          2.000000     579.000000       294.000000   \n",
       "max      2295.000000          3.000000    1199.000000      1497.000000   \n",
       "\n",
       "            center  price_per_meter        month         year  living_ratio  \\\n",
       "count  2531.000000      2531.000000  2531.000000  2531.000000   2350.000000   \n",
       "mean      4.259581    120027.190634     6.484394  2017.241011      0.576981   \n",
       "std       1.805619     30239.714215     3.439835     1.089109      0.112221   \n",
       "min       0.000000     17391.304348     1.000000  2014.000000      0.038462   \n",
       "25%       3.000000     97995.449307     3.000000  2017.000000      0.511508   \n",
       "50%       4.000000    115384.615385     6.000000  2017.000000      0.591993   \n",
       "75%       6.000000    137586.653212    10.000000  2018.000000      0.656331   \n",
       "max       7.000000    387096.774194    12.000000  2019.000000      0.972222   \n",
       "\n",
       "       kitchen_ratio  \n",
       "count    2297.000000  \n",
       "mean        0.182622  \n",
       "std         0.080076  \n",
       "min         0.054348  \n",
       "25%         0.126582  \n",
       "50%         0.160000  \n",
       "75%         0.217105  \n",
       "max         0.625000  \n",
       "\n",
       "[8 rows x 23 columns]"
      ]
     },
     "execution_count": 58,
     "metadata": {},
     "output_type": "execute_result"
    }
   ],
   "source": [
    "data_spb_center = data_spb.query('center<8') #выделим отдельную таблицу - центр Санкт-Петербурга\n",
    "data_spb_center.describe()"
   ]
  },
  {
   "cell_type": "markdown",
   "metadata": {},
   "source": [
    "Разделяя таким образом объявления о продаже квартир, видим, что стандартное отклонение не такое уж большое. В центре примерно одинаковая высота потолков, не очень большая площадь, в среднем это квартиры с двумя комнатами. Хотя цена все же может значительно отличаться."
   ]
  },
  {
   "cell_type": "code",
   "execution_count": 66,
   "metadata": {},
   "outputs": [
    {
     "data": {
      "text/html": [
       "<div>\n",
       "<style scoped>\n",
       "    .dataframe tbody tr th:only-of-type {\n",
       "        vertical-align: middle;\n",
       "    }\n",
       "\n",
       "    .dataframe tbody tr th {\n",
       "        vertical-align: top;\n",
       "    }\n",
       "\n",
       "    .dataframe thead th {\n",
       "        text-align: right;\n",
       "    }\n",
       "</style>\n",
       "<table border=\"1\" class=\"dataframe\">\n",
       "  <thead>\n",
       "    <tr style=\"text-align: right;\">\n",
       "      <th></th>\n",
       "      <th>rooms</th>\n",
       "      <th>last_price</th>\n",
       "      <th>floor</th>\n",
       "      <th>cityCenters_nearest</th>\n",
       "      <th>total_area</th>\n",
       "    </tr>\n",
       "  </thead>\n",
       "  <tbody>\n",
       "    <tr>\n",
       "      <td>rooms</td>\n",
       "      <td>1.000000</td>\n",
       "      <td>0.449972</td>\n",
       "      <td>-0.138197</td>\n",
       "      <td>-0.143900</td>\n",
       "      <td>0.789884</td>\n",
       "    </tr>\n",
       "    <tr>\n",
       "      <td>last_price</td>\n",
       "      <td>0.449972</td>\n",
       "      <td>1.000000</td>\n",
       "      <td>0.134347</td>\n",
       "      <td>-0.124138</td>\n",
       "      <td>0.707179</td>\n",
       "    </tr>\n",
       "    <tr>\n",
       "      <td>floor</td>\n",
       "      <td>-0.138197</td>\n",
       "      <td>0.134347</td>\n",
       "      <td>1.000000</td>\n",
       "      <td>0.204740</td>\n",
       "      <td>-0.042247</td>\n",
       "    </tr>\n",
       "    <tr>\n",
       "      <td>cityCenters_nearest</td>\n",
       "      <td>-0.143900</td>\n",
       "      <td>-0.124138</td>\n",
       "      <td>0.204740</td>\n",
       "      <td>1.000000</td>\n",
       "      <td>-0.160325</td>\n",
       "    </tr>\n",
       "    <tr>\n",
       "      <td>total_area</td>\n",
       "      <td>0.789884</td>\n",
       "      <td>0.707179</td>\n",
       "      <td>-0.042247</td>\n",
       "      <td>-0.160325</td>\n",
       "      <td>1.000000</td>\n",
       "    </tr>\n",
       "  </tbody>\n",
       "</table>\n",
       "</div>"
      ],
      "text/plain": [
       "                        rooms  last_price     floor  cityCenters_nearest  \\\n",
       "rooms                1.000000    0.449972 -0.138197            -0.143900   \n",
       "last_price           0.449972    1.000000  0.134347            -0.124138   \n",
       "floor               -0.138197    0.134347  1.000000             0.204740   \n",
       "cityCenters_nearest -0.143900   -0.124138  0.204740             1.000000   \n",
       "total_area           0.789884    0.707179 -0.042247            -0.160325   \n",
       "\n",
       "                     total_area  \n",
       "rooms                  0.789884  \n",
       "last_price             0.707179  \n",
       "floor                 -0.042247  \n",
       "cityCenters_nearest   -0.160325  \n",
       "total_area             1.000000  "
      ]
     },
     "execution_count": 66,
     "metadata": {},
     "output_type": "execute_result"
    },
    {
     "data": {
      "image/png": "[encoded data removed]",
      "text/plain": [
       "<Figure size 432x288 with 25 Axes>"
      ]
     },
     "metadata": {
      "needs_background": "light"
     },
     "output_type": "display_data"
    }
   ],
   "source": [
    "data_analysis = data_spb_center[['rooms', 'last_price', 'floor', 'cityCenters_nearest', 'total_area']]\n",
    "pd.plotting.scatter_matrix(data_analysis)\n",
    "data_analysis.corr()"
   ]
  },
  {
   "cell_type": "markdown",
   "metadata": {},
   "source": [
    "\n",
    "Во графиках второй строки сверху мы можем проследить зависимости слева направо:\n",
    "\n",
    "* Цены от количества комнат. Не слишком наглядно, но все же видим, что в целом, чем больше комнат, тем выше цена.\n",
    "* Гистограмма распределения цен по центру Санкт-Петербурга.\n",
    "* Зависимость центы от этажа. Зависимости нет, хотя полученная визуализация и напоминает немного экспоненциальное распределение со \"скошенным\" окончанием - чем выше этаж, тем выше стоимость, за исключением последнего этажа, где цена падает.\n",
    "* Цены от расстояния до центра. Данная зависимость не прослеживается.\n",
    "* Цены от общей площади. Очень четкая линейная зависимость - чем больше площадь, тем выше цена.\n",
    "\n",
    "Полученные графики демонстрируют четкую зависимость цены от общей площади квартиры. Сравнивая данные распределения по центру Санкт-Петербурга с первоначальными, построенными по всем населенным пунктам, мы можем наблюдать более четко прослеживающуюся зависимость. Сужение первоначальной информации по каким-либо признакам позволяет янее отобразить факторы, влияющие на цену.\n"
   ]
  },
  {
   "cell_type": "code",
   "execution_count": 68,
   "metadata": {},
   "outputs": [
    {
     "name": "stderr",
     "output_type": "stream",
     "text": [
      "/opt/conda/lib/python3.7/site-packages/pandas/core/frame.py:4223: SettingWithCopyWarning: \n",
      "A value is trying to be set on a copy of a slice from a DataFrame\n",
      "\n",
      "See the caveats in the documentation: http://pandas.pydata.org/pandas-docs/stable/user_guide/indexing.html#returning-a-view-versus-a-copy\n",
      "  return super().rename(**kwargs)\n"
     ]
    },
    {
     "data": {
      "image/png": "[encoded data removed]",
      "text/plain": [
       "<Figure size 432x288 with 1 Axes>"
      ]
     },
     "metadata": {
      "needs_background": "light"
     },
     "output_type": "display_data"
    },
    {
     "data": {
      "image/png": "[encoded data removed]",
      "text/plain": [
       "<Figure size 432x288 with 1 Axes>"
      ]
     },
     "metadata": {
      "needs_background": "light"
     },
     "output_type": "display_data"
    },
    {
     "data": {
      "image/png": "[encoded data removed]",
      "text/plain": [
       "<Figure size 432x288 with 1 Axes>"
      ]
     },
     "metadata": {
      "needs_background": "light"
     },
     "output_type": "display_data"
    },
    {
     "data": {
      "image/png": "[encoded data removed]",
      "text/plain": [
       "<Figure size 432x288 with 1 Axes>"
      ]
     },
     "metadata": {
      "needs_background": "light"
     },
     "output_type": "display_data"
    },
    {
     "data": {
      "image/png": "[encoded data removed]",
      "text/plain": [
       "<Figure size 432x288 with 1 Axes>"
      ]
     },
     "metadata": {
      "needs_background": "light"
     },
     "output_type": "display_data"
    }
   ],
   "source": [
    "data_analysis.rename(columns={'rooms': 'Количество комнат', 'last_price': 'Цена', 'floor': 'Этаж', 'cityCenters_nearest': 'Расстояние до центра', 'total_area': 'Площадь квартиры'}, inplace=True)\n",
    "for column in data_analysis.columns:\n",
    "    data_analysis.plot(y=column, kind='hist')\n",
    "    plt.ylabel('Частота появлений')"
   ]
  },
  {
   "cell_type": "markdown",
   "metadata": {},
   "source": [
    "Распределение таких параметров, как количество комнат, цена, этаж, расстояние до центра и общая площадь недвижимости, также отличается по центру Санкт-Петербурга от подобного распределения по всем населенным пунктам.\n",
    "\n",
    "Удаляя артефакты и выбросы по данным параметрам, а также анализируя более \"узкое\" направление - только центр Санкт-Петербурга - мы видим наиболее грамотное распределение.\n",
    "\n",
    "В центре почти не встречаются высокие здания с большим количеством комнат. В основном, это пятиэтажки с двумя-тремя комнатами и площадью 50-70 кв.метров.\n",
    "\n",
    "Квартиры продаются в основном не в самом центре, а в 3 км от него. Вероятно, в центре в целом меньше жилых помещений. В основном здания выкуплены под офисы и коммерческие нужды.\n"
   ]
  },
  {
   "cell_type": "markdown",
   "metadata": {},
   "source": [
    "<a id=\"cell6\"></a>\n",
    "### Шаг 5. Общий вывод"
   ]
  },
  {
   "cell_type": "markdown",
   "metadata": {},
   "source": [
    "\n",
    "В процессе исследования была проведена большая работа над полученными первоначальными данными.\n",
    "\n",
    "Данные по продажам были двух типов: полученные от пользователей и рассчитанные автоматически на основе картографических данных.\n",
    "\n",
    "Анализируя таблицу параметров, было выявлено огромное количество пропущенных значений. Большинство этих значений были из тех, что должны были рассчитываться автоматически - расстояние до центра, аэропорта, ближайшего парка и водоема. Возможно, следует пересмотреть метод расчета подобных параметров.\n",
    "\n",
    "В данных, заполненных пользователями, также встречались неточности и опечатки. Так, например, высота потолков в жилых помещениях, не должна быть меньше 2.5 метров. Однако встречались значения в 1 метр и в 100 метров, что тоже крайне маловероятно.\n",
    "\n",
    "Устранив пропущенные значения, артефакты и выбросы в исходных данных, можно уже приступать непосредственно к анализу.\n",
    "\n",
    "В процессе анализа были изучены факторы, влияющие на стоимость недвижимости для всех населенных пунктов и отдельно для центра Санкт-Петербурга. Получена основная зависимость - чем выше площадь продаваемой недвижимости, тем выше ее цена. Второстепенные параметры - это количество комнат и этаж, на котором располагается квартира. На первых и последних этажах цена ниже. Люди предпочитают не покупать квартиры на первом этаже, хотя в отдельных случаях это может быть плюсом: для пожилых людей, когда им не приходится спускаться по лестницам или молодым семьям с детьми (что как раз подходит для центра города, так как в старых зданиях нет лифтов).\n",
    "\n",
    "Для выявления более четких зависимостей, полезно сужение данных до какой-либо одной области, как, например, в данном случае - центра Санкт-Петербурга. Анализ этих значений более точен, зависимости прослеживаются более явно. Основываясь на цене, мы определили радиус, в котором квартиры можно считать \"квартирами в центре\" - это 8 км. Внутри этого радиуса квартиры намного дороже остальных.\n",
    "\n",
    "Очень мало квартир непосредственно в самом центре Санкт-Петербурга. Скорее всего, здании в нем выкуплены для нежилых помещений - офисов и прочего.\n",
    "\n",
    "Так, полученные зависимости помогут в дальнейшем распознавать мошенническую деятельность - встреченные аномалии сразу должны броситься в глаза.\n"
   ]
  }
 ],
 "metadata": {
  "kernelspec": {
   "display_name": "Python 3",
   "language": "python",
   "name": "python3"
  },
  "language_info": {
   "codemirror_mode": {
    "name": "ipython",
    "version": 3
   },
   "file_extension": ".py",
   "mimetype": "text/x-python",
   "name": "python",
   "nbconvert_exporter": "python",
   "pygments_lexer": "ipython3",
   "version": "3.7.8"
  },
  "toc": {
   "base_numbering": 1,
   "nav_menu": {},
   "number_sections": true,
   "sideBar": true,
   "skip_h1_title": true,
   "title_cell": "Table of Contents",
   "title_sidebar": "Contents",
   "toc_cell": false,
   "toc_position": {},
   "toc_section_display": true,
   "toc_window_display": false
  }
 },
 "nbformat": 4,
 "nbformat_minor": 2
}
