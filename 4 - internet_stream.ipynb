{
 "cells": [
  {
   "cell_type": "markdown",
   "metadata": {},
   "source": [
    "# Проектная работа для интернет-магазина \"Стримчик\""
   ]
  },
  {
   "cell_type": "markdown",
   "metadata": {},
   "source": [
    "\n",
    "В рамках данной работы мы должны провести исследование продаж компьютерных игр для интернет-магазина \"Стримчик\".\n",
    "\n",
    "В качестве исходной информации нам передали исторические данные о продажах, на основе которых нам надо выявить закономерности, определяющие успешность игры и спрогнозировать продажи на 2017 год.\n",
    "\n",
    "Проектную работу выполним в несколько этапов:\n",
    "\n",
    "[Шаг 1. Изучение общей информации.](#chapter2)\n",
    "\n",
    "[Шаг 2. Предобработка данных.](#chapter3)\n",
    "\n",
    "[Шаг 3. Исследовательский анализ данных.](#chapter4)\n",
    "\n",
    "[Шаг 4. Составление портрета пользователя.](#chapter5)\n",
    "\n",
    "[Шаг 5. Проверка гипотез.](#chapter6)\n",
    "\n",
    "[Шаг 6. Общий вывод.](#chapter7)"
   ]
  },
  {
   "cell_type": "markdown",
   "metadata": {},
   "source": [
    "<a id='chapter2'></a>\n",
    "## Изучение общей информации"
   ]
  },
  {
   "cell_type": "markdown",
   "metadata": {},
   "source": [
    "\n",
    "На данном этапе мы загрузим файл с данными и просмотрим их.\n"
   ]
  },
  {
   "cell_type": "code",
   "execution_count": 82,
   "metadata": {
    "ExecuteTime": {
     "end_time": "2020-11-26T09:58:21.331267Z",
     "start_time": "2020-11-26T09:58:19.357932Z"
    }
   },
   "outputs": [],
   "source": [
    "#загружаем необходимые библиотеки\n",
    "import pandas as pd\n",
    "import numpy as np\n",
    "from scipy import stats as st\n",
    "import matplotlib.pyplot as plt"
   ]
  },
  {
   "cell_type": "code",
   "execution_count": 83,
   "metadata": {
    "ExecuteTime": {
     "end_time": "2020-11-26T09:58:21.405860Z",
     "start_time": "2020-11-26T09:58:21.334893Z"
    }
   },
   "outputs": [],
   "source": [
    "#загружаем файл с данными\n",
    "data = pd.read_csv('/datasets/games.csv')"
   ]
  },
  {
   "cell_type": "code",
   "execution_count": 84,
   "metadata": {
    "ExecuteTime": {
     "end_time": "2020-11-26T09:58:21.453264Z",
     "start_time": "2020-11-26T09:58:21.410015Z"
    }
   },
   "outputs": [
    {
     "data": {
      "text/html": [
       "<div>\n",
       "<style scoped>\n",
       "    .dataframe tbody tr th:only-of-type {\n",
       "        vertical-align: middle;\n",
       "    }\n",
       "\n",
       "    .dataframe tbody tr th {\n",
       "        vertical-align: top;\n",
       "    }\n",
       "\n",
       "    .dataframe thead th {\n",
       "        text-align: right;\n",
       "    }\n",
       "</style>\n",
       "<table border=\"1\" class=\"dataframe\">\n",
       "  <thead>\n",
       "    <tr style=\"text-align: right;\">\n",
       "      <th></th>\n",
       "      <th>Name</th>\n",
       "      <th>Platform</th>\n",
       "      <th>Year_of_Release</th>\n",
       "      <th>Genre</th>\n",
       "      <th>NA_sales</th>\n",
       "      <th>EU_sales</th>\n",
       "      <th>JP_sales</th>\n",
       "      <th>Other_sales</th>\n",
       "      <th>Critic_Score</th>\n",
       "      <th>User_Score</th>\n",
       "      <th>Rating</th>\n",
       "    </tr>\n",
       "  </thead>\n",
       "  <tbody>\n",
       "    <tr>\n",
       "      <td>0</td>\n",
       "      <td>Wii Sports</td>\n",
       "      <td>Wii</td>\n",
       "      <td>2006.0</td>\n",
       "      <td>Sports</td>\n",
       "      <td>41.36</td>\n",
       "      <td>28.96</td>\n",
       "      <td>3.77</td>\n",
       "      <td>8.45</td>\n",
       "      <td>76.0</td>\n",
       "      <td>8</td>\n",
       "      <td>E</td>\n",
       "    </tr>\n",
       "    <tr>\n",
       "      <td>1</td>\n",
       "      <td>Super Mario Bros.</td>\n",
       "      <td>NES</td>\n",
       "      <td>1985.0</td>\n",
       "      <td>Platform</td>\n",
       "      <td>29.08</td>\n",
       "      <td>3.58</td>\n",
       "      <td>6.81</td>\n",
       "      <td>0.77</td>\n",
       "      <td>NaN</td>\n",
       "      <td>NaN</td>\n",
       "      <td>NaN</td>\n",
       "    </tr>\n",
       "    <tr>\n",
       "      <td>2</td>\n",
       "      <td>Mario Kart Wii</td>\n",
       "      <td>Wii</td>\n",
       "      <td>2008.0</td>\n",
       "      <td>Racing</td>\n",
       "      <td>15.68</td>\n",
       "      <td>12.76</td>\n",
       "      <td>3.79</td>\n",
       "      <td>3.29</td>\n",
       "      <td>82.0</td>\n",
       "      <td>8.3</td>\n",
       "      <td>E</td>\n",
       "    </tr>\n",
       "    <tr>\n",
       "      <td>3</td>\n",
       "      <td>Wii Sports Resort</td>\n",
       "      <td>Wii</td>\n",
       "      <td>2009.0</td>\n",
       "      <td>Sports</td>\n",
       "      <td>15.61</td>\n",
       "      <td>10.93</td>\n",
       "      <td>3.28</td>\n",
       "      <td>2.95</td>\n",
       "      <td>80.0</td>\n",
       "      <td>8</td>\n",
       "      <td>E</td>\n",
       "    </tr>\n",
       "    <tr>\n",
       "      <td>4</td>\n",
       "      <td>Pokemon Red/Pokemon Blue</td>\n",
       "      <td>GB</td>\n",
       "      <td>1996.0</td>\n",
       "      <td>Role-Playing</td>\n",
       "      <td>11.27</td>\n",
       "      <td>8.89</td>\n",
       "      <td>10.22</td>\n",
       "      <td>1.00</td>\n",
       "      <td>NaN</td>\n",
       "      <td>NaN</td>\n",
       "      <td>NaN</td>\n",
       "    </tr>\n",
       "  </tbody>\n",
       "</table>\n",
       "</div>"
      ],
      "text/plain": [
       "                       Name Platform  Year_of_Release         Genre  NA_sales  \\\n",
       "0                Wii Sports      Wii           2006.0        Sports     41.36   \n",
       "1         Super Mario Bros.      NES           1985.0      Platform     29.08   \n",
       "2            Mario Kart Wii      Wii           2008.0        Racing     15.68   \n",
       "3         Wii Sports Resort      Wii           2009.0        Sports     15.61   \n",
       "4  Pokemon Red/Pokemon Blue       GB           1996.0  Role-Playing     11.27   \n",
       "\n",
       "   EU_sales  JP_sales  Other_sales  Critic_Score User_Score Rating  \n",
       "0     28.96      3.77         8.45          76.0          8      E  \n",
       "1      3.58      6.81         0.77           NaN        NaN    NaN  \n",
       "2     12.76      3.79         3.29          82.0        8.3      E  \n",
       "3     10.93      3.28         2.95          80.0          8      E  \n",
       "4      8.89     10.22         1.00           NaN        NaN    NaN  "
      ]
     },
     "execution_count": 84,
     "metadata": {},
     "output_type": "execute_result"
    }
   ],
   "source": [
    "#просмотрим первые строки таблицы\n",
    "data.head()"
   ]
  },
  {
   "cell_type": "code",
   "execution_count": 85,
   "metadata": {
    "ExecuteTime": {
     "end_time": "2020-11-26T09:58:21.485358Z",
     "start_time": "2020-11-26T09:58:21.457739Z"
    }
   },
   "outputs": [
    {
     "name": "stdout",
     "output_type": "stream",
     "text": [
      "<class 'pandas.core.frame.DataFrame'>\n",
      "RangeIndex: 16715 entries, 0 to 16714\n",
      "Data columns (total 11 columns):\n",
      "Name               16713 non-null object\n",
      "Platform           16715 non-null object\n",
      "Year_of_Release    16446 non-null float64\n",
      "Genre              16713 non-null object\n",
      "NA_sales           16715 non-null float64\n",
      "EU_sales           16715 non-null float64\n",
      "JP_sales           16715 non-null float64\n",
      "Other_sales        16715 non-null float64\n",
      "Critic_Score       8137 non-null float64\n",
      "User_Score         10014 non-null object\n",
      "Rating             9949 non-null object\n",
      "dtypes: float64(6), object(5)\n",
      "memory usage: 1.4+ MB\n"
     ]
    }
   ],
   "source": [
    "#просмотрим общую информацию о таблице и содержащихся данных\n",
    "data.info()"
   ]
  },
  {
   "cell_type": "markdown",
   "metadata": {},
   "source": [
    "\n",
    "Итак, в загруженной таблице имеем следующие столбцы:\n",
    "\n",
    "* <i> Name </i> - название игры\n",
    "\n",
    "* <i> Platform </i> - платформа\n",
    "\n",
    "* <i> Year_of_Release </i> - год выпуска\n",
    "\n",
    "* <i> Genre </i> - жанр игры\n",
    "\n",
    "* <i> NA_sales </i> - продажи в Северной Америке (миллионов копий)\n",
    "\n",
    "* <i> EU_sales </i> - продажи в Европе (миллионов копий)\n",
    "\n",
    "* <i> JP_sales </i> - продажи в Японии (миллионов копий)\n",
    "\n",
    "* <i> Other_sales </i> - продажи в других странах (миллионов копий)\n",
    "\n",
    "* <i> Critic_Score </i> - оценка критиков\n",
    "\n",
    "* <i> User_Score </i> - оценка пользователей\n",
    "\n",
    "* <i> Rating </i> - рейтинг от организации ESRB\n"
   ]
  },
  {
   "cell_type": "code",
   "execution_count": 86,
   "metadata": {},
   "outputs": [
    {
     "data": {
      "text/plain": [
       "0"
      ]
     },
     "execution_count": 86,
     "metadata": {},
     "output_type": "execute_result"
    }
   ],
   "source": [
    "#проверка количества дублирующихся строк\n",
    "data.duplicated().sum()"
   ]
  },
  {
   "cell_type": "markdown",
   "metadata": {},
   "source": [
    "\n",
    "Мы проверили количество дублирующихся строк. Полностью повторяющихся строк нет. Некоторые названия игр повторяются несколько раз, но это говорит о том, что одна игра выпускалась для разных платформ.\n"
   ]
  },
  {
   "cell_type": "code",
   "execution_count": 87,
   "metadata": {},
   "outputs": [
    {
     "data": {
      "text/html": [
       "<div>\n",
       "<style scoped>\n",
       "    .dataframe tbody tr th:only-of-type {\n",
       "        vertical-align: middle;\n",
       "    }\n",
       "\n",
       "    .dataframe tbody tr th {\n",
       "        vertical-align: top;\n",
       "    }\n",
       "\n",
       "    .dataframe thead th {\n",
       "        text-align: right;\n",
       "    }\n",
       "</style>\n",
       "<table border=\"1\" class=\"dataframe\">\n",
       "  <thead>\n",
       "    <tr style=\"text-align: right;\">\n",
       "      <th></th>\n",
       "      <th>Name</th>\n",
       "      <th>Platform</th>\n",
       "      <th>Year_of_Release</th>\n",
       "      <th>Genre</th>\n",
       "      <th>NA_sales</th>\n",
       "      <th>EU_sales</th>\n",
       "      <th>JP_sales</th>\n",
       "      <th>Other_sales</th>\n",
       "      <th>Critic_Score</th>\n",
       "      <th>User_Score</th>\n",
       "      <th>Rating</th>\n",
       "    </tr>\n",
       "  </thead>\n",
       "  <tbody>\n",
       "    <tr>\n",
       "      <td>23</td>\n",
       "      <td>Grand Theft Auto V</td>\n",
       "      <td>X360</td>\n",
       "      <td>2013.0</td>\n",
       "      <td>Action</td>\n",
       "      <td>9.66</td>\n",
       "      <td>5.14</td>\n",
       "      <td>0.06</td>\n",
       "      <td>1.41</td>\n",
       "      <td>97.0</td>\n",
       "      <td>8.1</td>\n",
       "      <td>M</td>\n",
       "    </tr>\n",
       "    <tr>\n",
       "      <td>35</td>\n",
       "      <td>Call of Duty: Black Ops II</td>\n",
       "      <td>X360</td>\n",
       "      <td>2012.0</td>\n",
       "      <td>Shooter</td>\n",
       "      <td>8.25</td>\n",
       "      <td>4.24</td>\n",
       "      <td>0.07</td>\n",
       "      <td>1.12</td>\n",
       "      <td>83.0</td>\n",
       "      <td>4.8</td>\n",
       "      <td>M</td>\n",
       "    </tr>\n",
       "    <tr>\n",
       "      <td>37</td>\n",
       "      <td>Call of Duty: Modern Warfare 3</td>\n",
       "      <td>PS3</td>\n",
       "      <td>2011.0</td>\n",
       "      <td>Shooter</td>\n",
       "      <td>5.54</td>\n",
       "      <td>5.73</td>\n",
       "      <td>0.49</td>\n",
       "      <td>1.57</td>\n",
       "      <td>88.0</td>\n",
       "      <td>3.2</td>\n",
       "      <td>M</td>\n",
       "    </tr>\n",
       "    <tr>\n",
       "      <td>41</td>\n",
       "      <td>Call of Duty: Black Ops</td>\n",
       "      <td>PS3</td>\n",
       "      <td>2010.0</td>\n",
       "      <td>Shooter</td>\n",
       "      <td>5.99</td>\n",
       "      <td>4.37</td>\n",
       "      <td>0.48</td>\n",
       "      <td>1.79</td>\n",
       "      <td>88.0</td>\n",
       "      <td>6.4</td>\n",
       "      <td>M</td>\n",
       "    </tr>\n",
       "    <tr>\n",
       "      <td>42</td>\n",
       "      <td>Grand Theft Auto V</td>\n",
       "      <td>PS4</td>\n",
       "      <td>2014.0</td>\n",
       "      <td>Action</td>\n",
       "      <td>3.96</td>\n",
       "      <td>6.31</td>\n",
       "      <td>0.38</td>\n",
       "      <td>1.97</td>\n",
       "      <td>97.0</td>\n",
       "      <td>8.3</td>\n",
       "      <td>M</td>\n",
       "    </tr>\n",
       "  </tbody>\n",
       "</table>\n",
       "</div>"
      ],
      "text/plain": [
       "                              Name Platform  Year_of_Release    Genre  \\\n",
       "23              Grand Theft Auto V     X360           2013.0   Action   \n",
       "35      Call of Duty: Black Ops II     X360           2012.0  Shooter   \n",
       "37  Call of Duty: Modern Warfare 3      PS3           2011.0  Shooter   \n",
       "41         Call of Duty: Black Ops      PS3           2010.0  Shooter   \n",
       "42              Grand Theft Auto V      PS4           2014.0   Action   \n",
       "\n",
       "    NA_sales  EU_sales  JP_sales  Other_sales  Critic_Score User_Score Rating  \n",
       "23      9.66      5.14      0.06         1.41          97.0        8.1      M  \n",
       "35      8.25      4.24      0.07         1.12          83.0        4.8      M  \n",
       "37      5.54      5.73      0.49         1.57          88.0        3.2      M  \n",
       "41      5.99      4.37      0.48         1.79          88.0        6.4      M  \n",
       "42      3.96      6.31      0.38         1.97          97.0        8.3      M  "
      ]
     },
     "execution_count": 87,
     "metadata": {},
     "output_type": "execute_result"
    }
   ],
   "source": [
    "#просмотр нескольких строк с дублирующимися названиями игр\n",
    "data[data['Name'].duplicated()].head()"
   ]
  },
  {
   "cell_type": "code",
   "execution_count": 88,
   "metadata": {},
   "outputs": [
    {
     "data": {
      "text/html": [
       "<div>\n",
       "<style scoped>\n",
       "    .dataframe tbody tr th:only-of-type {\n",
       "        vertical-align: middle;\n",
       "    }\n",
       "\n",
       "    .dataframe tbody tr th {\n",
       "        vertical-align: top;\n",
       "    }\n",
       "\n",
       "    .dataframe thead th {\n",
       "        text-align: right;\n",
       "    }\n",
       "</style>\n",
       "<table border=\"1\" class=\"dataframe\">\n",
       "  <thead>\n",
       "    <tr style=\"text-align: right;\">\n",
       "      <th></th>\n",
       "      <th>Name</th>\n",
       "      <th>Platform</th>\n",
       "      <th>Year_of_Release</th>\n",
       "      <th>Genre</th>\n",
       "      <th>NA_sales</th>\n",
       "      <th>EU_sales</th>\n",
       "      <th>JP_sales</th>\n",
       "      <th>Other_sales</th>\n",
       "      <th>Critic_Score</th>\n",
       "      <th>User_Score</th>\n",
       "      <th>Rating</th>\n",
       "    </tr>\n",
       "  </thead>\n",
       "  <tbody>\n",
       "    <tr>\n",
       "      <td>16</td>\n",
       "      <td>Grand Theft Auto V</td>\n",
       "      <td>PS3</td>\n",
       "      <td>2013.0</td>\n",
       "      <td>Action</td>\n",
       "      <td>7.02</td>\n",
       "      <td>9.09</td>\n",
       "      <td>0.98</td>\n",
       "      <td>3.96</td>\n",
       "      <td>97.0</td>\n",
       "      <td>8.2</td>\n",
       "      <td>M</td>\n",
       "    </tr>\n",
       "    <tr>\n",
       "      <td>23</td>\n",
       "      <td>Grand Theft Auto V</td>\n",
       "      <td>X360</td>\n",
       "      <td>2013.0</td>\n",
       "      <td>Action</td>\n",
       "      <td>9.66</td>\n",
       "      <td>5.14</td>\n",
       "      <td>0.06</td>\n",
       "      <td>1.41</td>\n",
       "      <td>97.0</td>\n",
       "      <td>8.1</td>\n",
       "      <td>M</td>\n",
       "    </tr>\n",
       "    <tr>\n",
       "      <td>42</td>\n",
       "      <td>Grand Theft Auto V</td>\n",
       "      <td>PS4</td>\n",
       "      <td>2014.0</td>\n",
       "      <td>Action</td>\n",
       "      <td>3.96</td>\n",
       "      <td>6.31</td>\n",
       "      <td>0.38</td>\n",
       "      <td>1.97</td>\n",
       "      <td>97.0</td>\n",
       "      <td>8.3</td>\n",
       "      <td>M</td>\n",
       "    </tr>\n",
       "    <tr>\n",
       "      <td>165</td>\n",
       "      <td>Grand Theft Auto V</td>\n",
       "      <td>XOne</td>\n",
       "      <td>2014.0</td>\n",
       "      <td>Action</td>\n",
       "      <td>2.81</td>\n",
       "      <td>2.19</td>\n",
       "      <td>0.00</td>\n",
       "      <td>0.47</td>\n",
       "      <td>97.0</td>\n",
       "      <td>7.9</td>\n",
       "      <td>M</td>\n",
       "    </tr>\n",
       "    <tr>\n",
       "      <td>1730</td>\n",
       "      <td>Grand Theft Auto V</td>\n",
       "      <td>PC</td>\n",
       "      <td>2015.0</td>\n",
       "      <td>Action</td>\n",
       "      <td>0.39</td>\n",
       "      <td>0.69</td>\n",
       "      <td>0.00</td>\n",
       "      <td>0.09</td>\n",
       "      <td>96.0</td>\n",
       "      <td>7.9</td>\n",
       "      <td>M</td>\n",
       "    </tr>\n",
       "  </tbody>\n",
       "</table>\n",
       "</div>"
      ],
      "text/plain": [
       "                    Name Platform  Year_of_Release   Genre  NA_sales  \\\n",
       "16    Grand Theft Auto V      PS3           2013.0  Action      7.02   \n",
       "23    Grand Theft Auto V     X360           2013.0  Action      9.66   \n",
       "42    Grand Theft Auto V      PS4           2014.0  Action      3.96   \n",
       "165   Grand Theft Auto V     XOne           2014.0  Action      2.81   \n",
       "1730  Grand Theft Auto V       PC           2015.0  Action      0.39   \n",
       "\n",
       "      EU_sales  JP_sales  Other_sales  Critic_Score User_Score Rating  \n",
       "16        9.09      0.98         3.96          97.0        8.2      M  \n",
       "23        5.14      0.06         1.41          97.0        8.1      M  \n",
       "42        6.31      0.38         1.97          97.0        8.3      M  \n",
       "165       2.19      0.00         0.47          97.0        7.9      M  \n",
       "1730      0.69      0.00         0.09          96.0        7.9      M  "
      ]
     },
     "execution_count": 88,
     "metadata": {},
     "output_type": "execute_result"
    }
   ],
   "source": [
    "#просмотр информации по одной из игр с одинаковыми названиями\n",
    "data[data['Name']=='Grand Theft Auto V'].head()"
   ]
  },
  {
   "cell_type": "markdown",
   "metadata": {},
   "source": [
    "\n",
    "### Вывод\n"
   ]
  },
  {
   "cell_type": "markdown",
   "metadata": {},
   "source": [
    "\n",
    "Загрузив полученные данные, мы видим, что в них присутствуют пропущенные значения и указаны неверные типы данных, содержащихся в столбцах. Необходимо привести данные в таблице к виду, удобному для дальнейшего анализа. Это задача для следующего этапа - предобработки данных.\n"
   ]
  },
  {
   "cell_type": "markdown",
   "metadata": {},
   "source": [
    "<a id='chapter3'></a>\n",
    "## Предобработка данных"
   ]
  },
  {
   "cell_type": "markdown",
   "metadata": {},
   "source": [
    "\n",
    "Сперва для удобства приведем названия столбцов к нижнему регистру.\n"
   ]
  },
  {
   "cell_type": "code",
   "execution_count": 89,
   "metadata": {
    "ExecuteTime": {
     "end_time": "2020-11-26T09:58:21.494171Z",
     "start_time": "2020-11-26T09:58:21.488839Z"
    }
   },
   "outputs": [],
   "source": [
    "#перевод названий столбцов к нижнему регистру\n",
    "data.columns = data.columns.str.lower()"
   ]
  },
  {
   "cell_type": "markdown",
   "metadata": {},
   "source": [
    "\n",
    "Посчитаем количество пропущенных значений в переданной таблице.\n"
   ]
  },
  {
   "cell_type": "code",
   "execution_count": 90,
   "metadata": {
    "ExecuteTime": {
     "end_time": "2020-11-26T09:58:21.520154Z",
     "start_time": "2020-11-26T09:58:21.497664Z"
    }
   },
   "outputs": [
    {
     "data": {
      "text/plain": [
       "name                  2\n",
       "platform              0\n",
       "year_of_release     269\n",
       "genre                 2\n",
       "na_sales              0\n",
       "eu_sales              0\n",
       "jp_sales              0\n",
       "other_sales           0\n",
       "critic_score       8578\n",
       "user_score         6701\n",
       "rating             6766\n",
       "dtype: int64"
      ]
     },
     "execution_count": 90,
     "metadata": {},
     "output_type": "execute_result"
    }
   ],
   "source": [
    "#расчет количества пропущенных значений\n",
    "data.isna().sum()"
   ]
  },
  {
   "cell_type": "markdown",
   "metadata": {},
   "source": [
    "\n",
    "В двух строчках отсутствует название компьютерной игры и жанр. Если жанр, например, можно поискать во внешних источниках, то название игры найти будет проблематично. Однако этих значений мало и на общий анализ данных они не повлияют, их можно удалить.\n",
    "\n",
    "Однако так уже не поступить с оценками критиков и пользователей. Пропущенных значений в этих столбцах слишком много.\n"
   ]
  },
  {
   "cell_type": "code",
   "execution_count": 91,
   "metadata": {
    "ExecuteTime": {
     "end_time": "2020-11-26T09:58:21.553026Z",
     "start_time": "2020-11-26T09:58:21.526121Z"
    }
   },
   "outputs": [],
   "source": [
    "#удалим строки с пропущенными названиями\n",
    "data = data.dropna(subset=['genre', 'name', 'year_of_release'])"
   ]
  },
  {
   "cell_type": "code",
   "execution_count": 92,
   "metadata": {
    "ExecuteTime": {
     "end_time": "2020-11-26T09:58:21.567891Z",
     "start_time": "2020-11-26T09:58:21.559453Z"
    },
    "scrolled": true
   },
   "outputs": [
    {
     "data": {
      "text/plain": [
       "array(['8', nan, '8.3', '8.5', '6.6', '8.4', '8.6', '7.7', '6.3', '7.4',\n",
       "       '8.2', '9', '7.9', '8.1', '8.7', '7.1', '3.4', '5.3', '4.8', '3.2',\n",
       "       '8.9', '6.4', '7.8', '7.5', '2.6', '7.2', '9.2', '7', '7.3', '4.3',\n",
       "       '7.6', '5.7', '5', '9.1', '6.5', 'tbd', '8.8', '6.9', '9.4', '6.8',\n",
       "       '6.1', '6.7', '5.4', '4', '4.9', '4.5', '9.3', '6.2', '4.2', '6',\n",
       "       '3.7', '4.1', '5.8', '5.6', '5.5', '4.4', '4.6', '5.9', '3.9',\n",
       "       '3.1', '2.9', '5.2', '3.3', '4.7', '5.1', '3.5', '2.5', '1.9', '3',\n",
       "       '2.7', '2.2', '2', '9.5', '2.1', '3.6', '2.8', '1.8', '3.8', '0',\n",
       "       '1.6', '9.6', '2.4', '1.7', '1.1', '0.3', '1.5', '0.7', '1.2',\n",
       "       '2.3', '0.5', '1.3', '0.2', '0.6', '1.4', '0.9', '1', '9.7'],\n",
       "      dtype=object)"
      ]
     },
     "execution_count": 92,
     "metadata": {},
     "output_type": "execute_result"
    }
   ],
   "source": [
    "#просмотр уникальных значений в столбце с пользовательскими оценками\n",
    "data['user_score'].unique()"
   ]
  },
  {
   "cell_type": "code",
   "execution_count": 93,
   "metadata": {
    "ExecuteTime": {
     "end_time": "2020-11-26T09:58:21.596041Z",
     "start_time": "2020-11-26T09:58:21.573989Z"
    }
   },
   "outputs": [
    {
     "data": {
      "text/plain": [
       "tbd    2376\n",
       "Name: user_score, dtype: int64"
      ]
     },
     "execution_count": 93,
     "metadata": {},
     "output_type": "execute_result"
    }
   ],
   "source": [
    "#расчет количества значений tbd в столбце\n",
    "data[data['user_score']=='tbd']['user_score'].value_counts()"
   ]
  },
  {
   "cell_type": "markdown",
   "metadata": {},
   "source": [
    "\n",
    "Также видим среди значений пользовательской оценки компьютерной игры значения <i>tbd</i>. Вероятно, это означает <i>to be determined</i>. Т.е. оценка еще неизвестна на момент выгрузки информации, но будет определена в будущем.\n"
   ]
  },
  {
   "cell_type": "markdown",
   "metadata": {},
   "source": [
    "\n",
    "Ненадолго прервемся от изучения пропущенных значений и изучим типы данных, содержащихся в столбцах.\n",
    "\n",
    "Мы видели, что некоторые столбцы имеют неверный тип данных. Так, например, столбец, содержащий информацию о годе выпуска, должен иметь целочисленный тип. А вот столбец <i> user_score </i> будет иметь float, содержащимся же в нем значениям <i>tbd</i> предварительно присвоим значение 999 для облегчения перевода этого столбца в числовой вид.\n"
   ]
  },
  {
   "cell_type": "code",
   "execution_count": 94,
   "metadata": {
    "ExecuteTime": {
     "end_time": "2020-11-26T09:58:21.614477Z",
     "start_time": "2020-11-26T09:58:21.601621Z"
    }
   },
   "outputs": [],
   "source": [
    "#замена значений tbd в столбце для последующего перевода столбца в числовой вид\n",
    "data.loc[data['user_score']=='tbd', 'user_score'] = '999'"
   ]
  },
  {
   "cell_type": "markdown",
   "metadata": {},
   "source": [
    "<a id='comment2'></a>"
   ]
  },
  {
   "cell_type": "code",
   "execution_count": 95,
   "metadata": {},
   "outputs": [
    {
     "data": {
      "text/plain": [
       "array([1985., 1996., 1989., 1984., 2005., 1999., 1990., 2006., 1988.,\n",
       "       2002., 2010., 1998., 2015., 2013., 2009., 2014., 1992., 1993.,\n",
       "       2004., 1994., 1997., 2012., 2007., 1982., 2016., 2003., 2011.,\n",
       "       1986., 2000., 2001., 1995., 2008., 1991., 1981., 1987., 1980.,\n",
       "       1983.])"
      ]
     },
     "execution_count": 95,
     "metadata": {},
     "output_type": "execute_result"
    }
   ],
   "source": [
    "data[data['user_score'].isna()]['year_of_release'].unique()"
   ]
  },
  {
   "cell_type": "code",
   "execution_count": 96,
   "metadata": {
    "ExecuteTime": {
     "end_time": "2020-11-26T09:58:21.643808Z",
     "start_time": "2020-11-26T09:58:21.618077Z"
    }
   },
   "outputs": [],
   "source": [
    "#изменение типов столбцов\n",
    "data['user_score'] = pd.to_numeric(data['user_score'], errors='coerce')\n",
    "data['year_of_release'] = data['year_of_release'].astype('Int64')"
   ]
  },
  {
   "cell_type": "markdown",
   "metadata": {},
   "source": [
    "\n",
    "Посмотрим, коррелируются ли оценки пользователей и оценки критиков.\n"
   ]
  },
  {
   "cell_type": "code",
   "execution_count": 97,
   "metadata": {
    "ExecuteTime": {
     "end_time": "2020-11-26T09:58:21.674976Z",
     "start_time": "2020-11-26T09:58:21.647586Z"
    },
    "scrolled": true
   },
   "outputs": [
    {
     "data": {
      "text/plain": [
       "0.5796706281932221"
      ]
     },
     "execution_count": 97,
     "metadata": {},
     "output_type": "execute_result"
    }
   ],
   "source": [
    "#корреляция столбцов с оценками критиков и пользовательскими оценками\n",
    "data['critic_score'].corr(data[data['user_score']!=999]['user_score'])"
   ]
  },
  {
   "cell_type": "markdown",
   "metadata": {},
   "source": [
    "\n",
    "Видим, что некоторая корреляция между ними есть: чем выше оценка критиков, тем выше оценка пользователей. Попробуем заменить значения <i>tbd</i> в зависимости от оценки критиков.\n"
   ]
  },
  {
   "cell_type": "markdown",
   "metadata": {},
   "source": [
    "<a id='comment3'></a>"
   ]
  },
  {
   "cell_type": "code",
   "execution_count": 98,
   "metadata": {
    "ExecuteTime": {
     "end_time": "2020-11-26T09:58:22.291271Z",
     "start_time": "2020-11-26T09:58:21.677586Z"
    },
    "scrolled": true
   },
   "outputs": [
    {
     "data": {
      "image/png": "[encoded data removed]",
      "text/plain": [
       "<Figure size 432x288 with 1 Axes>"
      ]
     },
     "metadata": {},
     "output_type": "display_data"
    }
   ],
   "source": [
    "import warnings\n",
    "warnings.simplefilter(\"ignore\")\n",
    "plt.style.use('ggplot')\n",
    "#выделим отдельно данные с существующими оценками критиков и пользователей\n",
    "tbd = data[(data['user_score']!=999)&(~data['user_score'].isna())&(~data['critic_score'].isna())]\n",
    "#построим график зависимости оценок критиков и пользователей\n",
    "ax = tbd.plot.scatter('critic_score', 'user_score')\n",
    "#найдем тренд этой зависимости\n",
    "z = np.polyfit(tbd['critic_score'], tbd['user_score'], 1)\n",
    "func = np.poly1d(z)\n",
    "tbd['trend'] = func(tbd.critic_score)\n",
    "#отобразим их вместе на графике\n",
    "tbd.plot(x='critic_score', y='trend', ax=ax)\n",
    "plt.xlabel('Оценка критиков')\n",
    "plt.ylabel('Оценка пользователей')\n",
    "plt.title('Зависимость оценок критиков и пользователей')\n",
    "plt.show()"
   ]
  },
  {
   "cell_type": "code",
   "execution_count": 99,
   "metadata": {
    "ExecuteTime": {
     "end_time": "2020-11-26T09:58:22.305642Z",
     "start_time": "2020-11-26T09:58:22.294815Z"
    },
    "scrolled": true
   },
   "outputs": [
    {
     "data": {
      "text/plain": [
       "'y=0.060213x +(2.953925)'"
      ]
     },
     "execution_count": 99,
     "metadata": {},
     "output_type": "execute_result"
    }
   ],
   "source": [
    "\"y=%.6fx +(%.6f)\" % (z[0], z[1])"
   ]
  },
  {
   "cell_type": "markdown",
   "metadata": {},
   "source": [
    "\n",
    "Теперь рассмотрим пропуски в столбце с рейтингом критиков. Пропущенных значений слишком много, чтобы их удалять и игнорировать. Думаю, в данном случае неплохим вариантом будет замена их медианным значение по жанру компьютерной игры, т.к. осреднение всех данных даст слишком неточный результат.Все-таки логичнее сравнивать оценки одного и того же жанра.\n"
   ]
  },
  {
   "cell_type": "code",
   "execution_count": 100,
   "metadata": {
    "ExecuteTime": {
     "end_time": "2020-11-26T09:58:22.330061Z",
     "start_time": "2020-11-26T09:58:22.309721Z"
    }
   },
   "outputs": [],
   "source": [
    "#создаем таблицу с медианным значением\n",
    "critic_genre = data.groupby(by='genre')['critic_score'].median()\n",
    "critic_genre = critic_genre.reset_index().rename(columns={critic_genre.index.name: 'genre'})"
   ]
  },
  {
   "cell_type": "code",
   "execution_count": 101,
   "metadata": {
    "ExecuteTime": {
     "end_time": "2020-11-26T09:58:22.340659Z",
     "start_time": "2020-11-26T09:58:22.334163Z"
    }
   },
   "outputs": [],
   "source": [
    "#пропущенные значения в столбце предварительно заменяем на -1\n",
    "data['critic_score'] = data['critic_score'].fillna(value=-1)"
   ]
  },
  {
   "cell_type": "code",
   "execution_count": 102,
   "metadata": {
    "ExecuteTime": {
     "end_time": "2020-11-26T09:58:22.356872Z",
     "start_time": "2020-11-26T09:58:22.344602Z"
    }
   },
   "outputs": [],
   "source": [
    "#функция заменяет неизвестные оценки критиков медианными по жанру\n",
    "def critic(row):\n",
    "    genre = row['genre']\n",
    "    if row['critic_score']==-1:\n",
    "        for i in range(len(critic_genre)):\n",
    "            if critic_genre['genre'][i] == genre:\n",
    "                return critic_genre['critic_score'][i]\n",
    "    else:\n",
    "        return row['critic_score']"
   ]
  },
  {
   "cell_type": "code",
   "execution_count": 103,
   "metadata": {
    "ExecuteTime": {
     "end_time": "2020-11-26T09:58:28.810511Z",
     "start_time": "2020-11-26T09:58:22.361691Z"
    }
   },
   "outputs": [],
   "source": [
    "#применяем написанную функцию к таблице\n",
    "data['critic_score'] = data.apply(critic, axis=1)"
   ]
  },
  {
   "cell_type": "markdown",
   "metadata": {},
   "source": [
    "\n",
    "Теперь заполним неопределенные значения в столбце с оценками пользователей.\n"
   ]
  },
  {
   "cell_type": "markdown",
   "metadata": {},
   "source": [
    "Значения <i>tbd</i> заполним с помощью формулы, полученной выше."
   ]
  },
  {
   "cell_type": "code",
   "execution_count": 104,
   "metadata": {
    "ExecuteTime": {
     "end_time": "2020-11-26T09:58:28.837731Z",
     "start_time": "2020-11-26T09:58:28.814121Z"
    }
   },
   "outputs": [],
   "source": [
    "#расчет пользовательских оценок tbd по формуле-зависимости от оценок критиков\n",
    "data.loc[data['user_score']==999, 'user_score'] = z[0]*data['critic_score'] + z[1]"
   ]
  },
  {
   "cell_type": "markdown",
   "metadata": {},
   "source": [
    "\n",
    "Пропуски же заменим по аналогии с пропусками в столбце <i>critic_score</i>, т.е. медианными по жанру.\n"
   ]
  },
  {
   "cell_type": "code",
   "execution_count": 105,
   "metadata": {
    "ExecuteTime": {
     "end_time": "2020-11-26T09:58:35.854843Z",
     "start_time": "2020-11-26T09:58:28.842410Z"
    }
   },
   "outputs": [],
   "source": [
    "#создаем таблицу с медианным значением\n",
    "user_genre = data.groupby(by='genre')['user_score'].median()\n",
    "user_genre = user_genre.reset_index().rename(columns={user_genre.index.name: 'genre'})\n",
    "#пропущенные значения в столбце предварительно заменяем на -1\n",
    "data['user_score'] = data['user_score'].fillna(value=-1)\n",
    "#функция заменяет неизвестные оценки критиков медианными по жанру\n",
    "def user(row):\n",
    "    genre = row['genre']\n",
    "    if row['user_score']==-1:\n",
    "        for i in range(len(user_genre)):\n",
    "            if user_genre['genre'][i] == genre:\n",
    "                return user_genre['user_score'][i]\n",
    "    else:\n",
    "        return row['user_score']\n",
    "#применяем написанную функцию к таблице\n",
    "data['user_score'] = data.apply(user, axis=1)"
   ]
  },
  {
   "cell_type": "markdown",
   "metadata": {},
   "source": [
    "\n",
    "Аналогичным образом заменим пропуски в столбце с рейтингом.\n"
   ]
  },
  {
   "cell_type": "code",
   "execution_count": 106,
   "metadata": {
    "ExecuteTime": {
     "end_time": "2020-11-26T09:58:42.322242Z",
     "start_time": "2020-11-26T09:58:35.857098Z"
    }
   },
   "outputs": [],
   "source": [
    "#создаем таблицу с наиболее часто встречающимся значением\n",
    "rating_genre = data.groupby(by='genre')['rating'].apply(lambda x: x.value_counts().index[0])\n",
    "rating_genre = rating_genre.reset_index().rename(columns={rating_genre.index.name: 'genre'})\n",
    "#пропущенные значения в столбце предварительно заменяем на -1\n",
    "data['rating'] = data['rating'].fillna(value='unknown')\n",
    "#функция заменяет неизвестные оценки критиков медианными по жанру\n",
    "def rate(row):\n",
    "    genre = row['genre']\n",
    "    if row['rating']=='unknown':\n",
    "        for i in range(len(rating_genre)):\n",
    "            if rating_genre['genre'][i] == genre:\n",
    "                return rating_genre['rating'][i]\n",
    "    else:\n",
    "        return row['rating']\n",
    "#применяем написанную функцию к таблице\n",
    "data['rating'] = data.apply(rate, axis=1)"
   ]
  },
  {
   "cell_type": "markdown",
   "metadata": {},
   "source": [
    "\n",
    "Пропущенных значений нет, типы данных изменены. Теперь добавим новый столбик с информацией об общей прибыли от проданных копий.\n"
   ]
  },
  {
   "cell_type": "code",
   "execution_count": 107,
   "metadata": {
    "ExecuteTime": {
     "end_time": "2020-11-26T09:58:42.361708Z",
     "start_time": "2020-11-26T09:58:42.324519Z"
    },
    "scrolled": true
   },
   "outputs": [
    {
     "data": {
      "text/html": [
       "<div>\n",
       "<style scoped>\n",
       "    .dataframe tbody tr th:only-of-type {\n",
       "        vertical-align: middle;\n",
       "    }\n",
       "\n",
       "    .dataframe tbody tr th {\n",
       "        vertical-align: top;\n",
       "    }\n",
       "\n",
       "    .dataframe thead th {\n",
       "        text-align: right;\n",
       "    }\n",
       "</style>\n",
       "<table border=\"1\" class=\"dataframe\">\n",
       "  <thead>\n",
       "    <tr style=\"text-align: right;\">\n",
       "      <th></th>\n",
       "      <th>name</th>\n",
       "      <th>platform</th>\n",
       "      <th>year_of_release</th>\n",
       "      <th>genre</th>\n",
       "      <th>na_sales</th>\n",
       "      <th>eu_sales</th>\n",
       "      <th>jp_sales</th>\n",
       "      <th>other_sales</th>\n",
       "      <th>critic_score</th>\n",
       "      <th>user_score</th>\n",
       "      <th>rating</th>\n",
       "      <th>total_profit</th>\n",
       "    </tr>\n",
       "  </thead>\n",
       "  <tbody>\n",
       "    <tr>\n",
       "      <td>0</td>\n",
       "      <td>Wii Sports</td>\n",
       "      <td>Wii</td>\n",
       "      <td>2006</td>\n",
       "      <td>Sports</td>\n",
       "      <td>41.36</td>\n",
       "      <td>28.96</td>\n",
       "      <td>3.77</td>\n",
       "      <td>8.45</td>\n",
       "      <td>76.0</td>\n",
       "      <td>8.0</td>\n",
       "      <td>E</td>\n",
       "      <td>82.54</td>\n",
       "    </tr>\n",
       "    <tr>\n",
       "      <td>1</td>\n",
       "      <td>Super Mario Bros.</td>\n",
       "      <td>NES</td>\n",
       "      <td>1985</td>\n",
       "      <td>Platform</td>\n",
       "      <td>29.08</td>\n",
       "      <td>3.58</td>\n",
       "      <td>6.81</td>\n",
       "      <td>0.77</td>\n",
       "      <td>69.5</td>\n",
       "      <td>7.2</td>\n",
       "      <td>E</td>\n",
       "      <td>40.24</td>\n",
       "    </tr>\n",
       "    <tr>\n",
       "      <td>2</td>\n",
       "      <td>Mario Kart Wii</td>\n",
       "      <td>Wii</td>\n",
       "      <td>2008</td>\n",
       "      <td>Racing</td>\n",
       "      <td>15.68</td>\n",
       "      <td>12.76</td>\n",
       "      <td>3.79</td>\n",
       "      <td>3.29</td>\n",
       "      <td>82.0</td>\n",
       "      <td>8.3</td>\n",
       "      <td>E</td>\n",
       "      <td>35.52</td>\n",
       "    </tr>\n",
       "    <tr>\n",
       "      <td>3</td>\n",
       "      <td>Wii Sports Resort</td>\n",
       "      <td>Wii</td>\n",
       "      <td>2009</td>\n",
       "      <td>Sports</td>\n",
       "      <td>15.61</td>\n",
       "      <td>10.93</td>\n",
       "      <td>3.28</td>\n",
       "      <td>2.95</td>\n",
       "      <td>80.0</td>\n",
       "      <td>8.0</td>\n",
       "      <td>E</td>\n",
       "      <td>32.77</td>\n",
       "    </tr>\n",
       "    <tr>\n",
       "      <td>4</td>\n",
       "      <td>Pokemon Red/Pokemon Blue</td>\n",
       "      <td>GB</td>\n",
       "      <td>1996</td>\n",
       "      <td>Role-Playing</td>\n",
       "      <td>11.27</td>\n",
       "      <td>8.89</td>\n",
       "      <td>10.22</td>\n",
       "      <td>1.00</td>\n",
       "      <td>74.0</td>\n",
       "      <td>7.8</td>\n",
       "      <td>T</td>\n",
       "      <td>31.38</td>\n",
       "    </tr>\n",
       "  </tbody>\n",
       "</table>\n",
       "</div>"
      ],
      "text/plain": [
       "                       name platform  year_of_release         genre  na_sales  \\\n",
       "0                Wii Sports      Wii             2006        Sports     41.36   \n",
       "1         Super Mario Bros.      NES             1985      Platform     29.08   \n",
       "2            Mario Kart Wii      Wii             2008        Racing     15.68   \n",
       "3         Wii Sports Resort      Wii             2009        Sports     15.61   \n",
       "4  Pokemon Red/Pokemon Blue       GB             1996  Role-Playing     11.27   \n",
       "\n",
       "   eu_sales  jp_sales  other_sales  critic_score  user_score rating  \\\n",
       "0     28.96      3.77         8.45          76.0         8.0      E   \n",
       "1      3.58      6.81         0.77          69.5         7.2      E   \n",
       "2     12.76      3.79         3.29          82.0         8.3      E   \n",
       "3     10.93      3.28         2.95          80.0         8.0      E   \n",
       "4      8.89     10.22         1.00          74.0         7.8      T   \n",
       "\n",
       "   total_profit  \n",
       "0         82.54  \n",
       "1         40.24  \n",
       "2         35.52  \n",
       "3         32.77  \n",
       "4         31.38  "
      ]
     },
     "execution_count": 107,
     "metadata": {},
     "output_type": "execute_result"
    }
   ],
   "source": [
    "#новый столбец с общей прибылью\n",
    "data['total_profit'] = data['na_sales']+data['eu_sales']+data['jp_sales']+data['other_sales']\n",
    "data.head()"
   ]
  },
  {
   "cell_type": "markdown",
   "metadata": {},
   "source": [
    "\n",
    "### Вывод\n"
   ]
  },
  {
   "cell_type": "markdown",
   "metadata": {},
   "source": [
    "\n",
    "Мы закончили важный этап предобработки данных. В этой части мы изменили типы данных столбцов, загруженных из переданного нам файла с информацией, а также заполнили пропущенные данные. Частично их наличие может быть связано с неверной выгрузкой первоначальной информации, частично - с отсутствием информации, как, например, в случае с оценкой пользователей. Для заполнения пропусков мы использовали медианное значение (в случае категориальной переменной - наиболее часто встречающееся значение) по жанрам компьютерных игр, так как подобное восстановление информации не должно сильно повлиять на общее распределение значений. А для неопределенной оценки пользователей - зависимость от оценки критиков.\n"
   ]
  },
  {
   "cell_type": "markdown",
   "metadata": {},
   "source": [
    "<a id='chapter4'></a>\n",
    "## Исследовательский анализ данных"
   ]
  },
  {
   "cell_type": "markdown",
   "metadata": {},
   "source": [
    "\n",
    "Сейчас проанализируем как меняются продажи компьютерных игр, что на них влияет, какие наиболее прибыльные платформы и жанры игр.\n"
   ]
  },
  {
   "cell_type": "markdown",
   "metadata": {},
   "source": [
    "<a id='comment4'></a>\n"
   ]
  },
  {
   "cell_type": "code",
   "execution_count": 108,
   "metadata": {
    "ExecuteTime": {
     "end_time": "2020-11-26T12:20:10.055164Z",
     "start_time": "2020-11-26T12:20:09.583397Z"
    }
   },
   "outputs": [
    {
     "data": {
      "image/png": "[encoded data removed]",
      "text/plain": [
       "<Figure size 432x288 with 1 Axes>"
      ]
     },
     "metadata": {},
     "output_type": "display_data"
    }
   ],
   "source": [
    "#построение графика количества выпущенных игр в год\n",
    "data.pivot_table(index='year_of_release', values='name', aggfunc='count').plot(legend=None)\n",
    "plt.xlabel('Год')\n",
    "plt.ylabel('Количество игр')\n",
    "plt.title('Количество выпущенных игр в год')\n",
    "plt.show()"
   ]
  },
  {
   "cell_type": "markdown",
   "metadata": {},
   "source": [
    "\n",
    "Больше всего компьютерных игр выпускалось в 2008-2009 годах, после этого их количество резко снизилось, хотя в 2015 году опять видим небольшой пик, но это количество даже меньше, чем в начале 2000-х годов.\n"
   ]
  },
  {
   "cell_type": "markdown",
   "metadata": {},
   "source": [
    "\n",
    "Посмотрим продажи игр для разных платформ.\n"
   ]
  },
  {
   "cell_type": "markdown",
   "metadata": {},
   "source": [
    "<a id='comment5'></a>"
   ]
  },
  {
   "cell_type": "code",
   "execution_count": 28,
   "metadata": {
    "ExecuteTime": {
     "end_time": "2020-11-26T09:58:42.833061Z",
     "start_time": "2020-11-26T09:58:42.782361Z"
    }
   },
   "outputs": [
    {
     "data": {
      "text/html": [
       "<div>\n",
       "<style scoped>\n",
       "    .dataframe tbody tr th:only-of-type {\n",
       "        vertical-align: middle;\n",
       "    }\n",
       "\n",
       "    .dataframe tbody tr th {\n",
       "        vertical-align: top;\n",
       "    }\n",
       "\n",
       "    .dataframe thead th {\n",
       "        text-align: right;\n",
       "    }\n",
       "</style>\n",
       "<table border=\"1\" class=\"dataframe\">\n",
       "  <thead>\n",
       "    <tr style=\"text-align: right;\">\n",
       "      <th></th>\n",
       "      <th>total_profit</th>\n",
       "    </tr>\n",
       "    <tr>\n",
       "      <th>platform</th>\n",
       "      <th></th>\n",
       "    </tr>\n",
       "  </thead>\n",
       "  <tbody>\n",
       "    <tr>\n",
       "      <td>PS2</td>\n",
       "      <td>1233.56</td>\n",
       "    </tr>\n",
       "    <tr>\n",
       "      <td>X360</td>\n",
       "      <td>961.24</td>\n",
       "    </tr>\n",
       "    <tr>\n",
       "      <td>PS3</td>\n",
       "      <td>931.34</td>\n",
       "    </tr>\n",
       "    <tr>\n",
       "      <td>Wii</td>\n",
       "      <td>891.18</td>\n",
       "    </tr>\n",
       "    <tr>\n",
       "      <td>DS</td>\n",
       "      <td>802.78</td>\n",
       "    </tr>\n",
       "    <tr>\n",
       "      <td>PS</td>\n",
       "      <td>727.58</td>\n",
       "    </tr>\n",
       "    <tr>\n",
       "      <td>PS4</td>\n",
       "      <td>314.14</td>\n",
       "    </tr>\n",
       "    <tr>\n",
       "      <td>GBA</td>\n",
       "      <td>312.88</td>\n",
       "    </tr>\n",
       "    <tr>\n",
       "      <td>PSP</td>\n",
       "      <td>289.53</td>\n",
       "    </tr>\n",
       "    <tr>\n",
       "      <td>3DS</td>\n",
       "      <td>257.81</td>\n",
       "    </tr>\n",
       "  </tbody>\n",
       "</table>\n",
       "</div>"
      ],
      "text/plain": [
       "          total_profit\n",
       "platform              \n",
       "PS2            1233.56\n",
       "X360            961.24\n",
       "PS3             931.34\n",
       "Wii             891.18\n",
       "DS              802.78\n",
       "PS              727.58\n",
       "PS4             314.14\n",
       "GBA             312.88\n",
       "PSP             289.53\n",
       "3DS             257.81"
      ]
     },
     "execution_count": 28,
     "metadata": {},
     "output_type": "execute_result"
    }
   ],
   "source": [
    "#просмотр платформ с наибольшей общей прибылью\n",
    "(\n",
    "    data\n",
    "    .pivot_table(index='platform', values='total_profit', aggfunc='sum')\n",
    "    .sort_values(by='total_profit', ascending=False).head(10)\n",
    ")"
   ]
  },
  {
   "cell_type": "markdown",
   "metadata": {},
   "source": [
    "\n",
    "Видим, что особо выделяются шесть платформ: PS2 - лидер продаж, отличается от второго места в 1,3 раза, X360, PS3, Wii, DS, PS. Продажи по остальным платформам довольно незначительны по сравнению с лидерами.\n"
   ]
  },
  {
   "cell_type": "markdown",
   "metadata": {},
   "source": [
    "\n",
    "Теперь оценим распределение продаж по этим шести платформам по годам.\n"
   ]
  },
  {
   "cell_type": "code",
   "execution_count": 29,
   "metadata": {
    "ExecuteTime": {
     "end_time": "2020-11-26T09:58:43.292553Z",
     "start_time": "2020-11-26T09:58:42.836399Z"
    },
    "scrolled": true
   },
   "outputs": [
    {
     "data": {
      "image/png": "[encoded data removed]",
      "text/plain": [
       "<Figure size 432x288 with 1 Axes>"
      ]
     },
     "metadata": {},
     "output_type": "display_data"
    }
   ],
   "source": [
    "#построение графика по шести платформам с наибольшей прибылью\n",
    "(\n",
    "    data\n",
    "    .query('platform in (\"PS2\", \"X360\", \"PS3\", \"Wii\", \"DS\", \"PS\")')\n",
    "    .pivot_table(index='year_of_release', columns='platform', values='total_profit', aggfunc='sum')\n",
    "    .plot()\n",
    ")\n",
    "plt.xlabel('Год')\n",
    "plt.ylabel('Общие продажи')\n",
    "plt.title('Распределение продаж по годам')\n",
    "plt.show()"
   ]
  },
  {
   "cell_type": "markdown",
   "metadata": {},
   "source": [
    "\n",
    "На этом графике ярко выделяется \"срок жизни\" платформ: 8-12 лет. За это время продажи по платформам постепенно угасают и можно сделать вывод, что для прогноза продаж на 2017 год не нужно анализировать данные за весь период.\n"
   ]
  },
  {
   "cell_type": "markdown",
   "metadata": {},
   "source": [
    "\n",
    "Угасание использования платформы нам не так интересно, мы анализируем только начало возникновения новых платформ, поэтому в качестве актуального периода примем период, равный полному \"сроку жизни\" платформы, деленному на два, т.е. 6 лет. Актуальный период в данном случае примем с начала 2011 года до конца 2016 года. Этот срок кажется наиболее подходящим лоя последующего исследования данных.\n"
   ]
  },
  {
   "cell_type": "code",
   "execution_count": 30,
   "metadata": {
    "ExecuteTime": {
     "end_time": "2020-11-26T09:58:43.313879Z",
     "start_time": "2020-11-26T09:58:43.297183Z"
    }
   },
   "outputs": [],
   "source": [
    "#создание новой таблицы по актуальному периоду\n",
    "data_actual = data.query('year_of_release >= 2011')"
   ]
  },
  {
   "cell_type": "code",
   "execution_count": 31,
   "metadata": {
    "ExecuteTime": {
     "end_time": "2020-11-26T09:58:43.353325Z",
     "start_time": "2020-11-26T09:58:43.319263Z"
    }
   },
   "outputs": [
    {
     "data": {
      "text/html": [
       "<div>\n",
       "<style scoped>\n",
       "    .dataframe tbody tr th:only-of-type {\n",
       "        vertical-align: middle;\n",
       "    }\n",
       "\n",
       "    .dataframe tbody tr th {\n",
       "        vertical-align: top;\n",
       "    }\n",
       "\n",
       "    .dataframe thead th {\n",
       "        text-align: right;\n",
       "    }\n",
       "</style>\n",
       "<table border=\"1\" class=\"dataframe\">\n",
       "  <thead>\n",
       "    <tr style=\"text-align: right;\">\n",
       "      <th></th>\n",
       "      <th>total_profit</th>\n",
       "    </tr>\n",
       "    <tr>\n",
       "      <th>platform</th>\n",
       "      <th></th>\n",
       "    </tr>\n",
       "  </thead>\n",
       "  <tbody>\n",
       "    <tr>\n",
       "      <td>PS3</td>\n",
       "      <td>445.57</td>\n",
       "    </tr>\n",
       "    <tr>\n",
       "      <td>X360</td>\n",
       "      <td>380.38</td>\n",
       "    </tr>\n",
       "    <tr>\n",
       "      <td>PS4</td>\n",
       "      <td>314.14</td>\n",
       "    </tr>\n",
       "    <tr>\n",
       "      <td>3DS</td>\n",
       "      <td>257.81</td>\n",
       "    </tr>\n",
       "    <tr>\n",
       "      <td>XOne</td>\n",
       "      <td>159.32</td>\n",
       "    </tr>\n",
       "    <tr>\n",
       "      <td>PC</td>\n",
       "      <td>97.68</td>\n",
       "    </tr>\n",
       "    <tr>\n",
       "      <td>Wii</td>\n",
       "      <td>95.02</td>\n",
       "    </tr>\n",
       "    <tr>\n",
       "      <td>WiiU</td>\n",
       "      <td>82.19</td>\n",
       "    </tr>\n",
       "    <tr>\n",
       "      <td>PSV</td>\n",
       "      <td>53.81</td>\n",
       "    </tr>\n",
       "    <tr>\n",
       "      <td>DS</td>\n",
       "      <td>38.73</td>\n",
       "    </tr>\n",
       "  </tbody>\n",
       "</table>\n",
       "</div>"
      ],
      "text/plain": [
       "          total_profit\n",
       "platform              \n",
       "PS3             445.57\n",
       "X360            380.38\n",
       "PS4             314.14\n",
       "3DS             257.81\n",
       "XOne            159.32\n",
       "PC               97.68\n",
       "Wii              95.02\n",
       "WiiU             82.19\n",
       "PSV              53.81\n",
       "DS               38.73"
      ]
     },
     "execution_count": 31,
     "metadata": {},
     "output_type": "execute_result"
    }
   ],
   "source": [
    "#просмотр информации по платформам с наибольшими продажами по актуальному периоду\n",
    "(\n",
    "    data_actual\n",
    "    .pivot_table(index='platform', values='total_profit', aggfunc='sum')\n",
    "    .sort_values(by='total_profit', ascending=False)\n",
    "    .head(10)\n",
    ")"
   ]
  },
  {
   "cell_type": "markdown",
   "metadata": {},
   "source": [
    "\n",
    "За последние 10 лет ситуаця по продажам несколько изменилась: на первом месте PS3, а вот X360 удерживает второе место, но разница между ними незначительна.\n"
   ]
  },
  {
   "cell_type": "code",
   "execution_count": 32,
   "metadata": {
    "ExecuteTime": {
     "end_time": "2020-11-26T09:58:43.946125Z",
     "start_time": "2020-11-26T09:58:43.356295Z"
    },
    "scrolled": true
   },
   "outputs": [
    {
     "data": {
      "image/png": "[encoded data removed]",
      "text/plain": [
       "<Figure size 432x288 with 1 Axes>"
      ]
     },
     "metadata": {},
     "output_type": "display_data"
    }
   ],
   "source": [
    "#построение графика продаж по годам за актуальный период\n",
    "(\n",
    "    data_actual\n",
    "    .pivot_table(index='year_of_release', values='total_profit', aggfunc='sum')\n",
    "    .plot(kind='bar')\n",
    ")\n",
    "plt.xlabel('Год')\n",
    "plt.ylabel('Общие продажи')\n",
    "plt.title('Продажи за актуальный период')\n",
    "plt.show()"
   ]
  },
  {
   "cell_type": "code",
   "execution_count": 33,
   "metadata": {},
   "outputs": [],
   "source": [
    "#создадим таблицу, сгруппированную по годам с общими продажами по платформам\n",
    "group = (\n",
    "    data_actual\n",
    "    .pivot_table(index='year_of_release', columns='platform', values='total_profit', aggfunc='sum')\n",
    ")"
   ]
  },
  {
   "cell_type": "code",
   "execution_count": 34,
   "metadata": {
    "scrolled": false
   },
   "outputs": [
    {
     "data": {
      "image/png": "[encoded data removed]",
      "text/plain": [
       "<Figure size 432x288 with 1 Axes>"
      ]
     },
     "metadata": {},
     "output_type": "display_data"
    },
    {
     "data": {
      "image/png": "[encoded data removed]",
      "text/plain": [
       "<Figure size 432x288 with 1 Axes>"
      ]
     },
     "metadata": {},
     "output_type": "display_data"
    },
    {
     "data": {
      "image/png": "[encoded data removed]",
      "text/plain": [
       "<Figure size 432x288 with 1 Axes>"
      ]
     },
     "metadata": {},
     "output_type": "display_data"
    },
    {
     "data": {
      "image/png": "[encoded data removed]",
      "text/plain": [
       "<Figure size 432x288 with 1 Axes>"
      ]
     },
     "metadata": {},
     "output_type": "display_data"
    },
    {
     "data": {
      "image/png": "[encoded data removed]",
      "text/plain": [
       "<Figure size 432x288 with 1 Axes>"
      ]
     },
     "metadata": {},
     "output_type": "display_data"
    },
    {
     "data": {
      "image/png": "[encoded data removed]",
      "text/plain": [
       "<Figure size 432x288 with 1 Axes>"
      ]
     },
     "metadata": {},
     "output_type": "display_data"
    },
    {
     "data": {
      "image/png": "[encoded data removed]",
      "text/plain": [
       "<Figure size 432x288 with 1 Axes>"
      ]
     },
     "metadata": {},
     "output_type": "display_data"
    },
    {
     "data": {
      "image/png": "[encoded data removed]",
      "text/plain": [
       "<Figure size 432x288 with 1 Axes>"
      ]
     },
     "metadata": {},
     "output_type": "display_data"
    },
    {
     "data": {
      "image/png": "[encoded data removed]",
      "text/plain": [
       "<Figure size 432x288 with 1 Axes>"
      ]
     },
     "metadata": {},
     "output_type": "display_data"
    },
    {
     "data": {
      "image/png": "[encoded data removed]",
      "text/plain": [
       "<Figure size 432x288 with 1 Axes>"
      ]
     },
     "metadata": {},
     "output_type": "display_data"
    },
    {
     "data": {
      "image/png": "[encoded data removed]",
      "text/plain": [
       "<Figure size 432x288 with 1 Axes>"
      ]
     },
     "metadata": {},
     "output_type": "display_data"
    },
    {
     "data": {
      "image/png": "[encoded data removed]",
      "text/plain": [
       "<Figure size 432x288 with 1 Axes>"
      ]
     },
     "metadata": {},
     "output_type": "display_data"
    }
   ],
   "source": [
    "#построим графики с продажами по годам по каждой платформе\n",
    "for column in group.columns:\n",
    "    group.plot(y=column, kind='bar', title=column)\n",
    "    plt.xlabel('Год')\n",
    "    plt.ylabel('Продажи')"
   ]
  },
  {
   "cell_type": "markdown",
   "metadata": {},
   "source": [
    "\n",
    "На графиках видно, что некоторые платформы были популярны в начале актуального периода, но к концу 2016 года их популярность угасла. Некоторые же только начали набирать продажи к концу актуального периода. Посмотрим, какие платформы лучше всего продавались в 2016 году.\n"
   ]
  },
  {
   "cell_type": "code",
   "execution_count": 35,
   "metadata": {
    "ExecuteTime": {
     "end_time": "2020-11-26T09:58:43.988802Z",
     "start_time": "2020-11-26T09:58:43.948678Z"
    },
    "scrolled": true
   },
   "outputs": [
    {
     "data": {
      "text/html": [
       "<div>\n",
       "<style scoped>\n",
       "    .dataframe tbody tr th:only-of-type {\n",
       "        vertical-align: middle;\n",
       "    }\n",
       "\n",
       "    .dataframe tbody tr th {\n",
       "        vertical-align: top;\n",
       "    }\n",
       "\n",
       "    .dataframe thead th {\n",
       "        text-align: right;\n",
       "    }\n",
       "</style>\n",
       "<table border=\"1\" class=\"dataframe\">\n",
       "  <thead>\n",
       "    <tr style=\"text-align: right;\">\n",
       "      <th></th>\n",
       "      <th>total_profit</th>\n",
       "    </tr>\n",
       "    <tr>\n",
       "      <th>platform</th>\n",
       "      <th></th>\n",
       "    </tr>\n",
       "  </thead>\n",
       "  <tbody>\n",
       "    <tr>\n",
       "      <td>PS4</td>\n",
       "      <td>69.25</td>\n",
       "    </tr>\n",
       "    <tr>\n",
       "      <td>XOne</td>\n",
       "      <td>26.15</td>\n",
       "    </tr>\n",
       "    <tr>\n",
       "      <td>3DS</td>\n",
       "      <td>15.14</td>\n",
       "    </tr>\n",
       "    <tr>\n",
       "      <td>PC</td>\n",
       "      <td>5.25</td>\n",
       "    </tr>\n",
       "    <tr>\n",
       "      <td>WiiU</td>\n",
       "      <td>4.60</td>\n",
       "    </tr>\n",
       "    <tr>\n",
       "      <td>PSV</td>\n",
       "      <td>4.25</td>\n",
       "    </tr>\n",
       "    <tr>\n",
       "      <td>PS3</td>\n",
       "      <td>3.60</td>\n",
       "    </tr>\n",
       "    <tr>\n",
       "      <td>X360</td>\n",
       "      <td>1.52</td>\n",
       "    </tr>\n",
       "    <tr>\n",
       "      <td>Wii</td>\n",
       "      <td>0.18</td>\n",
       "    </tr>\n",
       "  </tbody>\n",
       "</table>\n",
       "</div>"
      ],
      "text/plain": [
       "          total_profit\n",
       "platform              \n",
       "PS4              69.25\n",
       "XOne             26.15\n",
       "3DS              15.14\n",
       "PC                5.25\n",
       "WiiU              4.60\n",
       "PSV               4.25\n",
       "PS3               3.60\n",
       "X360              1.52\n",
       "Wii               0.18"
      ]
     },
     "execution_count": 35,
     "metadata": {},
     "output_type": "execute_result"
    }
   ],
   "source": [
    "#просмотр информации по платформам с наибольшими продажами за 2016 год\n",
    "(\n",
    "    data_actual\n",
    "    .query('year_of_release == 2016')\n",
    "    .pivot_table(index='platform', values='total_profit', aggfunc='sum')\n",
    "    .sort_values(by='total_profit', ascending=False)\n",
    "    .head(10)\n",
    ")"
   ]
  },
  {
   "cell_type": "markdown",
   "metadata": {},
   "source": [
    "\n",
    "Рассматривая ситуацию в динамике, видим, что продажи по большинству платформ падают. И в 2016 году между ними почти нет разницы, выделяются только три платформы - PS4, XOne и 3DS. Продажи по PS4 при этом в 2,6 раза больше, чем по XOne, а третье место отличается от четвертого почти в три раза!\n",
    "\n",
    "Учитывая, что продажи по PS4 и XOne начались только в 2013 году, можем предположить, что в дальнейшем продажи по ним будут только расти.\n"
   ]
  },
  {
   "cell_type": "code",
   "execution_count": 36,
   "metadata": {
    "ExecuteTime": {
     "end_time": "2020-11-26T12:37:35.330763Z",
     "start_time": "2020-11-26T12:37:35.013523Z"
    }
   },
   "outputs": [
    {
     "data": {
      "image/png": "[encoded data removed]",
      "text/plain": [
       "<Figure size 432x288 with 1 Axes>"
      ]
     },
     "metadata": {},
     "output_type": "display_data"
    }
   ],
   "source": [
    "#построим боксплот по платформам с наибольшими продажами\n",
    "data_actual.query('platform in (\"PS4\", \"XOne\", \"3DS\")').boxplot(column='total_profit', by='platform')\n",
    "plt.xlabel('Платформа')\n",
    "plt.ylabel('Продажи')\n",
    "plt.title('Распределение продаж по платформам')\n",
    "plt.ylim(0, 2)\n",
    "plt.show()"
   ]
  },
  {
   "cell_type": "markdown",
   "metadata": {},
   "source": [
    "\n",
    "Рассматривая распределение продаж компьютерных игр по платформам-лидерам, видим, что, несмотря на значительную разницу в общем значении продаж между первым и вторым местом, по факту медианное значение у них примерно одинаковое. Продажи по 3DS гораздо ниже. Таким образом, мы видим двух конкурентов на рынке среди платформ - PS4 и XOne.\n"
   ]
  },
  {
   "cell_type": "markdown",
   "metadata": {},
   "source": [
    "\n",
    "Проверим, влияют ли на продажи внутри платформы PS4 оценки пользователей и критиков.\n"
   ]
  },
  {
   "cell_type": "code",
   "execution_count": 37,
   "metadata": {
    "ExecuteTime": {
     "end_time": "2020-11-26T09:58:45.774922Z",
     "start_time": "2020-11-26T09:58:44.443406Z"
    }
   },
   "outputs": [
    {
     "data": {
      "image/png": "[encoded data removed]",
      "text/plain": [
       "<Figure size 432x288 with 9 Axes>"
      ]
     },
     "metadata": {},
     "output_type": "display_data"
    }
   ],
   "source": [
    "#график-зависимость продаж от оценок пользователей и критиков для PS4\n",
    "data_ps = data_actual.query('platform in (\"PS4\")')[['total_profit', 'critic_score', 'user_score']]\n",
    "pd.plotting.scatter_matrix(data_ps);"
   ]
  },
  {
   "cell_type": "code",
   "execution_count": 38,
   "metadata": {
    "ExecuteTime": {
     "end_time": "2020-11-26T09:58:45.785551Z",
     "start_time": "2020-11-26T09:58:45.777447Z"
    }
   },
   "outputs": [
    {
     "data": {
      "text/plain": [
       "0.35147435925924897"
      ]
     },
     "execution_count": 38,
     "metadata": {},
     "output_type": "execute_result"
    }
   ],
   "source": [
    "#коэффициент корреляции общей прибыли от оценок критиков\n",
    "data_ps['total_profit'].corr(data_ps['critic_score'])"
   ]
  },
  {
   "cell_type": "markdown",
   "metadata": {},
   "source": [
    "\n",
    "Есть некоторая зависимость продаж от оценок критиков, хоть и довольно незначительная. Однако зависимости продаж от оценок пользователей нет никакой. Очевидно, покупатели больше доверяют оценке критиков.\n"
   ]
  },
  {
   "cell_type": "markdown",
   "metadata": {},
   "source": [
    "\n",
    "Посмотрим, какая ситуация по другим платформам-лидерам.\n"
   ]
  },
  {
   "cell_type": "code",
   "execution_count": 39,
   "metadata": {
    "ExecuteTime": {
     "end_time": "2020-11-26T09:58:47.215811Z",
     "start_time": "2020-11-26T09:58:45.789434Z"
    }
   },
   "outputs": [
    {
     "data": {
      "image/png": "[encoded data removed]",
      "text/plain": [
       "<Figure size 432x288 with 9 Axes>"
      ]
     },
     "metadata": {},
     "output_type": "display_data"
    }
   ],
   "source": [
    "#график-зависимость продаж от оценок пользователей и критиков для XOne\n",
    "data_xone = data_actual.query('platform in (\"XOne\")')[['total_profit', 'critic_score', 'user_score']]\n",
    "pd.plotting.scatter_matrix(data_xone);"
   ]
  },
  {
   "cell_type": "code",
   "execution_count": 40,
   "metadata": {
    "ExecuteTime": {
     "end_time": "2020-11-26T09:58:47.230643Z",
     "start_time": "2020-11-26T09:58:47.219479Z"
    }
   },
   "outputs": [
    {
     "data": {
      "text/plain": [
       "0.37861650130857405"
      ]
     },
     "execution_count": 40,
     "metadata": {},
     "output_type": "execute_result"
    }
   ],
   "source": [
    "#коэффициент корреляции общей прибыли от оценок критиков\n",
    "data_xone['total_profit'].corr(data_xone['critic_score'])"
   ]
  },
  {
   "cell_type": "code",
   "execution_count": 41,
   "metadata": {
    "ExecuteTime": {
     "end_time": "2020-11-26T09:58:48.604850Z",
     "start_time": "2020-11-26T09:58:47.234934Z"
    }
   },
   "outputs": [
    {
     "data": {
      "image/png": "[encoded data removed]",
      "text/plain": [
       "<Figure size 432x288 with 9 Axes>"
      ]
     },
     "metadata": {},
     "output_type": "display_data"
    }
   ],
   "source": [
    "#график-зависимость продаж от оценок пользователей и критиков для 3DS\n",
    "data_ds = data_actual.query('platform in (\"3DS\")')[['total_profit', 'critic_score', 'user_score']]\n",
    "pd.plotting.scatter_matrix(data_ds);"
   ]
  },
  {
   "cell_type": "code",
   "execution_count": 42,
   "metadata": {
    "ExecuteTime": {
     "end_time": "2020-11-26T09:58:48.617339Z",
     "start_time": "2020-11-26T09:58:48.607695Z"
    }
   },
   "outputs": [
    {
     "data": {
      "text/plain": [
       "0.24213768491512225"
      ]
     },
     "execution_count": 42,
     "metadata": {},
     "output_type": "execute_result"
    }
   ],
   "source": [
    "#коэффициент корреляции общей прибыли от оценок критиков\n",
    "data_ds['total_profit'].corr(data_ds['critic_score'])"
   ]
  },
  {
   "cell_type": "markdown",
   "metadata": {},
   "source": [
    "\n",
    "Зависимость продаж от оценки критиков и зрителей для XOne выглядит абсолютно аналогично зависимости для PS4, даже коэффициенты корреляции совпадают.\n",
    "\n",
    "Для 3DS зависимости можно сказать, нет никакой. Возможно, это связано с тем, что для этой платформы присутствовало большое количество пропущенных значений, которые пришлось восстанавливать в процессе предобработки данных.\n"
   ]
  },
  {
   "cell_type": "markdown",
   "metadata": {},
   "source": [
    "\n",
    "Теперь посмотрим на продажи компьютерных игр не по платформам, а по разным жанрам.\n"
   ]
  },
  {
   "cell_type": "code",
   "execution_count": 43,
   "metadata": {
    "ExecuteTime": {
     "end_time": "2020-11-26T09:58:49.018409Z",
     "start_time": "2020-11-26T09:58:48.620221Z"
    }
   },
   "outputs": [
    {
     "data": {
      "image/png": "[encoded data removed]",
      "text/plain": [
       "<Figure size 432x288 with 1 Axes>"
      ]
     },
     "metadata": {},
     "output_type": "display_data"
    }
   ],
   "source": [
    "#построение графика количество выпущенных игр по каждому жанру за актуальный период\n",
    "data_actual['genre'].value_counts().plot(kind='bar')\n",
    "plt.title('Количество выпущенных игр по жанрам')\n",
    "plt.show()"
   ]
  },
  {
   "cell_type": "code",
   "execution_count": 44,
   "metadata": {
    "ExecuteTime": {
     "end_time": "2020-11-26T09:58:49.438777Z",
     "start_time": "2020-11-26T09:58:49.021528Z"
    },
    "scrolled": true
   },
   "outputs": [
    {
     "data": {
      "image/png": "[encoded data removed]",
      "text/plain": [
       "<Figure size 432x288 with 1 Axes>"
      ]
     },
     "metadata": {},
     "output_type": "display_data"
    }
   ],
   "source": [
    "#построение графика суммы продаж по каждому жанру за актуальный период\n",
    "data_actual.pivot_table(index='genre', values='total_profit', aggfunc='sum').plot(kind='bar', legend=None)\n",
    "plt.xlabel('Жанр игры')\n",
    "plt.ylabel('Общие продажи')\n",
    "plt.title('Продажи игр по жанрам')\n",
    "plt.show()"
   ]
  },
  {
   "cell_type": "code",
   "execution_count": 45,
   "metadata": {
    "ExecuteTime": {
     "end_time": "2020-11-26T09:58:49.487751Z",
     "start_time": "2020-11-26T09:58:49.443908Z"
    }
   },
   "outputs": [
    {
     "data": {
      "text/html": [
       "<div>\n",
       "<style scoped>\n",
       "    .dataframe tbody tr th:only-of-type {\n",
       "        vertical-align: middle;\n",
       "    }\n",
       "\n",
       "    .dataframe tbody tr th {\n",
       "        vertical-align: top;\n",
       "    }\n",
       "\n",
       "    .dataframe thead th {\n",
       "        text-align: right;\n",
       "    }\n",
       "</style>\n",
       "<table border=\"1\" class=\"dataframe\">\n",
       "  <thead>\n",
       "    <tr style=\"text-align: right;\">\n",
       "      <th></th>\n",
       "      <th>total_profit</th>\n",
       "    </tr>\n",
       "    <tr>\n",
       "      <th>genre</th>\n",
       "      <th></th>\n",
       "    </tr>\n",
       "  </thead>\n",
       "  <tbody>\n",
       "    <tr>\n",
       "      <td>Action</td>\n",
       "      <td>557.80</td>\n",
       "    </tr>\n",
       "    <tr>\n",
       "      <td>Shooter</td>\n",
       "      <td>402.91</td>\n",
       "    </tr>\n",
       "    <tr>\n",
       "      <td>Role-Playing</td>\n",
       "      <td>245.63</td>\n",
       "    </tr>\n",
       "    <tr>\n",
       "      <td>Sports</td>\n",
       "      <td>237.15</td>\n",
       "    </tr>\n",
       "    <tr>\n",
       "      <td>Misc</td>\n",
       "      <td>139.42</td>\n",
       "    </tr>\n",
       "    <tr>\n",
       "      <td>Platform</td>\n",
       "      <td>88.68</td>\n",
       "    </tr>\n",
       "  </tbody>\n",
       "</table>\n",
       "</div>"
      ],
      "text/plain": [
       "              total_profit\n",
       "genre                     \n",
       "Action              557.80\n",
       "Shooter             402.91\n",
       "Role-Playing        245.63\n",
       "Sports              237.15\n",
       "Misc                139.42\n",
       "Platform             88.68"
      ]
     },
     "execution_count": 45,
     "metadata": {},
     "output_type": "execute_result"
    }
   ],
   "source": [
    "#просмотр жанров с наибольшими продажами за актуальный период\n",
    "(\n",
    "    data_actual\n",
    "    .pivot_table(index='genre', values='total_profit', aggfunc='sum')\n",
    "    .sort_values(by='total_profit', ascending=False)\n",
    "    .head(6)\n",
    ")"
   ]
  },
  {
   "cell_type": "code",
   "execution_count": 46,
   "metadata": {
    "ExecuteTime": {
     "end_time": "2020-11-26T09:58:49.534321Z",
     "start_time": "2020-11-26T09:58:49.493371Z"
    }
   },
   "outputs": [
    {
     "data": {
      "text/html": [
       "<div>\n",
       "<style scoped>\n",
       "    .dataframe tbody tr th:only-of-type {\n",
       "        vertical-align: middle;\n",
       "    }\n",
       "\n",
       "    .dataframe tbody tr th {\n",
       "        vertical-align: top;\n",
       "    }\n",
       "\n",
       "    .dataframe thead th {\n",
       "        text-align: right;\n",
       "    }\n",
       "</style>\n",
       "<table border=\"1\" class=\"dataframe\">\n",
       "  <thead>\n",
       "    <tr style=\"text-align: right;\">\n",
       "      <th></th>\n",
       "      <th>total_profit</th>\n",
       "    </tr>\n",
       "    <tr>\n",
       "      <th>genre</th>\n",
       "      <th></th>\n",
       "    </tr>\n",
       "  </thead>\n",
       "  <tbody>\n",
       "    <tr>\n",
       "      <td>Puzzle</td>\n",
       "      <td>9.85</td>\n",
       "    </tr>\n",
       "    <tr>\n",
       "      <td>Strategy</td>\n",
       "      <td>22.16</td>\n",
       "    </tr>\n",
       "    <tr>\n",
       "      <td>Adventure</td>\n",
       "      <td>45.04</td>\n",
       "    </tr>\n",
       "    <tr>\n",
       "      <td>Simulation</td>\n",
       "      <td>50.26</td>\n",
       "    </tr>\n",
       "    <tr>\n",
       "      <td>Fighting</td>\n",
       "      <td>66.90</td>\n",
       "    </tr>\n",
       "    <tr>\n",
       "      <td>Racing</td>\n",
       "      <td>88.31</td>\n",
       "    </tr>\n",
       "  </tbody>\n",
       "</table>\n",
       "</div>"
      ],
      "text/plain": [
       "            total_profit\n",
       "genre                   \n",
       "Puzzle              9.85\n",
       "Strategy           22.16\n",
       "Adventure          45.04\n",
       "Simulation         50.26\n",
       "Fighting           66.90\n",
       "Racing             88.31"
      ]
     },
     "execution_count": 46,
     "metadata": {},
     "output_type": "execute_result"
    }
   ],
   "source": [
    "#просмотр жанров с наименьшими продажами за актуальный период\n",
    "(\n",
    "    data_actual\n",
    "    .pivot_table(index='genre', values='total_profit', aggfunc='sum')\n",
    "    .sort_values(by='total_profit', ascending=True)\n",
    "    .head(6)\n",
    ")"
   ]
  },
  {
   "cell_type": "markdown",
   "metadata": {},
   "source": [
    "\n",
    "Больше всего выпускается игр в стиле Action, они же и являются наиболее прибыльными. Шутеры и спортивные соревнования также очень популярны и хорошо продаются, хотя их выпускается гораздо меньше.\n",
    "\n",
    "А вот наименьшую прибыль приносят стратегии. Поклонники \"Цивилизации\" не очень любят тратить деньги.\n",
    "\n",
    "Что интересно, приключенческий жанр компьютерных игр продается плохо, однако таких игр выпускается гораздо больше, чем шутеров.\n"
   ]
  },
  {
   "cell_type": "markdown",
   "metadata": {},
   "source": [
    "\n",
    "### Вывод\n"
   ]
  },
  {
   "cell_type": "markdown",
   "metadata": {},
   "source": [
    "\n",
    "В этой части исследования мы проанализировали продажи компьютерных игр в зависимости от платформ и выделили наиболее перспективные в рамках актуального периода: PS4 и XOne. Продажи по ним начались с 2013 года и можно предположить, что в 2017 году они будут только расти.\n",
    "\n",
    "Также наибольшей популярностью пользуются игры в жанре \"экшен\", \"шутеры\" и \"спортивные\". Наименьшей же - стратерии. Вероятно, играя в компьютерные игры, например, после трудового дня, люди больше всего хотят выпустить пар, а не продолжать думать и принимать решения в стратегических играх.\n"
   ]
  },
  {
   "cell_type": "markdown",
   "metadata": {},
   "source": [
    "<a id='chapter5'></a>\n",
    "## Портрет пользователя"
   ]
  },
  {
   "cell_type": "markdown",
   "metadata": {},
   "source": [
    "\n",
    "До этого мы изучали продажи, популярные платформы и жанры компьютерных игр в целом по всем регионам. В этой части мы проанализируем эти параметры отдельно для Северной Америки, Европы и Японии.\n"
   ]
  },
  {
   "cell_type": "markdown",
   "metadata": {},
   "source": [
    "\n",
    "Вычислим, например, самые топ-5 платформ для регионов.\n"
   ]
  },
  {
   "cell_type": "code",
   "execution_count": 47,
   "metadata": {
    "ExecuteTime": {
     "end_time": "2020-11-26T09:58:49.574658Z",
     "start_time": "2020-11-26T09:58:49.537715Z"
    }
   },
   "outputs": [
    {
     "data": {
      "text/html": [
       "<div>\n",
       "<style scoped>\n",
       "    .dataframe tbody tr th:only-of-type {\n",
       "        vertical-align: middle;\n",
       "    }\n",
       "\n",
       "    .dataframe tbody tr th {\n",
       "        vertical-align: top;\n",
       "    }\n",
       "\n",
       "    .dataframe thead th {\n",
       "        text-align: right;\n",
       "    }\n",
       "</style>\n",
       "<table border=\"1\" class=\"dataframe\">\n",
       "  <thead>\n",
       "    <tr style=\"text-align: right;\">\n",
       "      <th></th>\n",
       "      <th>na_sales</th>\n",
       "    </tr>\n",
       "    <tr>\n",
       "      <th>platform</th>\n",
       "      <th></th>\n",
       "    </tr>\n",
       "  </thead>\n",
       "  <tbody>\n",
       "    <tr>\n",
       "      <td>X360</td>\n",
       "      <td>226.80</td>\n",
       "    </tr>\n",
       "    <tr>\n",
       "      <td>PS3</td>\n",
       "      <td>168.26</td>\n",
       "    </tr>\n",
       "    <tr>\n",
       "      <td>PS4</td>\n",
       "      <td>108.74</td>\n",
       "    </tr>\n",
       "    <tr>\n",
       "      <td>XOne</td>\n",
       "      <td>93.12</td>\n",
       "    </tr>\n",
       "    <tr>\n",
       "      <td>3DS</td>\n",
       "      <td>82.65</td>\n",
       "    </tr>\n",
       "  </tbody>\n",
       "</table>\n",
       "</div>"
      ],
      "text/plain": [
       "          na_sales\n",
       "platform          \n",
       "X360        226.80\n",
       "PS3         168.26\n",
       "PS4         108.74\n",
       "XOne         93.12\n",
       "3DS          82.65"
      ]
     },
     "execution_count": 47,
     "metadata": {},
     "output_type": "execute_result"
    }
   ],
   "source": [
    "#просмотр платформ с наибольшими продажами в Северной Америке\n",
    "(\n",
    "    data_actual\n",
    "    .pivot_table(index='platform', values='na_sales', aggfunc='sum')\n",
    "    .sort_values(by='na_sales', ascending=False)\n",
    "    .head()\n",
    ")"
   ]
  },
  {
   "cell_type": "code",
   "execution_count": 48,
   "metadata": {
    "ExecuteTime": {
     "end_time": "2020-11-26T09:58:49.613251Z",
     "start_time": "2020-11-26T09:58:49.579192Z"
    }
   },
   "outputs": [
    {
     "data": {
      "text/html": [
       "<div>\n",
       "<style scoped>\n",
       "    .dataframe tbody tr th:only-of-type {\n",
       "        vertical-align: middle;\n",
       "    }\n",
       "\n",
       "    .dataframe tbody tr th {\n",
       "        vertical-align: top;\n",
       "    }\n",
       "\n",
       "    .dataframe thead th {\n",
       "        text-align: right;\n",
       "    }\n",
       "</style>\n",
       "<table border=\"1\" class=\"dataframe\">\n",
       "  <thead>\n",
       "    <tr style=\"text-align: right;\">\n",
       "      <th></th>\n",
       "      <th>eu_sales</th>\n",
       "    </tr>\n",
       "    <tr>\n",
       "      <th>platform</th>\n",
       "      <th></th>\n",
       "    </tr>\n",
       "  </thead>\n",
       "  <tbody>\n",
       "    <tr>\n",
       "      <td>PS3</td>\n",
       "      <td>163.10</td>\n",
       "    </tr>\n",
       "    <tr>\n",
       "      <td>PS4</td>\n",
       "      <td>141.09</td>\n",
       "    </tr>\n",
       "    <tr>\n",
       "      <td>X360</td>\n",
       "      <td>117.10</td>\n",
       "    </tr>\n",
       "    <tr>\n",
       "      <td>3DS</td>\n",
       "      <td>61.27</td>\n",
       "    </tr>\n",
       "    <tr>\n",
       "      <td>PC</td>\n",
       "      <td>56.70</td>\n",
       "    </tr>\n",
       "  </tbody>\n",
       "</table>\n",
       "</div>"
      ],
      "text/plain": [
       "          eu_sales\n",
       "platform          \n",
       "PS3         163.10\n",
       "PS4         141.09\n",
       "X360        117.10\n",
       "3DS          61.27\n",
       "PC           56.70"
      ]
     },
     "execution_count": 48,
     "metadata": {},
     "output_type": "execute_result"
    }
   ],
   "source": [
    "#просмотр платформ с наибольшими продажами в Европе\n",
    "(\n",
    "    data_actual\n",
    "    .pivot_table(index='platform', values='eu_sales', aggfunc='sum')\n",
    "    .sort_values(by='eu_sales', ascending=False)\n",
    "    .head()\n",
    ")"
   ]
  },
  {
   "cell_type": "code",
   "execution_count": 49,
   "metadata": {
    "ExecuteTime": {
     "end_time": "2020-11-26T09:58:49.657813Z",
     "start_time": "2020-11-26T09:58:49.617337Z"
    }
   },
   "outputs": [
    {
     "data": {
      "text/html": [
       "<div>\n",
       "<style scoped>\n",
       "    .dataframe tbody tr th:only-of-type {\n",
       "        vertical-align: middle;\n",
       "    }\n",
       "\n",
       "    .dataframe tbody tr th {\n",
       "        vertical-align: top;\n",
       "    }\n",
       "\n",
       "    .dataframe thead th {\n",
       "        text-align: right;\n",
       "    }\n",
       "</style>\n",
       "<table border=\"1\" class=\"dataframe\">\n",
       "  <thead>\n",
       "    <tr style=\"text-align: right;\">\n",
       "      <th></th>\n",
       "      <th>jp_sales</th>\n",
       "    </tr>\n",
       "    <tr>\n",
       "      <th>platform</th>\n",
       "      <th></th>\n",
       "    </tr>\n",
       "  </thead>\n",
       "  <tbody>\n",
       "    <tr>\n",
       "      <td>3DS</td>\n",
       "      <td>100.62</td>\n",
       "    </tr>\n",
       "    <tr>\n",
       "      <td>PS3</td>\n",
       "      <td>49.39</td>\n",
       "    </tr>\n",
       "    <tr>\n",
       "      <td>PSP</td>\n",
       "      <td>24.04</td>\n",
       "    </tr>\n",
       "    <tr>\n",
       "      <td>PSV</td>\n",
       "      <td>21.84</td>\n",
       "    </tr>\n",
       "    <tr>\n",
       "      <td>PS4</td>\n",
       "      <td>15.96</td>\n",
       "    </tr>\n",
       "  </tbody>\n",
       "</table>\n",
       "</div>"
      ],
      "text/plain": [
       "          jp_sales\n",
       "platform          \n",
       "3DS         100.62\n",
       "PS3          49.39\n",
       "PSP          24.04\n",
       "PSV          21.84\n",
       "PS4          15.96"
      ]
     },
     "execution_count": 49,
     "metadata": {},
     "output_type": "execute_result"
    }
   ],
   "source": [
    "#просмотр платформ с наибольшими продажами в Японии\n",
    "(\n",
    "    data_actual\n",
    "    .pivot_table(index='platform', values='jp_sales', aggfunc='sum')\n",
    "    .sort_values(by='jp_sales', ascending=False)\n",
    "    .head()\n",
    ")"
   ]
  },
  {
   "cell_type": "markdown",
   "metadata": {},
   "source": [
    "\n",
    "Видим огромную разницу в продажах. Для данных регионов PS4, находящаяся на первом месте по продажам в целом, здесь едва ли входит в пятерку лидеров. В Северной Америке наиболее популярна платформа X360, в Европе - PS3, а в Японии - 3DS. И, если X360 и PS3 хотя бы входят в топ-10 популярных платформ по всему миру, то 3DS даже не входит в это число. Возможно, продажи по ней есть только в Японии.\n"
   ]
  },
  {
   "cell_type": "code",
   "execution_count": 50,
   "metadata": {
    "ExecuteTime": {
     "end_time": "2020-11-26T09:58:49.711343Z",
     "start_time": "2020-11-26T09:58:49.660911Z"
    }
   },
   "outputs": [
    {
     "data": {
      "text/html": [
       "<div>\n",
       "<style scoped>\n",
       "    .dataframe tbody tr th:only-of-type {\n",
       "        vertical-align: middle;\n",
       "    }\n",
       "\n",
       "    .dataframe tbody tr th {\n",
       "        vertical-align: top;\n",
       "    }\n",
       "\n",
       "    .dataframe thead th {\n",
       "        text-align: right;\n",
       "    }\n",
       "</style>\n",
       "<table border=\"1\" class=\"dataframe\">\n",
       "  <thead>\n",
       "    <tr style=\"text-align: right;\">\n",
       "      <th></th>\n",
       "      <th>na_sales</th>\n",
       "    </tr>\n",
       "    <tr>\n",
       "      <th>genre</th>\n",
       "      <th></th>\n",
       "    </tr>\n",
       "  </thead>\n",
       "  <tbody>\n",
       "    <tr>\n",
       "      <td>Action</td>\n",
       "      <td>230.92</td>\n",
       "    </tr>\n",
       "    <tr>\n",
       "      <td>Shooter</td>\n",
       "      <td>194.43</td>\n",
       "    </tr>\n",
       "    <tr>\n",
       "      <td>Sports</td>\n",
       "      <td>108.70</td>\n",
       "    </tr>\n",
       "    <tr>\n",
       "      <td>Role-Playing</td>\n",
       "      <td>83.78</td>\n",
       "    </tr>\n",
       "    <tr>\n",
       "      <td>Misc</td>\n",
       "      <td>69.69</td>\n",
       "    </tr>\n",
       "  </tbody>\n",
       "</table>\n",
       "</div>"
      ],
      "text/plain": [
       "              na_sales\n",
       "genre                 \n",
       "Action          230.92\n",
       "Shooter         194.43\n",
       "Sports          108.70\n",
       "Role-Playing     83.78\n",
       "Misc             69.69"
      ]
     },
     "execution_count": 50,
     "metadata": {},
     "output_type": "execute_result"
    }
   ],
   "source": [
    "#просмотр жанров с наибольшими продажами в Северной Америке\n",
    "(\n",
    "    data_actual\n",
    "    .pivot_table(index='genre', values='na_sales', aggfunc='sum')\n",
    "    .sort_values(by='na_sales', ascending=False)\n",
    "    .head()\n",
    ")"
   ]
  },
  {
   "cell_type": "code",
   "execution_count": 51,
   "metadata": {
    "ExecuteTime": {
     "end_time": "2020-11-26T09:58:49.760381Z",
     "start_time": "2020-11-26T09:58:49.715244Z"
    }
   },
   "outputs": [
    {
     "data": {
      "text/html": [
       "<div>\n",
       "<style scoped>\n",
       "    .dataframe tbody tr th:only-of-type {\n",
       "        vertical-align: middle;\n",
       "    }\n",
       "\n",
       "    .dataframe tbody tr th {\n",
       "        vertical-align: top;\n",
       "    }\n",
       "\n",
       "    .dataframe thead th {\n",
       "        text-align: right;\n",
       "    }\n",
       "</style>\n",
       "<table border=\"1\" class=\"dataframe\">\n",
       "  <thead>\n",
       "    <tr style=\"text-align: right;\">\n",
       "      <th></th>\n",
       "      <th>eu_sales</th>\n",
       "    </tr>\n",
       "    <tr>\n",
       "      <th>genre</th>\n",
       "      <th></th>\n",
       "    </tr>\n",
       "  </thead>\n",
       "  <tbody>\n",
       "    <tr>\n",
       "      <td>Action</td>\n",
       "      <td>199.12</td>\n",
       "    </tr>\n",
       "    <tr>\n",
       "      <td>Shooter</td>\n",
       "      <td>148.02</td>\n",
       "    </tr>\n",
       "    <tr>\n",
       "      <td>Sports</td>\n",
       "      <td>88.48</td>\n",
       "    </tr>\n",
       "    <tr>\n",
       "      <td>Role-Playing</td>\n",
       "      <td>62.30</td>\n",
       "    </tr>\n",
       "    <tr>\n",
       "      <td>Racing</td>\n",
       "      <td>40.58</td>\n",
       "    </tr>\n",
       "  </tbody>\n",
       "</table>\n",
       "</div>"
      ],
      "text/plain": [
       "              eu_sales\n",
       "genre                 \n",
       "Action          199.12\n",
       "Shooter         148.02\n",
       "Sports           88.48\n",
       "Role-Playing     62.30\n",
       "Racing           40.58"
      ]
     },
     "execution_count": 51,
     "metadata": {},
     "output_type": "execute_result"
    }
   ],
   "source": [
    "#просмотр жанров с наибольшими продажами в Европе\n",
    "(\n",
    "    data_actual\n",
    "    .pivot_table(index='genre', values='eu_sales', aggfunc='sum')\n",
    "    .sort_values(by='eu_sales', ascending=False)\n",
    "    .head()\n",
    ")"
   ]
  },
  {
   "cell_type": "code",
   "execution_count": 52,
   "metadata": {
    "ExecuteTime": {
     "end_time": "2020-11-26T09:58:49.813705Z",
     "start_time": "2020-11-26T09:58:49.764892Z"
    }
   },
   "outputs": [
    {
     "data": {
      "text/html": [
       "<div>\n",
       "<style scoped>\n",
       "    .dataframe tbody tr th:only-of-type {\n",
       "        vertical-align: middle;\n",
       "    }\n",
       "\n",
       "    .dataframe tbody tr th {\n",
       "        vertical-align: top;\n",
       "    }\n",
       "\n",
       "    .dataframe thead th {\n",
       "        text-align: right;\n",
       "    }\n",
       "</style>\n",
       "<table border=\"1\" class=\"dataframe\">\n",
       "  <thead>\n",
       "    <tr style=\"text-align: right;\">\n",
       "      <th></th>\n",
       "      <th>jp_sales</th>\n",
       "    </tr>\n",
       "    <tr>\n",
       "      <th>genre</th>\n",
       "      <th></th>\n",
       "    </tr>\n",
       "  </thead>\n",
       "  <tbody>\n",
       "    <tr>\n",
       "      <td>Role-Playing</td>\n",
       "      <td>79.87</td>\n",
       "    </tr>\n",
       "    <tr>\n",
       "      <td>Action</td>\n",
       "      <td>63.62</td>\n",
       "    </tr>\n",
       "    <tr>\n",
       "      <td>Misc</td>\n",
       "      <td>17.60</td>\n",
       "    </tr>\n",
       "    <tr>\n",
       "      <td>Fighting</td>\n",
       "      <td>12.38</td>\n",
       "    </tr>\n",
       "    <tr>\n",
       "      <td>Platform</td>\n",
       "      <td>12.13</td>\n",
       "    </tr>\n",
       "  </tbody>\n",
       "</table>\n",
       "</div>"
      ],
      "text/plain": [
       "              jp_sales\n",
       "genre                 \n",
       "Role-Playing     79.87\n",
       "Action           63.62\n",
       "Misc             17.60\n",
       "Fighting         12.38\n",
       "Platform         12.13"
      ]
     },
     "execution_count": 52,
     "metadata": {},
     "output_type": "execute_result"
    }
   ],
   "source": [
    "#просмотр жанров с наибольшими продажами в Японии\n",
    "(\n",
    "    data_actual\n",
    "    .pivot_table(index='genre', values='jp_sales', aggfunc='sum')\n",
    "    .sort_values(by='jp_sales', ascending=False)\n",
    "    .head()\n",
    ")"
   ]
  },
  {
   "cell_type": "markdown",
   "metadata": {},
   "source": [
    "\n",
    "А вот ситуация по жанрам в целом схожая. Экшен популярен везде. В Северной Америке и Европе, как и в целом мире, наиболее популярны жанры \"экшен\", \"шутер\" и \"спорт\". В Японии же на первом месте игры RPG - ролевые компьютерные игры, а также \"приключения\" входят в топ-5. В какой-то степени, можно сказать, что японцы предпочитают более творческие игры, заставляющие глубже погрузиться в созданный мир и отыгрывать какую-то определенную роль, чтобы отвлечься от реальности.\n"
   ]
  },
  {
   "cell_type": "code",
   "execution_count": 53,
   "metadata": {
    "ExecuteTime": {
     "end_time": "2020-11-26T09:58:50.240035Z",
     "start_time": "2020-11-26T09:58:49.817039Z"
    }
   },
   "outputs": [
    {
     "data": {
      "image/png": "[encoded data removed]",
      "text/plain": [
       "<Figure size 432x288 with 1 Axes>"
      ]
     },
     "metadata": {},
     "output_type": "display_data"
    }
   ],
   "source": [
    "#построение графика с продажами по рейтингу в Северной Америке\n",
    "data_actual.pivot_table(index='rating', values='na_sales', aggfunc='sum').plot(kind='bar', legend=None)\n",
    "plt.xlabel('Рейтинг')\n",
    "plt.ylabel('Сумма продаж')\n",
    "plt.title('Продажи в Америке')\n",
    "plt.show()"
   ]
  },
  {
   "cell_type": "code",
   "execution_count": 54,
   "metadata": {
    "ExecuteTime": {
     "end_time": "2020-11-26T09:58:50.669295Z",
     "start_time": "2020-11-26T09:58:50.245015Z"
    }
   },
   "outputs": [
    {
     "data": {
      "image/png": "[encoded data removed]",
      "text/plain": [
       "<Figure size 432x288 with 1 Axes>"
      ]
     },
     "metadata": {},
     "output_type": "display_data"
    }
   ],
   "source": [
    "#построение графика с продажами по рейтингу в Европе\n",
    "data_actual.pivot_table(index='rating', values='eu_sales', aggfunc='sum').plot(kind='bar', legend=None)\n",
    "plt.xlabel('Рейтинг')\n",
    "plt.ylabel('Сумма продаж')\n",
    "plt.title('Продажи в Европе')\n",
    "plt.show()"
   ]
  },
  {
   "cell_type": "code",
   "execution_count": 55,
   "metadata": {
    "ExecuteTime": {
     "end_time": "2020-11-26T09:58:50.952283Z",
     "start_time": "2020-11-26T09:58:50.672642Z"
    },
    "scrolled": true
   },
   "outputs": [
    {
     "data": {
      "image/png": "[encoded data removed]",
      "text/plain": [
       "<Figure size 432x288 with 1 Axes>"
      ]
     },
     "metadata": {},
     "output_type": "display_data"
    }
   ],
   "source": [
    "#построение графика с продажами по рейтингу в Японии\n",
    "data_actual.pivot_table(index='rating', values='jp_sales', aggfunc='sum').plot(kind='bar', legend=None)\n",
    "plt.xlabel('Рейтинг')\n",
    "plt.ylabel('Сумма продаж')\n",
    "plt.title('Продажи в Японии')\n",
    "plt.show()"
   ]
  },
  {
   "cell_type": "markdown",
   "metadata": {},
   "source": [
    "\n",
    "Самые популярные игры с рейтингом \"для всех\". Они отлично продаются во всех регионах, но в Японии наиболее популярные все же игры немного \"пожестче\" - подростковые.\n"
   ]
  },
  {
   "cell_type": "markdown",
   "metadata": {},
   "source": [
    "\n",
    "### Вывод\n"
   ]
  },
  {
   "cell_type": "markdown",
   "metadata": {},
   "source": [
    "\n",
    "В целом, мы видим отличия в продажах по разным регионам:\n",
    "\n",
    "* Северная Америка: предпочитаемые жанры - \"экшен\", \"шутер\", \"спорт\"; популярные платформы - X360, PS3, PS4.\n",
    "\n",
    "* Европа: предпочитаемые жанры - \"экшен\", \"шутер\", \"спорт\"; популярные платформы - PS3, PS4, X360.\n",
    "\n",
    "* Япония: предпочитаемые жанры - \"ролевые\", \"экшен\", \"аркада\"; популярные платформы - 3DS, PS3, PSP.\n"
   ]
  },
  {
   "cell_type": "markdown",
   "metadata": {},
   "source": [
    "<a id='chapter6'></a>\n",
    "## Проверка гипотез"
   ]
  },
  {
   "cell_type": "markdown",
   "metadata": {},
   "source": [
    "\n",
    "Сейчас сформулируем и проверим несколько гипотез.\n"
   ]
  },
  {
   "cell_type": "markdown",
   "metadata": {},
   "source": [
    "\n",
    "Во-первых, сравним средние пользовательские рейтинги для платформ XOne и PC.\n"
   ]
  },
  {
   "cell_type": "markdown",
   "metadata": {},
   "source": [
    "\n",
    "Нулевая гипотеза: их средние равны.\n",
    "\n",
    "Альтернативная гипотеза: средние отличаются.\n",
    "\n",
    "Пороговое значение примем равным 5%.\n"
   ]
  },
  {
   "cell_type": "code",
   "execution_count": 56,
   "metadata": {
    "ExecuteTime": {
     "end_time": "2020-11-26T09:58:50.982740Z",
     "start_time": "2020-11-26T09:58:50.955471Z"
    }
   },
   "outputs": [
    {
     "data": {
      "text/plain": [
       "min       1.600000\n",
       "mean      6.688520\n",
       "median    7.048388\n",
       "max       9.200000\n",
       "var       1.505903\n",
       "Name: user_score, dtype: float64"
      ]
     },
     "execution_count": 56,
     "metadata": {},
     "output_type": "execute_result"
    }
   ],
   "source": [
    "#просмотр параметров по платформе XOne\n",
    "data_xbox = data_actual.query('platform == \"XOne\"')['user_score']\n",
    "data_xbox.agg(['min', 'mean', 'median', 'max', 'var'])"
   ]
  },
  {
   "cell_type": "code",
   "execution_count": 57,
   "metadata": {
    "ExecuteTime": {
     "end_time": "2020-11-26T09:58:51.014223Z",
     "start_time": "2020-11-26T09:58:50.985978Z"
    }
   },
   "outputs": [
    {
     "data": {
      "text/plain": [
       "min       1.400000\n",
       "mean      6.608005\n",
       "median    7.048388\n",
       "max       9.300000\n",
       "var       2.150235\n",
       "Name: user_score, dtype: float64"
      ]
     },
     "execution_count": 57,
     "metadata": {},
     "output_type": "execute_result"
    }
   ],
   "source": [
    "#просмотр параметров по платформе PC\n",
    "data_pc = data_actual.query('platform == \"PC\"')['user_score']\n",
    "data_pc.agg(['min', 'mean', 'median', 'max', 'var'])"
   ]
  },
  {
   "cell_type": "markdown",
   "metadata": {},
   "source": [
    "\n",
    "Мы просмотрели основные параметры для сравниваемых совокупностей. Видим, что их дисперсии отличаются. Поэтому при проверке гипотез используем параметр <i>equal_var=False</i>.\n"
   ]
  },
  {
   "cell_type": "code",
   "execution_count": 58,
   "metadata": {
    "ExecuteTime": {
     "end_time": "2020-11-26T09:58:51.036177Z",
     "start_time": "2020-11-26T09:58:51.019116Z"
    }
   },
   "outputs": [
    {
     "name": "stdout",
     "output_type": "stream",
     "text": [
      "p-значение: 0.45549316540865936\n",
      "Нет оснований отвергать гипотезу\n"
     ]
    }
   ],
   "source": [
    "#сопоставление средних для двух совокупностей\n",
    "result = st.ttest_ind(data_xbox, data_pc, equal_var=False)\n",
    "print('p-значение:', result.pvalue)\n",
    "#уровень значимости\n",
    "alpha = .05\n",
    "if (result.pvalue < alpha):\n",
    "    print('Отвергаем гипотезу')\n",
    "else:\n",
    "    print('Нет оснований отвергать гипотезу')"
   ]
  },
  {
   "cell_type": "markdown",
   "metadata": {},
   "source": [
    "\n",
    "Нет оснований отвергать гипотезу о равенстве средних пользовательских рейтингов для этих двух платформ.\n"
   ]
  },
  {
   "cell_type": "markdown",
   "metadata": {},
   "source": [
    "\n",
    "Во-вторых, проверим различаются ли средние пользовательские рейтинги жанров Action и Sports.\n"
   ]
  },
  {
   "cell_type": "markdown",
   "metadata": {},
   "source": [
    "\n",
    "Нулевая гипотеза: их средние равны.\n",
    "\n",
    "Альтернативная гипотеза: средние отличаются.\n",
    "\n",
    "Пороговое значение примем равным 5%.\n"
   ]
  },
  {
   "cell_type": "code",
   "execution_count": 59,
   "metadata": {
    "ExecuteTime": {
     "end_time": "2020-11-26T09:58:51.075319Z",
     "start_time": "2020-11-26T09:58:51.041050Z"
    }
   },
   "outputs": [
    {
     "data": {
      "text/plain": [
       "min       1.600000\n",
       "mean      6.896939\n",
       "median    7.048388\n",
       "max       9.100000\n",
       "var       0.973359\n",
       "Name: user_score, dtype: float64"
      ]
     },
     "execution_count": 59,
     "metadata": {},
     "output_type": "execute_result"
    }
   ],
   "source": [
    "#просмотр параметров по жанру Action\n",
    "data_action = data_actual.query('genre == \"Action\"')['user_score']\n",
    "data_action.agg(['min', 'mean', 'median', 'max', 'var'])"
   ]
  },
  {
   "cell_type": "code",
   "execution_count": 60,
   "metadata": {
    "ExecuteTime": {
     "end_time": "2020-11-26T09:58:51.110929Z",
     "start_time": "2020-11-26T09:58:51.078697Z"
    }
   },
   "outputs": [
    {
     "data": {
      "text/plain": [
       "min       0.200000\n",
       "mean      6.293513\n",
       "median    7.000000\n",
       "max       8.800000\n",
       "var       2.571230\n",
       "Name: user_score, dtype: float64"
      ]
     },
     "execution_count": 60,
     "metadata": {},
     "output_type": "execute_result"
    }
   ],
   "source": [
    "#просмотр параметров по жанру Sports\n",
    "data_sports = data_actual.query('genre == \"Sports\"')['user_score']\n",
    "data_sports.agg(['min', 'mean', 'median', 'max', 'var'])"
   ]
  },
  {
   "cell_type": "code",
   "execution_count": 61,
   "metadata": {
    "ExecuteTime": {
     "end_time": "2020-11-26T09:58:51.138001Z",
     "start_time": "2020-11-26T09:58:51.120301Z"
    },
    "scrolled": true
   },
   "outputs": [
    {
     "name": "stdout",
     "output_type": "stream",
     "text": [
      "p-значение: 7.314932383662006e-12\n",
      "Отвергаем гипотезу\n"
     ]
    }
   ],
   "source": [
    "#сопоставление средних для двух совокупностей\n",
    "result = st.ttest_ind(data_action, data_sports, equal_var=False)\n",
    "print('p-значение:', result.pvalue)\n",
    "#уровень значимости\n",
    "alpha = .05\n",
    "if (result.pvalue < alpha):\n",
    "    print('Отвергаем гипотезу')\n",
    "else:\n",
    "    print('Нет оснований отвергать гипотезу')"
   ]
  },
  {
   "cell_type": "markdown",
   "metadata": {},
   "source": [
    "\n",
    "Нулевая гипотеза неверна - средние пользовательские рейтинги данных жанров разные.\n"
   ]
  },
  {
   "cell_type": "markdown",
   "metadata": {},
   "source": [
    "\n",
    "### Вывод\n"
   ]
  },
  {
   "cell_type": "markdown",
   "metadata": {},
   "source": [
    "\n",
    "В заключительной части работы мы проверили две гипотезы о равенстве средних двух совокупностей:\n",
    "\n",
    "* пользовательские рейтинги для платформ XOne и PC одинаковые;\n",
    "\n",
    "* пользовательские рейтинги для жанров Action и Sports разные.\n",
    "\n",
    "Обе эти гипотезы подтвердились.\n"
   ]
  },
  {
   "cell_type": "markdown",
   "metadata": {},
   "source": [
    "<a id='chapter7'></a>\n",
    "## Общий вывод"
   ]
  },
  {
   "cell_type": "markdown",
   "metadata": {},
   "source": [
    "\n",
    "В процессе данной работы мы проанализировали продажи компьютерных игр по данным со всего мира.\n",
    "\n",
    "Мы выяснили, что не обязательно использовать для анализа весь временной интервал: данные 1980-го года вряд ли нам помогут. Актуальный период для анализа составляет примерно 10 лет - за это время появляются новые и исчезают старые платформы.\n",
    "\n",
    "Наиболее продаваемые игры в последнее время для платформ PS4 и XOne, хотя данные для различных регионов отличаются.\n",
    "\n",
    "Однако наиболее популярные продукты одни и те же для всех регионов: это игры жанра \"экшен\". Также по всему миру пользуются большой популярностью \"шутеры\" и \"спорт\". Именно на них следует делать ставку для планирования рокламных компаний. Желательно при этом учитывать оценку критиков для данной игры, так как доверие пользователей к ней выше, чем к пользовательским оценкам.\n",
    "\n",
    "В работе мы проверили две гипотезы о равенстве средних двух совокупностей:\n",
    "\n",
    "* пользовательские рейтинги для платформ XOne и PC одинаковые;\n",
    "\n",
    "* пользовательские рейтинги для жанров Action и Sports разные.\n",
    "\n",
    "Обе эти гипотезы подтвердились.\n"
   ]
  },
  {
   "cell_type": "markdown",
   "metadata": {},
   "source": [
    "\n"
   ]
  }
 ],
 "metadata": {
  "kernelspec": {
   "display_name": "Python 3",
   "language": "python",
   "name": "python3"
  },
  "language_info": {
   "codemirror_mode": {
    "name": "ipython",
    "version": 3
   },
   "file_extension": ".py",
   "mimetype": "text/x-python",
   "name": "python",
   "nbconvert_exporter": "python",
   "pygments_lexer": "ipython3",
   "version": "3.7.8"
  },
  "toc": {
   "base_numbering": 1,
   "nav_menu": {},
   "number_sections": true,
   "sideBar": true,
   "skip_h1_title": true,
   "title_cell": "Table of Contents",
   "title_sidebar": "Contents",
   "toc_cell": false,
   "toc_position": {},
   "toc_section_display": true,
   "toc_window_display": false
  }
 },
 "nbformat": 4,
 "nbformat_minor": 2
}
