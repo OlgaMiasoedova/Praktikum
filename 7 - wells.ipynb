{
 "cells": [
  {
   "cell_type": "markdown",
   "metadata": {},
   "source": [
    "# Описание проекта"
   ]
  },
  {
   "cell_type": "markdown",
   "metadata": {},
   "source": [
    "Допустим, вы работаете в добывающей компании «ГлавРосГосНефть». Нужно решить, где бурить новую скважину.\n",
    "\n",
    "Вам предоставлены пробы нефти в трёх регионах: в каждом 10 000 месторождений, где измерили качество нефти и объём её запасов. Постройте модель машинного обучения, которая поможет определить регион, где добыча принесёт наибольшую прибыль. Проанализируйте возможную прибыль и риски техникой *Bootstrap.*\n",
    "\n",
    "Шаги для выбора локации:\n",
    "\n",
    "- В избранном регионе ищут месторождения, для каждого определяют значения признаков;\n",
    "- Строят модель и оценивают объём запасов;\n",
    "- Выбирают месторождения с самым высокими оценками значений. Количество месторождений зависит от бюджета компании и стоимости разработки одной скважины;\n",
    "- Прибыль равна суммарной прибыли отобранных месторождений."
   ]
  },
  {
   "cell_type": "markdown",
   "metadata": {},
   "source": [
    "<a id='intro'></a>\n",
    "\n",
    "## Оглавление"
   ]
  },
  {
   "cell_type": "markdown",
   "metadata": {},
   "source": [
    "[Введение](#chapter0)\n",
    "\n",
    "[Загрузка и подготовка данных](#chapter1)\n",
    "\n",
    "[Обучение и проверка модели](#chapter2)\n",
    "\n",
    "[Подготовка к расчету прибыли](#chapter3)\n",
    "\n",
    "[Расчет прибыли и рисков](#chapter4)\n",
    "\n",
    "[Общий вывод](#chapter5)\n"
   ]
  },
  {
   "cell_type": "markdown",
   "metadata": {},
   "source": [
    "<a id='chapter0'></a>\n",
    "\n",
    "# Введение"
   ]
  },
  {
   "cell_type": "markdown",
   "metadata": {},
   "source": [
    "\n",
    "Цель данной работы - спрогнозировать добычу в новых скважинах и выбрать регион, предпочтительный для разработки. Для решения этой задачи мы должны построить модель, которая сможет определить объем запасов в новых скважинах.\n",
    "\n",
    "В качестве исходной информации нам передали данные геологоразведки - пробы нефти трех регионов.\n"
   ]
  },
  {
   "cell_type": "markdown",
   "metadata": {},
   "source": [
    "[К оглавлению](#intro)"
   ]
  },
  {
   "cell_type": "markdown",
   "metadata": {},
   "source": [
    "<a id='chapter1'></a>\n",
    "\n",
    "# 1. Загрузка и подготовка данных"
   ]
  },
  {
   "cell_type": "code",
   "execution_count": 1,
   "metadata": {},
   "outputs": [],
   "source": [
    "#загрузим необходимые библиотеки\n",
    "import pandas as pd\n",
    "import numpy as np\n",
    "from scipy import stats as st\n",
    "from sklearn.model_selection import train_test_split\n",
    "from sklearn.linear_model import LinearRegression\n",
    "from sklearn.metrics import mean_squared_error\n",
    "from sklearn.preprocessing import StandardScaler\n",
    "import warnings\n",
    "warnings.filterwarnings('ignore')"
   ]
  },
  {
   "cell_type": "code",
   "execution_count": 2,
   "metadata": {},
   "outputs": [
    {
     "data": {
      "text/html": [
       "<div>\n",
       "<style scoped>\n",
       "    .dataframe tbody tr th:only-of-type {\n",
       "        vertical-align: middle;\n",
       "    }\n",
       "\n",
       "    .dataframe tbody tr th {\n",
       "        vertical-align: top;\n",
       "    }\n",
       "\n",
       "    .dataframe thead th {\n",
       "        text-align: right;\n",
       "    }\n",
       "</style>\n",
       "<table border=\"1\" class=\"dataframe\">\n",
       "  <thead>\n",
       "    <tr style=\"text-align: right;\">\n",
       "      <th></th>\n",
       "      <th>id</th>\n",
       "      <th>f0</th>\n",
       "      <th>f1</th>\n",
       "      <th>f2</th>\n",
       "      <th>product</th>\n",
       "    </tr>\n",
       "  </thead>\n",
       "  <tbody>\n",
       "    <tr>\n",
       "      <td>0</td>\n",
       "      <td>txEyH</td>\n",
       "      <td>0.705745</td>\n",
       "      <td>-0.497823</td>\n",
       "      <td>1.221170</td>\n",
       "      <td>105.280062</td>\n",
       "    </tr>\n",
       "    <tr>\n",
       "      <td>1</td>\n",
       "      <td>2acmU</td>\n",
       "      <td>1.334711</td>\n",
       "      <td>-0.340164</td>\n",
       "      <td>4.365080</td>\n",
       "      <td>73.037750</td>\n",
       "    </tr>\n",
       "    <tr>\n",
       "      <td>2</td>\n",
       "      <td>409Wp</td>\n",
       "      <td>1.022732</td>\n",
       "      <td>0.151990</td>\n",
       "      <td>1.419926</td>\n",
       "      <td>85.265647</td>\n",
       "    </tr>\n",
       "    <tr>\n",
       "      <td>3</td>\n",
       "      <td>iJLyR</td>\n",
       "      <td>-0.032172</td>\n",
       "      <td>0.139033</td>\n",
       "      <td>2.978566</td>\n",
       "      <td>168.620776</td>\n",
       "    </tr>\n",
       "    <tr>\n",
       "      <td>4</td>\n",
       "      <td>Xdl7t</td>\n",
       "      <td>1.988431</td>\n",
       "      <td>0.155413</td>\n",
       "      <td>4.751769</td>\n",
       "      <td>154.036647</td>\n",
       "    </tr>\n",
       "  </tbody>\n",
       "</table>\n",
       "</div>"
      ],
      "text/plain": [
       "      id        f0        f1        f2     product\n",
       "0  txEyH  0.705745 -0.497823  1.221170  105.280062\n",
       "1  2acmU  1.334711 -0.340164  4.365080   73.037750\n",
       "2  409Wp  1.022732  0.151990  1.419926   85.265647\n",
       "3  iJLyR -0.032172  0.139033  2.978566  168.620776\n",
       "4  Xdl7t  1.988431  0.155413  4.751769  154.036647"
      ]
     },
     "execution_count": 2,
     "metadata": {},
     "output_type": "execute_result"
    }
   ],
   "source": [
    "#загрузим данные геологоразведки\n",
    "geo_data_0 = pd.read_csv('/datasets/geo_data_0.csv')\n",
    "geo_data_1 = pd.read_csv('/datasets/geo_data_1.csv')\n",
    "geo_data_2 = pd.read_csv('/datasets/geo_data_2.csv')\n",
    "#посмотрим первые пять строк данных\n",
    "geo_data_0.head()"
   ]
  },
  {
   "cell_type": "code",
   "execution_count": 3,
   "metadata": {},
   "outputs": [
    {
     "name": "stdout",
     "output_type": "stream",
     "text": [
      "<class 'pandas.core.frame.DataFrame'>\n",
      "RangeIndex: 100000 entries, 0 to 99999\n",
      "Data columns (total 5 columns):\n",
      "id         100000 non-null object\n",
      "f0         100000 non-null float64\n",
      "f1         100000 non-null float64\n",
      "f2         100000 non-null float64\n",
      "product    100000 non-null float64\n",
      "dtypes: float64(4), object(1)\n",
      "memory usage: 3.8+ MB\n"
     ]
    }
   ],
   "source": [
    "#информация по датасету\n",
    "geo_data_0.info()"
   ]
  },
  {
   "cell_type": "code",
   "execution_count": 4,
   "metadata": {},
   "outputs": [
    {
     "name": "stdout",
     "output_type": "stream",
     "text": [
      "<class 'pandas.core.frame.DataFrame'>\n",
      "RangeIndex: 100000 entries, 0 to 99999\n",
      "Data columns (total 5 columns):\n",
      "id         100000 non-null object\n",
      "f0         100000 non-null float64\n",
      "f1         100000 non-null float64\n",
      "f2         100000 non-null float64\n",
      "product    100000 non-null float64\n",
      "dtypes: float64(4), object(1)\n",
      "memory usage: 3.8+ MB\n"
     ]
    }
   ],
   "source": [
    "#информация по датасету\n",
    "geo_data_1.info()"
   ]
  },
  {
   "cell_type": "code",
   "execution_count": 5,
   "metadata": {},
   "outputs": [
    {
     "name": "stdout",
     "output_type": "stream",
     "text": [
      "<class 'pandas.core.frame.DataFrame'>\n",
      "RangeIndex: 100000 entries, 0 to 99999\n",
      "Data columns (total 5 columns):\n",
      "id         100000 non-null object\n",
      "f0         100000 non-null float64\n",
      "f1         100000 non-null float64\n",
      "f2         100000 non-null float64\n",
      "product    100000 non-null float64\n",
      "dtypes: float64(4), object(1)\n",
      "memory usage: 3.8+ MB\n"
     ]
    }
   ],
   "source": [
    "#информация по датасету\n",
    "geo_data_2.info()"
   ]
  },
  {
   "cell_type": "markdown",
   "metadata": {},
   "source": [
    "\n",
    "Перед нами три датасета, в каждом из которых 100000 строк. Здесь содержится информация по данным геологоразведки трех регионов.\n",
    "\n",
    "В таблицах с данными пять столбцов:\n",
    "\n",
    "* <i> id </i> - уникальный идентификатор скважины;\n",
    "\n",
    "* <i> f0, f1, f2 </i> - три признака точек;\n",
    "\n",
    "* <i> product </i> - объем запасов в скважине.\n"
   ]
  },
  {
   "cell_type": "markdown",
   "metadata": {},
   "source": [
    "\n",
    "Теперь проверим данные на наличие пропущенных значений и дубликатов.\n"
   ]
  },
  {
   "cell_type": "code",
   "execution_count": 6,
   "metadata": {},
   "outputs": [
    {
     "data": {
      "text/plain": [
       "id         0\n",
       "f0         0\n",
       "f1         0\n",
       "f2         0\n",
       "product    0\n",
       "dtype: int64"
      ]
     },
     "execution_count": 6,
     "metadata": {},
     "output_type": "execute_result"
    }
   ],
   "source": [
    "geo_data_0.isna().sum()"
   ]
  },
  {
   "cell_type": "code",
   "execution_count": 7,
   "metadata": {},
   "outputs": [
    {
     "data": {
      "text/plain": [
       "id         0\n",
       "f0         0\n",
       "f1         0\n",
       "f2         0\n",
       "product    0\n",
       "dtype: int64"
      ]
     },
     "execution_count": 7,
     "metadata": {},
     "output_type": "execute_result"
    }
   ],
   "source": [
    "geo_data_1.isna().sum()"
   ]
  },
  {
   "cell_type": "code",
   "execution_count": 8,
   "metadata": {},
   "outputs": [
    {
     "data": {
      "text/plain": [
       "id         0\n",
       "f0         0\n",
       "f1         0\n",
       "f2         0\n",
       "product    0\n",
       "dtype: int64"
      ]
     },
     "execution_count": 8,
     "metadata": {},
     "output_type": "execute_result"
    }
   ],
   "source": [
    "geo_data_2.isna().sum()"
   ]
  },
  {
   "cell_type": "code",
   "execution_count": 9,
   "metadata": {},
   "outputs": [
    {
     "data": {
      "text/plain": [
       "0"
      ]
     },
     "execution_count": 9,
     "metadata": {},
     "output_type": "execute_result"
    }
   ],
   "source": [
    "geo_data_0.duplicated().sum()"
   ]
  },
  {
   "cell_type": "code",
   "execution_count": 10,
   "metadata": {},
   "outputs": [
    {
     "data": {
      "text/plain": [
       "0"
      ]
     },
     "execution_count": 10,
     "metadata": {},
     "output_type": "execute_result"
    }
   ],
   "source": [
    "geo_data_1.duplicated().sum()"
   ]
  },
  {
   "cell_type": "code",
   "execution_count": 11,
   "metadata": {},
   "outputs": [
    {
     "data": {
      "text/plain": [
       "0"
      ]
     },
     "execution_count": 11,
     "metadata": {},
     "output_type": "execute_result"
    }
   ],
   "source": [
    "geo_data_2.duplicated().sum()"
   ]
  },
  {
   "cell_type": "markdown",
   "metadata": {},
   "source": [
    "\n",
    "Полностью совпадающих строк нет, но надо также проверить, чтобы нет дублирующихся имен скважин, т.к. эти названия должны быть уникальны.\n"
   ]
  },
  {
   "cell_type": "code",
   "execution_count": 12,
   "metadata": {},
   "outputs": [
    {
     "data": {
      "text/plain": [
       "10"
      ]
     },
     "execution_count": 12,
     "metadata": {},
     "output_type": "execute_result"
    }
   ],
   "source": [
    "geo_data_0['id'].duplicated().sum()"
   ]
  },
  {
   "cell_type": "code",
   "execution_count": 13,
   "metadata": {},
   "outputs": [
    {
     "data": {
      "text/plain": [
       "4"
      ]
     },
     "execution_count": 13,
     "metadata": {},
     "output_type": "execute_result"
    }
   ],
   "source": [
    "geo_data_1['id'].duplicated().sum()"
   ]
  },
  {
   "cell_type": "code",
   "execution_count": 14,
   "metadata": {},
   "outputs": [
    {
     "data": {
      "text/plain": [
       "4"
      ]
     },
     "execution_count": 14,
     "metadata": {},
     "output_type": "execute_result"
    }
   ],
   "source": [
    "geo_data_2['id'].duplicated().sum()"
   ]
  },
  {
   "cell_type": "markdown",
   "metadata": {},
   "source": [
    "\n",
    "Строки с дублирующимися идентификаторами скважин присутствуют, но их не так много, можем удалить их из общего набора данных.\n"
   ]
  },
  {
   "cell_type": "code",
   "execution_count": 15,
   "metadata": {},
   "outputs": [],
   "source": [
    "#удаляем скважины-дубликаты и обновляем индексы\n",
    "geo_data_0['id'] = geo_data_0['id'].drop_duplicates()\n",
    "geo_data_0 = geo_data_0.dropna().reset_index(drop=True)\n",
    "geo_data_1['id'] = geo_data_1['id'].drop_duplicates()\n",
    "geo_data_1 = geo_data_1.dropna().reset_index(drop=True)\n",
    "geo_data_2['id'] = geo_data_2['id'].drop_duplicates()\n",
    "geo_data_2 = geo_data_2.dropna().reset_index(drop=True)"
   ]
  },
  {
   "cell_type": "markdown",
   "metadata": {},
   "source": [
    "### Вывод"
   ]
  },
  {
   "cell_type": "markdown",
   "metadata": {},
   "source": [
    "\n",
    "Итак, на данном шаге мы загрузили исходные данные и проели их предобработку. В данных нет дублирующихся строк и нет пропущенных значений, значит можем работать с ними дальше. Перед нами стоит задача регрессии, т.е. тип целевого признака количественный - надо определить объем сырья, полученный при работе скважин. Обучающий набор данных состоит из трех числовых признаков. Мы не знаем, что они означают, но по условиям известно, что сами признаки значимы.\n"
   ]
  },
  {
   "cell_type": "markdown",
   "metadata": {},
   "source": [
    "[К оглавлению](#intro)"
   ]
  },
  {
   "cell_type": "markdown",
   "metadata": {},
   "source": [
    "<a id='chapter2'></a>\n",
    "\n",
    "# 2. Обучение и проверка модели"
   ]
  },
  {
   "cell_type": "markdown",
   "metadata": {},
   "source": [
    "\n",
    "Сейчас нам нужно подготовить данные перед обучением модели.\n",
    "\n",
    "Выделим признаки в каждом из трех датасетов. Целевой признак в данном случае - столбцы <i>product</i>.\n"
   ]
  },
  {
   "cell_type": "code",
   "execution_count": 16,
   "metadata": {},
   "outputs": [],
   "source": [
    "#объявление признаков\n",
    "target_0 = geo_data_0['product']\n",
    "feature_0 = geo_data_0.drop(['id', 'product'], axis=1)\n",
    "target_1 = geo_data_1['product']\n",
    "feature_1 = geo_data_1.drop(['id', 'product'], axis=1)\n",
    "target_2 = geo_data_2['product']\n",
    "feature_2 = geo_data_2.drop(['id', 'product'], axis=1)"
   ]
  },
  {
   "cell_type": "markdown",
   "metadata": {},
   "source": [
    "\n",
    "Разобъем данные на две выборки: обучающую и валидационную.\n"
   ]
  },
  {
   "cell_type": "code",
   "execution_count": 17,
   "metadata": {},
   "outputs": [
    {
     "name": "stdout",
     "output_type": "stream",
     "text": [
      "Количество объектов в обучающей выборке: 74992\n",
      "Количество объектов в валидационной выборке: 24998\n"
     ]
    }
   ],
   "source": [
    "#выделим обучающую и валидационную выборку в первом районе\n",
    "features_train_0, features_valid_0, target_train_0, target_valid_0 = (\n",
    "train_test_split(feature_0, target_0, test_size=0.25, random_state=0)\n",
    ")\n",
    "print('Количество объектов в обучающей выборке:', len(features_train_0))\n",
    "print('Количество объектов в валидационной выборке:', len(features_valid_0))"
   ]
  },
  {
   "cell_type": "code",
   "execution_count": 18,
   "metadata": {},
   "outputs": [
    {
     "name": "stdout",
     "output_type": "stream",
     "text": [
      "Количество объектов в обучающей выборке: 74997\n",
      "Количество объектов в валидационной выборке: 24999\n"
     ]
    }
   ],
   "source": [
    "#выделим обучающую и валидационную выборку во втором районе\n",
    "features_train_1, features_valid_1, target_train_1, target_valid_1 = (\n",
    "train_test_split(feature_1, target_1, test_size=0.25, random_state=0)\n",
    ")\n",
    "print('Количество объектов в обучающей выборке:', len(features_train_1))\n",
    "print('Количество объектов в валидационной выборке:', len(features_valid_1))"
   ]
  },
  {
   "cell_type": "code",
   "execution_count": 19,
   "metadata": {},
   "outputs": [
    {
     "name": "stdout",
     "output_type": "stream",
     "text": [
      "Количество объектов в обучающей выборке: 74997\n",
      "Количество объектов в валидационной выборке: 24999\n"
     ]
    }
   ],
   "source": [
    "#выделим обучающую и валидационную выборку в третьем районе\n",
    "features_train_2, features_valid_2, target_train_2, target_valid_2 = (\n",
    "train_test_split(feature_2, target_2, test_size=0.25, random_state=0)\n",
    ")\n",
    "print('Количество объектов в обучающей выборке:', len(features_train_2))\n",
    "print('Количество объектов в валидационной выборке:', len(features_valid_2))"
   ]
  },
  {
   "cell_type": "markdown",
   "metadata": {},
   "source": [
    "\n",
    "Теперь, после разделения наборов данных на две выборки, нам необходимо масштабировать признаки. Если в одном разбросы больше, чем в другом, то алгоритм решит, что этот признак важнее, а это не так.\n"
   ]
  },
  {
   "cell_type": "code",
   "execution_count": 20,
   "metadata": {},
   "outputs": [],
   "source": [
    "#численные признаки\n",
    "numeric = ['f0', 'f1', 'f2']\n",
    "#масштабирование\n",
    "scaler = StandardScaler()\n",
    "scaler.fit(features_train_0[numeric])\n",
    "features_train_0[numeric] = scaler.transform(features_train_0[numeric])\n",
    "features_valid_0[numeric] = scaler.transform(features_valid_0[numeric])\n",
    "scaler.fit(features_train_1[numeric])\n",
    "features_train_1[numeric] = scaler.transform(features_train_1[numeric])\n",
    "features_valid_1[numeric] = scaler.transform(features_valid_1[numeric])\n",
    "scaler.fit(features_train_2[numeric])\n",
    "features_train_2[numeric] = scaler.transform(features_train_2[numeric])\n",
    "features_valid_2[numeric] = scaler.transform(features_valid_2[numeric])"
   ]
  },
  {
   "cell_type": "markdown",
   "metadata": {},
   "source": [
    "\n",
    "Обучим модели и сделаем предсказания на валидационной выборке.\n"
   ]
  },
  {
   "cell_type": "code",
   "execution_count": 21,
   "metadata": {},
   "outputs": [
    {
     "name": "stdout",
     "output_type": "stream",
     "text": [
      "Средний запас предсказанного сырья по первому региону: 92.69630160501748\n",
      "Средний запас реального сырья по первому региону: 92.7579632180877\n",
      "RMSE модели: 37.7262428254728\n"
     ]
    }
   ],
   "source": [
    "#обучим модель по первому региону\n",
    "model_0 = LinearRegression()\n",
    "model_0.fit(features_train_0, target_train_0)\n",
    "predict_0 = model_0.predict(features_valid_0)\n",
    "rmse_0 = (mean_squared_error(target_valid_0, predict_0))**(0.5)\n",
    "print('Средний запас предсказанного сырья по первому региону:', predict_0.mean())\n",
    "print('Средний запас реального сырья по первому региону:', target_valid_0.mean())\n",
    "print('RMSE модели:', rmse_0)"
   ]
  },
  {
   "cell_type": "code",
   "execution_count": 22,
   "metadata": {},
   "outputs": [
    {
     "name": "stdout",
     "output_type": "stream",
     "text": [
      "Средний запас предсказанного сырья по второму региону: 69.29357037294379\n",
      "Средний запас реального сырья по второму региону: 69.29150044273759\n",
      "RMSE модели: 0.8861463104896511\n"
     ]
    }
   ],
   "source": [
    "#обучим модель по второму региону\n",
    "model_1 = LinearRegression()\n",
    "model_1.fit(features_train_1, target_train_1)\n",
    "predict_1 = model_1.predict(features_valid_1)\n",
    "rmse_1 = (mean_squared_error(target_valid_1, predict_1))**(0.5)\n",
    "print('Средний запас предсказанного сырья по второму региону:', predict_1.mean())\n",
    "print('Средний запас реального сырья по второму региону:', target_valid_1.mean())\n",
    "print('RMSE модели:', rmse_1)"
   ]
  },
  {
   "cell_type": "code",
   "execution_count": 23,
   "metadata": {},
   "outputs": [
    {
     "name": "stdout",
     "output_type": "stream",
     "text": [
      "Средний запас предсказанного сырья по третьему региону: 95.14086176571024\n",
      "Средний запас реального сырья по третьему региону: 94.68919659712621\n",
      "RMSE модели: 40.185356062741405\n"
     ]
    }
   ],
   "source": [
    "#обучим модель по третьему региону\n",
    "model_2 = LinearRegression()\n",
    "model_2.fit(features_train_2, target_train_2)\n",
    "predict_2 = model_2.predict(features_valid_2)\n",
    "rmse_2 = (mean_squared_error(target_valid_2, predict_2))**(0.5)\n",
    "print('Средний запас предсказанного сырья по третьему региону:', predict_2.mean())\n",
    "print('Средний запас реального сырья по третьему региону:', target_valid_2.mean())\n",
    "print('RMSE модели:', rmse_2)"
   ]
  },
  {
   "cell_type": "markdown",
   "metadata": {},
   "source": [
    "### Вывод"
   ]
  },
  {
   "cell_type": "markdown",
   "metadata": {},
   "source": [
    "\n",
    "Мы обучили модели для предсказания объема сырья по каждому региону. В третьем регионе среднее количество добываемого сырья больше, однако и ошибка его предсказания выше. Во втором регионе средний объем сырья меньше, но и точность предсказания гораздо меньше. Для выбора региона разработки пока недостаточно информации, нужно определить при какой добыче разработка не будет убыточной. Приступаем к следующему шагу: расчету прибыли от разработки.\n"
   ]
  },
  {
   "cell_type": "markdown",
   "metadata": {},
   "source": [
    "[К оглавлению](#intro)"
   ]
  },
  {
   "cell_type": "markdown",
   "metadata": {},
   "source": [
    "<a id='chapter3'></a>\n",
    "\n",
    "# 3. Подготовка к расчёту прибыли"
   ]
  },
  {
   "cell_type": "markdown",
   "metadata": {},
   "source": [
    "\n",
    "На этом этапе подготовим необходимую информацию для расчета прибыли от разработки месторождений: по условиям задачи нам известен общий бюджет на разработку и доход от продажи одного барреля сырья.\n"
   ]
  },
  {
   "cell_type": "code",
   "execution_count": 24,
   "metadata": {},
   "outputs": [
    {
     "name": "stdout",
     "output_type": "stream",
     "text": [
      "Объем сырья для безубыточной разработки: 22222.222222222223\n"
     ]
    }
   ],
   "source": [
    "#объявление переменных\n",
    "BUDGET = 10000000000\n",
    "COST = 450\n",
    "#расчет необходимого объема сырья\n",
    "Voil = BUDGET/(COST*1000)\n",
    "print('Объем сырья для безубыточной разработки:', Voil)"
   ]
  },
  {
   "cell_type": "markdown",
   "metadata": {},
   "source": [
    "\n",
    "Это общий объем сырья, который мы должны получить по региону. Известно, что в регионе мы можем разработать 200 скважин, значит средний объем сырья, полученный по каждой скважине должен быть:\n"
   ]
  },
  {
   "cell_type": "code",
   "execution_count": 25,
   "metadata": {},
   "outputs": [
    {
     "name": "stdout",
     "output_type": "stream",
     "text": [
      "Средний объем сырья для каждой скважины: 111.11111111111111\n"
     ]
    }
   ],
   "source": [
    "print('Средний объем сырья для каждой скважины:', Voil/200)"
   ]
  },
  {
   "cell_type": "markdown",
   "metadata": {},
   "source": [
    "### Вывод"
   ]
  },
  {
   "cell_type": "markdown",
   "metadata": {},
   "source": [
    "\n",
    "Видим, что среднее значение объема сырья, необходимое для безубыточной разработки месторождений, гораздо выше, чем среднее по каждому району. Теперь мы должны расчитать ту прибыль, которую получим от разработки лучших скважин по прогнозу, сделанному по построенной модели, а также возможные риски.\n"
   ]
  },
  {
   "cell_type": "markdown",
   "metadata": {},
   "source": [
    "[К оглавлению](#intro)"
   ]
  },
  {
   "cell_type": "markdown",
   "metadata": {},
   "source": [
    "<a id='chapter4'></a>\n",
    "\n",
    "# 4. Расчёт прибыли и рисков "
   ]
  },
  {
   "cell_type": "markdown",
   "metadata": {},
   "source": [
    "\n",
    "Напишем функцию для расчета прибыли по выбранным скважинам.\n"
   ]
  },
  {
   "cell_type": "code",
   "execution_count": 26,
   "metadata": {},
   "outputs": [],
   "source": [
    "#функция сортирует предсказания по модели и расчитывает прибыль по указанному количеству лучших скважин\n",
    "def profit(target, prediction, prof, count, Voil):\n",
    "    predictions = pd.Series(prediction)\n",
    "    best_prediction = predictions.sort_values(ascending=False)\n",
    "    target_best = target[best_prediction.index][:count]\n",
    "    return target_best.sum()*prof-Voil*prof"
   ]
  },
  {
   "cell_type": "markdown",
   "metadata": {},
   "source": [
    "\n",
    "Теперь посчитаем прибыль по трем регионам и посчитаем риски. Для этого применим технику Bootstrap, чтобы найти распределение прибыли в регионе. Затем проверим, является ли вероятность получения убытка меньше 2.5%. Если значение в квантиле 0.025 положительное, то количество отрицательных прибылей меньше, чем 2.5%.\n"
   ]
  },
  {
   "cell_type": "code",
   "execution_count": 27,
   "metadata": {},
   "outputs": [
    {
     "name": "stdout",
     "output_type": "stream",
     "text": [
      "Среднее значение прибыли по первому региону 472575925.6898031\n",
      "Значение нижней границы доверительного интервала: -70667319.27551079\n",
      "Значение верхней границы доверительного интервала: 1018205263.5521375\n",
      "Риск получить убытки: 4.4%\n"
     ]
    }
   ],
   "source": [
    "#проведем бутстеп 1000 раз с выборкой в 500 скважин и посчитаем прибыль по 200 лучшим функцией profit\n",
    "state = np.random.RandomState(0)\n",
    "values = []\n",
    "target_valid_0_new = target_valid_0.reset_index(drop=True)\n",
    "predict_0_new = pd.Series(predict_0)\n",
    "for i in range(1000):\n",
    "    predict_subsample_0 = predict_0_new.sample(n=500, replace=True, random_state=state)\n",
    "    target_subsample_0 = target_valid_0_new[predict_subsample_0.index]\n",
    "    values.append(profit(target_subsample_0, predict_subsample_0, COST*1000, 200, Voil))\n",
    "values = pd.Series(values)\n",
    "#нижняя и верхняя граница доверительного интервала\n",
    "lower = values.quantile(0.025)\n",
    "upper = values.quantile(0.975)\n",
    "#расчет рисков получить убытки\n",
    "count = 0\n",
    "for i in range(len(values)):\n",
    "    if values[i]<0:\n",
    "        count += 1\n",
    "print('Среднее значение прибыли по первому региону', values.mean())\n",
    "print('Значение нижней границы доверительного интервала:', lower)\n",
    "print('Значение верхней границы доверительного интервала:', upper)\n",
    "print('Риск получить убытки: {:.1%}'.format(count/len(values)))"
   ]
  },
  {
   "cell_type": "code",
   "execution_count": 28,
   "metadata": {},
   "outputs": [
    {
     "name": "stdout",
     "output_type": "stream",
     "text": [
      "Среднее значение прибыли по второму региону 555701118.6606231\n",
      "Значение нижней границы доверительного интервала: 169469015.52352393\n",
      "Значение верхней границы доверительного интервала: 991458470.5468459\n",
      "Риск получить убытки: 0.3%\n"
     ]
    }
   ],
   "source": [
    "state = np.random.RandomState(0)\n",
    "values = []\n",
    "target_valid_1_new = target_valid_1.reset_index(drop=True)\n",
    "predict_1_new = pd.Series(predict_1)\n",
    "for i in range(1000):\n",
    "    predict_subsample_1 = predict_1_new.sample(n=500, replace=True, random_state=state)\n",
    "    target_subsample_1 = target_valid_1_new[predict_subsample_1.index]\n",
    "    values.append(profit(target_subsample_1, predict_subsample_1, COST*1000, 200, Voil))\n",
    "values = pd.Series(values)\n",
    "lower = values.quantile(0.025)\n",
    "upper = values.quantile(0.975)\n",
    "count = 0\n",
    "for i in range(len(values)):\n",
    "    if values[i]<0:\n",
    "        count += 1\n",
    "print('Среднее значение прибыли по второму региону', values.mean())\n",
    "print('Значение нижней границы доверительного интервала:', lower)\n",
    "print('Значение верхней границы доверительного интервала:', upper)\n",
    "print('Риск получить убытки: {:.1%}'.format(count/len(values)))"
   ]
  },
  {
   "cell_type": "code",
   "execution_count": 29,
   "metadata": {},
   "outputs": [
    {
     "name": "stdout",
     "output_type": "stream",
     "text": [
      "Среднее значение прибыли по первому региону 364725629.2418121\n",
      "Значение нижней границы доверительного интервала: -160282369.874983\n",
      "Значение верхней границы доверительного интервала: 933898025.2540721\n",
      "Риск получить убытки: 9.7%\n"
     ]
    }
   ],
   "source": [
    "state = np.random.RandomState(0)\n",
    "values = []\n",
    "target_valid_2_new = target_valid_2.reset_index(drop=True)\n",
    "predict_2_new = pd.Series(predict_2)\n",
    "for i in range(1000):\n",
    "    predict_subsample_2 = predict_2_new.sample(n=500, replace=True, random_state=state)\n",
    "    target_subsample_2 = target_valid_2_new[predict_subsample_2.index]\n",
    "    values.append(profit(target_subsample_2, predict_subsample_2, COST*1000, 200, Voil))\n",
    "values = pd.Series(values)\n",
    "lower = values.quantile(0.025)\n",
    "upper = values.quantile(0.975)\n",
    "count = 0\n",
    "for i in range(len(values)):\n",
    "    if values[i]<0:\n",
    "        count += 1\n",
    "print('Среднее значение прибыли по первому региону', values.mean())\n",
    "print('Значение нижней границы доверительного интервала:', lower)\n",
    "print('Значение верхней границы доверительного интервала:', upper)\n",
    "print('Риск получить убытки: {:.1%}'.format(count/len(values)))"
   ]
  },
  {
   "cell_type": "markdown",
   "metadata": {},
   "source": [
    "### Вывод"
   ]
  },
  {
   "cell_type": "markdown",
   "metadata": {},
   "source": [
    "\n",
    "На данном этапе мы посчитали прибыль, которую получим, разрабатов 200 скважин по каждому региону, и посчитали риски. Только в одном регионе вероятность убытков меньше 2.5%, значит можно сделать вывод о необходимости разработки именно его.\n"
   ]
  },
  {
   "cell_type": "markdown",
   "metadata": {},
   "source": [
    "[К оглавлению](#intro)"
   ]
  },
  {
   "cell_type": "markdown",
   "metadata": {},
   "source": [
    "<a id='chapter5'></a>\n",
    "\n",
    "# Общий вывод"
   ]
  },
  {
   "cell_type": "markdown",
   "metadata": {},
   "source": [
    "\n",
    "В данной работе мы изучили работу скважин в трех разных регионах.\n",
    "\n",
    "В качестве входных данных мы получили пробы нефти в скважинах региона, ее качество и объем запасов. Построив модель работы скважин, мы научились предсказывать полученный объем сырья в них. Таким образом, зная стоимость барреля нефти и бюджет на разработку месторождения, мы посчитали прибыль от каждого региона. Учитывая возможные риски при разработке, мы можем сделать вывод о предпочтительном регионе - это второй регион, где вероятность убытков меньше 2.5%.\n"
   ]
  },
  {
   "cell_type": "markdown",
   "metadata": {},
   "source": [
    "[К оглавлению](#intro)"
   ]
  },
  {
   "cell_type": "code",
   "execution_count": null,
   "metadata": {},
   "outputs": [],
   "source": []
  }
 ],
 "metadata": {
  "kernelspec": {
   "display_name": "Python 3",
   "language": "python",
   "name": "python3"
  },
  "language_info": {
   "codemirror_mode": {
    "name": "ipython",
    "version": 3
   },
   "file_extension": ".py",
   "mimetype": "text/x-python",
   "name": "python",
   "nbconvert_exporter": "python",
   "pygments_lexer": "ipython3",
   "version": "3.7.8"
  },
  "toc": {
   "base_numbering": 1,
   "nav_menu": {},
   "number_sections": true,
   "sideBar": true,
   "skip_h1_title": false,
   "title_cell": "Table of Contents",
   "title_sidebar": "Contents",
   "toc_cell": false,
   "toc_position": {},
   "toc_section_display": true,
   "toc_window_display": false
  }
 },
 "nbformat": 4,
 "nbformat_minor": 2
}
