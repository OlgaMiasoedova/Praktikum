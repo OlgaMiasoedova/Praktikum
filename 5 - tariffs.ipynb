{
 "cells": [
  {
   "cell_type": "markdown",
   "metadata": {},
   "source": [
    "# Рекомендация тарифов"
   ]
  },
  {
   "cell_type": "markdown",
   "metadata": {},
   "source": [
    "В вашем распоряжении данные о поведении клиентов, которые уже перешли на эти тарифы (из проекта курса «Статистический анализ данных»). Нужно построить модель для задачи классификации, которая выберет подходящий тариф. Предобработка данных не понадобится — вы её уже сделали.\n",
    "\n",
    "Постройте модель с максимально большим значением *accuracy*. Чтобы сдать проект успешно, нужно довести долю правильных ответов по крайней мере до 0.75. Проверьте *accuracy* на тестовой выборке самостоятельно."
   ]
  },
  {
   "cell_type": "markdown",
   "metadata": {},
   "source": [
    "<a id='intro'></a>\n",
    "\n",
    "## Оглавление"
   ]
  },
  {
   "cell_type": "markdown",
   "metadata": {},
   "source": [
    "[Введение](#chapter2)\n",
    "\n",
    "[Изучение общей информации](#chapter3)\n",
    "\n",
    "[Деление данных на выборки](#chapter4)\n",
    "\n",
    "[Исследование моделей](#chapter5)\n",
    "\n",
    "[Проверка качества модели](#chapter6)\n",
    "\n",
    "[Провека модели на вменяемость](#chapter7)\n",
    "\n",
    "[Общий вывод](#chapter8)"
   ]
  },
  {
   "cell_type": "markdown",
   "metadata": {},
   "source": [
    "<a id='chapter2'></a>\n",
    "\n",
    "## Введение"
   ]
  },
  {
   "cell_type": "markdown",
   "metadata": {},
   "source": [
    "\n",
    "Многие клиенты оператора \"Мегалайн\" пользуются архивными тарифами и не переходят на новые. Для более активного пользования новыми тарифами компания хочет построить систему, способную проанализировать поведение клиентов и предложить пользователям наиболее подходящий для них новый тариф: \"Смарт\" или \"Ультра\".\n",
    "\n",
    "Таким образом, цель данной работы: построить модель для задачи классификации, которая выберет подходящий тариф.\n",
    "\n",
    "В качестве исходной информации нам передали данные о поведении клиентов, которые уже перешли на эти тарифы.\n"
   ]
  },
  {
   "cell_type": "markdown",
   "metadata": {},
   "source": [
    "<a id='chapter3'></a>\n",
    "\n",
    "## 1. Откройте и изучите файл"
   ]
  },
  {
   "cell_type": "markdown",
   "metadata": {},
   "source": [
    "\n",
    "Для начала загрузим исходные данные.\n"
   ]
  },
  {
   "cell_type": "code",
   "execution_count": 1,
   "metadata": {},
   "outputs": [],
   "source": [
    "#импорт необходимых библиотек\n",
    "import pandas as pd\n",
    "from sklearn.model_selection import train_test_split\n",
    "from sklearn.tree import DecisionTreeClassifier\n",
    "from sklearn.ensemble import RandomForestClassifier\n",
    "from sklearn.linear_model import LogisticRegression\n",
    "from sklearn.metrics import accuracy_score\n",
    "import matplotlib.pyplot as plt"
   ]
  },
  {
   "cell_type": "code",
   "execution_count": 2,
   "metadata": {},
   "outputs": [],
   "source": [
    "#загрузка исходной информации\n",
    "data = pd.read_csv('/datasets/users_behavior.csv')"
   ]
  },
  {
   "cell_type": "code",
   "execution_count": 3,
   "metadata": {},
   "outputs": [
    {
     "data": {
      "text/html": [
       "<div>\n",
       "<style scoped>\n",
       "    .dataframe tbody tr th:only-of-type {\n",
       "        vertical-align: middle;\n",
       "    }\n",
       "\n",
       "    .dataframe tbody tr th {\n",
       "        vertical-align: top;\n",
       "    }\n",
       "\n",
       "    .dataframe thead th {\n",
       "        text-align: right;\n",
       "    }\n",
       "</style>\n",
       "<table border=\"1\" class=\"dataframe\">\n",
       "  <thead>\n",
       "    <tr style=\"text-align: right;\">\n",
       "      <th></th>\n",
       "      <th>calls</th>\n",
       "      <th>minutes</th>\n",
       "      <th>messages</th>\n",
       "      <th>mb_used</th>\n",
       "      <th>is_ultra</th>\n",
       "    </tr>\n",
       "  </thead>\n",
       "  <tbody>\n",
       "    <tr>\n",
       "      <td>0</td>\n",
       "      <td>40.0</td>\n",
       "      <td>311.90</td>\n",
       "      <td>83.0</td>\n",
       "      <td>19915.42</td>\n",
       "      <td>0</td>\n",
       "    </tr>\n",
       "    <tr>\n",
       "      <td>1</td>\n",
       "      <td>85.0</td>\n",
       "      <td>516.75</td>\n",
       "      <td>56.0</td>\n",
       "      <td>22696.96</td>\n",
       "      <td>0</td>\n",
       "    </tr>\n",
       "    <tr>\n",
       "      <td>2</td>\n",
       "      <td>77.0</td>\n",
       "      <td>467.66</td>\n",
       "      <td>86.0</td>\n",
       "      <td>21060.45</td>\n",
       "      <td>0</td>\n",
       "    </tr>\n",
       "    <tr>\n",
       "      <td>3</td>\n",
       "      <td>106.0</td>\n",
       "      <td>745.53</td>\n",
       "      <td>81.0</td>\n",
       "      <td>8437.39</td>\n",
       "      <td>1</td>\n",
       "    </tr>\n",
       "    <tr>\n",
       "      <td>4</td>\n",
       "      <td>66.0</td>\n",
       "      <td>418.74</td>\n",
       "      <td>1.0</td>\n",
       "      <td>14502.75</td>\n",
       "      <td>0</td>\n",
       "    </tr>\n",
       "  </tbody>\n",
       "</table>\n",
       "</div>"
      ],
      "text/plain": [
       "   calls  minutes  messages   mb_used  is_ultra\n",
       "0   40.0   311.90      83.0  19915.42         0\n",
       "1   85.0   516.75      56.0  22696.96         0\n",
       "2   77.0   467.66      86.0  21060.45         0\n",
       "3  106.0   745.53      81.0   8437.39         1\n",
       "4   66.0   418.74       1.0  14502.75         0"
      ]
     },
     "execution_count": 3,
     "metadata": {},
     "output_type": "execute_result"
    }
   ],
   "source": [
    "#просмотр первых строк данных\n",
    "data.head()"
   ]
  },
  {
   "cell_type": "code",
   "execution_count": 4,
   "metadata": {},
   "outputs": [
    {
     "name": "stdout",
     "output_type": "stream",
     "text": [
      "<class 'pandas.core.frame.DataFrame'>\n",
      "RangeIndex: 3214 entries, 0 to 3213\n",
      "Data columns (total 5 columns):\n",
      "calls       3214 non-null float64\n",
      "minutes     3214 non-null float64\n",
      "messages    3214 non-null float64\n",
      "mb_used     3214 non-null float64\n",
      "is_ultra    3214 non-null int64\n",
      "dtypes: float64(4), int64(1)\n",
      "memory usage: 125.7 KB\n"
     ]
    }
   ],
   "source": [
    "#информация о данных\n",
    "data.info()"
   ]
  },
  {
   "cell_type": "markdown",
   "metadata": {},
   "source": [
    "\n",
    "В таблице содержится информация по 3214 пользователям. Каждый объект в наборе данных — это информация о поведении одного пользователя за месяц.\n",
    "\n",
    "Итого в таблице пять столбцов:\n",
    "\n",
    "* <i> calls </i> — количество звонков\n",
    "\n",
    "* <i> minutes </i> — суммарная длительность звонков в минутах\n",
    "\n",
    "* <i> messages </i> — количество sms-сообщений\n",
    "\n",
    "* <i> mb_used </i> — израсходованный интернет-трафик в Мб\n",
    "\n",
    "* <i> is_ultra </i> — каким тарифом пользовался в течение месяца («Ультра» — 1, «Смарт» — 0)"
   ]
  },
  {
   "cell_type": "markdown",
   "metadata": {},
   "source": [
    "\n",
    "Проведем небольшую проверку данных перед выполнением работы.\n"
   ]
  },
  {
   "cell_type": "code",
   "execution_count": 5,
   "metadata": {},
   "outputs": [
    {
     "data": {
      "text/plain": [
       "0"
      ]
     },
     "execution_count": 5,
     "metadata": {},
     "output_type": "execute_result"
    }
   ],
   "source": [
    "#проверка количества дубликатов\n",
    "data.duplicated().sum()"
   ]
  },
  {
   "cell_type": "code",
   "execution_count": 6,
   "metadata": {},
   "outputs": [
    {
     "data": {
      "text/plain": [
       "calls       0\n",
       "minutes     0\n",
       "messages    0\n",
       "mb_used     0\n",
       "is_ultra    0\n",
       "dtype: int64"
      ]
     },
     "execution_count": 6,
     "metadata": {},
     "output_type": "execute_result"
    }
   ],
   "source": [
    "#проверка количества пропущенных значений\n",
    "data.isnull().sum()"
   ]
  },
  {
   "cell_type": "code",
   "execution_count": 7,
   "metadata": {},
   "outputs": [
    {
     "data": {
      "text/html": [
       "<div>\n",
       "<style scoped>\n",
       "    .dataframe tbody tr th:only-of-type {\n",
       "        vertical-align: middle;\n",
       "    }\n",
       "\n",
       "    .dataframe tbody tr th {\n",
       "        vertical-align: top;\n",
       "    }\n",
       "\n",
       "    .dataframe thead th {\n",
       "        text-align: right;\n",
       "    }\n",
       "</style>\n",
       "<table border=\"1\" class=\"dataframe\">\n",
       "  <thead>\n",
       "    <tr style=\"text-align: right;\">\n",
       "      <th></th>\n",
       "      <th>count</th>\n",
       "      <th>mean</th>\n",
       "      <th>std</th>\n",
       "      <th>min</th>\n",
       "      <th>25%</th>\n",
       "      <th>50%</th>\n",
       "      <th>75%</th>\n",
       "      <th>max</th>\n",
       "    </tr>\n",
       "  </thead>\n",
       "  <tbody>\n",
       "    <tr>\n",
       "      <td>calls</td>\n",
       "      <td>3214.0</td>\n",
       "      <td>63.038892</td>\n",
       "      <td>33.236368</td>\n",
       "      <td>0.0</td>\n",
       "      <td>40.0000</td>\n",
       "      <td>62.000</td>\n",
       "      <td>82.0000</td>\n",
       "      <td>244.00</td>\n",
       "    </tr>\n",
       "    <tr>\n",
       "      <td>minutes</td>\n",
       "      <td>3214.0</td>\n",
       "      <td>438.208787</td>\n",
       "      <td>234.569872</td>\n",
       "      <td>0.0</td>\n",
       "      <td>274.5750</td>\n",
       "      <td>430.600</td>\n",
       "      <td>571.9275</td>\n",
       "      <td>1632.06</td>\n",
       "    </tr>\n",
       "    <tr>\n",
       "      <td>messages</td>\n",
       "      <td>3214.0</td>\n",
       "      <td>38.281269</td>\n",
       "      <td>36.148326</td>\n",
       "      <td>0.0</td>\n",
       "      <td>9.0000</td>\n",
       "      <td>30.000</td>\n",
       "      <td>57.0000</td>\n",
       "      <td>224.00</td>\n",
       "    </tr>\n",
       "    <tr>\n",
       "      <td>mb_used</td>\n",
       "      <td>3214.0</td>\n",
       "      <td>17207.673836</td>\n",
       "      <td>7570.968246</td>\n",
       "      <td>0.0</td>\n",
       "      <td>12491.9025</td>\n",
       "      <td>16943.235</td>\n",
       "      <td>21424.7000</td>\n",
       "      <td>49745.73</td>\n",
       "    </tr>\n",
       "    <tr>\n",
       "      <td>is_ultra</td>\n",
       "      <td>3214.0</td>\n",
       "      <td>0.306472</td>\n",
       "      <td>0.461100</td>\n",
       "      <td>0.0</td>\n",
       "      <td>0.0000</td>\n",
       "      <td>0.000</td>\n",
       "      <td>1.0000</td>\n",
       "      <td>1.00</td>\n",
       "    </tr>\n",
       "  </tbody>\n",
       "</table>\n",
       "</div>"
      ],
      "text/plain": [
       "           count          mean          std  min         25%        50%  \\\n",
       "calls     3214.0     63.038892    33.236368  0.0     40.0000     62.000   \n",
       "minutes   3214.0    438.208787   234.569872  0.0    274.5750    430.600   \n",
       "messages  3214.0     38.281269    36.148326  0.0      9.0000     30.000   \n",
       "mb_used   3214.0  17207.673836  7570.968246  0.0  12491.9025  16943.235   \n",
       "is_ultra  3214.0      0.306472     0.461100  0.0      0.0000      0.000   \n",
       "\n",
       "                 75%       max  \n",
       "calls        82.0000    244.00  \n",
       "minutes     571.9275   1632.06  \n",
       "messages     57.0000    224.00  \n",
       "mb_used   21424.7000  49745.73  \n",
       "is_ultra      1.0000      1.00  "
      ]
     },
     "execution_count": 7,
     "metadata": {},
     "output_type": "execute_result"
    }
   ],
   "source": [
    "#статистика по данным\n",
    "data.describe().T"
   ]
  },
  {
   "cell_type": "markdown",
   "metadata": {},
   "source": [
    "### Вывод"
   ]
  },
  {
   "cell_type": "markdown",
   "metadata": {},
   "source": [
    "\n",
    "Мы загрузили и проанализировали исходные данные. Предобработка данных не требуется: в таблице нет ни дубликатов, ни пропущенных значений, ни заметных артефактов в статистике по колонкам (к примеру, нет значений меньше 0, информация по тарифам принимает только два значения: 0 или 1).\n",
    "\n",
    "Значит можем приступить к следующему этапу - построению модели.\n"
   ]
  },
  {
   "cell_type": "markdown",
   "metadata": {},
   "source": [
    "[Вернуться к оглавлению](#intro)"
   ]
  },
  {
   "cell_type": "markdown",
   "metadata": {},
   "source": [
    "<a id='chapter4'></a>\n",
    "\n",
    "## 2. Разбейте данные на выборки"
   ]
  },
  {
   "cell_type": "markdown",
   "metadata": {},
   "source": [
    "\n",
    "Перед нами стоит задача классификации, т.е. тип целевого признака - категориальный. В данном случае у нас только две категории - тариф \"Смарт\" или тариф \"Ультра\".\n",
    "\n",
    "Тип обучения - с учителем. Из общей таблицы выделим новые переменные: вопросы - признаки и ответ - целевой признак, т.е. столбец <i> is_ultra </i>.\n"
   ]
  },
  {
   "cell_type": "code",
   "execution_count": 8,
   "metadata": {},
   "outputs": [],
   "source": [
    "#объявление новых переменных\n",
    "features = data.drop(['is_ultra'], axis=1)\n",
    "target = data['is_ultra']"
   ]
  },
  {
   "cell_type": "markdown",
   "metadata": {},
   "source": [
    "\n",
    "Тестовой выборки для предсказывания значений у нас нет. Поэтому необходимо общий набор данных разделить на три части: обучающую выборку, валидационную и тестовую в соотношении 3:1:1.\n",
    "\n",
    "На обучающей выборке мы обучим модель, на валидационной - проверочной - подберем гиперпараметры.\n"
   ]
  },
  {
   "cell_type": "code",
   "execution_count": 9,
   "metadata": {},
   "outputs": [],
   "source": [
    "#выделим тестовую выборку\n",
    "data_features, features_test, data_target, target_test = (\n",
    "train_test_split(features, target, test_size=0.2, random_state=0)\n",
    ")\n",
    "#выделим обучающую и валидационную выборки\n",
    "features_train, features_valid, target_train, target_valid =(\n",
    "train_test_split(data_features, data_target, test_size=0.25, random_state=0)\n",
    ")"
   ]
  },
  {
   "cell_type": "code",
   "execution_count": 10,
   "metadata": {},
   "outputs": [
    {
     "name": "stdout",
     "output_type": "stream",
     "text": [
      "Количество объектов в обучающей выборке: 1928\n",
      "Количество объектов в валидационной выборке: 643\n",
      "Количество объектов в тестовой выборке: 643\n"
     ]
    }
   ],
   "source": [
    "print('Количество объектов в обучающей выборке:', len(features_train))\n",
    "print('Количество объектов в валидационной выборке:', len(features_valid))\n",
    "print('Количество объектов в тестовой выборке:', len(features_test))"
   ]
  },
  {
   "cell_type": "markdown",
   "metadata": {},
   "source": [
    "### Вывод"
   ]
  },
  {
   "cell_type": "markdown",
   "metadata": {},
   "source": [
    "\n",
    "Данные разбиты на три выборки: обучающую, валидационную и тестовую в соотношении 3:1:1. Мы готовы к тому, чтобы приступить к следующему этапу - выбору подходящей модели.\n"
   ]
  },
  {
   "cell_type": "markdown",
   "metadata": {},
   "source": [
    "[Вернуться к оглавлению](#intro)"
   ]
  },
  {
   "cell_type": "markdown",
   "metadata": {},
   "source": [
    "<a id='chapter5'></a>\n",
    "\n",
    "## 3. Исследуйте модели"
   ]
  },
  {
   "cell_type": "markdown",
   "metadata": {},
   "source": [
    "\n",
    "В данный момент нам известны три алгоритма классификации:\n",
    "\n",
    "* дерево решений\n",
    "\n",
    "* случайный лес\n",
    "\n",
    "* логистическая регрессия"
   ]
  },
  {
   "cell_type": "markdown",
   "metadata": {},
   "source": [
    "\n",
    "Подберем модель с наибольшей долей правильных ответов и в дальнейшем будем работать только с ней.\n"
   ]
  },
  {
   "cell_type": "markdown",
   "metadata": {},
   "source": [
    "### Дерево решений"
   ]
  },
  {
   "cell_type": "markdown",
   "metadata": {},
   "source": [
    "\n",
    "Построим модель с помощью дерева решений и подберем глубину дерева с наилучшим значением параметра <i> accuracy </i> - доли правильных ответов.\n"
   ]
  },
  {
   "cell_type": "code",
   "execution_count": 11,
   "metadata": {},
   "outputs": [
    {
     "name": "stdout",
     "output_type": "stream",
     "text": [
      "Наилучшая accuracy: 0.8211508553654744 с глубиной: 5\n"
     ]
    }
   ],
   "source": [
    "#зададим переменные, в которые сохраним наилучшую модель и результаты\n",
    "best_model_tree = None\n",
    "best_result_tree = 0\n",
    "best_depth_tree = 0\n",
    "#создадим пустой датафрейм, с помощью которого в дальнейшем построим график\n",
    "model_tree = pd.DataFrame(columns=['depth', 'result'])\n",
    "#в цикле перебираем значения глубины дерева\n",
    "for depth in range(1, 11):\n",
    "    #задаем модель с текущей глубиной\n",
    "    model = DecisionTreeClassifier(random_state=0, max_depth=depth)\n",
    "    #обучаем модель на обучающей выборке\n",
    "    model.fit(features_train, target_train)\n",
    "    #предсказываем результаты на валидационной выборке\n",
    "    predictions = model.predict(features_valid)\n",
    "    #рассчитываем значение accuracy\n",
    "    result = accuracy_score(target_valid, predictions)\n",
    "    model_tree.loc[depth-1, 'depth'] = depth\n",
    "    model_tree.loc[depth-1, 'result'] = result\n",
    "    #выбираем наилучший результат\n",
    "    if result > best_result_tree:\n",
    "        best_model_tree = model\n",
    "        best_result_tree = result\n",
    "        best_depth_tree = depth\n",
    "print('Наилучшая accuracy:', best_result_tree, 'с глубиной:', best_depth_tree)"
   ]
  },
  {
   "cell_type": "code",
   "execution_count": 12,
   "metadata": {},
   "outputs": [
    {
     "data": {
      "image/png": "[encoded data removed]",
      "text/plain": [
       "<Figure size 432x288 with 1 Axes>"
      ]
     },
     "metadata": {
      "needs_background": "light"
     },
     "output_type": "display_data"
    }
   ],
   "source": [
    "#построим график зависимости accuracy от глубины дерева\n",
    "model_tree.plot(x='depth', y='result', grid=True)\n",
    "plt.title('Зависимость accuracy от глубины')\n",
    "plt.xlabel('Глубина дерева')\n",
    "plt.ylabel('Доля правильных ответов')\n",
    "plt.show()"
   ]
  },
  {
   "cell_type": "markdown",
   "metadata": {},
   "source": [
    "\n",
    "Итак, видим, что наибольшая доля правильных ответов при глубине дерева - 5.\n"
   ]
  },
  {
   "cell_type": "markdown",
   "metadata": {},
   "source": [
    "### Случайный лес"
   ]
  },
  {
   "cell_type": "markdown",
   "metadata": {},
   "source": [
    "\n",
    "Сейчас построим модель с помощью алгоритма \"случайный лес\". При этом будем варьировать два гиперпараметра - глубину дерева и количество деревьев.\n"
   ]
  },
  {
   "cell_type": "code",
   "execution_count": 13,
   "metadata": {},
   "outputs": [
    {
     "name": "stdout",
     "output_type": "stream",
     "text": [
      "Наилучшая accuracy: 0.8444790046656299 с глубиной: 8 и количеством деревьев: 15\n"
     ]
    }
   ],
   "source": [
    "#зададим переменные, в которые сохраним наилучшую модель и результаты\n",
    "best_model_forest = None\n",
    "best_result_forest = 0\n",
    "best_depth_forest = 0\n",
    "best_est_forest = 0\n",
    "#в цикле перебираем значения глубины дерева и количество деревьев\n",
    "for est in range(10, 51, 5):\n",
    "    for depth in range(1, 11):\n",
    "        #задаем модель с текущей глубиной\n",
    "        model = RandomForestClassifier(random_state=0, n_estimators=est, max_depth=depth)\n",
    "        #обучаем модель на обучающей выборке\n",
    "        model.fit(features_train, target_train)\n",
    "        #предсказываем результаты на валидационной выборке\n",
    "        predictions = model.predict(features_valid)\n",
    "        #рассчитываем значение accuracy\n",
    "        result = accuracy_score(target_valid, predictions)\n",
    "        #выбираем наилучший результат\n",
    "        if result > best_result_forest:\n",
    "            best_model_forest = model\n",
    "            best_result_forest = result\n",
    "            best_depth_forest = depth\n",
    "            best_est_forest = est\n",
    "print('Наилучшая accuracy:', best_result_forest, 'с глубиной:', best_depth_forest, 'и количеством деревьев:', best_est_forest)"
   ]
  },
  {
   "cell_type": "markdown",
   "metadata": {},
   "source": [
    "### Логистическая регрессия"
   ]
  },
  {
   "cell_type": "markdown",
   "metadata": {},
   "source": [
    "\n",
    "Построим еще одну модель с помощью алгоритма логистической регрессии.\n"
   ]
  },
  {
   "cell_type": "code",
   "execution_count": 14,
   "metadata": {},
   "outputs": [
    {
     "name": "stdout",
     "output_type": "stream",
     "text": [
      "Наилучшая accuracy 0.7013996889580093\n"
     ]
    },
    {
     "name": "stderr",
     "output_type": "stream",
     "text": [
      "/opt/conda/lib/python3.7/site-packages/sklearn/linear_model/logistic.py:432: FutureWarning: Default solver will be changed to 'lbfgs' in 0.22. Specify a solver to silence this warning.\n",
      "  FutureWarning)\n"
     ]
    }
   ],
   "source": [
    "#задаем модель логистической регрессии\n",
    "best_model_regress = LogisticRegression(random_state=0)\n",
    "#обучаем модель на обучающей выборке\n",
    "best_model_regress.fit(features_train, target_train)\n",
    "#предсказываем результаты на валидационной выборке\n",
    "predictions = best_model_regress.predict(features_valid)\n",
    "#рассчитываем значение accuracy\n",
    "result = accuracy_score(target_valid, predictions)\n",
    "print('Наилучшая accuracy:', result)"
   ]
  },
  {
   "cell_type": "code",
   "execution_count": 15,
   "metadata": {},
   "outputs": [],
   "source": [
    "#создадим результирующую таблицу\n",
    "final = pd.DataFrame(index=['Дерево решений', 'Случайный лес', 'Логистическая регрессия'], columns=['Доля правильных ответов'])\n",
    "final.loc['Дерево решений', 'Доля правильных ответов'] = best_result_tree\n",
    "final.loc['Случайный лес', 'Доля правильных ответов'] = best_result_forest\n",
    "final.loc['Логистическая регрессия', 'Доля правильных ответов'] = result"
   ]
  },
  {
   "cell_type": "markdown",
   "metadata": {},
   "source": [
    "### Вывод"
   ]
  },
  {
   "cell_type": "markdown",
   "metadata": {},
   "source": [
    "\n",
    "Подведем итог по проведенному анализу моделей:\n"
   ]
  },
  {
   "cell_type": "code",
   "execution_count": 16,
   "metadata": {},
   "outputs": [
    {
     "data": {
      "text/html": [
       "<style  type=\"text/css\" >\n",
       "    #T_24b24bfe_3c74_11eb_b226_02420a391c8drow1_col0 {\n",
       "            background-color:  yellowgreen;\n",
       "        }</style><table id=\"T_24b24bfe_3c74_11eb_b226_02420a391c8d\" ><thead>    <tr>        <th class=\"blank level0\" ></th>        <th class=\"col_heading level0 col0\" >Доля правильных ответов</th>    </tr></thead><tbody>\n",
       "                <tr>\n",
       "                        <th id=\"T_24b24bfe_3c74_11eb_b226_02420a391c8dlevel0_row0\" class=\"row_heading level0 row0\" >Дерево решений</th>\n",
       "                        <td id=\"T_24b24bfe_3c74_11eb_b226_02420a391c8drow0_col0\" class=\"data row0 col0\" >0.821151</td>\n",
       "            </tr>\n",
       "            <tr>\n",
       "                        <th id=\"T_24b24bfe_3c74_11eb_b226_02420a391c8dlevel0_row1\" class=\"row_heading level0 row1\" >Случайный лес</th>\n",
       "                        <td id=\"T_24b24bfe_3c74_11eb_b226_02420a391c8drow1_col0\" class=\"data row1 col0\" >0.844479</td>\n",
       "            </tr>\n",
       "            <tr>\n",
       "                        <th id=\"T_24b24bfe_3c74_11eb_b226_02420a391c8dlevel0_row2\" class=\"row_heading level0 row2\" >Логистическая регрессия</th>\n",
       "                        <td id=\"T_24b24bfe_3c74_11eb_b226_02420a391c8drow2_col0\" class=\"data row2 col0\" >0.7014</td>\n",
       "            </tr>\n",
       "    </tbody></table>"
      ],
      "text/plain": [
       "<pandas.io.formats.style.Styler at 0x7f4e6f9cdd90>"
      ]
     },
     "execution_count": 16,
     "metadata": {},
     "output_type": "execute_result"
    }
   ],
   "source": [
    "final.head().style.highlight_max(color='yellowgreen', subset='Доля правильных ответов')"
   ]
  },
  {
   "cell_type": "markdown",
   "metadata": {},
   "source": [
    "\n",
    "Наилучшие результаты показал алгоритм \"случайный лес\" с 15 деревьями и глубиной 8.\n"
   ]
  },
  {
   "cell_type": "markdown",
   "metadata": {},
   "source": [
    "[Вернуться к оглавлению](#intro)"
   ]
  },
  {
   "cell_type": "markdown",
   "metadata": {},
   "source": [
    "<a id='chapter6'></a>\n",
    "\n",
    "## 4. Проверьте модель на тестовой выборке"
   ]
  },
  {
   "cell_type": "markdown",
   "metadata": {},
   "source": [
    "\n",
    "Теперь проверим как выбранный алгоритм поведет себя на тестовой выборке, какие результаты покажет.\n"
   ]
  },
  {
   "cell_type": "code",
   "execution_count": 17,
   "metadata": {},
   "outputs": [
    {
     "name": "stdout",
     "output_type": "stream",
     "text": [
      "Доля правильных ответов: 0.7962674961119751\n"
     ]
    }
   ],
   "source": [
    "#предсказываем результаты на тестовой выборке\n",
    "predictions = best_model_forest.predict(features_test)\n",
    "#рассчитываем значение accuracy\n",
    "result_test = accuracy_score(target_test, predictions)\n",
    "print('Доля правильных ответов:', result_test)"
   ]
  },
  {
   "cell_type": "markdown",
   "metadata": {},
   "source": [
    "### Вывод"
   ]
  },
  {
   "cell_type": "markdown",
   "metadata": {},
   "source": [
    "\n",
    "Итак, выбранная модель показала почти 80% правильных ответов на тестовой выборке. Это довольно неплохой результат, условие о том, что доля должна быть не менее 75% выполнено.\n"
   ]
  },
  {
   "cell_type": "markdown",
   "metadata": {},
   "source": [
    "[Вернуться к оглавлению](#intro)"
   ]
  },
  {
   "cell_type": "markdown",
   "metadata": {},
   "source": [
    "<a id='chapter7'></a>\n",
    "\n",
    "## 5. (бонус) Проверьте модели на адекватность"
   ]
  },
  {
   "cell_type": "markdown",
   "metadata": {},
   "source": [
    "\n",
    "На данном этапе мы проверим построенную модель на адекватность. Для этого создадим простейщую модель, которая для любых параметров выдает одинаковое значение - константу. В качестве константы возьмем наиболее часто встречающееся значение целевого признака.\n"
   ]
  },
  {
   "cell_type": "code",
   "execution_count": 18,
   "metadata": {},
   "outputs": [
    {
     "name": "stdout",
     "output_type": "stream",
     "text": [
      "Доля правильных ответов: 0.6936236391912908\n"
     ]
    }
   ],
   "source": [
    "#найдем медианное значение целевого признака\n",
    "median_target = target.median()\n",
    "#создадим мнимое значение предсказаний, равное медианному\n",
    "median_test = pd.Series(data=median_target, index=target_test.index)\n",
    "#рассчитываем значение accuracy\n",
    "result_median = accuracy_score(target_test, median_test)\n",
    "print('Доля правильных ответов:', result_median)"
   ]
  },
  {
   "cell_type": "markdown",
   "metadata": {},
   "source": [
    "[Вернуться к оглавлению](#intro)"
   ]
  },
  {
   "cell_type": "markdown",
   "metadata": {},
   "source": [
    "<a id='chapter8'></a>\n",
    "\n",
    "## Общий вывод"
   ]
  },
  {
   "cell_type": "markdown",
   "metadata": {},
   "source": [
    "\n",
    "В данной работе мы изучили поведение пользователей разных тарифов для создания модели, позволяющей предлагать клиентам наиболее подходящий им новый тарифный план.\n",
    "\n",
    "Изучая количество звонков, сообщений, использованных мегабайт интернет-трафика и длительность звонков в месяц, мы построили несколько моделей, предлагающих новый тариф, а именно:\n",
    "\n",
    "* дерево решений с различными значениями глубины дерева\n",
    "\n",
    "* случайный лес с варьирующимися значениями количества деревьев и глубины\n",
    "\n",
    "* логистическую регрессию\n",
    "\n",
    "На валидационной выборке наибольшую долю правильных ответов (параметр <i>accuracy</i>) показал алгоритм случайного леса с 15 деревьями и глубиной 8. Поэтому именно эту модель мы применили к тестовой выборке, на которой значение <i>accuracy</i> было равно 0.796, что является хорошим результатом.\n",
    "\n",
    "Созданная модель также прошла проверку на адекватность: <i>accuracy</i> константной модели, содержащей медианное значение целевого признака, показало результат намного хуже, чем предпочитаемой модели.\n",
    "\n",
    "Это говорит о том, что мы можем использовать данную модель для предложения клиентам новых тарифных планов.\n"
   ]
  },
  {
   "cell_type": "markdown",
   "metadata": {},
   "source": [
    "[Вернуться к оглавлению](#intro)"
   ]
  },
  {
   "cell_type": "code",
   "execution_count": null,
   "metadata": {},
   "outputs": [],
   "source": []
  }
 ],
 "metadata": {
  "kernelspec": {
   "display_name": "Python 3",
   "language": "python",
   "name": "python3"
  },
  "language_info": {
   "codemirror_mode": {
    "name": "ipython",
    "version": 3
   },
   "file_extension": ".py",
   "mimetype": "text/x-python",
   "name": "python",
   "nbconvert_exporter": "python",
   "pygments_lexer": "ipython3",
   "version": "3.7.8"
  },
  "toc": {
   "base_numbering": 1,
   "nav_menu": {},
   "number_sections": true,
   "sideBar": true,
   "skip_h1_title": true,
   "title_cell": "Table of Contents",
   "title_sidebar": "Contents",
   "toc_cell": false,
   "toc_position": {},
   "toc_section_display": true,
   "toc_window_display": false
  }
 },
 "nbformat": 4,
 "nbformat_minor": 2
}
