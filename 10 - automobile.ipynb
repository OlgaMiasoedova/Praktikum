{
 "cells": [
  {
   "cell_type": "markdown",
   "metadata": {},
   "source": [
    "# Определение стоимости автомобилей"
   ]
  },
  {
   "cell_type": "markdown",
   "metadata": {},
   "source": [
    "Сервис по продаже автомобилей с пробегом «Не бит, не крашен» разрабатывает приложение для привлечения новых клиентов. В нём можно быстро узнать рыночную стоимость своего автомобиля. В вашем распоряжении исторические данные: технические характеристики, комплектации и цены автомобилей. Вам нужно построить модель для определения стоимости. \n",
    "\n",
    "Заказчику важны:\n",
    "\n",
    "- качество предсказания;\n",
    "- скорость предсказания;\n",
    "- время обучения."
   ]
  },
  {
   "cell_type": "markdown",
   "metadata": {},
   "source": [
    "<a id='intro'></a>\n",
    "\n",
    "# Содержание"
   ]
  },
  {
   "cell_type": "markdown",
   "metadata": {},
   "source": [
    "\n",
    "[Подготовка данных](#chapter1)\n",
    "\n",
    "[Обучение моделей](#chapter2)\n",
    "\n",
    "[Анализ моделей](#chapter3)\n",
    "\n",
    "[Вывод](#chapter4)\n"
   ]
  },
  {
   "cell_type": "markdown",
   "metadata": {},
   "source": [
    "<a id='chapter1'></a>\n",
    "\n",
    "# Подготовка данных"
   ]
  },
  {
   "cell_type": "markdown",
   "metadata": {},
   "source": [
    "\n",
    "Загрузим переданный файл с данными и посмотрим информацию по нему.\n"
   ]
  },
  {
   "cell_type": "code",
   "execution_count": 1,
   "metadata": {},
   "outputs": [],
   "source": [
    "#загрузка необходимых библиотек\n",
    "import pandas as pd\n",
    "import numpy as np\n",
    "from sklearn.model_selection import train_test_split\n",
    "from sklearn.model_selection import GridSearchCV\n",
    "from sklearn.preprocessing import StandardScaler\n",
    "from sklearn.preprocessing import OrdinalEncoder\n",
    "from sklearn.tree import DecisionTreeRegressor\n",
    "from sklearn.ensemble import RandomForestRegressor\n",
    "import matplotlib.pyplot as plt\n",
    "import seaborn as sns\n",
    "from sklearn.linear_model import LinearRegression\n",
    "from sklearn.metrics import mean_squared_error\n",
    "from sklearn.metrics import make_scorer\n",
    "from lightgbm import LGBMRegressor\n",
    "import warnings\n",
    "warnings.filterwarnings('ignore')"
   ]
  },
  {
   "cell_type": "code",
   "execution_count": 2,
   "metadata": {},
   "outputs": [
    {
     "data": {
      "text/html": [
       "<div>\n",
       "<style scoped>\n",
       "    .dataframe tbody tr th:only-of-type {\n",
       "        vertical-align: middle;\n",
       "    }\n",
       "\n",
       "    .dataframe tbody tr th {\n",
       "        vertical-align: top;\n",
       "    }\n",
       "\n",
       "    .dataframe thead th {\n",
       "        text-align: right;\n",
       "    }\n",
       "</style>\n",
       "<table border=\"1\" class=\"dataframe\">\n",
       "  <thead>\n",
       "    <tr style=\"text-align: right;\">\n",
       "      <th></th>\n",
       "      <th>DateCrawled</th>\n",
       "      <th>Price</th>\n",
       "      <th>VehicleType</th>\n",
       "      <th>RegistrationYear</th>\n",
       "      <th>Gearbox</th>\n",
       "      <th>Power</th>\n",
       "      <th>Model</th>\n",
       "      <th>Kilometer</th>\n",
       "      <th>RegistrationMonth</th>\n",
       "      <th>FuelType</th>\n",
       "      <th>Brand</th>\n",
       "      <th>NotRepaired</th>\n",
       "      <th>DateCreated</th>\n",
       "      <th>NumberOfPictures</th>\n",
       "      <th>PostalCode</th>\n",
       "      <th>LastSeen</th>\n",
       "    </tr>\n",
       "  </thead>\n",
       "  <tbody>\n",
       "    <tr>\n",
       "      <td>0</td>\n",
       "      <td>2016-03-24 11:52:17</td>\n",
       "      <td>480</td>\n",
       "      <td>NaN</td>\n",
       "      <td>1993</td>\n",
       "      <td>manual</td>\n",
       "      <td>0</td>\n",
       "      <td>golf</td>\n",
       "      <td>150000</td>\n",
       "      <td>0</td>\n",
       "      <td>petrol</td>\n",
       "      <td>volkswagen</td>\n",
       "      <td>NaN</td>\n",
       "      <td>2016-03-24 00:00:00</td>\n",
       "      <td>0</td>\n",
       "      <td>70435</td>\n",
       "      <td>2016-04-07 03:16:57</td>\n",
       "    </tr>\n",
       "    <tr>\n",
       "      <td>1</td>\n",
       "      <td>2016-03-24 10:58:45</td>\n",
       "      <td>18300</td>\n",
       "      <td>coupe</td>\n",
       "      <td>2011</td>\n",
       "      <td>manual</td>\n",
       "      <td>190</td>\n",
       "      <td>NaN</td>\n",
       "      <td>125000</td>\n",
       "      <td>5</td>\n",
       "      <td>gasoline</td>\n",
       "      <td>audi</td>\n",
       "      <td>yes</td>\n",
       "      <td>2016-03-24 00:00:00</td>\n",
       "      <td>0</td>\n",
       "      <td>66954</td>\n",
       "      <td>2016-04-07 01:46:50</td>\n",
       "    </tr>\n",
       "    <tr>\n",
       "      <td>2</td>\n",
       "      <td>2016-03-14 12:52:21</td>\n",
       "      <td>9800</td>\n",
       "      <td>suv</td>\n",
       "      <td>2004</td>\n",
       "      <td>auto</td>\n",
       "      <td>163</td>\n",
       "      <td>grand</td>\n",
       "      <td>125000</td>\n",
       "      <td>8</td>\n",
       "      <td>gasoline</td>\n",
       "      <td>jeep</td>\n",
       "      <td>NaN</td>\n",
       "      <td>2016-03-14 00:00:00</td>\n",
       "      <td>0</td>\n",
       "      <td>90480</td>\n",
       "      <td>2016-04-05 12:47:46</td>\n",
       "    </tr>\n",
       "    <tr>\n",
       "      <td>3</td>\n",
       "      <td>2016-03-17 16:54:04</td>\n",
       "      <td>1500</td>\n",
       "      <td>small</td>\n",
       "      <td>2001</td>\n",
       "      <td>manual</td>\n",
       "      <td>75</td>\n",
       "      <td>golf</td>\n",
       "      <td>150000</td>\n",
       "      <td>6</td>\n",
       "      <td>petrol</td>\n",
       "      <td>volkswagen</td>\n",
       "      <td>no</td>\n",
       "      <td>2016-03-17 00:00:00</td>\n",
       "      <td>0</td>\n",
       "      <td>91074</td>\n",
       "      <td>2016-03-17 17:40:17</td>\n",
       "    </tr>\n",
       "    <tr>\n",
       "      <td>4</td>\n",
       "      <td>2016-03-31 17:25:20</td>\n",
       "      <td>3600</td>\n",
       "      <td>small</td>\n",
       "      <td>2008</td>\n",
       "      <td>manual</td>\n",
       "      <td>69</td>\n",
       "      <td>fabia</td>\n",
       "      <td>90000</td>\n",
       "      <td>7</td>\n",
       "      <td>gasoline</td>\n",
       "      <td>skoda</td>\n",
       "      <td>no</td>\n",
       "      <td>2016-03-31 00:00:00</td>\n",
       "      <td>0</td>\n",
       "      <td>60437</td>\n",
       "      <td>2016-04-06 10:17:21</td>\n",
       "    </tr>\n",
       "  </tbody>\n",
       "</table>\n",
       "</div>"
      ],
      "text/plain": [
       "           DateCrawled  Price VehicleType  RegistrationYear Gearbox  Power  \\\n",
       "0  2016-03-24 11:52:17    480         NaN              1993  manual      0   \n",
       "1  2016-03-24 10:58:45  18300       coupe              2011  manual    190   \n",
       "2  2016-03-14 12:52:21   9800         suv              2004    auto    163   \n",
       "3  2016-03-17 16:54:04   1500       small              2001  manual     75   \n",
       "4  2016-03-31 17:25:20   3600       small              2008  manual     69   \n",
       "\n",
       "   Model  Kilometer  RegistrationMonth  FuelType       Brand NotRepaired  \\\n",
       "0   golf     150000                  0    petrol  volkswagen         NaN   \n",
       "1    NaN     125000                  5  gasoline        audi         yes   \n",
       "2  grand     125000                  8  gasoline        jeep         NaN   \n",
       "3   golf     150000                  6    petrol  volkswagen          no   \n",
       "4  fabia      90000                  7  gasoline       skoda          no   \n",
       "\n",
       "           DateCreated  NumberOfPictures  PostalCode             LastSeen  \n",
       "0  2016-03-24 00:00:00                 0       70435  2016-04-07 03:16:57  \n",
       "1  2016-03-24 00:00:00                 0       66954  2016-04-07 01:46:50  \n",
       "2  2016-03-14 00:00:00                 0       90480  2016-04-05 12:47:46  \n",
       "3  2016-03-17 00:00:00                 0       91074  2016-03-17 17:40:17  \n",
       "4  2016-03-31 00:00:00                 0       60437  2016-04-06 10:17:21  "
      ]
     },
     "execution_count": 2,
     "metadata": {},
     "output_type": "execute_result"
    }
   ],
   "source": [
    "#загрузка файла с данными и просмотр первых пяти строк таблицы\n",
    "data = pd.read_csv('/datasets/autos.csv')\n",
    "data.head()"
   ]
  },
  {
   "cell_type": "code",
   "execution_count": 3,
   "metadata": {},
   "outputs": [
    {
     "name": "stdout",
     "output_type": "stream",
     "text": [
      "<class 'pandas.core.frame.DataFrame'>\n",
      "RangeIndex: 354369 entries, 0 to 354368\n",
      "Data columns (total 16 columns):\n",
      "DateCrawled          354369 non-null object\n",
      "Price                354369 non-null int64\n",
      "VehicleType          316879 non-null object\n",
      "RegistrationYear     354369 non-null int64\n",
      "Gearbox              334536 non-null object\n",
      "Power                354369 non-null int64\n",
      "Model                334664 non-null object\n",
      "Kilometer            354369 non-null int64\n",
      "RegistrationMonth    354369 non-null int64\n",
      "FuelType             321474 non-null object\n",
      "Brand                354369 non-null object\n",
      "NotRepaired          283215 non-null object\n",
      "DateCreated          354369 non-null object\n",
      "NumberOfPictures     354369 non-null int64\n",
      "PostalCode           354369 non-null int64\n",
      "LastSeen             354369 non-null object\n",
      "dtypes: int64(7), object(9)\n",
      "memory usage: 43.3+ MB\n"
     ]
    }
   ],
   "source": [
    "#просмотр информации о датасете\n",
    "data.info()"
   ]
  },
  {
   "cell_type": "markdown",
   "metadata": {},
   "source": [
    "\n",
    "В таблице содержится следующая информация:\n",
    "\n",
    "* <i> DateCrawled </i> - дата скачивания анкеты из базы\n",
    "\n",
    "* <i> VehicleType </i> - тип автомобильного кузова\n",
    "\n",
    "* <i> RegistrationYear </i> - год регистрации автомобиля\n",
    "\n",
    "* <i> Gearbox </i> - тип коробки передач\n",
    "\n",
    "* <i> Power </i> - мощность (л.с.)\n",
    "\n",
    "* <i> Model </i> - модель автомобиля\n",
    "\n",
    "* <i> Kilometer </i> - пробег (км)\n",
    "\n",
    "* <i> RegistrationMonth </i> - месяц регистрации автомобиля\n",
    "\n",
    "* <i> FuelType </i> - тип топлива\n",
    "\n",
    "* <i> Brand </i> - марка автомобиля\n",
    "\n",
    "* <i> NotRepaired </i> - была машина в ремонте или нет\n",
    "\n",
    "* <i> DateCreated </i> - дата создания анкеты\n",
    "\n",
    "* <i> NumberOfPictures </i> - количество фотографий автомобиля\n",
    "\n",
    "* <i> PostalCode </i> - почтовый индекс владельца анкеты\n",
    "\n",
    "* <i> LastSeen </i> - дата последней активности пользователя\n",
    "\n",
    "* <i> Price </i> - цена\n"
   ]
  },
  {
   "cell_type": "markdown",
   "metadata": {},
   "source": [
    "\n",
    "Для решения поставленной задачи - предсказание рыночной стоимости автомобиля - нам не нужны все эти столбцы. Например, год регистрации автомобиля имеет значения, а вот месяц - нет. Также вряд ли на стоимость может повлиять почтовый индекс владельца анкеты или, например, дата создания анкеты.\n"
   ]
  },
  {
   "cell_type": "code",
   "execution_count": 4,
   "metadata": {},
   "outputs": [
    {
     "data": {
      "text/html": [
       "<div>\n",
       "<style scoped>\n",
       "    .dataframe tbody tr th:only-of-type {\n",
       "        vertical-align: middle;\n",
       "    }\n",
       "\n",
       "    .dataframe tbody tr th {\n",
       "        vertical-align: top;\n",
       "    }\n",
       "\n",
       "    .dataframe thead th {\n",
       "        text-align: right;\n",
       "    }\n",
       "</style>\n",
       "<table border=\"1\" class=\"dataframe\">\n",
       "  <thead>\n",
       "    <tr style=\"text-align: right;\">\n",
       "      <th></th>\n",
       "      <th>Price</th>\n",
       "      <th>VehicleType</th>\n",
       "      <th>RegistrationYear</th>\n",
       "      <th>Gearbox</th>\n",
       "      <th>Power</th>\n",
       "      <th>Model</th>\n",
       "      <th>Kilometer</th>\n",
       "      <th>FuelType</th>\n",
       "      <th>Brand</th>\n",
       "      <th>NotRepaired</th>\n",
       "      <th>NumberOfPictures</th>\n",
       "    </tr>\n",
       "  </thead>\n",
       "  <tbody>\n",
       "    <tr>\n",
       "      <td>0</td>\n",
       "      <td>480</td>\n",
       "      <td>NaN</td>\n",
       "      <td>1993</td>\n",
       "      <td>manual</td>\n",
       "      <td>0</td>\n",
       "      <td>golf</td>\n",
       "      <td>150000</td>\n",
       "      <td>petrol</td>\n",
       "      <td>volkswagen</td>\n",
       "      <td>NaN</td>\n",
       "      <td>0</td>\n",
       "    </tr>\n",
       "    <tr>\n",
       "      <td>1</td>\n",
       "      <td>18300</td>\n",
       "      <td>coupe</td>\n",
       "      <td>2011</td>\n",
       "      <td>manual</td>\n",
       "      <td>190</td>\n",
       "      <td>NaN</td>\n",
       "      <td>125000</td>\n",
       "      <td>gasoline</td>\n",
       "      <td>audi</td>\n",
       "      <td>yes</td>\n",
       "      <td>0</td>\n",
       "    </tr>\n",
       "    <tr>\n",
       "      <td>2</td>\n",
       "      <td>9800</td>\n",
       "      <td>suv</td>\n",
       "      <td>2004</td>\n",
       "      <td>auto</td>\n",
       "      <td>163</td>\n",
       "      <td>grand</td>\n",
       "      <td>125000</td>\n",
       "      <td>gasoline</td>\n",
       "      <td>jeep</td>\n",
       "      <td>NaN</td>\n",
       "      <td>0</td>\n",
       "    </tr>\n",
       "    <tr>\n",
       "      <td>3</td>\n",
       "      <td>1500</td>\n",
       "      <td>small</td>\n",
       "      <td>2001</td>\n",
       "      <td>manual</td>\n",
       "      <td>75</td>\n",
       "      <td>golf</td>\n",
       "      <td>150000</td>\n",
       "      <td>petrol</td>\n",
       "      <td>volkswagen</td>\n",
       "      <td>no</td>\n",
       "      <td>0</td>\n",
       "    </tr>\n",
       "    <tr>\n",
       "      <td>4</td>\n",
       "      <td>3600</td>\n",
       "      <td>small</td>\n",
       "      <td>2008</td>\n",
       "      <td>manual</td>\n",
       "      <td>69</td>\n",
       "      <td>fabia</td>\n",
       "      <td>90000</td>\n",
       "      <td>gasoline</td>\n",
       "      <td>skoda</td>\n",
       "      <td>no</td>\n",
       "      <td>0</td>\n",
       "    </tr>\n",
       "  </tbody>\n",
       "</table>\n",
       "</div>"
      ],
      "text/plain": [
       "   Price VehicleType  RegistrationYear Gearbox  Power  Model  Kilometer  \\\n",
       "0    480         NaN              1993  manual      0   golf     150000   \n",
       "1  18300       coupe              2011  manual    190    NaN     125000   \n",
       "2   9800         suv              2004    auto    163  grand     125000   \n",
       "3   1500       small              2001  manual     75   golf     150000   \n",
       "4   3600       small              2008  manual     69  fabia      90000   \n",
       "\n",
       "   FuelType       Brand NotRepaired  NumberOfPictures  \n",
       "0    petrol  volkswagen         NaN                 0  \n",
       "1  gasoline        audi         yes                 0  \n",
       "2  gasoline        jeep         NaN                 0  \n",
       "3    petrol  volkswagen          no                 0  \n",
       "4  gasoline       skoda          no                 0  "
      ]
     },
     "execution_count": 4,
     "metadata": {},
     "output_type": "execute_result"
    }
   ],
   "source": [
    "#удалим ненужные для задачи столбцы\n",
    "data = data.drop(['DateCrawled', 'RegistrationMonth', 'DateCreated', 'PostalCode', 'LastSeen'], axis=1).reset_index(drop=True)\n",
    "data.head()"
   ]
  },
  {
   "cell_type": "markdown",
   "metadata": {},
   "source": [
    "\n",
    "Проверим данные на наличие дублирующихся строк.\n"
   ]
  },
  {
   "cell_type": "code",
   "execution_count": 5,
   "metadata": {},
   "outputs": [
    {
     "data": {
      "text/plain": [
       "45040"
      ]
     },
     "execution_count": 5,
     "metadata": {},
     "output_type": "execute_result"
    }
   ],
   "source": [
    "data.duplicated().sum()"
   ]
  },
  {
   "cell_type": "markdown",
   "metadata": {},
   "source": [
    "\n",
    "Видим, что присутствуют повторяющиеся строки, удалим их.\n"
   ]
  },
  {
   "cell_type": "code",
   "execution_count": 6,
   "metadata": {},
   "outputs": [
    {
     "data": {
      "text/plain": [
       "0"
      ]
     },
     "execution_count": 6,
     "metadata": {},
     "output_type": "execute_result"
    }
   ],
   "source": [
    "data = data.drop_duplicates().reset_index(drop=True)\n",
    "data.duplicated().sum()"
   ]
  },
  {
   "cell_type": "markdown",
   "metadata": {},
   "source": [
    "\n",
    "Видим, что в данных присутствуют пропуски.\n"
   ]
  },
  {
   "cell_type": "code",
   "execution_count": 7,
   "metadata": {},
   "outputs": [
    {
     "data": {
      "text/plain": [
       "Price                   0\n",
       "VehicleType         34559\n",
       "RegistrationYear        0\n",
       "Gearbox             17207\n",
       "Power                   0\n",
       "Model               18361\n",
       "Kilometer               0\n",
       "FuelType            30764\n",
       "Brand                   0\n",
       "NotRepaired         64558\n",
       "NumberOfPictures        0\n",
       "dtype: int64"
      ]
     },
     "execution_count": 7,
     "metadata": {},
     "output_type": "execute_result"
    }
   ],
   "source": [
    "data.isna().sum()"
   ]
  },
  {
   "cell_type": "markdown",
   "metadata": {},
   "source": [
    "\n",
    "В столбцах с типом кузова или модели есть вариант \"other\", мы можем пропуски в этих столбцах заменить на это значение. Но некоторые пропуски, например, была ли машина в ремонте или нет, мы не можем заполнить. Заполним пропуски новым значением <i> unknown </i>. В дальнейшем, при применении к ним техники прямого кодирования будет создан отдельный столбец с неопределенными значениями и модель будет по ним также обучаться.\n"
   ]
  },
  {
   "cell_type": "code",
   "execution_count": 8,
   "metadata": {},
   "outputs": [],
   "source": [
    "data.loc[data['VehicleType'].isna(), 'VehicleType'] = 'unknown'\n",
    "data.loc[data['Model'].isna(), 'Model'] = 'unknown'\n",
    "data.loc[data['Gearbox'].isna(), 'Gearbox'] = 'unknown'\n",
    "data.loc[data['FuelType'].isna(), 'FuelType'] = 'unknown'\n",
    "data.loc[data['NotRepaired'].isna(), 'NotRepaired'] = 'unknown'"
   ]
  },
  {
   "cell_type": "markdown",
   "metadata": {},
   "source": [
    "\n",
    "Теперь посмотрим описание численных столбцов.\n"
   ]
  },
  {
   "cell_type": "code",
   "execution_count": 9,
   "metadata": {},
   "outputs": [
    {
     "data": {
      "text/html": [
       "<div>\n",
       "<style scoped>\n",
       "    .dataframe tbody tr th:only-of-type {\n",
       "        vertical-align: middle;\n",
       "    }\n",
       "\n",
       "    .dataframe tbody tr th {\n",
       "        vertical-align: top;\n",
       "    }\n",
       "\n",
       "    .dataframe thead th {\n",
       "        text-align: right;\n",
       "    }\n",
       "</style>\n",
       "<table border=\"1\" class=\"dataframe\">\n",
       "  <thead>\n",
       "    <tr style=\"text-align: right;\">\n",
       "      <th></th>\n",
       "      <th>Price</th>\n",
       "      <th>RegistrationYear</th>\n",
       "      <th>Power</th>\n",
       "      <th>Kilometer</th>\n",
       "      <th>NumberOfPictures</th>\n",
       "    </tr>\n",
       "  </thead>\n",
       "  <tbody>\n",
       "    <tr>\n",
       "      <td>count</td>\n",
       "      <td>309329.000000</td>\n",
       "      <td>309329.000000</td>\n",
       "      <td>309329.000000</td>\n",
       "      <td>309329.000000</td>\n",
       "      <td>309329.0</td>\n",
       "    </tr>\n",
       "    <tr>\n",
       "      <td>mean</td>\n",
       "      <td>4486.937196</td>\n",
       "      <td>2004.360105</td>\n",
       "      <td>110.976908</td>\n",
       "      <td>127217.735809</td>\n",
       "      <td>0.0</td>\n",
       "    </tr>\n",
       "    <tr>\n",
       "      <td>std</td>\n",
       "      <td>4564.852796</td>\n",
       "      <td>92.541399</td>\n",
       "      <td>200.969473</td>\n",
       "      <td>38532.941010</td>\n",
       "      <td>0.0</td>\n",
       "    </tr>\n",
       "    <tr>\n",
       "      <td>min</td>\n",
       "      <td>0.000000</td>\n",
       "      <td>1000.000000</td>\n",
       "      <td>0.000000</td>\n",
       "      <td>5000.000000</td>\n",
       "      <td>0.0</td>\n",
       "    </tr>\n",
       "    <tr>\n",
       "      <td>25%</td>\n",
       "      <td>1100.000000</td>\n",
       "      <td>1999.000000</td>\n",
       "      <td>69.000000</td>\n",
       "      <td>125000.000000</td>\n",
       "      <td>0.0</td>\n",
       "    </tr>\n",
       "    <tr>\n",
       "      <td>50%</td>\n",
       "      <td>2800.000000</td>\n",
       "      <td>2003.000000</td>\n",
       "      <td>105.000000</td>\n",
       "      <td>150000.000000</td>\n",
       "      <td>0.0</td>\n",
       "    </tr>\n",
       "    <tr>\n",
       "      <td>75%</td>\n",
       "      <td>6500.000000</td>\n",
       "      <td>2008.000000</td>\n",
       "      <td>143.000000</td>\n",
       "      <td>150000.000000</td>\n",
       "      <td>0.0</td>\n",
       "    </tr>\n",
       "    <tr>\n",
       "      <td>max</td>\n",
       "      <td>20000.000000</td>\n",
       "      <td>9999.000000</td>\n",
       "      <td>20000.000000</td>\n",
       "      <td>150000.000000</td>\n",
       "      <td>0.0</td>\n",
       "    </tr>\n",
       "  </tbody>\n",
       "</table>\n",
       "</div>"
      ],
      "text/plain": [
       "               Price  RegistrationYear          Power      Kilometer  \\\n",
       "count  309329.000000     309329.000000  309329.000000  309329.000000   \n",
       "mean     4486.937196       2004.360105     110.976908  127217.735809   \n",
       "std      4564.852796         92.541399     200.969473   38532.941010   \n",
       "min         0.000000       1000.000000       0.000000    5000.000000   \n",
       "25%      1100.000000       1999.000000      69.000000  125000.000000   \n",
       "50%      2800.000000       2003.000000     105.000000  150000.000000   \n",
       "75%      6500.000000       2008.000000     143.000000  150000.000000   \n",
       "max     20000.000000       9999.000000   20000.000000  150000.000000   \n",
       "\n",
       "       NumberOfPictures  \n",
       "count          309329.0  \n",
       "mean                0.0  \n",
       "std                 0.0  \n",
       "min                 0.0  \n",
       "25%                 0.0  \n",
       "50%                 0.0  \n",
       "75%                 0.0  \n",
       "max                 0.0  "
      ]
     },
     "execution_count": 9,
     "metadata": {},
     "output_type": "execute_result"
    }
   ],
   "source": [
    "data.describe()"
   ]
  },
  {
   "cell_type": "markdown",
   "metadata": {},
   "source": [
    "\n",
    "Видим значения с нулевой ценой, с неправдоподобным годом регистрации и мощностью. Также видим, что для всех автомобилей столбец с количеством фотографии полностью нулевой, значит можем по нему не обучать модели.\n"
   ]
  },
  {
   "cell_type": "code",
   "execution_count": 10,
   "metadata": {},
   "outputs": [],
   "source": [
    "data = data.loc[(data['Price'] > 0) & (data['RegistrationYear'] > 1870) & (data['RegistrationYear'] < 2016)]\n",
    "data = data.loc[(data['Power'] > 0) & (data['Power'] < 1000)]\n",
    "data = data.drop(['NumberOfPictures'], axis=1).reset_index(drop=True)"
   ]
  },
  {
   "cell_type": "markdown",
   "metadata": {},
   "source": [
    "\n",
    "Теперь объявим признаки для обучения моделей и целевой признак.\n"
   ]
  },
  {
   "cell_type": "code",
   "execution_count": 11,
   "metadata": {},
   "outputs": [],
   "source": [
    "target = data['Price']\n",
    "features = data.drop(['Price'], axis=1).reset_index(drop=True)"
   ]
  },
  {
   "cell_type": "markdown",
   "metadata": {},
   "source": [
    "[К оглавлению](#intro)"
   ]
  },
  {
   "cell_type": "markdown",
   "metadata": {},
   "source": [
    "<a id='chapter2'></a>\n",
    "\n",
    "# Обучение моделей"
   ]
  },
  {
   "cell_type": "markdown",
   "metadata": {},
   "source": [
    "\n",
    "Подготовим данные перед обучением модели. Обучить модель на тех данных, что у нас есть, не получится: признаки могут быть только численные, а наши данные содержат и категориальные признаки. Преобразуем их в численные техникой прямого кодирования. Столбец с информацией о модели автомобиля  содержит очень много категорий, обработаем его с помощью Ordinal Encoder.\n"
   ]
  },
  {
   "cell_type": "markdown",
   "metadata": {},
   "source": [
    "<a id='correct1'></a>"
   ]
  },
  {
   "cell_type": "code",
   "execution_count": 12,
   "metadata": {},
   "outputs": [
    {
     "name": "stdout",
     "output_type": "stream",
     "text": [
      "  VehicleType  RegistrationYear Gearbox  Power  Model  Kilometer  FuelType  \\\n",
      "0       coupe              2011  manual    190  227.0     125000  gasoline   \n",
      "1         suv              2004    auto    163  117.0     125000  gasoline   \n",
      "2       small              2001  manual     75  116.0     150000    petrol   \n",
      "3       small              2008  manual     69  101.0      90000  gasoline   \n",
      "4       sedan              1995  manual    102   11.0     150000    petrol   \n",
      "\n",
      "        Brand NotRepaired  \n",
      "0        audi         yes  \n",
      "1        jeep     unknown  \n",
      "2  volkswagen          no  \n",
      "3       skoda          no  \n",
      "4         bmw         yes  \n"
     ]
    }
   ],
   "source": [
    "encoder = OrdinalEncoder()\n",
    "encoder.fit(features)\n",
    "features_new = pd.DataFrame(encoder.transform(features), columns=features.columns)\n",
    "features.loc[:, 'Model'] = features_new.loc[:, 'Model']\n",
    "print(features.head())"
   ]
  },
  {
   "cell_type": "markdown",
   "metadata": {},
   "source": [
    "[Добавила функцию - построение гистограммы](#correct2)"
   ]
  },
  {
   "cell_type": "code",
   "execution_count": 13,
   "metadata": {},
   "outputs": [],
   "source": [
    "features = (\n",
    "    pd.get_dummies(features, columns=['VehicleType', 'Gearbox', \n",
    "                                      'FuelType', 'Brand', 'NotRepaired'], drop_first=True)\n",
    ")"
   ]
  },
  {
   "cell_type": "markdown",
   "metadata": {},
   "source": [
    "\n",
    "Тестовой выборки для предсказывания значений у нас нет. Поэтому необходимо общий набор данных разделить на три части: обучающую выборку, валидационную и тестовую в соотношении 3:1:1.\n",
    "\n",
    "На обучающей выборке мы обучим модель, на валидационной - проверочной - подберем параметры.\n"
   ]
  },
  {
   "cell_type": "code",
   "execution_count": 14,
   "metadata": {},
   "outputs": [
    {
     "name": "stdout",
     "output_type": "stream",
     "text": [
      "Количество объектов в обучающей выборке: 150888\n",
      "Количество объектов в валидационной выборке: 50297\n",
      "Количество объектов в тестовой выборке: 50297\n"
     ]
    }
   ],
   "source": [
    "#выделим тестовую выборку\n",
    "data_features, features_test, data_target, target_test = (\n",
    "train_test_split(features, target, test_size=0.2, random_state=0)\n",
    ")\n",
    "#выделим обучающую и валидационную выборку\n",
    "features_train, features_valid, target_train, target_valid = (\n",
    "train_test_split(data_features, data_target, test_size=0.25, random_state=0)\n",
    ")\n",
    "print('Количество объектов в обучающей выборке:', len(features_train))\n",
    "print('Количество объектов в валидационной выборке:', len(features_valid))\n",
    "print('Количество объектов в тестовой выборке:', len(features_test))\n",
    "#удаляем промежуточные переменные\n",
    "del data_features, data_target"
   ]
  },
  {
   "cell_type": "markdown",
   "metadata": {},
   "source": [
    "\n",
    "Теперь, после разделения набора данных на три выборки, нам необходимо масштабировать признаки. Если в одном столбце значения и их разбросы больше, чем в другом, то алгоритм решит, что этот признак важнее, а это не так: все признаки важны. \n"
   ]
  },
  {
   "cell_type": "code",
   "execution_count": 15,
   "metadata": {},
   "outputs": [],
   "source": [
    "#численные признаки\n",
    "numeric=['RegistrationYear', 'Power', 'Kilometer']\n",
    "#масштабирование\n",
    "scaler = StandardScaler()\n",
    "scaler.fit(features_train[numeric])\n",
    "features_train[numeric] = scaler.transform(features_train[numeric])\n",
    "features_valid[numeric] = scaler.transform(features_valid[numeric])\n",
    "features_test[numeric] = scaler.transform(features_test[numeric])"
   ]
  },
  {
   "cell_type": "code",
   "execution_count": 16,
   "metadata": {},
   "outputs": [
    {
     "data": {
      "text/html": [
       "<div>\n",
       "<style scoped>\n",
       "    .dataframe tbody tr th:only-of-type {\n",
       "        vertical-align: middle;\n",
       "    }\n",
       "\n",
       "    .dataframe tbody tr th {\n",
       "        vertical-align: top;\n",
       "    }\n",
       "\n",
       "    .dataframe thead th {\n",
       "        text-align: right;\n",
       "    }\n",
       "</style>\n",
       "<table border=\"1\" class=\"dataframe\">\n",
       "  <thead>\n",
       "    <tr style=\"text-align: right;\">\n",
       "      <th></th>\n",
       "      <th>RegistrationYear</th>\n",
       "      <th>Power</th>\n",
       "      <th>Model</th>\n",
       "      <th>Kilometer</th>\n",
       "      <th>VehicleType_convertible</th>\n",
       "      <th>VehicleType_coupe</th>\n",
       "      <th>VehicleType_other</th>\n",
       "      <th>VehicleType_sedan</th>\n",
       "      <th>VehicleType_small</th>\n",
       "      <th>VehicleType_suv</th>\n",
       "      <th>...</th>\n",
       "      <th>Brand_smart</th>\n",
       "      <th>Brand_sonstige_autos</th>\n",
       "      <th>Brand_subaru</th>\n",
       "      <th>Brand_suzuki</th>\n",
       "      <th>Brand_toyota</th>\n",
       "      <th>Brand_trabant</th>\n",
       "      <th>Brand_volkswagen</th>\n",
       "      <th>Brand_volvo</th>\n",
       "      <th>NotRepaired_unknown</th>\n",
       "      <th>NotRepaired_yes</th>\n",
       "    </tr>\n",
       "  </thead>\n",
       "  <tbody>\n",
       "    <tr>\n",
       "      <td>224182</td>\n",
       "      <td>-0.243700</td>\n",
       "      <td>-1.160533</td>\n",
       "      <td>226.0</td>\n",
       "      <td>0.612113</td>\n",
       "      <td>0</td>\n",
       "      <td>0</td>\n",
       "      <td>0</td>\n",
       "      <td>0</td>\n",
       "      <td>1</td>\n",
       "      <td>0</td>\n",
       "      <td>...</td>\n",
       "      <td>0</td>\n",
       "      <td>0</td>\n",
       "      <td>0</td>\n",
       "      <td>0</td>\n",
       "      <td>0</td>\n",
       "      <td>0</td>\n",
       "      <td>0</td>\n",
       "      <td>0</td>\n",
       "      <td>0</td>\n",
       "      <td>0</td>\n",
       "    </tr>\n",
       "    <tr>\n",
       "      <td>227903</td>\n",
       "      <td>1.305359</td>\n",
       "      <td>0.319960</td>\n",
       "      <td>221.0</td>\n",
       "      <td>0.612113</td>\n",
       "      <td>0</td>\n",
       "      <td>0</td>\n",
       "      <td>0</td>\n",
       "      <td>0</td>\n",
       "      <td>0</td>\n",
       "      <td>0</td>\n",
       "      <td>...</td>\n",
       "      <td>0</td>\n",
       "      <td>0</td>\n",
       "      <td>0</td>\n",
       "      <td>0</td>\n",
       "      <td>0</td>\n",
       "      <td>0</td>\n",
       "      <td>1</td>\n",
       "      <td>0</td>\n",
       "      <td>0</td>\n",
       "      <td>0</td>\n",
       "    </tr>\n",
       "    <tr>\n",
       "      <td>10218</td>\n",
       "      <td>-0.088794</td>\n",
       "      <td>0.374125</td>\n",
       "      <td>59.0</td>\n",
       "      <td>0.612113</td>\n",
       "      <td>0</td>\n",
       "      <td>0</td>\n",
       "      <td>0</td>\n",
       "      <td>0</td>\n",
       "      <td>0</td>\n",
       "      <td>0</td>\n",
       "      <td>...</td>\n",
       "      <td>0</td>\n",
       "      <td>0</td>\n",
       "      <td>0</td>\n",
       "      <td>0</td>\n",
       "      <td>0</td>\n",
       "      <td>0</td>\n",
       "      <td>0</td>\n",
       "      <td>0</td>\n",
       "      <td>1</td>\n",
       "      <td>0</td>\n",
       "    </tr>\n",
       "    <tr>\n",
       "      <td>148886</td>\n",
       "      <td>-0.243700</td>\n",
       "      <td>-0.438341</td>\n",
       "      <td>75.0</td>\n",
       "      <td>0.612113</td>\n",
       "      <td>0</td>\n",
       "      <td>0</td>\n",
       "      <td>0</td>\n",
       "      <td>1</td>\n",
       "      <td>0</td>\n",
       "      <td>0</td>\n",
       "      <td>...</td>\n",
       "      <td>0</td>\n",
       "      <td>0</td>\n",
       "      <td>0</td>\n",
       "      <td>0</td>\n",
       "      <td>0</td>\n",
       "      <td>0</td>\n",
       "      <td>0</td>\n",
       "      <td>0</td>\n",
       "      <td>1</td>\n",
       "      <td>0</td>\n",
       "    </tr>\n",
       "    <tr>\n",
       "      <td>39586</td>\n",
       "      <td>0.840641</td>\n",
       "      <td>-0.907766</td>\n",
       "      <td>45.0</td>\n",
       "      <td>-0.053720</td>\n",
       "      <td>0</td>\n",
       "      <td>0</td>\n",
       "      <td>0</td>\n",
       "      <td>0</td>\n",
       "      <td>1</td>\n",
       "      <td>0</td>\n",
       "      <td>...</td>\n",
       "      <td>0</td>\n",
       "      <td>0</td>\n",
       "      <td>0</td>\n",
       "      <td>0</td>\n",
       "      <td>0</td>\n",
       "      <td>0</td>\n",
       "      <td>0</td>\n",
       "      <td>0</td>\n",
       "      <td>0</td>\n",
       "      <td>0</td>\n",
       "    </tr>\n",
       "  </tbody>\n",
       "</table>\n",
       "<p>5 rows × 62 columns</p>\n",
       "</div>"
      ],
      "text/plain": [
       "        RegistrationYear     Power  Model  Kilometer  VehicleType_convertible  \\\n",
       "224182         -0.243700 -1.160533  226.0   0.612113                        0   \n",
       "227903          1.305359  0.319960  221.0   0.612113                        0   \n",
       "10218          -0.088794  0.374125   59.0   0.612113                        0   \n",
       "148886         -0.243700 -0.438341   75.0   0.612113                        0   \n",
       "39586           0.840641 -0.907766   45.0  -0.053720                        0   \n",
       "\n",
       "        VehicleType_coupe  VehicleType_other  VehicleType_sedan  \\\n",
       "224182                  0                  0                  0   \n",
       "227903                  0                  0                  0   \n",
       "10218                   0                  0                  0   \n",
       "148886                  0                  0                  1   \n",
       "39586                   0                  0                  0   \n",
       "\n",
       "        VehicleType_small  VehicleType_suv  ...  Brand_smart  \\\n",
       "224182                  1                0  ...            0   \n",
       "227903                  0                0  ...            0   \n",
       "10218                   0                0  ...            0   \n",
       "148886                  0                0  ...            0   \n",
       "39586                   1                0  ...            0   \n",
       "\n",
       "        Brand_sonstige_autos  Brand_subaru  Brand_suzuki  Brand_toyota  \\\n",
       "224182                     0             0             0             0   \n",
       "227903                     0             0             0             0   \n",
       "10218                      0             0             0             0   \n",
       "148886                     0             0             0             0   \n",
       "39586                      0             0             0             0   \n",
       "\n",
       "        Brand_trabant  Brand_volkswagen  Brand_volvo  NotRepaired_unknown  \\\n",
       "224182              0                 0            0                    0   \n",
       "227903              0                 1            0                    0   \n",
       "10218               0                 0            0                    1   \n",
       "148886              0                 0            0                    1   \n",
       "39586               0                 0            0                    0   \n",
       "\n",
       "        NotRepaired_yes  \n",
       "224182                0  \n",
       "227903                0  \n",
       "10218                 0  \n",
       "148886                0  \n",
       "39586                 0  \n",
       "\n",
       "[5 rows x 62 columns]"
      ]
     },
     "execution_count": 16,
     "metadata": {},
     "output_type": "execute_result"
    }
   ],
   "source": [
    "features_train.head()"
   ]
  },
  {
   "cell_type": "markdown",
   "metadata": {},
   "source": [
    "\n",
    "Обучим модели несколькими алгоритмами. В качестве метрики будем использовать RMSE, а, поскольку нам также важно время обучения моделей, подсчитаем его и при выборе оптимальной модели будем учитывать не только метрику, но и время.\n"
   ]
  },
  {
   "cell_type": "markdown",
   "metadata": {},
   "source": [
    "Будем использовать алгоритмы:\n",
    "\n",
    "* линейная регрессия\n",
    "\n",
    "* дерево решений\n",
    "\n",
    "* случайный лес\n",
    "\n",
    "* градиентный бустинг\n"
   ]
  },
  {
   "cell_type": "markdown",
   "metadata": {},
   "source": [
    "<a id='correct2'></a>"
   ]
  },
  {
   "cell_type": "code",
   "execution_count": 17,
   "metadata": {},
   "outputs": [],
   "source": [
    "#создадим результирующую таблицу\n",
    "final = (\n",
    "    pd.DataFrame(index=['Линейная регрессия', 'Дерево решений', 'Случайный лес', 'Градиентный бустинг'],\n",
    "                columns=['RMSE', 'Время обучения', 'Время прогноза'])\n",
    ")"
   ]
  },
  {
   "cell_type": "code",
   "execution_count": 18,
   "metadata": {},
   "outputs": [],
   "source": [
    "def plot_feature_importance(importance, names, model_type):\n",
    "    feature_importance = np.array(importance)\n",
    "    feature_names = np.array(names)\n",
    "    data = {'feature_names': feature_names, 'feature_importance': feature_importance}\n",
    "    df = pd.DataFrame(data)\n",
    "    df.sort_values(by=['feature_importance'], ascending=False, inplace=True)\n",
    "    plt.figure(figsize=(10, 8))\n",
    "    sns.barplot(x=df['feature_importance'], y=df['feature_names'])\n",
    "    plt.title(model_type)\n",
    "    plt.xlabel('Важность признаков')\n",
    "    plt.ylabel('Признаки')"
   ]
  },
  {
   "cell_type": "markdown",
   "metadata": {},
   "source": [
    "## Среднее значение"
   ]
  },
  {
   "cell_type": "code",
   "execution_count": 19,
   "metadata": {},
   "outputs": [
    {
     "name": "stdout",
     "output_type": "stream",
     "text": [
      "RMSE константной модели: 4675.7291576081425\n",
      "CPU times: user 2.47 ms, sys: 349 µs, total: 2.82 ms\n",
      "Wall time: 2.25 ms\n"
     ]
    }
   ],
   "source": [
    "%%time\n",
    "#заполнение средним значением\n",
    "predictions = pd.Series(target_train.mean(), index=target_valid.index)\n",
    "#рассчитываем RMSE\n",
    "result_const = (mean_squared_error(target_valid, predictions))**(0.5)\n",
    "print('RMSE константной модели:', result_const)"
   ]
  },
  {
   "cell_type": "markdown",
   "metadata": {},
   "source": [
    "## Линейная регрессия"
   ]
  },
  {
   "cell_type": "code",
   "execution_count": 20,
   "metadata": {},
   "outputs": [
    {
     "name": "stdout",
     "output_type": "stream",
     "text": [
      "RMSE линейной регрессии: 2817.373754123059\n",
      "CPU times: user 1.68 s, sys: 723 ms, total: 2.41 s\n",
      "Wall time: 2.38 s\n"
     ]
    }
   ],
   "source": [
    "%%time\n",
    "#создаем модель\n",
    "model_linear = LinearRegression()\n",
    "#обучаем ее\n",
    "model_linear.fit(features_train, target_train)\n",
    "#предсказываем результаты на валидационной выборке\n",
    "predictions = model_linear.predict(features_valid)\n",
    "#рассчитываем RMSE\n",
    "result_linear = (mean_squared_error(target_valid, predictions))**(0.5)\n",
    "print('RMSE линейной регрессии:', result_linear)"
   ]
  },
  {
   "cell_type": "code",
   "execution_count": 21,
   "metadata": {},
   "outputs": [],
   "source": [
    "final.loc['Линейная регрессия', 'Время обучения'] = 2.5"
   ]
  },
  {
   "cell_type": "markdown",
   "metadata": {},
   "source": [
    "## Дерево решений"
   ]
  },
  {
   "cell_type": "code",
   "execution_count": 22,
   "metadata": {},
   "outputs": [],
   "source": [
    "def rmse(target, predict):\n",
    "    return (mean_squared_error(target, predict))**(0.5)"
   ]
  },
  {
   "cell_type": "code",
   "execution_count": 23,
   "metadata": {},
   "outputs": [
    {
     "name": "stdout",
     "output_type": "stream",
     "text": [
      "RMSE дерева решений: 2001.5405359892252\n",
      "CPU times: user 26.8 s, sys: 745 ms, total: 27.6 s\n",
      "Wall time: 27.7 s\n"
     ]
    }
   ],
   "source": [
    "%%time\n",
    "#создаем модель\n",
    "model_tree = DecisionTreeRegressor(random_state=0)\n",
    "#подбираем лучшие гиперпараметры\n",
    "parameters = {'max_depth': range(1, 11)}\n",
    "grid_tree = GridSearchCV(model_tree, scoring=make_scorer(rmse, greater_is_better=False), param_grid=parameters, cv=5)\n",
    "#обучаем ее\n",
    "grid_tree.fit(features_train, target_train)\n",
    "#предсказываем результаты на валидационной выборке\n",
    "predictions = grid_tree.predict(features_valid)\n",
    "#рассчитываем RMSE\n",
    "result_tree = (mean_squared_error(target_valid, predictions))**(0.5)\n",
    "print('RMSE дерева решений:', result_tree)"
   ]
  },
  {
   "cell_type": "markdown",
   "metadata": {},
   "source": [
    "<a id='correct3'></a>"
   ]
  },
  {
   "cell_type": "code",
   "execution_count": 24,
   "metadata": {},
   "outputs": [],
   "source": [
    "final.loc['Дерево решений', 'RMSE'] = result_tree\n",
    "final.loc['Дерево решений', 'Время обучения'] = 27.9"
   ]
  },
  {
   "cell_type": "code",
   "execution_count": 25,
   "metadata": {},
   "outputs": [
    {
     "data": {
      "image/png": "[encoded data removed]",
      "text/plain": [
       "<Figure size 720x576 with 1 Axes>"
      ]
     },
     "metadata": {
      "needs_background": "light"
     },
     "output_type": "display_data"
    }
   ],
   "source": [
    "plot_feature_importance(grid_tree.best_estimator_.feature_importances_, features_train.columns, 'Дерево решений')"
   ]
  },
  {
   "cell_type": "markdown",
   "metadata": {},
   "source": [
    "## Случайный лес"
   ]
  },
  {
   "cell_type": "code",
   "execution_count": 26,
   "metadata": {},
   "outputs": [
    {
     "name": "stdout",
     "output_type": "stream",
     "text": [
      "RMSE случайного леса: 1898.7607749326812\n",
      "CPU times: user 17min 6s, sys: 2.07 s, total: 17min 8s\n",
      "Wall time: 17min 14s\n"
     ]
    }
   ],
   "source": [
    "%%time\n",
    "#задаем параметры, в которые сохраним наилучшие результаты\n",
    "best_est_forest = 0\n",
    "best_depth_forest = 0\n",
    "best_result_forest = 10000000\n",
    "model_forest = None\n",
    "#в цикле перебираем значения гиперпараметров\n",
    "for est in range(10, 51, 5):\n",
    "    for depth in range(1, 11):\n",
    "        #задаем модель с текущими гиперпараметрами\n",
    "        model = RandomForestRegressor(random_state=0, n_estimators=est, max_depth=depth)\n",
    "        #обучаем модель на обучающей выборке\n",
    "        model.fit(features_train, target_train)\n",
    "        #предсказываем результаты на валидационной выборке\n",
    "        predictions = model.predict(features_valid)\n",
    "        #рассчитываем RMSE\n",
    "        result = (mean_squared_error(target_valid, predictions))**(0.5)\n",
    "        #выбираем наилучший результат\n",
    "        if result < best_result_forest:\n",
    "            best_result_forest = result\n",
    "            best_depth_forest = depth\n",
    "            best_est_forest = est\n",
    "            model_forest = model\n",
    "print('RMSE случайного леса:', best_result_forest)"
   ]
  },
  {
   "cell_type": "code",
   "execution_count": 27,
   "metadata": {},
   "outputs": [],
   "source": [
    "final.loc['Случайный лес', 'RMSE'] = best_result_forest\n",
    "final.loc['Случайный лес', 'Время обучения'] = 1055"
   ]
  },
  {
   "cell_type": "code",
   "execution_count": 28,
   "metadata": {},
   "outputs": [
    {
     "data": {
      "image/png": "[encoded data removed]",
      "text/plain": [
       "<Figure size 720x576 with 1 Axes>"
      ]
     },
     "metadata": {
      "needs_background": "light"
     },
     "output_type": "display_data"
    }
   ],
   "source": [
    "plot_feature_importance(model_forest.feature_importances_, features_train.columns, 'Случайный лес')"
   ]
  },
  {
   "cell_type": "markdown",
   "metadata": {},
   "source": [
    "## Градиентный бустинг"
   ]
  },
  {
   "cell_type": "code",
   "execution_count": 29,
   "metadata": {},
   "outputs": [
    {
     "name": "stdout",
     "output_type": "stream",
     "text": [
      "RMSE градиентного бустинга: 1624.8951666413807\n",
      "CPU times: user 35min 27s, sys: 15.7 s, total: 35min 42s\n",
      "Wall time: 36min 8s\n"
     ]
    }
   ],
   "source": [
    "%%time\n",
    "#создаем модель\n",
    "model_lgbm = LGBMRegressor()\n",
    "#подбираем лучшие гиперпараметры\n",
    "parameters = {'n_estimators': range(100, 500, 100), 'max_depth': range(1, 11)}\n",
    "grid_lgbm = GridSearchCV(model_lgbm, scoring=make_scorer(rmse, greater_is_better=False), param_grid=parameters, cv=5)\n",
    "#обучаем ее\n",
    "grid_lgbm.fit(features_train, target_train)\n",
    "#предсказываем результаты на валидационной выборке\n",
    "predictions = grid_lgbm.predict(features_valid)\n",
    "#рассчитываем RMSE\n",
    "result_lgbm = (mean_squared_error(target_valid, predictions))**(0.5)\n",
    "print('RMSE градиентного бустинга:', result_lgbm)"
   ]
  },
  {
   "cell_type": "code",
   "execution_count": 30,
   "metadata": {},
   "outputs": [],
   "source": [
    "final.loc['Градиентный бустинг', 'RMSE'] = result_lgbm\n",
    "final.loc['Градиентный бустинг', 'Время обучения'] = 2169"
   ]
  },
  {
   "cell_type": "code",
   "execution_count": 31,
   "metadata": {},
   "outputs": [
    {
     "data": {
      "image/png": "[encoded data removed]",
      "text/plain": [
       "<Figure size 720x576 with 1 Axes>"
      ]
     },
     "metadata": {
      "needs_background": "light"
     },
     "output_type": "display_data"
    }
   ],
   "source": [
    "plot_feature_importance(grid_lgbm.best_estimator_.feature_importances_, features_train.columns, 'Градиентный бустинг')"
   ]
  },
  {
   "cell_type": "markdown",
   "metadata": {},
   "source": [
    "\n"
   ]
  },
  {
   "cell_type": "markdown",
   "metadata": {},
   "source": [
    "[К оглавлению](#intro)"
   ]
  },
  {
   "cell_type": "markdown",
   "metadata": {},
   "source": [
    "<a id='chapter3'></a>\n",
    "\n",
    "# Анализ моделей"
   ]
  },
  {
   "cell_type": "markdown",
   "metadata": {},
   "source": [
    "\n",
    "Итак, видим, что модель, созданная по алгоритму градиентного бустинга показывает не только лучший результат, но и время. Посмотрим, какие результаты метрики и времени покажут алгоритмы на тестовой выборке.\n"
   ]
  },
  {
   "cell_type": "code",
   "execution_count": 32,
   "metadata": {},
   "outputs": [
    {
     "name": "stdout",
     "output_type": "stream",
     "text": [
      "RMSE линейной регрессии: 2825.239391580224\n",
      "CPU times: user 30.4 ms, sys: 116 µs, total: 30.6 ms\n",
      "Wall time: 13.3 ms\n"
     ]
    }
   ],
   "source": [
    "%%time\n",
    "predictions = model_linear.predict(features_test)\n",
    "result_linear = rmse(target_test, predictions)\n",
    "print('RMSE линейной регрессии:', result_linear)"
   ]
  },
  {
   "cell_type": "code",
   "execution_count": 33,
   "metadata": {},
   "outputs": [],
   "source": [
    "final.loc['Линейная регрессия', 'Время прогноза'] = 0.013\n",
    "final.loc['Линейная регрессия', 'RMSE'] = result_linear"
   ]
  },
  {
   "cell_type": "code",
   "execution_count": 34,
   "metadata": {},
   "outputs": [
    {
     "name": "stdout",
     "output_type": "stream",
     "text": [
      "RMSE дерева решений: 2007.3933879041947\n",
      "CPU times: user 18.4 ms, sys: 4.07 ms, total: 22.4 ms\n",
      "Wall time: 21.8 ms\n"
     ]
    }
   ],
   "source": [
    "%%time\n",
    "predictions = grid_tree.predict(features_test)\n",
    "result_tree = rmse(target_test, predictions)\n",
    "print('RMSE дерева решений:', result_tree)"
   ]
  },
  {
   "cell_type": "code",
   "execution_count": 35,
   "metadata": {},
   "outputs": [],
   "source": [
    "final.loc['Дерево решений', 'Время прогноза'] = 0.022\n",
    "final.loc['Дерево решений', 'RMSE'] = result_tree"
   ]
  },
  {
   "cell_type": "code",
   "execution_count": 36,
   "metadata": {},
   "outputs": [
    {
     "name": "stdout",
     "output_type": "stream",
     "text": [
      "RMSE случайного леса: 1897.493494788774\n",
      "CPU times: user 216 ms, sys: 0 ns, total: 216 ms\n",
      "Wall time: 214 ms\n"
     ]
    }
   ],
   "source": [
    "%%time\n",
    "predictions = model_forest.predict(features_test)\n",
    "result_forest = rmse(target_test, predictions)\n",
    "print('RMSE случайного леса:', result_forest)"
   ]
  },
  {
   "cell_type": "code",
   "execution_count": 37,
   "metadata": {},
   "outputs": [],
   "source": [
    "final.loc['Случайный лес', 'Время прогноза'] = 0.214\n",
    "final.loc['Случайный лес', 'RMSE'] = result_forest"
   ]
  },
  {
   "cell_type": "code",
   "execution_count": 38,
   "metadata": {},
   "outputs": [
    {
     "name": "stdout",
     "output_type": "stream",
     "text": [
      "RMSE градиентного бустинга: 1618.6405880336945\n",
      "CPU times: user 2.6 s, sys: 3.24 ms, total: 2.61 s\n",
      "Wall time: 2.55 s\n"
     ]
    }
   ],
   "source": [
    "%%time\n",
    "predictions = grid_lgbm.predict(features_test)\n",
    "result_lgbm = rmse(target_test, predictions)\n",
    "print('RMSE градиентного бустинга:', result_lgbm)"
   ]
  },
  {
   "cell_type": "code",
   "execution_count": 39,
   "metadata": {},
   "outputs": [],
   "source": [
    "final.loc['Градиентный бустинг', 'Время прогноза'] = 2.6\n",
    "final.loc['Градиентный бустинг', 'RMSE'] = result_lgbm"
   ]
  },
  {
   "cell_type": "markdown",
   "metadata": {},
   "source": [
    "[К оглавлению](#intro)"
   ]
  },
  {
   "cell_type": "markdown",
   "metadata": {},
   "source": [
    "<a id='chapter4'></a>\n",
    "\n",
    "# Вывод"
   ]
  },
  {
   "cell_type": "markdown",
   "metadata": {},
   "source": [
    "\n",
    "В данной работе был проведен анализ обучаемости и скорости работы моделей для прогноза рыночной стоимости автомобилей. Было рассмотрено пять алгоритмов построения моделей:\n",
    "\n",
    "* заполнение средним значением\n",
    "\n",
    "* линейная регрессия\n",
    "\n",
    "* дерево решений\n",
    "\n",
    "* случайный лес\n",
    "\n",
    "* градиентный бустинг\n",
    "\n",
    "В моделях проводилось изменение гиперпараметров для получения наилучшего результата. Изменялись глубина дерева и количество деревьев. В рассматриваемых алгоритмах несколько гиперпараметров, которыми мы могли бы оперировать, но рассматривались лишь эти два, как наиболее значимые.\n",
    "\n",
    "Наилучший результат по прогнозируемым значениям показал алгоритм LGBMRegressor. Значение метрики на тестовой выборке получилось равным 1618.6, что почти в два раза меньше, чем, например, на модели линейной регрессии. Однако модель линейной регрессии обучается гораздо быстрее.\n",
    "\n",
    "В дальнейшей работе для прогноза стоимости цены автомобилей мы рекомендуем воспользоваться этой полученной моделью, построенной градиентным бустингом.\n"
   ]
  },
  {
   "cell_type": "code",
   "execution_count": 40,
   "metadata": {},
   "outputs": [
    {
     "data": {
      "text/html": [
       "<style  type=\"text/css\" >\n",
       "    #T_dd886a02_8353_11eb_8911_02420a396ed2row0_col1 {\n",
       "            background-color:  yellowgreen;\n",
       "        }    #T_dd886a02_8353_11eb_8911_02420a396ed2row0_col2 {\n",
       "            background-color:  yellowgreen;\n",
       "        }    #T_dd886a02_8353_11eb_8911_02420a396ed2row3_col0 {\n",
       "            background-color:  yellowgreen;\n",
       "        }</style><table id=\"T_dd886a02_8353_11eb_8911_02420a396ed2\" ><thead>    <tr>        <th class=\"blank level0\" ></th>        <th class=\"col_heading level0 col0\" >RMSE</th>        <th class=\"col_heading level0 col1\" >Время обучения</th>        <th class=\"col_heading level0 col2\" >Время прогноза</th>    </tr></thead><tbody>\n",
       "                <tr>\n",
       "                        <th id=\"T_dd886a02_8353_11eb_8911_02420a396ed2level0_row0\" class=\"row_heading level0 row0\" >Линейная регрессия</th>\n",
       "                        <td id=\"T_dd886a02_8353_11eb_8911_02420a396ed2row0_col0\" class=\"data row0 col0\" >2825.24</td>\n",
       "                        <td id=\"T_dd886a02_8353_11eb_8911_02420a396ed2row0_col1\" class=\"data row0 col1\" >2.5</td>\n",
       "                        <td id=\"T_dd886a02_8353_11eb_8911_02420a396ed2row0_col2\" class=\"data row0 col2\" >0.012</td>\n",
       "            </tr>\n",
       "            <tr>\n",
       "                        <th id=\"T_dd886a02_8353_11eb_8911_02420a396ed2level0_row1\" class=\"row_heading level0 row1\" >Дерево решений</th>\n",
       "                        <td id=\"T_dd886a02_8353_11eb_8911_02420a396ed2row1_col0\" class=\"data row1 col0\" >2007.39</td>\n",
       "                        <td id=\"T_dd886a02_8353_11eb_8911_02420a396ed2row1_col1\" class=\"data row1 col1\" >27.9</td>\n",
       "                        <td id=\"T_dd886a02_8353_11eb_8911_02420a396ed2row1_col2\" class=\"data row1 col2\" >0.021</td>\n",
       "            </tr>\n",
       "            <tr>\n",
       "                        <th id=\"T_dd886a02_8353_11eb_8911_02420a396ed2level0_row2\" class=\"row_heading level0 row2\" >Случайный лес</th>\n",
       "                        <td id=\"T_dd886a02_8353_11eb_8911_02420a396ed2row2_col0\" class=\"data row2 col0\" >1897.49</td>\n",
       "                        <td id=\"T_dd886a02_8353_11eb_8911_02420a396ed2row2_col1\" class=\"data row2 col1\" >1055</td>\n",
       "                        <td id=\"T_dd886a02_8353_11eb_8911_02420a396ed2row2_col2\" class=\"data row2 col2\" >0.227</td>\n",
       "            </tr>\n",
       "            <tr>\n",
       "                        <th id=\"T_dd886a02_8353_11eb_8911_02420a396ed2level0_row3\" class=\"row_heading level0 row3\" >Градиентный бустинг</th>\n",
       "                        <td id=\"T_dd886a02_8353_11eb_8911_02420a396ed2row3_col0\" class=\"data row3 col0\" >1618.64</td>\n",
       "                        <td id=\"T_dd886a02_8353_11eb_8911_02420a396ed2row3_col1\" class=\"data row3 col1\" >2169</td>\n",
       "                        <td id=\"T_dd886a02_8353_11eb_8911_02420a396ed2row3_col2\" class=\"data row3 col2\" >2.2</td>\n",
       "            </tr>\n",
       "    </tbody></table>"
      ],
      "text/plain": [
       "<pandas.io.formats.style.Styler at 0x7f6f1a78ab50>"
      ]
     },
     "execution_count": 40,
     "metadata": {},
     "output_type": "execute_result"
    }
   ],
   "source": [
    "final.head().style.highlight_min(color='yellowgreen', subset=['RMSE', 'Время обучения', 'Время прогноза'])"
   ]
  },
  {
   "cell_type": "markdown",
   "metadata": {},
   "source": [
    "[К оглавлению](#intro)"
   ]
  },
  {
   "cell_type": "code",
   "execution_count": null,
   "metadata": {},
   "outputs": [],
   "source": []
  }
 ],
 "metadata": {
  "kernelspec": {
   "display_name": "Python 3",
   "language": "python",
   "name": "python3"
  },
  "language_info": {
   "codemirror_mode": {
    "name": "ipython",
    "version": 3
   },
   "file_extension": ".py",
   "mimetype": "text/x-python",
   "name": "python",
   "nbconvert_exporter": "python",
   "pygments_lexer": "ipython3",
   "version": "3.7.8"
  },
  "toc": {
   "base_numbering": 1,
   "nav_menu": {},
   "number_sections": true,
   "sideBar": true,
   "skip_h1_title": true,
   "title_cell": "Table of Contents",
   "title_sidebar": "Contents",
   "toc_cell": false,
   "toc_position": {},
   "toc_section_display": true,
   "toc_window_display": false
  }
 },
 "nbformat": 4,
 "nbformat_minor": 2
}
