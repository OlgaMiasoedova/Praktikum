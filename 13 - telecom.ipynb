{
 "cells": [
  {
   "cell_type": "markdown",
   "metadata": {},
   "source": [
    "# Телеком - задача проекта"
   ]
  },
  {
   "cell_type": "markdown",
   "metadata": {},
   "source": [
    "<a id='intro'></a>\n",
    "\n",
    "## Оглавление"
   ]
  },
  {
   "cell_type": "markdown",
   "metadata": {},
   "source": [
    "[Введение](#chapter2)\n",
    "\n",
    "[Исследование задачи](#chapter3)\n",
    "\n",
    "[Подготовка данных](#chapter4)\n",
    "\n",
    "[Обучение моделей](#chapter5)\n",
    "\n",
    "[Борьба с дисбалансом](#chapter6)\n",
    "\n",
    "[Общий вывод](#chapter7)"
   ]
  },
  {
   "cell_type": "markdown",
   "metadata": {},
   "source": [
    "<a id='chapter2'></a>\n",
    "\n",
    "## Введение"
   ]
  },
  {
   "cell_type": "markdown",
   "metadata": {},
   "source": [
    "\n",
    "Оператор связи хочет научиться прогнозировать отток клиентов. Если выяснится, что пользователь планирует уйти, ему будут предложены промокоды и специальные условия.\n",
    "\n",
    "\n",
    "Цель данной работы: спрогнозировать уход клиента из компании. Для решения этой задачи мы должны построить модель для задачи классификации, которая сможет определить уйдет данный клиент или нет.\n",
    "\n",
    "В качестве исходной информации нам передали данные о поведении клиентов, их персональных данных, информацию об их тарифах и договорах.\n"
   ]
  },
  {
   "cell_type": "markdown",
   "metadata": {},
   "source": [
    "<a id='chapter3'></a>\n",
    "\n",
    "## Исследование задачи"
   ]
  },
  {
   "cell_type": "markdown",
   "metadata": {},
   "source": [
    "\n",
    "Загрузим необходимые библиотеки для последующей работы.\n"
   ]
  },
  {
   "cell_type": "code",
   "execution_count": 1,
   "metadata": {},
   "outputs": [],
   "source": [
    "import pandas as pd\n",
    "import numpy as np\n",
    "import seaborn as sns\n",
    "from sklearn.model_selection import train_test_split, GridSearchCV\n",
    "from sklearn.preprocessing import StandardScaler\n",
    "from sklearn.tree import DecisionTreeClassifier\n",
    "from sklearn.ensemble import RandomForestClassifier\n",
    "from sklearn.linear_model import LogisticRegression\n",
    "from sklearn.metrics import accuracy_score, roc_auc_score, roc_curve\n",
    "from catboost import CatBoostClassifier\n",
    "from sklearn.utils import shuffle\n",
    "import matplotlib.pyplot as plt\n",
    "import warnings\n",
    "warnings.filterwarnings('ignore')\n",
    "plt.style.use('ggplot')"
   ]
  },
  {
   "cell_type": "markdown",
   "metadata": {},
   "source": [
    "\n",
    "Все данные находятся в четырех файлах. Загрузим их в разные датасеты.\n"
   ]
  },
  {
   "cell_type": "code",
   "execution_count": 2,
   "metadata": {},
   "outputs": [],
   "source": [
    "data_contract = pd.read_csv('/datasets/final_provider/contract.csv')\n",
    "data_personal = pd.read_csv('/datasets/final_provider/personal.csv')\n",
    "data_internet = pd.read_csv('/datasets/final_provider/internet.csv')\n",
    "data_phone = pd.read_csv('/datasets/final_provider/phone.csv')"
   ]
  },
  {
   "cell_type": "markdown",
   "metadata": {},
   "source": [
    "\n",
    "Объединим теперь все данные в один датасет по идентификационному номеру клиента.\n"
   ]
  },
  {
   "cell_type": "code",
   "execution_count": 3,
   "metadata": {},
   "outputs": [
    {
     "data": {
      "text/html": [
       "<div>\n",
       "<style scoped>\n",
       "    .dataframe tbody tr th:only-of-type {\n",
       "        vertical-align: middle;\n",
       "    }\n",
       "\n",
       "    .dataframe tbody tr th {\n",
       "        vertical-align: top;\n",
       "    }\n",
       "\n",
       "    .dataframe thead th {\n",
       "        text-align: right;\n",
       "    }\n",
       "</style>\n",
       "<table border=\"1\" class=\"dataframe\">\n",
       "  <thead>\n",
       "    <tr style=\"text-align: right;\">\n",
       "      <th></th>\n",
       "      <th>customerID</th>\n",
       "      <th>BeginDate</th>\n",
       "      <th>EndDate</th>\n",
       "      <th>Type</th>\n",
       "      <th>PaperlessBilling</th>\n",
       "      <th>PaymentMethod</th>\n",
       "      <th>MonthlyCharges</th>\n",
       "      <th>TotalCharges</th>\n",
       "      <th>gender</th>\n",
       "      <th>SeniorCitizen</th>\n",
       "      <th>Partner</th>\n",
       "      <th>Dependents</th>\n",
       "      <th>InternetService</th>\n",
       "      <th>OnlineSecurity</th>\n",
       "      <th>OnlineBackup</th>\n",
       "      <th>DeviceProtection</th>\n",
       "      <th>TechSupport</th>\n",
       "      <th>StreamingTV</th>\n",
       "      <th>StreamingMovies</th>\n",
       "      <th>MultipleLines</th>\n",
       "    </tr>\n",
       "  </thead>\n",
       "  <tbody>\n",
       "    <tr>\n",
       "      <td>0</td>\n",
       "      <td>7590-VHVEG</td>\n",
       "      <td>2020-01-01</td>\n",
       "      <td>No</td>\n",
       "      <td>Month-to-month</td>\n",
       "      <td>Yes</td>\n",
       "      <td>Electronic check</td>\n",
       "      <td>29.85</td>\n",
       "      <td>29.85</td>\n",
       "      <td>Female</td>\n",
       "      <td>0</td>\n",
       "      <td>Yes</td>\n",
       "      <td>No</td>\n",
       "      <td>DSL</td>\n",
       "      <td>No</td>\n",
       "      <td>Yes</td>\n",
       "      <td>No</td>\n",
       "      <td>No</td>\n",
       "      <td>No</td>\n",
       "      <td>No</td>\n",
       "      <td>NaN</td>\n",
       "    </tr>\n",
       "    <tr>\n",
       "      <td>1</td>\n",
       "      <td>5575-GNVDE</td>\n",
       "      <td>2017-04-01</td>\n",
       "      <td>No</td>\n",
       "      <td>One year</td>\n",
       "      <td>No</td>\n",
       "      <td>Mailed check</td>\n",
       "      <td>56.95</td>\n",
       "      <td>1889.5</td>\n",
       "      <td>Male</td>\n",
       "      <td>0</td>\n",
       "      <td>No</td>\n",
       "      <td>No</td>\n",
       "      <td>DSL</td>\n",
       "      <td>Yes</td>\n",
       "      <td>No</td>\n",
       "      <td>Yes</td>\n",
       "      <td>No</td>\n",
       "      <td>No</td>\n",
       "      <td>No</td>\n",
       "      <td>No</td>\n",
       "    </tr>\n",
       "    <tr>\n",
       "      <td>2</td>\n",
       "      <td>3668-QPYBK</td>\n",
       "      <td>2019-10-01</td>\n",
       "      <td>2019-12-01 00:00:00</td>\n",
       "      <td>Month-to-month</td>\n",
       "      <td>Yes</td>\n",
       "      <td>Mailed check</td>\n",
       "      <td>53.85</td>\n",
       "      <td>108.15</td>\n",
       "      <td>Male</td>\n",
       "      <td>0</td>\n",
       "      <td>No</td>\n",
       "      <td>No</td>\n",
       "      <td>DSL</td>\n",
       "      <td>Yes</td>\n",
       "      <td>Yes</td>\n",
       "      <td>No</td>\n",
       "      <td>No</td>\n",
       "      <td>No</td>\n",
       "      <td>No</td>\n",
       "      <td>No</td>\n",
       "    </tr>\n",
       "    <tr>\n",
       "      <td>3</td>\n",
       "      <td>7795-CFOCW</td>\n",
       "      <td>2016-05-01</td>\n",
       "      <td>No</td>\n",
       "      <td>One year</td>\n",
       "      <td>No</td>\n",
       "      <td>Bank transfer (automatic)</td>\n",
       "      <td>42.30</td>\n",
       "      <td>1840.75</td>\n",
       "      <td>Male</td>\n",
       "      <td>0</td>\n",
       "      <td>No</td>\n",
       "      <td>No</td>\n",
       "      <td>DSL</td>\n",
       "      <td>Yes</td>\n",
       "      <td>No</td>\n",
       "      <td>Yes</td>\n",
       "      <td>Yes</td>\n",
       "      <td>No</td>\n",
       "      <td>No</td>\n",
       "      <td>NaN</td>\n",
       "    </tr>\n",
       "    <tr>\n",
       "      <td>4</td>\n",
       "      <td>9237-HQITU</td>\n",
       "      <td>2019-09-01</td>\n",
       "      <td>2019-11-01 00:00:00</td>\n",
       "      <td>Month-to-month</td>\n",
       "      <td>Yes</td>\n",
       "      <td>Electronic check</td>\n",
       "      <td>70.70</td>\n",
       "      <td>151.65</td>\n",
       "      <td>Female</td>\n",
       "      <td>0</td>\n",
       "      <td>No</td>\n",
       "      <td>No</td>\n",
       "      <td>Fiber optic</td>\n",
       "      <td>No</td>\n",
       "      <td>No</td>\n",
       "      <td>No</td>\n",
       "      <td>No</td>\n",
       "      <td>No</td>\n",
       "      <td>No</td>\n",
       "      <td>No</td>\n",
       "    </tr>\n",
       "  </tbody>\n",
       "</table>\n",
       "</div>"
      ],
      "text/plain": [
       "   customerID   BeginDate              EndDate            Type  \\\n",
       "0  7590-VHVEG  2020-01-01                   No  Month-to-month   \n",
       "1  5575-GNVDE  2017-04-01                   No        One year   \n",
       "2  3668-QPYBK  2019-10-01  2019-12-01 00:00:00  Month-to-month   \n",
       "3  7795-CFOCW  2016-05-01                   No        One year   \n",
       "4  9237-HQITU  2019-09-01  2019-11-01 00:00:00  Month-to-month   \n",
       "\n",
       "  PaperlessBilling              PaymentMethod  MonthlyCharges TotalCharges  \\\n",
       "0              Yes           Electronic check           29.85        29.85   \n",
       "1               No               Mailed check           56.95       1889.5   \n",
       "2              Yes               Mailed check           53.85       108.15   \n",
       "3               No  Bank transfer (automatic)           42.30      1840.75   \n",
       "4              Yes           Electronic check           70.70       151.65   \n",
       "\n",
       "   gender  SeniorCitizen Partner Dependents InternetService OnlineSecurity  \\\n",
       "0  Female              0     Yes         No             DSL             No   \n",
       "1    Male              0      No         No             DSL            Yes   \n",
       "2    Male              0      No         No             DSL            Yes   \n",
       "3    Male              0      No         No             DSL            Yes   \n",
       "4  Female              0      No         No     Fiber optic             No   \n",
       "\n",
       "  OnlineBackup DeviceProtection TechSupport StreamingTV StreamingMovies  \\\n",
       "0          Yes               No          No          No              No   \n",
       "1           No              Yes          No          No              No   \n",
       "2          Yes               No          No          No              No   \n",
       "3           No              Yes         Yes          No              No   \n",
       "4           No               No          No          No              No   \n",
       "\n",
       "  MultipleLines  \n",
       "0           NaN  \n",
       "1            No  \n",
       "2            No  \n",
       "3           NaN  \n",
       "4            No  "
      ]
     },
     "execution_count": 3,
     "metadata": {},
     "output_type": "execute_result"
    }
   ],
   "source": [
    "data = data_contract.merge(data_personal, on='customerID', how='left')\n",
    "data = data.merge(data_internet, on='customerID', how='left')\n",
    "data = data.merge(data_phone, on='customerID', how='left')\n",
    "data.head()"
   ]
  },
  {
   "cell_type": "code",
   "execution_count": 4,
   "metadata": {},
   "outputs": [
    {
     "name": "stdout",
     "output_type": "stream",
     "text": [
      "<class 'pandas.core.frame.DataFrame'>\n",
      "Int64Index: 7043 entries, 0 to 7042\n",
      "Data columns (total 20 columns):\n",
      "customerID          7043 non-null object\n",
      "BeginDate           7043 non-null object\n",
      "EndDate             7043 non-null object\n",
      "Type                7043 non-null object\n",
      "PaperlessBilling    7043 non-null object\n",
      "PaymentMethod       7043 non-null object\n",
      "MonthlyCharges      7043 non-null float64\n",
      "TotalCharges        7043 non-null object\n",
      "gender              7043 non-null object\n",
      "SeniorCitizen       7043 non-null int64\n",
      "Partner             7043 non-null object\n",
      "Dependents          7043 non-null object\n",
      "InternetService     5517 non-null object\n",
      "OnlineSecurity      5517 non-null object\n",
      "OnlineBackup        5517 non-null object\n",
      "DeviceProtection    5517 non-null object\n",
      "TechSupport         5517 non-null object\n",
      "StreamingTV         5517 non-null object\n",
      "StreamingMovies     5517 non-null object\n",
      "MultipleLines       6361 non-null object\n",
      "dtypes: float64(1), int64(1), object(18)\n",
      "memory usage: 1.1+ MB\n"
     ]
    }
   ],
   "source": [
    "data.info()"
   ]
  },
  {
   "cell_type": "markdown",
   "metadata": {},
   "source": [
    "\n",
    "Получилась таблица с 20 столбцами:\n",
    "\n",
    "- *customerID* - идентификационный номер клиента;\n",
    "\n",
    "- *BeginDate* - дата заключения договора;\n",
    "\n",
    "- *EndDate* - дата расторжения договора;\n",
    "\n",
    "- *Type* - тип подключения услуги;\n",
    "\n",
    "- *PaperlessBilling* - безбумажный счет;\n",
    "\n",
    "- *PaymentMethod* - способ оплаты;\n",
    "\n",
    "- *MonthlyCharges* - сумма ежемесячной оплаты;\n",
    "\n",
    "- *TotalCharges* - общая оплата;\n",
    "\n",
    "- *gender* - пол клиента;\n",
    "\n",
    "- *SeniorCitizen* - является ли клиент пенсионером;\n",
    "\n",
    "- *Partner* - состоит ли клиент в браке;\n",
    "\n",
    "- *Dependents* - имеет ли клиент иждивенцев;\n",
    "\n",
    "- *InternetService* - тип предоставляемого интернет-подключения;\n",
    "\n",
    "- *OnlineSecurity* - подключена ли услуга блокировки небезопасных сайтов;\n",
    "\n",
    "- *OnlineBackup* - подключено ли облачное хранилище файлов для резервного копирования;\n",
    "\n",
    "- *DeviceProtection* - подключена ли услуга защиты устройства - антивирус;\n",
    "\n",
    "- *TechSupport* - подключена ли выделенная линия технической поддержки;\n",
    "\n",
    "- *StreamingTV* - подключена ли услуга стримингового телевидения;\n",
    "\n",
    "- *StreamingMovies* - подключен ли каталог фильмов;\n",
    "\n",
    "- *MultipleLines* - подключен ли телефонный аппарат к нескольким линиям одновременно.\n"
   ]
  },
  {
   "cell_type": "markdown",
   "metadata": {},
   "source": [
    "\n",
    "Проверим данные на наличие дублирующихся строк.\n"
   ]
  },
  {
   "cell_type": "code",
   "execution_count": 5,
   "metadata": {},
   "outputs": [
    {
     "data": {
      "text/plain": [
       "0"
      ]
     },
     "execution_count": 5,
     "metadata": {},
     "output_type": "execute_result"
    }
   ],
   "source": [
    "data.duplicated().sum()"
   ]
  },
  {
   "cell_type": "markdown",
   "metadata": {},
   "source": [
    "\n",
    "Не все столбцы, содержащиеся в таблице, требуются для последующего решения задачи. Например, столбцы с идентификационным номером клиента и столбец с датой заключения договора. Однако мы можем создать новый столбец, который вычисляет время, в течение которого клиент пользовался услугами компании.\n",
    "\n",
    "Для этого преобразуем тип данных столбца *BeginDate* в формат дат. В столбец *date* скопируем столбец *EndDate* с той поправкой, что если договор еще не расторжен, то дата будет равна 01 февраля 2020 года - дате актуальности таблиц.\n"
   ]
  },
  {
   "cell_type": "code",
   "execution_count": 6,
   "metadata": {},
   "outputs": [],
   "source": [
    "data['BeginDate'] = pd.to_datetime(data['BeginDate'], format='%Y-%m-%d')\n",
    "data['date'] = data['EndDate']\n",
    "data.loc[data['date']=='No', 'date'] = '2020-02-01'\n",
    "data['date'] = pd.to_datetime(data['date'], format='%Y-%m-%d')"
   ]
  },
  {
   "cell_type": "markdown",
   "metadata": {},
   "source": [
    "\n",
    "Теперь из столбца *date* вычтем столбец *BeginDate* и получим количество дней, в течение которых клиент пользовался услугами компании.\n"
   ]
  },
  {
   "cell_type": "code",
   "execution_count": 7,
   "metadata": {},
   "outputs": [
    {
     "data": {
      "text/plain": [
       "count    7043.000000\n",
       "mean      985.996166\n",
       "std       747.587844\n",
       "min         0.000000\n",
       "25%       273.000000\n",
       "50%       883.000000\n",
       "75%      1676.000000\n",
       "max      2191.000000\n",
       "Name: time, dtype: float64"
      ]
     },
     "execution_count": 7,
     "metadata": {},
     "output_type": "execute_result"
    }
   ],
   "source": [
    "data['time'] = (data['date'] - data['BeginDate']).dt.days\n",
    "data['time'].describe()"
   ]
  },
  {
   "cell_type": "markdown",
   "metadata": {},
   "source": [
    "\n",
    "Видим, что минимальное количество дней, - 0. Очевидно, это те клиенты, которые только что заключили договор. Таких людей совсем немного, мы можем их исключить из анализа.\n"
   ]
  },
  {
   "cell_type": "code",
   "execution_count": 8,
   "metadata": {},
   "outputs": [
    {
     "name": "stdout",
     "output_type": "stream",
     "text": [
      "<class 'pandas.core.frame.DataFrame'>\n",
      "Int64Index: 11 entries, 488 to 6754\n",
      "Data columns (total 22 columns):\n",
      "customerID          11 non-null object\n",
      "BeginDate           11 non-null datetime64[ns]\n",
      "EndDate             11 non-null object\n",
      "Type                11 non-null object\n",
      "PaperlessBilling    11 non-null object\n",
      "PaymentMethod       11 non-null object\n",
      "MonthlyCharges      11 non-null float64\n",
      "TotalCharges        11 non-null object\n",
      "gender              11 non-null object\n",
      "SeniorCitizen       11 non-null int64\n",
      "Partner             11 non-null object\n",
      "Dependents          11 non-null object\n",
      "InternetService     5 non-null object\n",
      "OnlineSecurity      5 non-null object\n",
      "OnlineBackup        5 non-null object\n",
      "DeviceProtection    5 non-null object\n",
      "TechSupport         5 non-null object\n",
      "StreamingTV         5 non-null object\n",
      "StreamingMovies     5 non-null object\n",
      "MultipleLines       9 non-null object\n",
      "date                11 non-null datetime64[ns]\n",
      "time                11 non-null int64\n",
      "dtypes: datetime64[ns](2), float64(1), int64(2), object(17)\n",
      "memory usage: 2.0+ KB\n"
     ]
    }
   ],
   "source": [
    "data[data['time']==0].info()"
   ]
  },
  {
   "cell_type": "code",
   "execution_count": 9,
   "metadata": {},
   "outputs": [
    {
     "name": "stdout",
     "output_type": "stream",
     "text": [
      "<class 'pandas.core.frame.DataFrame'>\n",
      "RangeIndex: 7032 entries, 0 to 7031\n",
      "Data columns (total 22 columns):\n",
      "customerID          7032 non-null object\n",
      "BeginDate           7032 non-null datetime64[ns]\n",
      "EndDate             7032 non-null object\n",
      "Type                7032 non-null object\n",
      "PaperlessBilling    7032 non-null object\n",
      "PaymentMethod       7032 non-null object\n",
      "MonthlyCharges      7032 non-null float64\n",
      "TotalCharges        7032 non-null object\n",
      "gender              7032 non-null object\n",
      "SeniorCitizen       7032 non-null int64\n",
      "Partner             7032 non-null object\n",
      "Dependents          7032 non-null object\n",
      "InternetService     5512 non-null object\n",
      "OnlineSecurity      5512 non-null object\n",
      "OnlineBackup        5512 non-null object\n",
      "DeviceProtection    5512 non-null object\n",
      "TechSupport         5512 non-null object\n",
      "StreamingTV         5512 non-null object\n",
      "StreamingMovies     5512 non-null object\n",
      "MultipleLines       6352 non-null object\n",
      "date                7032 non-null datetime64[ns]\n",
      "time                7032 non-null int64\n",
      "dtypes: datetime64[ns](2), float64(1), int64(2), object(17)\n",
      "memory usage: 1.2+ MB\n"
     ]
    }
   ],
   "source": [
    "data = data.loc[data['time']!=0]\n",
    "data.reset_index(inplace=True, drop=True)\n",
    "data.info()"
   ]
  },
  {
   "cell_type": "markdown",
   "metadata": {},
   "source": [
    "\n",
    "Теперь удалим столбцы, которые в дальнейшем не будут влиять на обучение.\n"
   ]
  },
  {
   "cell_type": "code",
   "execution_count": 10,
   "metadata": {},
   "outputs": [],
   "source": [
    "data.drop(['customerID', 'BeginDate', 'date'], axis='columns', inplace=True)"
   ]
  },
  {
   "cell_type": "markdown",
   "metadata": {},
   "source": [
    "\n",
    "Изменим тип данных столбца *TotalCharges* - это значение должно быть числом.\n"
   ]
  },
  {
   "cell_type": "code",
   "execution_count": 11,
   "metadata": {},
   "outputs": [],
   "source": [
    "data['TotalCharges'] = data['TotalCharges'].astype('Float64')"
   ]
  },
  {
   "cell_type": "markdown",
   "metadata": {},
   "source": [
    "\n",
    "Проверим данные на наличие неопределенных значений.\n"
   ]
  },
  {
   "cell_type": "code",
   "execution_count": 12,
   "metadata": {},
   "outputs": [
    {
     "data": {
      "text/plain": [
       "EndDate                0\n",
       "Type                   0\n",
       "PaperlessBilling       0\n",
       "PaymentMethod          0\n",
       "MonthlyCharges         0\n",
       "TotalCharges           0\n",
       "gender                 0\n",
       "SeniorCitizen          0\n",
       "Partner                0\n",
       "Dependents             0\n",
       "InternetService     1520\n",
       "OnlineSecurity      1520\n",
       "OnlineBackup        1520\n",
       "DeviceProtection    1520\n",
       "TechSupport         1520\n",
       "StreamingTV         1520\n",
       "StreamingMovies     1520\n",
       "MultipleLines        680\n",
       "time                   0\n",
       "dtype: int64"
      ]
     },
     "execution_count": 12,
     "metadata": {},
     "output_type": "execute_result"
    }
   ],
   "source": [
    "data.isna().sum()"
   ]
  },
  {
   "cell_type": "markdown",
   "metadata": {},
   "source": [
    "\n",
    "Видим, что неопределенные значения встречаются в толбцах *InternetService*, *OnlineSecurity*, *OnlineBackup*, *DeviceProtection*, *TechSupport*, *StreamingTV*, *StreamingMovies* и *MultipleLines*.\n",
    "\n",
    "Можно предположить, что неопределенные значения у клиентов, которые не пользуются данными услугами, поэтому мы можем заменить эти значения на **No**.\n"
   ]
  },
  {
   "cell_type": "code",
   "execution_count": 13,
   "metadata": {},
   "outputs": [
    {
     "data": {
      "text/plain": [
       "EndDate             0\n",
       "Type                0\n",
       "PaperlessBilling    0\n",
       "PaymentMethod       0\n",
       "MonthlyCharges      0\n",
       "TotalCharges        0\n",
       "gender              0\n",
       "SeniorCitizen       0\n",
       "Partner             0\n",
       "Dependents          0\n",
       "InternetService     0\n",
       "OnlineSecurity      0\n",
       "OnlineBackup        0\n",
       "DeviceProtection    0\n",
       "TechSupport         0\n",
       "StreamingTV         0\n",
       "StreamingMovies     0\n",
       "MultipleLines       0\n",
       "time                0\n",
       "dtype: int64"
      ]
     },
     "execution_count": 13,
     "metadata": {},
     "output_type": "execute_result"
    }
   ],
   "source": [
    "data.loc[data['InternetService'].isna(), 'InternetService'] = 'No'\n",
    "data.loc[data['OnlineSecurity'].isna(), 'OnlineSecurity'] = 'No'\n",
    "data.loc[data['OnlineBackup'].isna(), 'OnlineBackup'] = 'No'\n",
    "data.loc[data['DeviceProtection'].isna(), 'DeviceProtection'] = 'No'\n",
    "data.loc[data['TechSupport'].isna(), 'TechSupport'] = 'No'\n",
    "data.loc[data['StreamingTV'].isna(), 'StreamingTV'] = 'No'\n",
    "data.loc[data['StreamingMovies'].isna(), 'StreamingMovies'] = 'No'\n",
    "data.loc[data['MultipleLines'].isna(), 'MultipleLines'] = 'No'\n",
    "data.isna().sum()"
   ]
  },
  {
   "cell_type": "markdown",
   "metadata": {},
   "source": [
    "\n",
    "Теперь пропусков в данных нет.\n"
   ]
  },
  {
   "cell_type": "markdown",
   "metadata": {},
   "source": [
    "\n",
    "Посмотрим общую статистику по столбцам.\n"
   ]
  },
  {
   "cell_type": "code",
   "execution_count": 14,
   "metadata": {},
   "outputs": [
    {
     "data": {
      "text/html": [
       "<div>\n",
       "<style scoped>\n",
       "    .dataframe tbody tr th:only-of-type {\n",
       "        vertical-align: middle;\n",
       "    }\n",
       "\n",
       "    .dataframe tbody tr th {\n",
       "        vertical-align: top;\n",
       "    }\n",
       "\n",
       "    .dataframe thead th {\n",
       "        text-align: right;\n",
       "    }\n",
       "</style>\n",
       "<table border=\"1\" class=\"dataframe\">\n",
       "  <thead>\n",
       "    <tr style=\"text-align: right;\">\n",
       "      <th></th>\n",
       "      <th>MonthlyCharges</th>\n",
       "      <th>TotalCharges</th>\n",
       "      <th>SeniorCitizen</th>\n",
       "      <th>time</th>\n",
       "    </tr>\n",
       "  </thead>\n",
       "  <tbody>\n",
       "    <tr>\n",
       "      <td>count</td>\n",
       "      <td>7032.000000</td>\n",
       "      <td>7032.000000</td>\n",
       "      <td>7032.000000</td>\n",
       "      <td>7032.000000</td>\n",
       "    </tr>\n",
       "    <tr>\n",
       "      <td>mean</td>\n",
       "      <td>64.798208</td>\n",
       "      <td>2283.300441</td>\n",
       "      <td>0.162400</td>\n",
       "      <td>987.538538</td>\n",
       "    </tr>\n",
       "    <tr>\n",
       "      <td>std</td>\n",
       "      <td>30.085974</td>\n",
       "      <td>2266.771362</td>\n",
       "      <td>0.368844</td>\n",
       "      <td>747.153663</td>\n",
       "    </tr>\n",
       "    <tr>\n",
       "      <td>min</td>\n",
       "      <td>18.250000</td>\n",
       "      <td>18.800000</td>\n",
       "      <td>0.000000</td>\n",
       "      <td>30.000000</td>\n",
       "    </tr>\n",
       "    <tr>\n",
       "      <td>25%</td>\n",
       "      <td>35.587500</td>\n",
       "      <td>401.450000</td>\n",
       "      <td>0.000000</td>\n",
       "      <td>275.000000</td>\n",
       "    </tr>\n",
       "    <tr>\n",
       "      <td>50%</td>\n",
       "      <td>70.350000</td>\n",
       "      <td>1397.475000</td>\n",
       "      <td>0.000000</td>\n",
       "      <td>883.000000</td>\n",
       "    </tr>\n",
       "    <tr>\n",
       "      <td>75%</td>\n",
       "      <td>89.862500</td>\n",
       "      <td>3794.737500</td>\n",
       "      <td>0.000000</td>\n",
       "      <td>1676.000000</td>\n",
       "    </tr>\n",
       "    <tr>\n",
       "      <td>max</td>\n",
       "      <td>118.750000</td>\n",
       "      <td>8684.800000</td>\n",
       "      <td>1.000000</td>\n",
       "      <td>2191.000000</td>\n",
       "    </tr>\n",
       "  </tbody>\n",
       "</table>\n",
       "</div>"
      ],
      "text/plain": [
       "       MonthlyCharges  TotalCharges  SeniorCitizen         time\n",
       "count     7032.000000   7032.000000    7032.000000  7032.000000\n",
       "mean        64.798208   2283.300441       0.162400   987.538538\n",
       "std         30.085974   2266.771362       0.368844   747.153663\n",
       "min         18.250000     18.800000       0.000000    30.000000\n",
       "25%         35.587500    401.450000       0.000000   275.000000\n",
       "50%         70.350000   1397.475000       0.000000   883.000000\n",
       "75%         89.862500   3794.737500       0.000000  1676.000000\n",
       "max        118.750000   8684.800000       1.000000  2191.000000"
      ]
     },
     "execution_count": 14,
     "metadata": {},
     "output_type": "execute_result"
    }
   ],
   "source": [
    "data.describe()"
   ]
  },
  {
   "cell_type": "code",
   "execution_count": 15,
   "metadata": {},
   "outputs": [
    {
     "data": {
      "text/plain": [
       "array(['Female', 'Male'], dtype=object)"
      ]
     },
     "execution_count": 15,
     "metadata": {},
     "output_type": "execute_result"
    }
   ],
   "source": [
    "data['gender'].unique()"
   ]
  },
  {
   "cell_type": "markdown",
   "metadata": {},
   "source": [
    "\n",
    "Значения признаков выглядят правдоподобно - нет таких артефактов, как отрицательные значения. Столбец с полом клиента принимает только два значения: мужской и женский.\n"
   ]
  },
  {
   "cell_type": "markdown",
   "metadata": {},
   "source": [
    "\n",
    "Признаки, принимающие значения только *Yes* или *No*, преобразуем в вид *1* или *0*, как это указано в столбце *SeniorCitizen*.\n"
   ]
  },
  {
   "cell_type": "code",
   "execution_count": 16,
   "metadata": {},
   "outputs": [
    {
     "data": {
      "text/plain": [
       "array(['Yes', 'No'], dtype=object)"
      ]
     },
     "execution_count": 16,
     "metadata": {},
     "output_type": "execute_result"
    }
   ],
   "source": [
    "data['PaperlessBilling'].unique()"
   ]
  },
  {
   "cell_type": "code",
   "execution_count": 17,
   "metadata": {},
   "outputs": [],
   "source": [
    "data.loc[data['Partner'] != 'No', 'Partner'] = 1\n",
    "data.loc[data['Partner'] == 'No', 'Partner'] = 0\n",
    "data.loc[data['PaperlessBilling'] != 'No', 'PaperlessBilling'] = 1\n",
    "data.loc[data['PaperlessBilling'] == 'No', 'PaperlessBilling'] = 0\n",
    "data.loc[data['Dependents'] != 'No', 'Dependents'] = 1\n",
    "data.loc[data['Dependents'] == 'No', 'Dependents'] = 0\n",
    "data.loc[data['InternetService'] != 'No', 'InternetService'] = 1\n",
    "data.loc[data['InternetService'] == 'No', 'InternetService'] = 0\n",
    "data.loc[data['OnlineSecurity'] != 'No', 'OnlineSecurity'] = 1\n",
    "data.loc[data['OnlineSecurity'] == 'No', 'OnlineSecurity'] = 0\n",
    "data.loc[data['OnlineBackup'] != 'No', 'OnlineBackup'] = 1\n",
    "data.loc[data['OnlineBackup'] == 'No', 'OnlineBackup'] = 0\n",
    "data.loc[data['DeviceProtection'] != 'No', 'DeviceProtection'] = 1\n",
    "data.loc[data['DeviceProtection'] == 'No', 'DeviceProtection'] = 0\n",
    "data.loc[data['TechSupport'] != 'No', 'TechSupport'] = 1\n",
    "data.loc[data['TechSupport'] == 'No', 'TechSupport'] = 0\n",
    "data.loc[data['StreamingTV'] != 'No', 'StreamingTV'] = 1\n",
    "data.loc[data['StreamingTV'] == 'No', 'StreamingTV'] = 0\n",
    "data.loc[data['StreamingMovies'] != 'No', 'StreamingMovies'] = 1\n",
    "data.loc[data['StreamingMovies'] == 'No', 'StreamingMovies'] = 0\n",
    "data.loc[data['MultipleLines'] != 'No', 'MultipleLines'] = 1\n",
    "data.loc[data['MultipleLines'] == 'No', 'MultipleLines'] = 0"
   ]
  },
  {
   "cell_type": "markdown",
   "metadata": {},
   "source": [
    "\n",
    "Проверим корреляцию между столбцами *MonthlyCharges*, *TotalCharges* и *time*. Если корреляция есть, то один из столбцов можно будет также удалить.\n"
   ]
  },
  {
   "cell_type": "code",
   "execution_count": 18,
   "metadata": {},
   "outputs": [
    {
     "data": {
      "text/html": [
       "<style  type=\"text/css\" >\n",
       "    #T_cc939b0c_057d_11ec_8abb_02420a3936b0row0_col0 {\n",
       "            background-color:  #b40426;\n",
       "            color:  #f1f1f1;\n",
       "        }    #T_cc939b0c_057d_11ec_8abb_02420a3936b0row0_col1 {\n",
       "            background-color:  #c5d6f2;\n",
       "            color:  #000000;\n",
       "        }    #T_cc939b0c_057d_11ec_8abb_02420a3936b0row0_col2 {\n",
       "            background-color:  #5977e3;\n",
       "            color:  #000000;\n",
       "        }    #T_cc939b0c_057d_11ec_8abb_02420a3936b0row0_col3 {\n",
       "            background-color:  #9fbfff;\n",
       "            color:  #000000;\n",
       "        }    #T_cc939b0c_057d_11ec_8abb_02420a3936b0row0_col4 {\n",
       "            background-color:  #3b4cc0;\n",
       "            color:  #f1f1f1;\n",
       "        }    #T_cc939b0c_057d_11ec_8abb_02420a3936b0row0_col5 {\n",
       "            background-color:  #5470de;\n",
       "            color:  #000000;\n",
       "        }    #T_cc939b0c_057d_11ec_8abb_02420a3936b0row0_col6 {\n",
       "            background-color:  #c1d4f4;\n",
       "            color:  #000000;\n",
       "        }    #T_cc939b0c_057d_11ec_8abb_02420a3936b0row0_col7 {\n",
       "            background-color:  #445acc;\n",
       "            color:  #f1f1f1;\n",
       "        }    #T_cc939b0c_057d_11ec_8abb_02420a3936b0row0_col8 {\n",
       "            background-color:  #5b7ae5;\n",
       "            color:  #000000;\n",
       "        }    #T_cc939b0c_057d_11ec_8abb_02420a3936b0row0_col9 {\n",
       "            background-color:  #5673e0;\n",
       "            color:  #000000;\n",
       "        }    #T_cc939b0c_057d_11ec_8abb_02420a3936b0row0_col10 {\n",
       "            background-color:  #5673e0;\n",
       "            color:  #000000;\n",
       "        }    #T_cc939b0c_057d_11ec_8abb_02420a3936b0row0_col11 {\n",
       "            background-color:  #88abfd;\n",
       "            color:  #000000;\n",
       "        }    #T_cc939b0c_057d_11ec_8abb_02420a3936b0row0_col12 {\n",
       "            background-color:  #89acfd;\n",
       "            color:  #000000;\n",
       "        }    #T_cc939b0c_057d_11ec_8abb_02420a3936b0row0_col13 {\n",
       "            background-color:  #7597f6;\n",
       "            color:  #000000;\n",
       "        }    #T_cc939b0c_057d_11ec_8abb_02420a3936b0row0_col14 {\n",
       "            background-color:  #3b4cc0;\n",
       "            color:  #f1f1f1;\n",
       "        }    #T_cc939b0c_057d_11ec_8abb_02420a3936b0row1_col0 {\n",
       "            background-color:  #c5d6f2;\n",
       "            color:  #000000;\n",
       "        }    #T_cc939b0c_057d_11ec_8abb_02420a3936b0row1_col1 {\n",
       "            background-color:  #b40426;\n",
       "            color:  #f1f1f1;\n",
       "        }    #T_cc939b0c_057d_11ec_8abb_02420a3936b0row1_col2 {\n",
       "            background-color:  #f5c4ac;\n",
       "            color:  #000000;\n",
       "        }    #T_cc939b0c_057d_11ec_8abb_02420a3936b0row1_col3 {\n",
       "            background-color:  #b2ccfb;\n",
       "            color:  #000000;\n",
       "        }    #T_cc939b0c_057d_11ec_8abb_02420a3936b0row1_col4 {\n",
       "            background-color:  #5d7ce6;\n",
       "            color:  #000000;\n",
       "        }    #T_cc939b0c_057d_11ec_8abb_02420a3936b0row1_col5 {\n",
       "            background-color:  #536edd;\n",
       "            color:  #000000;\n",
       "        }    #T_cc939b0c_057d_11ec_8abb_02420a3936b0row1_col6 {\n",
       "            background-color:  #ef886b;\n",
       "            color:  #000000;\n",
       "        }    #T_cc939b0c_057d_11ec_8abb_02420a3936b0row1_col7 {\n",
       "            background-color:  #a6c4fe;\n",
       "            color:  #000000;\n",
       "        }    #T_cc939b0c_057d_11ec_8abb_02420a3936b0row1_col8 {\n",
       "            background-color:  #c9d7f0;\n",
       "            color:  #000000;\n",
       "        }    #T_cc939b0c_057d_11ec_8abb_02420a3936b0row1_col9 {\n",
       "            background-color:  #d6dce4;\n",
       "            color:  #000000;\n",
       "        }    #T_cc939b0c_057d_11ec_8abb_02420a3936b0row1_col10 {\n",
       "            background-color:  #b9d0f9;\n",
       "            color:  #000000;\n",
       "        }    #T_cc939b0c_057d_11ec_8abb_02420a3936b0row1_col11 {\n",
       "            background-color:  #f5c1a9;\n",
       "            color:  #000000;\n",
       "        }    #T_cc939b0c_057d_11ec_8abb_02420a3936b0row1_col12 {\n",
       "            background-color:  #f6bfa6;\n",
       "            color:  #000000;\n",
       "        }    #T_cc939b0c_057d_11ec_8abb_02420a3936b0row1_col13 {\n",
       "            background-color:  #dddcdc;\n",
       "            color:  #000000;\n",
       "        }    #T_cc939b0c_057d_11ec_8abb_02420a3936b0row1_col14 {\n",
       "            background-color:  #8badfd;\n",
       "            color:  #000000;\n",
       "        }    #T_cc939b0c_057d_11ec_8abb_02420a3936b0row2_col0 {\n",
       "            background-color:  #89acfd;\n",
       "            color:  #000000;\n",
       "        }    #T_cc939b0c_057d_11ec_8abb_02420a3936b0row2_col1 {\n",
       "            background-color:  #f7b194;\n",
       "            color:  #000000;\n",
       "        }    #T_cc939b0c_057d_11ec_8abb_02420a3936b0row2_col2 {\n",
       "            background-color:  #b40426;\n",
       "            color:  #f1f1f1;\n",
       "        }    #T_cc939b0c_057d_11ec_8abb_02420a3936b0row2_col3 {\n",
       "            background-color:  #90b2fe;\n",
       "            color:  #000000;\n",
       "        }    #T_cc939b0c_057d_11ec_8abb_02420a3936b0row2_col4 {\n",
       "            background-color:  #a9c6fd;\n",
       "            color:  #000000;\n",
       "        }    #T_cc939b0c_057d_11ec_8abb_02420a3936b0row2_col5 {\n",
       "            background-color:  #85a8fc;\n",
       "            color:  #000000;\n",
       "        }    #T_cc939b0c_057d_11ec_8abb_02420a3936b0row2_col6 {\n",
       "            background-color:  #cfdaea;\n",
       "            color:  #000000;\n",
       "        }    #T_cc939b0c_057d_11ec_8abb_02420a3936b0row2_col7 {\n",
       "            background-color:  #cbd8ee;\n",
       "            color:  #000000;\n",
       "        }    #T_cc939b0c_057d_11ec_8abb_02420a3936b0row2_col8 {\n",
       "            background-color:  #dcdddd;\n",
       "            color:  #000000;\n",
       "        }    #T_cc939b0c_057d_11ec_8abb_02420a3936b0row2_col9 {\n",
       "            background-color:  #e1dad6;\n",
       "            color:  #000000;\n",
       "        }    #T_cc939b0c_057d_11ec_8abb_02420a3936b0row2_col10 {\n",
       "            background-color:  #d4dbe6;\n",
       "            color:  #000000;\n",
       "        }    #T_cc939b0c_057d_11ec_8abb_02420a3936b0row2_col11 {\n",
       "            background-color:  #e3d9d3;\n",
       "            color:  #000000;\n",
       "        }    #T_cc939b0c_057d_11ec_8abb_02420a3936b0row2_col12 {\n",
       "            background-color:  #e6d7cf;\n",
       "            color:  #000000;\n",
       "        }    #T_cc939b0c_057d_11ec_8abb_02420a3936b0row2_col13 {\n",
       "            background-color:  #d8dce2;\n",
       "            color:  #000000;\n",
       "        }    #T_cc939b0c_057d_11ec_8abb_02420a3936b0row2_col14 {\n",
       "            background-color:  #e9785d;\n",
       "            color:  #000000;\n",
       "        }    #T_cc939b0c_057d_11ec_8abb_02420a3936b0row3_col0 {\n",
       "            background-color:  #89acfd;\n",
       "            color:  #000000;\n",
       "        }    #T_cc939b0c_057d_11ec_8abb_02420a3936b0row3_col1 {\n",
       "            background-color:  #9ebeff;\n",
       "            color:  #000000;\n",
       "        }    #T_cc939b0c_057d_11ec_8abb_02420a3936b0row3_col2 {\n",
       "            background-color:  #465ecf;\n",
       "            color:  #f1f1f1;\n",
       "        }    #T_cc939b0c_057d_11ec_8abb_02420a3936b0row3_col3 {\n",
       "            background-color:  #b40426;\n",
       "            color:  #f1f1f1;\n",
       "        }    #T_cc939b0c_057d_11ec_8abb_02420a3936b0row3_col4 {\n",
       "            background-color:  #4358cb;\n",
       "            color:  #f1f1f1;\n",
       "        }    #T_cc939b0c_057d_11ec_8abb_02420a3936b0row3_col5 {\n",
       "            background-color:  #3b4cc0;\n",
       "            color:  #f1f1f1;\n",
       "        }    #T_cc939b0c_057d_11ec_8abb_02420a3936b0row3_col6 {\n",
       "            background-color:  #98b9ff;\n",
       "            color:  #000000;\n",
       "        }    #T_cc939b0c_057d_11ec_8abb_02420a3936b0row3_col7 {\n",
       "            background-color:  #3b4cc0;\n",
       "            color:  #f1f1f1;\n",
       "        }    #T_cc939b0c_057d_11ec_8abb_02420a3936b0row3_col8 {\n",
       "            background-color:  #485fd1;\n",
       "            color:  #f1f1f1;\n",
       "        }    #T_cc939b0c_057d_11ec_8abb_02420a3936b0row3_col9 {\n",
       "            background-color:  #485fd1;\n",
       "            color:  #f1f1f1;\n",
       "        }    #T_cc939b0c_057d_11ec_8abb_02420a3936b0row3_col10 {\n",
       "            background-color:  #3b4cc0;\n",
       "            color:  #f1f1f1;\n",
       "        }    #T_cc939b0c_057d_11ec_8abb_02420a3936b0row3_col11 {\n",
       "            background-color:  #5f7fe8;\n",
       "            color:  #000000;\n",
       "        }    #T_cc939b0c_057d_11ec_8abb_02420a3936b0row3_col12 {\n",
       "            background-color:  #6b8df0;\n",
       "            color:  #000000;\n",
       "        }    #T_cc939b0c_057d_11ec_8abb_02420a3936b0row3_col13 {\n",
       "            background-color:  #6e90f2;\n",
       "            color:  #000000;\n",
       "        }    #T_cc939b0c_057d_11ec_8abb_02420a3936b0row3_col14 {\n",
       "            background-color:  #3d50c3;\n",
       "            color:  #f1f1f1;\n",
       "        }    #T_cc939b0c_057d_11ec_8abb_02420a3936b0row4_col0 {\n",
       "            background-color:  #5572df;\n",
       "            color:  #000000;\n",
       "        }    #T_cc939b0c_057d_11ec_8abb_02420a3936b0row4_col1 {\n",
       "            background-color:  #779af7;\n",
       "            color:  #000000;\n",
       "        }    #T_cc939b0c_057d_11ec_8abb_02420a3936b0row4_col2 {\n",
       "            background-color:  #94b6ff;\n",
       "            color:  #000000;\n",
       "        }    #T_cc939b0c_057d_11ec_8abb_02420a3936b0row4_col3 {\n",
       "            background-color:  #779af7;\n",
       "            color:  #000000;\n",
       "        }    #T_cc939b0c_057d_11ec_8abb_02420a3936b0row4_col4 {\n",
       "            background-color:  #b40426;\n",
       "            color:  #f1f1f1;\n",
       "        }    #T_cc939b0c_057d_11ec_8abb_02420a3936b0row4_col5 {\n",
       "            background-color:  #e9d5cb;\n",
       "            color:  #000000;\n",
       "        }    #T_cc939b0c_057d_11ec_8abb_02420a3936b0row4_col6 {\n",
       "            background-color:  #6180e9;\n",
       "            color:  #000000;\n",
       "        }    #T_cc939b0c_057d_11ec_8abb_02420a3936b0row4_col7 {\n",
       "            background-color:  #7295f4;\n",
       "            color:  #000000;\n",
       "        }    #T_cc939b0c_057d_11ec_8abb_02420a3936b0row4_col8 {\n",
       "            background-color:  #5f7fe8;\n",
       "            color:  #000000;\n",
       "        }    #T_cc939b0c_057d_11ec_8abb_02420a3936b0row4_col9 {\n",
       "            background-color:  #6788ee;\n",
       "            color:  #000000;\n",
       "        }    #T_cc939b0c_057d_11ec_8abb_02420a3936b0row4_col10 {\n",
       "            background-color:  #7093f3;\n",
       "            color:  #000000;\n",
       "        }    #T_cc939b0c_057d_11ec_8abb_02420a3936b0row4_col11 {\n",
       "            background-color:  #6687ed;\n",
       "            color:  #000000;\n",
       "        }    #T_cc939b0c_057d_11ec_8abb_02420a3936b0row4_col12 {\n",
       "            background-color:  #6a8bef;\n",
       "            color:  #000000;\n",
       "        }    #T_cc939b0c_057d_11ec_8abb_02420a3936b0row4_col13 {\n",
       "            background-color:  #6e90f2;\n",
       "            color:  #000000;\n",
       "        }    #T_cc939b0c_057d_11ec_8abb_02420a3936b0row4_col14 {\n",
       "            background-color:  #bad0f8;\n",
       "            color:  #000000;\n",
       "        }    #T_cc939b0c_057d_11ec_8abb_02420a3936b0row5_col0 {\n",
       "            background-color:  #3b4cc0;\n",
       "            color:  #f1f1f1;\n",
       "        }    #T_cc939b0c_057d_11ec_8abb_02420a3936b0row5_col1 {\n",
       "            background-color:  #3b4cc0;\n",
       "            color:  #f1f1f1;\n",
       "        }    #T_cc939b0c_057d_11ec_8abb_02420a3936b0row5_col2 {\n",
       "            background-color:  #3b4cc0;\n",
       "            color:  #f1f1f1;\n",
       "        }    #T_cc939b0c_057d_11ec_8abb_02420a3936b0row5_col3 {\n",
       "            background-color:  #3b4cc0;\n",
       "            color:  #f1f1f1;\n",
       "        }    #T_cc939b0c_057d_11ec_8abb_02420a3936b0row5_col4 {\n",
       "            background-color:  #d2dbe8;\n",
       "            color:  #000000;\n",
       "        }    #T_cc939b0c_057d_11ec_8abb_02420a3936b0row5_col5 {\n",
       "            background-color:  #b40426;\n",
       "            color:  #f1f1f1;\n",
       "        }    #T_cc939b0c_057d_11ec_8abb_02420a3936b0row5_col6 {\n",
       "            background-color:  #3b4cc0;\n",
       "            color:  #f1f1f1;\n",
       "        }    #T_cc939b0c_057d_11ec_8abb_02420a3936b0row5_col7 {\n",
       "            background-color:  #5e7de7;\n",
       "            color:  #000000;\n",
       "        }    #T_cc939b0c_057d_11ec_8abb_02420a3936b0row5_col8 {\n",
       "            background-color:  #3b4cc0;\n",
       "            color:  #f1f1f1;\n",
       "        }    #T_cc939b0c_057d_11ec_8abb_02420a3936b0row5_col9 {\n",
       "            background-color:  #3b4cc0;\n",
       "            color:  #f1f1f1;\n",
       "        }    #T_cc939b0c_057d_11ec_8abb_02420a3936b0row5_col10 {\n",
       "            background-color:  #5e7de7;\n",
       "            color:  #000000;\n",
       "        }    #T_cc939b0c_057d_11ec_8abb_02420a3936b0row5_col11 {\n",
       "            background-color:  #3b4cc0;\n",
       "            color:  #f1f1f1;\n",
       "        }    #T_cc939b0c_057d_11ec_8abb_02420a3936b0row5_col12 {\n",
       "            background-color:  #3b4cc0;\n",
       "            color:  #f1f1f1;\n",
       "        }    #T_cc939b0c_057d_11ec_8abb_02420a3936b0row5_col13 {\n",
       "            background-color:  #3b4cc0;\n",
       "            color:  #f1f1f1;\n",
       "        }    #T_cc939b0c_057d_11ec_8abb_02420a3936b0row5_col14 {\n",
       "            background-color:  #6c8ff1;\n",
       "            color:  #000000;\n",
       "        }    #T_cc939b0c_057d_11ec_8abb_02420a3936b0row6_col0 {\n",
       "            background-color:  #bcd2f7;\n",
       "            color:  #000000;\n",
       "        }    #T_cc939b0c_057d_11ec_8abb_02420a3936b0row6_col1 {\n",
       "            background-color:  #f08a6c;\n",
       "            color:  #000000;\n",
       "        }    #T_cc939b0c_057d_11ec_8abb_02420a3936b0row6_col2 {\n",
       "            background-color:  #a9c6fd;\n",
       "            color:  #000000;\n",
       "        }    #T_cc939b0c_057d_11ec_8abb_02420a3936b0row6_col3 {\n",
       "            background-color:  #a7c5fe;\n",
       "            color:  #000000;\n",
       "        }    #T_cc939b0c_057d_11ec_8abb_02420a3936b0row6_col4 {\n",
       "            background-color:  #3e51c5;\n",
       "            color:  #f1f1f1;\n",
       "        }    #T_cc939b0c_057d_11ec_8abb_02420a3936b0row6_col5 {\n",
       "            background-color:  #4c66d6;\n",
       "            color:  #000000;\n",
       "        }    #T_cc939b0c_057d_11ec_8abb_02420a3936b0row6_col6 {\n",
       "            background-color:  #b40426;\n",
       "            color:  #f1f1f1;\n",
       "        }    #T_cc939b0c_057d_11ec_8abb_02420a3936b0row6_col7 {\n",
       "            background-color:  #b2ccfb;\n",
       "            color:  #000000;\n",
       "        }    #T_cc939b0c_057d_11ec_8abb_02420a3936b0row6_col8 {\n",
       "            background-color:  #b5cdfa;\n",
       "            color:  #000000;\n",
       "        }    #T_cc939b0c_057d_11ec_8abb_02420a3936b0row6_col9 {\n",
       "            background-color:  #b7cff9;\n",
       "            color:  #000000;\n",
       "        }    #T_cc939b0c_057d_11ec_8abb_02420a3936b0row6_col10 {\n",
       "            background-color:  #b7cff9;\n",
       "            color:  #000000;\n",
       "        }    #T_cc939b0c_057d_11ec_8abb_02420a3936b0row6_col11 {\n",
       "            background-color:  #c7d7f0;\n",
       "            color:  #000000;\n",
       "        }    #T_cc939b0c_057d_11ec_8abb_02420a3936b0row6_col12 {\n",
       "            background-color:  #ccd9ed;\n",
       "            color:  #000000;\n",
       "        }    #T_cc939b0c_057d_11ec_8abb_02420a3936b0row6_col13 {\n",
       "            background-color:  #85a8fc;\n",
       "            color:  #000000;\n",
       "        }    #T_cc939b0c_057d_11ec_8abb_02420a3936b0row6_col14 {\n",
       "            background-color:  #445acc;\n",
       "            color:  #f1f1f1;\n",
       "        }    #T_cc939b0c_057d_11ec_8abb_02420a3936b0row7_col0 {\n",
       "            background-color:  #5875e1;\n",
       "            color:  #000000;\n",
       "        }    #T_cc939b0c_057d_11ec_8abb_02420a3936b0row7_col1 {\n",
       "            background-color:  #b6cefa;\n",
       "            color:  #000000;\n",
       "        }    #T_cc939b0c_057d_11ec_8abb_02420a3936b0row7_col2 {\n",
       "            background-color:  #b7cff9;\n",
       "            color:  #000000;\n",
       "        }    #T_cc939b0c_057d_11ec_8abb_02420a3936b0row7_col3 {\n",
       "            background-color:  #6788ee;\n",
       "            color:  #000000;\n",
       "        }    #T_cc939b0c_057d_11ec_8abb_02420a3936b0row7_col4 {\n",
       "            background-color:  #6b8df0;\n",
       "            color:  #000000;\n",
       "        }    #T_cc939b0c_057d_11ec_8abb_02420a3936b0row7_col5 {\n",
       "            background-color:  #89acfd;\n",
       "            color:  #000000;\n",
       "        }    #T_cc939b0c_057d_11ec_8abb_02420a3936b0row7_col6 {\n",
       "            background-color:  #c4d5f3;\n",
       "            color:  #000000;\n",
       "        }    #T_cc939b0c_057d_11ec_8abb_02420a3936b0row7_col7 {\n",
       "            background-color:  #b40426;\n",
       "            color:  #f1f1f1;\n",
       "        }    #T_cc939b0c_057d_11ec_8abb_02420a3936b0row7_col8 {\n",
       "            background-color:  #93b5fe;\n",
       "            color:  #000000;\n",
       "        }    #T_cc939b0c_057d_11ec_8abb_02420a3936b0row7_col9 {\n",
       "            background-color:  #92b4fe;\n",
       "            color:  #000000;\n",
       "        }    #T_cc939b0c_057d_11ec_8abb_02420a3936b0row7_col10 {\n",
       "            background-color:  #bed2f6;\n",
       "            color:  #000000;\n",
       "        }    #T_cc939b0c_057d_11ec_8abb_02420a3936b0row7_col11 {\n",
       "            background-color:  #779af7;\n",
       "            color:  #000000;\n",
       "        }    #T_cc939b0c_057d_11ec_8abb_02420a3936b0row7_col12 {\n",
       "            background-color:  #81a4fb;\n",
       "            color:  #000000;\n",
       "        }    #T_cc939b0c_057d_11ec_8abb_02420a3936b0row7_col13 {\n",
       "            background-color:  #5f7fe8;\n",
       "            color:  #000000;\n",
       "        }    #T_cc939b0c_057d_11ec_8abb_02420a3936b0row7_col14 {\n",
       "            background-color:  #a7c5fe;\n",
       "            color:  #000000;\n",
       "        }    #T_cc939b0c_057d_11ec_8abb_02420a3936b0row8_col0 {\n",
       "            background-color:  #80a3fa;\n",
       "            color:  #000000;\n",
       "        }    #T_cc939b0c_057d_11ec_8abb_02420a3936b0row8_col1 {\n",
       "            background-color:  #dcdddd;\n",
       "            color:  #000000;\n",
       "        }    #T_cc939b0c_057d_11ec_8abb_02420a3936b0row8_col2 {\n",
       "            background-color:  #d6dce4;\n",
       "            color:  #000000;\n",
       "        }    #T_cc939b0c_057d_11ec_8abb_02420a3936b0row8_col3 {\n",
       "            background-color:  #85a8fc;\n",
       "            color:  #000000;\n",
       "        }    #T_cc939b0c_057d_11ec_8abb_02420a3936b0row8_col4 {\n",
       "            background-color:  #6b8df0;\n",
       "            color:  #000000;\n",
       "        }    #T_cc939b0c_057d_11ec_8abb_02420a3936b0row8_col5 {\n",
       "            background-color:  #799cf8;\n",
       "            color:  #000000;\n",
       "        }    #T_cc939b0c_057d_11ec_8abb_02420a3936b0row8_col6 {\n",
       "            background-color:  #d1dae9;\n",
       "            color:  #000000;\n",
       "        }    #T_cc939b0c_057d_11ec_8abb_02420a3936b0row8_col7 {\n",
       "            background-color:  #a2c1ff;\n",
       "            color:  #000000;\n",
       "        }    #T_cc939b0c_057d_11ec_8abb_02420a3936b0row8_col8 {\n",
       "            background-color:  #b40426;\n",
       "            color:  #f1f1f1;\n",
       "        }    #T_cc939b0c_057d_11ec_8abb_02420a3936b0row8_col9 {\n",
       "            background-color:  #9dbdff;\n",
       "            color:  #000000;\n",
       "        }    #T_cc939b0c_057d_11ec_8abb_02420a3936b0row8_col10 {\n",
       "            background-color:  #aac7fd;\n",
       "            color:  #000000;\n",
       "        }    #T_cc939b0c_057d_11ec_8abb_02420a3936b0row8_col11 {\n",
       "            background-color:  #9dbdff;\n",
       "            color:  #000000;\n",
       "        }    #T_cc939b0c_057d_11ec_8abb_02420a3936b0row8_col12 {\n",
       "            background-color:  #9fbfff;\n",
       "            color:  #000000;\n",
       "        }    #T_cc939b0c_057d_11ec_8abb_02420a3936b0row8_col13 {\n",
       "            background-color:  #82a6fb;\n",
       "            color:  #000000;\n",
       "        }    #T_cc939b0c_057d_11ec_8abb_02420a3936b0row8_col14 {\n",
       "            background-color:  #b2ccfb;\n",
       "            color:  #000000;\n",
       "        }    #T_cc939b0c_057d_11ec_8abb_02420a3936b0row9_col0 {\n",
       "            background-color:  #799cf8;\n",
       "            color:  #000000;\n",
       "        }    #T_cc939b0c_057d_11ec_8abb_02420a3936b0row9_col1 {\n",
       "            background-color:  #e5d8d1;\n",
       "            color:  #000000;\n",
       "        }    #T_cc939b0c_057d_11ec_8abb_02420a3936b0row9_col2 {\n",
       "            background-color:  #dadce0;\n",
       "            color:  #000000;\n",
       "        }    #T_cc939b0c_057d_11ec_8abb_02420a3936b0row9_col3 {\n",
       "            background-color:  #84a7fc;\n",
       "            color:  #000000;\n",
       "        }    #T_cc939b0c_057d_11ec_8abb_02420a3936b0row9_col4 {\n",
       "            background-color:  #6f92f3;\n",
       "            color:  #000000;\n",
       "        }    #T_cc939b0c_057d_11ec_8abb_02420a3936b0row9_col5 {\n",
       "            background-color:  #7699f6;\n",
       "            color:  #000000;\n",
       "        }    #T_cc939b0c_057d_11ec_8abb_02420a3936b0row9_col6 {\n",
       "            background-color:  #d1dae9;\n",
       "            color:  #000000;\n",
       "        }    #T_cc939b0c_057d_11ec_8abb_02420a3936b0row9_col7 {\n",
       "            background-color:  #9fbfff;\n",
       "            color:  #000000;\n",
       "        }    #T_cc939b0c_057d_11ec_8abb_02420a3936b0row9_col8 {\n",
       "            background-color:  #9abbff;\n",
       "            color:  #000000;\n",
       "        }    #T_cc939b0c_057d_11ec_8abb_02420a3936b0row9_col9 {\n",
       "            background-color:  #b40426;\n",
       "            color:  #f1f1f1;\n",
       "        }    #T_cc939b0c_057d_11ec_8abb_02420a3936b0row9_col10 {\n",
       "            background-color:  #b6cefa;\n",
       "            color:  #000000;\n",
       "        }    #T_cc939b0c_057d_11ec_8abb_02420a3936b0row9_col11 {\n",
       "            background-color:  #c0d4f5;\n",
       "            color:  #000000;\n",
       "        }    #T_cc939b0c_057d_11ec_8abb_02420a3936b0row9_col12 {\n",
       "            background-color:  #c7d7f0;\n",
       "            color:  #000000;\n",
       "        }    #T_cc939b0c_057d_11ec_8abb_02420a3936b0row9_col13 {\n",
       "            background-color:  #82a6fb;\n",
       "            color:  #000000;\n",
       "        }    #T_cc939b0c_057d_11ec_8abb_02420a3936b0row9_col14 {\n",
       "            background-color:  #b2ccfb;\n",
       "            color:  #000000;\n",
       "        }    #T_cc939b0c_057d_11ec_8abb_02420a3936b0row10_col0 {\n",
       "            background-color:  #6485ec;\n",
       "            color:  #000000;\n",
       "        }    #T_cc939b0c_057d_11ec_8abb_02420a3936b0row10_col1 {\n",
       "            background-color:  #c1d4f4;\n",
       "            color:  #000000;\n",
       "        }    #T_cc939b0c_057d_11ec_8abb_02420a3936b0row10_col2 {\n",
       "            background-color:  #bed2f6;\n",
       "            color:  #000000;\n",
       "        }    #T_cc939b0c_057d_11ec_8abb_02420a3936b0row10_col3 {\n",
       "            background-color:  #6180e9;\n",
       "            color:  #000000;\n",
       "        }    #T_cc939b0c_057d_11ec_8abb_02420a3936b0row10_col4 {\n",
       "            background-color:  #6384eb;\n",
       "            color:  #000000;\n",
       "        }    #T_cc939b0c_057d_11ec_8abb_02420a3936b0row10_col5 {\n",
       "            background-color:  #84a7fc;\n",
       "            color:  #000000;\n",
       "        }    #T_cc939b0c_057d_11ec_8abb_02420a3936b0row10_col6 {\n",
       "            background-color:  #c5d6f2;\n",
       "            color:  #000000;\n",
       "        }    #T_cc939b0c_057d_11ec_8abb_02420a3936b0row10_col7 {\n",
       "            background-color:  #b9d0f9;\n",
       "            color:  #000000;\n",
       "        }    #T_cc939b0c_057d_11ec_8abb_02420a3936b0row10_col8 {\n",
       "            background-color:  #96b7ff;\n",
       "            color:  #000000;\n",
       "        }    #T_cc939b0c_057d_11ec_8abb_02420a3936b0row10_col9 {\n",
       "            background-color:  #a6c4fe;\n",
       "            color:  #000000;\n",
       "        }    #T_cc939b0c_057d_11ec_8abb_02420a3936b0row10_col10 {\n",
       "            background-color:  #b40426;\n",
       "            color:  #f1f1f1;\n",
       "        }    #T_cc939b0c_057d_11ec_8abb_02420a3936b0row10_col11 {\n",
       "            background-color:  #9bbcff;\n",
       "            color:  #000000;\n",
       "        }    #T_cc939b0c_057d_11ec_8abb_02420a3936b0row10_col12 {\n",
       "            background-color:  #a1c0ff;\n",
       "            color:  #000000;\n",
       "        }    #T_cc939b0c_057d_11ec_8abb_02420a3936b0row10_col13 {\n",
       "            background-color:  #6180e9;\n",
       "            color:  #000000;\n",
       "        }    #T_cc939b0c_057d_11ec_8abb_02420a3936b0row10_col14 {\n",
       "            background-color:  #a6c4fe;\n",
       "            color:  #000000;\n",
       "        }    #T_cc939b0c_057d_11ec_8abb_02420a3936b0row11_col0 {\n",
       "            background-color:  #9fbfff;\n",
       "            color:  #000000;\n",
       "        }    #T_cc939b0c_057d_11ec_8abb_02420a3936b0row11_col1 {\n",
       "            background-color:  #f7b89c;\n",
       "            color:  #000000;\n",
       "        }    #T_cc939b0c_057d_11ec_8abb_02420a3936b0row11_col2 {\n",
       "            background-color:  #d8dce2;\n",
       "            color:  #000000;\n",
       "        }    #T_cc939b0c_057d_11ec_8abb_02420a3936b0row11_col3 {\n",
       "            background-color:  #90b2fe;\n",
       "            color:  #000000;\n",
       "        }    #T_cc939b0c_057d_11ec_8abb_02420a3936b0row11_col4 {\n",
       "            background-color:  #6485ec;\n",
       "            color:  #000000;\n",
       "        }    #T_cc939b0c_057d_11ec_8abb_02420a3936b0row11_col5 {\n",
       "            background-color:  #6e90f2;\n",
       "            color:  #000000;\n",
       "        }    #T_cc939b0c_057d_11ec_8abb_02420a3936b0row11_col6 {\n",
       "            background-color:  #d9dce1;\n",
       "            color:  #000000;\n",
       "        }    #T_cc939b0c_057d_11ec_8abb_02420a3936b0row11_col7 {\n",
       "            background-color:  #7da0f9;\n",
       "            color:  #000000;\n",
       "        }    #T_cc939b0c_057d_11ec_8abb_02420a3936b0row11_col8 {\n",
       "            background-color:  #92b4fe;\n",
       "            color:  #000000;\n",
       "        }    #T_cc939b0c_057d_11ec_8abb_02420a3936b0row11_col9 {\n",
       "            background-color:  #bad0f8;\n",
       "            color:  #000000;\n",
       "        }    #T_cc939b0c_057d_11ec_8abb_02420a3936b0row11_col10 {\n",
       "            background-color:  #a5c3fe;\n",
       "            color:  #000000;\n",
       "        }    #T_cc939b0c_057d_11ec_8abb_02420a3936b0row11_col11 {\n",
       "            background-color:  #b40426;\n",
       "            color:  #f1f1f1;\n",
       "        }    #T_cc939b0c_057d_11ec_8abb_02420a3936b0row11_col12 {\n",
       "            background-color:  #e9d5cb;\n",
       "            color:  #000000;\n",
       "        }    #T_cc939b0c_057d_11ec_8abb_02420a3936b0row11_col13 {\n",
       "            background-color:  #96b7ff;\n",
       "            color:  #000000;\n",
       "        }    #T_cc939b0c_057d_11ec_8abb_02420a3936b0row11_col14 {\n",
       "            background-color:  #96b7ff;\n",
       "            color:  #000000;\n",
       "        }    #T_cc939b0c_057d_11ec_8abb_02420a3936b0row12_col0 {\n",
       "            background-color:  #9bbcff;\n",
       "            color:  #000000;\n",
       "        }    #T_cc939b0c_057d_11ec_8abb_02420a3936b0row12_col1 {\n",
       "            background-color:  #f7b89c;\n",
       "            color:  #000000;\n",
       "        }    #T_cc939b0c_057d_11ec_8abb_02420a3936b0row12_col2 {\n",
       "            background-color:  #d9dce1;\n",
       "            color:  #000000;\n",
       "        }    #T_cc939b0c_057d_11ec_8abb_02420a3936b0row12_col3 {\n",
       "            background-color:  #94b6ff;\n",
       "            color:  #000000;\n",
       "        }    #T_cc939b0c_057d_11ec_8abb_02420a3936b0row12_col4 {\n",
       "            background-color:  #6384eb;\n",
       "            color:  #000000;\n",
       "        }    #T_cc939b0c_057d_11ec_8abb_02420a3936b0row12_col5 {\n",
       "            background-color:  #6788ee;\n",
       "            color:  #000000;\n",
       "        }    #T_cc939b0c_057d_11ec_8abb_02420a3936b0row12_col6 {\n",
       "            background-color:  #dadce0;\n",
       "            color:  #000000;\n",
       "        }    #T_cc939b0c_057d_11ec_8abb_02420a3936b0row12_col7 {\n",
       "            background-color:  #81a4fb;\n",
       "            color:  #000000;\n",
       "        }    #T_cc939b0c_057d_11ec_8abb_02420a3936b0row12_col8 {\n",
       "            background-color:  #8fb1fe;\n",
       "            color:  #000000;\n",
       "        }    #T_cc939b0c_057d_11ec_8abb_02420a3936b0row12_col9 {\n",
       "            background-color:  #bed2f6;\n",
       "            color:  #000000;\n",
       "        }    #T_cc939b0c_057d_11ec_8abb_02420a3936b0row12_col10 {\n",
       "            background-color:  #a6c4fe;\n",
       "            color:  #000000;\n",
       "        }    #T_cc939b0c_057d_11ec_8abb_02420a3936b0row12_col11 {\n",
       "            background-color:  #e7d7ce;\n",
       "            color:  #000000;\n",
       "        }    #T_cc939b0c_057d_11ec_8abb_02420a3936b0row12_col12 {\n",
       "            background-color:  #b40426;\n",
       "            color:  #f1f1f1;\n",
       "        }    #T_cc939b0c_057d_11ec_8abb_02420a3936b0row12_col13 {\n",
       "            background-color:  #96b7ff;\n",
       "            color:  #000000;\n",
       "        }    #T_cc939b0c_057d_11ec_8abb_02420a3936b0row12_col14 {\n",
       "            background-color:  #98b9ff;\n",
       "            color:  #000000;\n",
       "        }    #T_cc939b0c_057d_11ec_8abb_02420a3936b0row13_col0 {\n",
       "            background-color:  #8caffe;\n",
       "            color:  #000000;\n",
       "        }    #T_cc939b0c_057d_11ec_8abb_02420a3936b0row13_col1 {\n",
       "            background-color:  #e7d7ce;\n",
       "            color:  #000000;\n",
       "        }    #T_cc939b0c_057d_11ec_8abb_02420a3936b0row13_col2 {\n",
       "            background-color:  #cad8ef;\n",
       "            color:  #000000;\n",
       "        }    #T_cc939b0c_057d_11ec_8abb_02420a3936b0row13_col3 {\n",
       "            background-color:  #9bbcff;\n",
       "            color:  #000000;\n",
       "        }    #T_cc939b0c_057d_11ec_8abb_02420a3936b0row13_col4 {\n",
       "            background-color:  #6b8df0;\n",
       "            color:  #000000;\n",
       "        }    #T_cc939b0c_057d_11ec_8abb_02420a3936b0row13_col5 {\n",
       "            background-color:  #6b8df0;\n",
       "            color:  #000000;\n",
       "        }    #T_cc939b0c_057d_11ec_8abb_02420a3936b0row13_col6 {\n",
       "            background-color:  #a1c0ff;\n",
       "            color:  #000000;\n",
       "        }    #T_cc939b0c_057d_11ec_8abb_02420a3936b0row13_col7 {\n",
       "            background-color:  #6384eb;\n",
       "            color:  #000000;\n",
       "        }    #T_cc939b0c_057d_11ec_8abb_02420a3936b0row13_col8 {\n",
       "            background-color:  #7597f6;\n",
       "            color:  #000000;\n",
       "        }    #T_cc939b0c_057d_11ec_8abb_02420a3936b0row13_col9 {\n",
       "            background-color:  #779af7;\n",
       "            color:  #000000;\n",
       "        }    #T_cc939b0c_057d_11ec_8abb_02420a3936b0row13_col10 {\n",
       "            background-color:  #6a8bef;\n",
       "            color:  #000000;\n",
       "        }    #T_cc939b0c_057d_11ec_8abb_02420a3936b0row13_col11 {\n",
       "            background-color:  #94b6ff;\n",
       "            color:  #000000;\n",
       "        }    #T_cc939b0c_057d_11ec_8abb_02420a3936b0row13_col12 {\n",
       "            background-color:  #9abbff;\n",
       "            color:  #000000;\n",
       "        }    #T_cc939b0c_057d_11ec_8abb_02420a3936b0row13_col13 {\n",
       "            background-color:  #b40426;\n",
       "            color:  #f1f1f1;\n",
       "        }    #T_cc939b0c_057d_11ec_8abb_02420a3936b0row13_col14 {\n",
       "            background-color:  #a9c6fd;\n",
       "            color:  #000000;\n",
       "        }    #T_cc939b0c_057d_11ec_8abb_02420a3936b0row14_col0 {\n",
       "            background-color:  #5a78e4;\n",
       "            color:  #000000;\n",
       "        }    #T_cc939b0c_057d_11ec_8abb_02420a3936b0row14_col1 {\n",
       "            background-color:  #a6c4fe;\n",
       "            color:  #000000;\n",
       "        }    #T_cc939b0c_057d_11ec_8abb_02420a3936b0row14_col2 {\n",
       "            background-color:  #eb7d62;\n",
       "            color:  #000000;\n",
       "        }    #T_cc939b0c_057d_11ec_8abb_02420a3936b0row14_col3 {\n",
       "            background-color:  #7699f6;\n",
       "            color:  #000000;\n",
       "        }    #T_cc939b0c_057d_11ec_8abb_02420a3936b0row14_col4 {\n",
       "            background-color:  #bcd2f7;\n",
       "            color:  #000000;\n",
       "        }    #T_cc939b0c_057d_11ec_8abb_02420a3936b0row14_col5 {\n",
       "            background-color:  #a2c1ff;\n",
       "            color:  #000000;\n",
       "        }    #T_cc939b0c_057d_11ec_8abb_02420a3936b0row14_col6 {\n",
       "            background-color:  #6b8df0;\n",
       "            color:  #000000;\n",
       "        }    #T_cc939b0c_057d_11ec_8abb_02420a3936b0row14_col7 {\n",
       "            background-color:  #b1cbfc;\n",
       "            color:  #000000;\n",
       "        }    #T_cc939b0c_057d_11ec_8abb_02420a3936b0row14_col8 {\n",
       "            background-color:  #aec9fc;\n",
       "            color:  #000000;\n",
       "        }    #T_cc939b0c_057d_11ec_8abb_02420a3936b0row14_col9 {\n",
       "            background-color:  #b1cbfc;\n",
       "            color:  #000000;\n",
       "        }    #T_cc939b0c_057d_11ec_8abb_02420a3936b0row14_col10 {\n",
       "            background-color:  #b5cdfa;\n",
       "            color:  #000000;\n",
       "        }    #T_cc939b0c_057d_11ec_8abb_02420a3936b0row14_col11 {\n",
       "            background-color:  #9bbcff;\n",
       "            color:  #000000;\n",
       "        }    #T_cc939b0c_057d_11ec_8abb_02420a3936b0row14_col12 {\n",
       "            background-color:  #a2c1ff;\n",
       "            color:  #000000;\n",
       "        }    #T_cc939b0c_057d_11ec_8abb_02420a3936b0row14_col13 {\n",
       "            background-color:  #afcafc;\n",
       "            color:  #000000;\n",
       "        }    #T_cc939b0c_057d_11ec_8abb_02420a3936b0row14_col14 {\n",
       "            background-color:  #b40426;\n",
       "            color:  #f1f1f1;\n",
       "        }</style><table id=\"T_cc939b0c_057d_11ec_8abb_02420a3936b0\" ><thead>    <tr>        <th class=\"blank level0\" ></th>        <th class=\"col_heading level0 col0\" >PaperlessBilling</th>        <th class=\"col_heading level0 col1\" >MonthlyCharges</th>        <th class=\"col_heading level0 col2\" >TotalCharges</th>        <th class=\"col_heading level0 col3\" >SeniorCitizen</th>        <th class=\"col_heading level0 col4\" >Partner</th>        <th class=\"col_heading level0 col5\" >Dependents</th>        <th class=\"col_heading level0 col6\" >InternetService</th>        <th class=\"col_heading level0 col7\" >OnlineSecurity</th>        <th class=\"col_heading level0 col8\" >OnlineBackup</th>        <th class=\"col_heading level0 col9\" >DeviceProtection</th>        <th class=\"col_heading level0 col10\" >TechSupport</th>        <th class=\"col_heading level0 col11\" >StreamingTV</th>        <th class=\"col_heading level0 col12\" >StreamingMovies</th>        <th class=\"col_heading level0 col13\" >MultipleLines</th>        <th class=\"col_heading level0 col14\" >time</th>    </tr></thead><tbody>\n",
       "                <tr>\n",
       "                        <th id=\"T_cc939b0c_057d_11ec_8abb_02420a3936b0level0_row0\" class=\"row_heading level0 row0\" >PaperlessBilling</th>\n",
       "                        <td id=\"T_cc939b0c_057d_11ec_8abb_02420a3936b0row0_col0\" class=\"data row0 col0\" >1</td>\n",
       "                        <td id=\"T_cc939b0c_057d_11ec_8abb_02420a3936b0row0_col1\" class=\"data row0 col1\" >0.35193</td>\n",
       "                        <td id=\"T_cc939b0c_057d_11ec_8abb_02420a3936b0row0_col2\" class=\"data row0 col2\" >0.15783</td>\n",
       "                        <td id=\"T_cc939b0c_057d_11ec_8abb_02420a3936b0row0_col3\" class=\"data row0 col3\" >0.156258</td>\n",
       "                        <td id=\"T_cc939b0c_057d_11ec_8abb_02420a3936b0row0_col4\" class=\"data row0 col4\" >-0.0139567</td>\n",
       "                        <td id=\"T_cc939b0c_057d_11ec_8abb_02420a3936b0row0_col5\" class=\"data row0 col5\" >-0.110131</td>\n",
       "                        <td id=\"T_cc939b0c_057d_11ec_8abb_02420a3936b0row0_col6\" class=\"data row0 col6\" >0.320592</td>\n",
       "                        <td id=\"T_cc939b0c_057d_11ec_8abb_02420a3936b0row0_col7\" class=\"data row0 col7\" >-0.00405125</td>\n",
       "                        <td id=\"T_cc939b0c_057d_11ec_8abb_02420a3936b0row0_col8\" class=\"data row0 col8\" >0.127056</td>\n",
       "                        <td id=\"T_cc939b0c_057d_11ec_8abb_02420a3936b0row0_col9\" class=\"data row0 col9\" >0.104079</td>\n",
       "                        <td id=\"T_cc939b0c_057d_11ec_8abb_02420a3936b0row0_col10\" class=\"data row0 col10\" >0.0375359</td>\n",
       "                        <td id=\"T_cc939b0c_057d_11ec_8abb_02420a3936b0row0_col11\" class=\"data row0 col11\" >0.224241</td>\n",
       "                        <td id=\"T_cc939b0c_057d_11ec_8abb_02420a3936b0row0_col12\" class=\"data row0 col12\" >0.211583</td>\n",
       "                        <td id=\"T_cc939b0c_057d_11ec_8abb_02420a3936b0row0_col13\" class=\"data row0 col13\" >0.163746</td>\n",
       "                        <td id=\"T_cc939b0c_057d_11ec_8abb_02420a3936b0row0_col14\" class=\"data row0 col14\" >0.00472887</td>\n",
       "            </tr>\n",
       "            <tr>\n",
       "                        <th id=\"T_cc939b0c_057d_11ec_8abb_02420a3936b0level0_row1\" class=\"row_heading level0 row1\" >MonthlyCharges</th>\n",
       "                        <td id=\"T_cc939b0c_057d_11ec_8abb_02420a3936b0row1_col0\" class=\"data row1 col0\" >0.35193</td>\n",
       "                        <td id=\"T_cc939b0c_057d_11ec_8abb_02420a3936b0row1_col1\" class=\"data row1 col1\" >1</td>\n",
       "                        <td id=\"T_cc939b0c_057d_11ec_8abb_02420a3936b0row1_col2\" class=\"data row1 col2\" >0.651065</td>\n",
       "                        <td id=\"T_cc939b0c_057d_11ec_8abb_02420a3936b0row1_col3\" class=\"data row1 col3\" >0.219874</td>\n",
       "                        <td id=\"T_cc939b0c_057d_11ec_8abb_02420a3936b0row1_col4\" class=\"data row1 col4\" >0.097825</td>\n",
       "                        <td id=\"T_cc939b0c_057d_11ec_8abb_02420a3936b0row1_col5\" class=\"data row1 col5\" >-0.112343</td>\n",
       "                        <td id=\"T_cc939b0c_057d_11ec_8abb_02420a3936b0row1_col6\" class=\"data row1 col6\" >0.763191</td>\n",
       "                        <td id=\"T_cc939b0c_057d_11ec_8abb_02420a3936b0row1_col7\" class=\"data row1 col7\" >0.296447</td>\n",
       "                        <td id=\"T_cc939b0c_057d_11ec_8abb_02420a3936b0row1_col8\" class=\"data row1 col8\" >0.441529</td>\n",
       "                        <td id=\"T_cc939b0c_057d_11ec_8abb_02420a3936b0row1_col9\" class=\"data row1 col9\" >0.482607</td>\n",
       "                        <td id=\"T_cc939b0c_057d_11ec_8abb_02420a3936b0row1_col10\" class=\"data row1 col10\" >0.338301</td>\n",
       "                        <td id=\"T_cc939b0c_057d_11ec_8abb_02420a3936b0row1_col11\" class=\"data row1 col11\" >0.629668</td>\n",
       "                        <td id=\"T_cc939b0c_057d_11ec_8abb_02420a3936b0row1_col12\" class=\"data row1 col12\" >0.627235</td>\n",
       "                        <td id=\"T_cc939b0c_057d_11ec_8abb_02420a3936b0row1_col13\" class=\"data row1 col13\" >0.490912</td>\n",
       "                        <td id=\"T_cc939b0c_057d_11ec_8abb_02420a3936b0row1_col14\" class=\"data row1 col14\" >0.246715</td>\n",
       "            </tr>\n",
       "            <tr>\n",
       "                        <th id=\"T_cc939b0c_057d_11ec_8abb_02420a3936b0level0_row2\" class=\"row_heading level0 row2\" >TotalCharges</th>\n",
       "                        <td id=\"T_cc939b0c_057d_11ec_8abb_02420a3936b0row2_col0\" class=\"data row2 col0\" >0.15783</td>\n",
       "                        <td id=\"T_cc939b0c_057d_11ec_8abb_02420a3936b0row2_col1\" class=\"data row2 col1\" >0.651065</td>\n",
       "                        <td id=\"T_cc939b0c_057d_11ec_8abb_02420a3936b0row2_col2\" class=\"data row2 col2\" >1</td>\n",
       "                        <td id=\"T_cc939b0c_057d_11ec_8abb_02420a3936b0row2_col3\" class=\"data row2 col3\" >0.102411</td>\n",
       "                        <td id=\"T_cc939b0c_057d_11ec_8abb_02420a3936b0row2_col4\" class=\"data row2 col4\" >0.319072</td>\n",
       "                        <td id=\"T_cc939b0c_057d_11ec_8abb_02420a3936b0row2_col5\" class=\"data row2 col5\" >0.0646532</td>\n",
       "                        <td id=\"T_cc939b0c_057d_11ec_8abb_02420a3936b0row2_col6\" class=\"data row2 col6\" >0.374878</td>\n",
       "                        <td id=\"T_cc939b0c_057d_11ec_8abb_02420a3936b0row2_col7\" class=\"data row2 col7\" >0.412619</td>\n",
       "                        <td id=\"T_cc939b0c_057d_11ec_8abb_02420a3936b0row2_col8\" class=\"data row2 col8\" >0.5101</td>\n",
       "                        <td id=\"T_cc939b0c_057d_11ec_8abb_02420a3936b0row2_col9\" class=\"data row2 col9\" >0.522881</td>\n",
       "                        <td id=\"T_cc939b0c_057d_11ec_8abb_02420a3936b0row2_col10\" class=\"data row2 col10\" >0.432868</td>\n",
       "                        <td id=\"T_cc939b0c_057d_11ec_8abb_02420a3936b0row2_col11\" class=\"data row2 col11\" >0.515709</td>\n",
       "                        <td id=\"T_cc939b0c_057d_11ec_8abb_02420a3936b0row2_col12\" class=\"data row2 col12\" >0.519867</td>\n",
       "                        <td id=\"T_cc939b0c_057d_11ec_8abb_02420a3936b0row2_col13\" class=\"data row2 col13\" >0.469042</td>\n",
       "                        <td id=\"T_cc939b0c_057d_11ec_8abb_02420a3936b0row2_col14\" class=\"data row2 col14\" >0.825811</td>\n",
       "            </tr>\n",
       "            <tr>\n",
       "                        <th id=\"T_cc939b0c_057d_11ec_8abb_02420a3936b0level0_row3\" class=\"row_heading level0 row3\" >SeniorCitizen</th>\n",
       "                        <td id=\"T_cc939b0c_057d_11ec_8abb_02420a3936b0row3_col0\" class=\"data row3 col0\" >0.156258</td>\n",
       "                        <td id=\"T_cc939b0c_057d_11ec_8abb_02420a3936b0row3_col1\" class=\"data row3 col1\" >0.219874</td>\n",
       "                        <td id=\"T_cc939b0c_057d_11ec_8abb_02420a3936b0row3_col2\" class=\"data row3 col2\" >0.102411</td>\n",
       "                        <td id=\"T_cc939b0c_057d_11ec_8abb_02420a3936b0row3_col3\" class=\"data row3 col3\" >1</td>\n",
       "                        <td id=\"T_cc939b0c_057d_11ec_8abb_02420a3936b0row3_col4\" class=\"data row3 col4\" >0.0169566</td>\n",
       "                        <td id=\"T_cc939b0c_057d_11ec_8abb_02420a3936b0row3_col5\" class=\"data row3 col5\" >-0.21055</td>\n",
       "                        <td id=\"T_cc939b0c_057d_11ec_8abb_02420a3936b0row3_col6\" class=\"data row3 col6\" >0.182519</td>\n",
       "                        <td id=\"T_cc939b0c_057d_11ec_8abb_02420a3936b0row3_col7\" class=\"data row3 col7\" >-0.0385764</td>\n",
       "                        <td id=\"T_cc939b0c_057d_11ec_8abb_02420a3936b0row3_col8\" class=\"data row3 col8\" >0.0666628</td>\n",
       "                        <td id=\"T_cc939b0c_057d_11ec_8abb_02420a3936b0row3_col9\" class=\"data row3 col9\" >0.0595139</td>\n",
       "                        <td id=\"T_cc939b0c_057d_11ec_8abb_02420a3936b0row3_col10\" class=\"data row3 col10\" >-0.0605768</td>\n",
       "                        <td id=\"T_cc939b0c_057d_11ec_8abb_02420a3936b0row3_col11\" class=\"data row3 col11\" >0.105445</td>\n",
       "                        <td id=\"T_cc939b0c_057d_11ec_8abb_02420a3936b0row3_col12\" class=\"data row3 col12\" >0.119842</td>\n",
       "                        <td id=\"T_cc939b0c_057d_11ec_8abb_02420a3936b0row3_col13\" class=\"data row3 col13\" >0.142996</td>\n",
       "                        <td id=\"T_cc939b0c_057d_11ec_8abb_02420a3936b0row3_col14\" class=\"data row3 col14\" >0.01563</td>\n",
       "            </tr>\n",
       "            <tr>\n",
       "                        <th id=\"T_cc939b0c_057d_11ec_8abb_02420a3936b0level0_row4\" class=\"row_heading level0 row4\" >Partner</th>\n",
       "                        <td id=\"T_cc939b0c_057d_11ec_8abb_02420a3936b0row4_col0\" class=\"data row4 col0\" >-0.0139567</td>\n",
       "                        <td id=\"T_cc939b0c_057d_11ec_8abb_02420a3936b0row4_col1\" class=\"data row4 col1\" >0.097825</td>\n",
       "                        <td id=\"T_cc939b0c_057d_11ec_8abb_02420a3936b0row4_col2\" class=\"data row4 col2\" >0.319072</td>\n",
       "                        <td id=\"T_cc939b0c_057d_11ec_8abb_02420a3936b0row4_col3\" class=\"data row4 col3\" >0.0169566</td>\n",
       "                        <td id=\"T_cc939b0c_057d_11ec_8abb_02420a3936b0row4_col4\" class=\"data row4 col4\" >1</td>\n",
       "                        <td id=\"T_cc939b0c_057d_11ec_8abb_02420a3936b0row4_col5\" class=\"data row4 col5\" >0.452269</td>\n",
       "                        <td id=\"T_cc939b0c_057d_11ec_8abb_02420a3936b0row4_col6\" class=\"data row4 col6\" >0.00028552</td>\n",
       "                        <td id=\"T_cc939b0c_057d_11ec_8abb_02420a3936b0row4_col7\" class=\"data row4 col7\" >0.143346</td>\n",
       "                        <td id=\"T_cc939b0c_057d_11ec_8abb_02420a3936b0row4_col8\" class=\"data row4 col8\" >0.141849</td>\n",
       "                        <td id=\"T_cc939b0c_057d_11ec_8abb_02420a3936b0row4_col9\" class=\"data row4 col9\" >0.153556</td>\n",
       "                        <td id=\"T_cc939b0c_057d_11ec_8abb_02420a3936b0row4_col10\" class=\"data row4 col10\" >0.120206</td>\n",
       "                        <td id=\"T_cc939b0c_057d_11ec_8abb_02420a3936b0row4_col11\" class=\"data row4 col11\" >0.124483</td>\n",
       "                        <td id=\"T_cc939b0c_057d_11ec_8abb_02420a3936b0row4_col12\" class=\"data row4 col12\" >0.118108</td>\n",
       "                        <td id=\"T_cc939b0c_057d_11ec_8abb_02420a3936b0row4_col13\" class=\"data row4 col13\" >0.142561</td>\n",
       "                        <td id=\"T_cc939b0c_057d_11ec_8abb_02420a3936b0row4_col14\" class=\"data row4 col14\" >0.381924</td>\n",
       "            </tr>\n",
       "            <tr>\n",
       "                        <th id=\"T_cc939b0c_057d_11ec_8abb_02420a3936b0level0_row5\" class=\"row_heading level0 row5\" >Dependents</th>\n",
       "                        <td id=\"T_cc939b0c_057d_11ec_8abb_02420a3936b0row5_col0\" class=\"data row5 col0\" >-0.110131</td>\n",
       "                        <td id=\"T_cc939b0c_057d_11ec_8abb_02420a3936b0row5_col1\" class=\"data row5 col1\" >-0.112343</td>\n",
       "                        <td id=\"T_cc939b0c_057d_11ec_8abb_02420a3936b0row5_col2\" class=\"data row5 col2\" >0.0646532</td>\n",
       "                        <td id=\"T_cc939b0c_057d_11ec_8abb_02420a3936b0row5_col3\" class=\"data row5 col3\" >-0.21055</td>\n",
       "                        <td id=\"T_cc939b0c_057d_11ec_8abb_02420a3936b0row5_col4\" class=\"data row5 col4\" >0.452269</td>\n",
       "                        <td id=\"T_cc939b0c_057d_11ec_8abb_02420a3936b0row5_col5\" class=\"data row5 col5\" >1</td>\n",
       "                        <td id=\"T_cc939b0c_057d_11ec_8abb_02420a3936b0row5_col6\" class=\"data row5 col6\" >-0.138383</td>\n",
       "                        <td id=\"T_cc939b0c_057d_11ec_8abb_02420a3936b0row5_col7\" class=\"data row5 col7\" >0.0807855</td>\n",
       "                        <td id=\"T_cc939b0c_057d_11ec_8abb_02420a3936b0row5_col8\" class=\"data row5 col8\" >0.0236388</td>\n",
       "                        <td id=\"T_cc939b0c_057d_11ec_8abb_02420a3936b0row5_col9\" class=\"data row5 col9\" >0.0138997</td>\n",
       "                        <td id=\"T_cc939b0c_057d_11ec_8abb_02420a3936b0row5_col10\" class=\"data row5 col10\" >0.0630532</td>\n",
       "                        <td id=\"T_cc939b0c_057d_11ec_8abb_02420a3936b0row5_col11\" class=\"data row5 col11\" >-0.0164987</td>\n",
       "                        <td id=\"T_cc939b0c_057d_11ec_8abb_02420a3936b0row5_col12\" class=\"data row5 col12\" >-0.0383749</td>\n",
       "                        <td id=\"T_cc939b0c_057d_11ec_8abb_02420a3936b0row5_col13\" class=\"data row5 col13\" >-0.0243067</td>\n",
       "                        <td id=\"T_cc939b0c_057d_11ec_8abb_02420a3936b0row5_col14\" class=\"data row5 col14\" >0.163442</td>\n",
       "            </tr>\n",
       "            <tr>\n",
       "                        <th id=\"T_cc939b0c_057d_11ec_8abb_02420a3936b0level0_row6\" class=\"row_heading level0 row6\" >InternetService</th>\n",
       "                        <td id=\"T_cc939b0c_057d_11ec_8abb_02420a3936b0row6_col0\" class=\"data row6 col0\" >0.320592</td>\n",
       "                        <td id=\"T_cc939b0c_057d_11ec_8abb_02420a3936b0row6_col1\" class=\"data row6 col1\" >0.763191</td>\n",
       "                        <td id=\"T_cc939b0c_057d_11ec_8abb_02420a3936b0row6_col2\" class=\"data row6 col2\" >0.374878</td>\n",
       "                        <td id=\"T_cc939b0c_057d_11ec_8abb_02420a3936b0row6_col3\" class=\"data row6 col3\" >0.182519</td>\n",
       "                        <td id=\"T_cc939b0c_057d_11ec_8abb_02420a3936b0row6_col4\" class=\"data row6 col4\" >0.00028552</td>\n",
       "                        <td id=\"T_cc939b0c_057d_11ec_8abb_02420a3936b0row6_col5\" class=\"data row6 col5\" >-0.138383</td>\n",
       "                        <td id=\"T_cc939b0c_057d_11ec_8abb_02420a3936b0row6_col6\" class=\"data row6 col6\" >1</td>\n",
       "                        <td id=\"T_cc939b0c_057d_11ec_8abb_02420a3936b0row6_col7\" class=\"data row6 col7\" >0.332799</td>\n",
       "                        <td id=\"T_cc939b0c_057d_11ec_8abb_02420a3936b0row6_col8\" class=\"data row6 col8\" >0.38099</td>\n",
       "                        <td id=\"T_cc939b0c_057d_11ec_8abb_02420a3936b0row6_col9\" class=\"data row6 col9\" >0.380151</td>\n",
       "                        <td id=\"T_cc939b0c_057d_11ec_8abb_02420a3936b0row6_col10\" class=\"data row6 col10\" >0.335695</td>\n",
       "                        <td id=\"T_cc939b0c_057d_11ec_8abb_02420a3936b0row6_col11\" class=\"data row6 col11\" >0.414951</td>\n",
       "                        <td id=\"T_cc939b0c_057d_11ec_8abb_02420a3936b0row6_col12\" class=\"data row6 col12\" >0.41845</td>\n",
       "                        <td id=\"T_cc939b0c_057d_11ec_8abb_02420a3936b0row6_col13\" class=\"data row6 col13\" >0.210794</td>\n",
       "                        <td id=\"T_cc939b0c_057d_11ec_8abb_02420a3936b0row6_col14\" class=\"data row6 col14\" >0.0374167</td>\n",
       "            </tr>\n",
       "            <tr>\n",
       "                        <th id=\"T_cc939b0c_057d_11ec_8abb_02420a3936b0level0_row7\" class=\"row_heading level0 row7\" >OnlineSecurity</th>\n",
       "                        <td id=\"T_cc939b0c_057d_11ec_8abb_02420a3936b0row7_col0\" class=\"data row7 col0\" >-0.00405125</td>\n",
       "                        <td id=\"T_cc939b0c_057d_11ec_8abb_02420a3936b0row7_col1\" class=\"data row7 col1\" >0.296447</td>\n",
       "                        <td id=\"T_cc939b0c_057d_11ec_8abb_02420a3936b0row7_col2\" class=\"data row7 col2\" >0.412619</td>\n",
       "                        <td id=\"T_cc939b0c_057d_11ec_8abb_02420a3936b0row7_col3\" class=\"data row7 col3\" >-0.0385764</td>\n",
       "                        <td id=\"T_cc939b0c_057d_11ec_8abb_02420a3936b0row7_col4\" class=\"data row7 col4\" >0.143346</td>\n",
       "                        <td id=\"T_cc939b0c_057d_11ec_8abb_02420a3936b0row7_col5\" class=\"data row7 col5\" >0.0807855</td>\n",
       "                        <td id=\"T_cc939b0c_057d_11ec_8abb_02420a3936b0row7_col6\" class=\"data row7 col6\" >0.332799</td>\n",
       "                        <td id=\"T_cc939b0c_057d_11ec_8abb_02420a3936b0row7_col7\" class=\"data row7 col7\" >1</td>\n",
       "                        <td id=\"T_cc939b0c_057d_11ec_8abb_02420a3936b0row7_col8\" class=\"data row7 col8\" >0.283285</td>\n",
       "                        <td id=\"T_cc939b0c_057d_11ec_8abb_02420a3936b0row7_col9\" class=\"data row7 col9\" >0.274875</td>\n",
       "                        <td id=\"T_cc939b0c_057d_11ec_8abb_02420a3936b0row7_col10\" class=\"data row7 col10\" >0.354458</td>\n",
       "                        <td id=\"T_cc939b0c_057d_11ec_8abb_02420a3936b0row7_col11\" class=\"data row7 col11\" >0.175514</td>\n",
       "                        <td id=\"T_cc939b0c_057d_11ec_8abb_02420a3936b0row7_col12\" class=\"data row7 col12\" >0.187426</td>\n",
       "                        <td id=\"T_cc939b0c_057d_11ec_8abb_02420a3936b0row7_col13\" class=\"data row7 col13\" >0.098592</td>\n",
       "                        <td id=\"T_cc939b0c_057d_11ec_8abb_02420a3936b0row7_col14\" class=\"data row7 col14\" >0.328299</td>\n",
       "            </tr>\n",
       "            <tr>\n",
       "                        <th id=\"T_cc939b0c_057d_11ec_8abb_02420a3936b0level0_row8\" class=\"row_heading level0 row8\" >OnlineBackup</th>\n",
       "                        <td id=\"T_cc939b0c_057d_11ec_8abb_02420a3936b0row8_col0\" class=\"data row8 col0\" >0.127056</td>\n",
       "                        <td id=\"T_cc939b0c_057d_11ec_8abb_02420a3936b0row8_col1\" class=\"data row8 col1\" >0.441529</td>\n",
       "                        <td id=\"T_cc939b0c_057d_11ec_8abb_02420a3936b0row8_col2\" class=\"data row8 col2\" >0.5101</td>\n",
       "                        <td id=\"T_cc939b0c_057d_11ec_8abb_02420a3936b0row8_col3\" class=\"data row8 col3\" >0.0666628</td>\n",
       "                        <td id=\"T_cc939b0c_057d_11ec_8abb_02420a3936b0row8_col4\" class=\"data row8 col4\" >0.141849</td>\n",
       "                        <td id=\"T_cc939b0c_057d_11ec_8abb_02420a3936b0row8_col5\" class=\"data row8 col5\" >0.0236388</td>\n",
       "                        <td id=\"T_cc939b0c_057d_11ec_8abb_02420a3936b0row8_col6\" class=\"data row8 col6\" >0.38099</td>\n",
       "                        <td id=\"T_cc939b0c_057d_11ec_8abb_02420a3936b0row8_col7\" class=\"data row8 col7\" >0.283285</td>\n",
       "                        <td id=\"T_cc939b0c_057d_11ec_8abb_02420a3936b0row8_col8\" class=\"data row8 col8\" >1</td>\n",
       "                        <td id=\"T_cc939b0c_057d_11ec_8abb_02420a3936b0row8_col9\" class=\"data row8 col9\" >0.303058</td>\n",
       "                        <td id=\"T_cc939b0c_057d_11ec_8abb_02420a3936b0row8_col10\" class=\"data row8 col10\" >0.293705</td>\n",
       "                        <td id=\"T_cc939b0c_057d_11ec_8abb_02420a3936b0row8_col11\" class=\"data row8 col11\" >0.281601</td>\n",
       "                        <td id=\"T_cc939b0c_057d_11ec_8abb_02420a3936b0row8_col12\" class=\"data row8 col12\" >0.274523</td>\n",
       "                        <td id=\"T_cc939b0c_057d_11ec_8abb_02420a3936b0row8_col13\" class=\"data row8 col13\" >0.202228</td>\n",
       "                        <td id=\"T_cc939b0c_057d_11ec_8abb_02420a3936b0row8_col14\" class=\"data row8 col14\" >0.3611</td>\n",
       "            </tr>\n",
       "            <tr>\n",
       "                        <th id=\"T_cc939b0c_057d_11ec_8abb_02420a3936b0level0_row9\" class=\"row_heading level0 row9\" >DeviceProtection</th>\n",
       "                        <td id=\"T_cc939b0c_057d_11ec_8abb_02420a3936b0row9_col0\" class=\"data row9 col0\" >0.104079</td>\n",
       "                        <td id=\"T_cc939b0c_057d_11ec_8abb_02420a3936b0row9_col1\" class=\"data row9 col1\" >0.482607</td>\n",
       "                        <td id=\"T_cc939b0c_057d_11ec_8abb_02420a3936b0row9_col2\" class=\"data row9 col2\" >0.522881</td>\n",
       "                        <td id=\"T_cc939b0c_057d_11ec_8abb_02420a3936b0row9_col3\" class=\"data row9 col3\" >0.0595139</td>\n",
       "                        <td id=\"T_cc939b0c_057d_11ec_8abb_02420a3936b0row9_col4\" class=\"data row9 col4\" >0.153556</td>\n",
       "                        <td id=\"T_cc939b0c_057d_11ec_8abb_02420a3936b0row9_col5\" class=\"data row9 col5\" >0.0138997</td>\n",
       "                        <td id=\"T_cc939b0c_057d_11ec_8abb_02420a3936b0row9_col6\" class=\"data row9 col6\" >0.380151</td>\n",
       "                        <td id=\"T_cc939b0c_057d_11ec_8abb_02420a3936b0row9_col7\" class=\"data row9 col7\" >0.274875</td>\n",
       "                        <td id=\"T_cc939b0c_057d_11ec_8abb_02420a3936b0row9_col8\" class=\"data row9 col8\" >0.303058</td>\n",
       "                        <td id=\"T_cc939b0c_057d_11ec_8abb_02420a3936b0row9_col9\" class=\"data row9 col9\" >1</td>\n",
       "                        <td id=\"T_cc939b0c_057d_11ec_8abb_02420a3936b0row9_col10\" class=\"data row9 col10\" >0.33285</td>\n",
       "                        <td id=\"T_cc939b0c_057d_11ec_8abb_02420a3936b0row9_col11\" class=\"data row9 col11\" >0.389924</td>\n",
       "                        <td id=\"T_cc939b0c_057d_11ec_8abb_02420a3936b0row9_col12\" class=\"data row9 col12\" >0.402309</td>\n",
       "                        <td id=\"T_cc939b0c_057d_11ec_8abb_02420a3936b0row9_col13\" class=\"data row9 col13\" >0.201733</td>\n",
       "                        <td id=\"T_cc939b0c_057d_11ec_8abb_02420a3936b0row9_col14\" class=\"data row9 col14\" >0.361469</td>\n",
       "            </tr>\n",
       "            <tr>\n",
       "                        <th id=\"T_cc939b0c_057d_11ec_8abb_02420a3936b0level0_row10\" class=\"row_heading level0 row10\" >TechSupport</th>\n",
       "                        <td id=\"T_cc939b0c_057d_11ec_8abb_02420a3936b0row10_col0\" class=\"data row10 col0\" >0.0375359</td>\n",
       "                        <td id=\"T_cc939b0c_057d_11ec_8abb_02420a3936b0row10_col1\" class=\"data row10 col1\" >0.338301</td>\n",
       "                        <td id=\"T_cc939b0c_057d_11ec_8abb_02420a3936b0row10_col2\" class=\"data row10 col2\" >0.432868</td>\n",
       "                        <td id=\"T_cc939b0c_057d_11ec_8abb_02420a3936b0row10_col3\" class=\"data row10 col3\" >-0.0605768</td>\n",
       "                        <td id=\"T_cc939b0c_057d_11ec_8abb_02420a3936b0row10_col4\" class=\"data row10 col4\" >0.120206</td>\n",
       "                        <td id=\"T_cc939b0c_057d_11ec_8abb_02420a3936b0row10_col5\" class=\"data row10 col5\" >0.0630532</td>\n",
       "                        <td id=\"T_cc939b0c_057d_11ec_8abb_02420a3936b0row10_col6\" class=\"data row10 col6\" >0.335695</td>\n",
       "                        <td id=\"T_cc939b0c_057d_11ec_8abb_02420a3936b0row10_col7\" class=\"data row10 col7\" >0.354458</td>\n",
       "                        <td id=\"T_cc939b0c_057d_11ec_8abb_02420a3936b0row10_col8\" class=\"data row10 col8\" >0.293705</td>\n",
       "                        <td id=\"T_cc939b0c_057d_11ec_8abb_02420a3936b0row10_col9\" class=\"data row10 col9\" >0.33285</td>\n",
       "                        <td id=\"T_cc939b0c_057d_11ec_8abb_02420a3936b0row10_col10\" class=\"data row10 col10\" >1</td>\n",
       "                        <td id=\"T_cc939b0c_057d_11ec_8abb_02420a3936b0row10_col11\" class=\"data row10 col11\" >0.277549</td>\n",
       "                        <td id=\"T_cc939b0c_057d_11ec_8abb_02420a3936b0row10_col12\" class=\"data row10 col12\" >0.280155</td>\n",
       "                        <td id=\"T_cc939b0c_057d_11ec_8abb_02420a3936b0row10_col13\" class=\"data row10 col13\" >0.100421</td>\n",
       "                        <td id=\"T_cc939b0c_057d_11ec_8abb_02420a3936b0row10_col14\" class=\"data row10 col14\" >0.325307</td>\n",
       "            </tr>\n",
       "            <tr>\n",
       "                        <th id=\"T_cc939b0c_057d_11ec_8abb_02420a3936b0level0_row11\" class=\"row_heading level0 row11\" >StreamingTV</th>\n",
       "                        <td id=\"T_cc939b0c_057d_11ec_8abb_02420a3936b0row11_col0\" class=\"data row11 col0\" >0.224241</td>\n",
       "                        <td id=\"T_cc939b0c_057d_11ec_8abb_02420a3936b0row11_col1\" class=\"data row11 col1\" >0.629668</td>\n",
       "                        <td id=\"T_cc939b0c_057d_11ec_8abb_02420a3936b0row11_col2\" class=\"data row11 col2\" >0.515709</td>\n",
       "                        <td id=\"T_cc939b0c_057d_11ec_8abb_02420a3936b0row11_col3\" class=\"data row11 col3\" >0.105445</td>\n",
       "                        <td id=\"T_cc939b0c_057d_11ec_8abb_02420a3936b0row11_col4\" class=\"data row11 col4\" >0.124483</td>\n",
       "                        <td id=\"T_cc939b0c_057d_11ec_8abb_02420a3936b0row11_col5\" class=\"data row11 col5\" >-0.0164987</td>\n",
       "                        <td id=\"T_cc939b0c_057d_11ec_8abb_02420a3936b0row11_col6\" class=\"data row11 col6\" >0.414951</td>\n",
       "                        <td id=\"T_cc939b0c_057d_11ec_8abb_02420a3936b0row11_col7\" class=\"data row11 col7\" >0.175514</td>\n",
       "                        <td id=\"T_cc939b0c_057d_11ec_8abb_02420a3936b0row11_col8\" class=\"data row11 col8\" >0.281601</td>\n",
       "                        <td id=\"T_cc939b0c_057d_11ec_8abb_02420a3936b0row11_col9\" class=\"data row11 col9\" >0.389924</td>\n",
       "                        <td id=\"T_cc939b0c_057d_11ec_8abb_02420a3936b0row11_col10\" class=\"data row11 col10\" >0.277549</td>\n",
       "                        <td id=\"T_cc939b0c_057d_11ec_8abb_02420a3936b0row11_col11\" class=\"data row11 col11\" >1</td>\n",
       "                        <td id=\"T_cc939b0c_057d_11ec_8abb_02420a3936b0row11_col12\" class=\"data row11 col12\" >0.53338</td>\n",
       "                        <td id=\"T_cc939b0c_057d_11ec_8abb_02420a3936b0row11_col13\" class=\"data row11 col13\" >0.257804</td>\n",
       "                        <td id=\"T_cc939b0c_057d_11ec_8abb_02420a3936b0row11_col14\" class=\"data row11 col14\" >0.280165</td>\n",
       "            </tr>\n",
       "            <tr>\n",
       "                        <th id=\"T_cc939b0c_057d_11ec_8abb_02420a3936b0level0_row12\" class=\"row_heading level0 row12\" >StreamingMovies</th>\n",
       "                        <td id=\"T_cc939b0c_057d_11ec_8abb_02420a3936b0row12_col0\" class=\"data row12 col0\" >0.211583</td>\n",
       "                        <td id=\"T_cc939b0c_057d_11ec_8abb_02420a3936b0row12_col1\" class=\"data row12 col1\" >0.627235</td>\n",
       "                        <td id=\"T_cc939b0c_057d_11ec_8abb_02420a3936b0row12_col2\" class=\"data row12 col2\" >0.519867</td>\n",
       "                        <td id=\"T_cc939b0c_057d_11ec_8abb_02420a3936b0row12_col3\" class=\"data row12 col3\" >0.119842</td>\n",
       "                        <td id=\"T_cc939b0c_057d_11ec_8abb_02420a3936b0row12_col4\" class=\"data row12 col4\" >0.118108</td>\n",
       "                        <td id=\"T_cc939b0c_057d_11ec_8abb_02420a3936b0row12_col5\" class=\"data row12 col5\" >-0.0383749</td>\n",
       "                        <td id=\"T_cc939b0c_057d_11ec_8abb_02420a3936b0row12_col6\" class=\"data row12 col6\" >0.41845</td>\n",
       "                        <td id=\"T_cc939b0c_057d_11ec_8abb_02420a3936b0row12_col7\" class=\"data row12 col7\" >0.187426</td>\n",
       "                        <td id=\"T_cc939b0c_057d_11ec_8abb_02420a3936b0row12_col8\" class=\"data row12 col8\" >0.274523</td>\n",
       "                        <td id=\"T_cc939b0c_057d_11ec_8abb_02420a3936b0row12_col9\" class=\"data row12 col9\" >0.402309</td>\n",
       "                        <td id=\"T_cc939b0c_057d_11ec_8abb_02420a3936b0row12_col10\" class=\"data row12 col10\" >0.280155</td>\n",
       "                        <td id=\"T_cc939b0c_057d_11ec_8abb_02420a3936b0row12_col11\" class=\"data row12 col11\" >0.53338</td>\n",
       "                        <td id=\"T_cc939b0c_057d_11ec_8abb_02420a3936b0row12_col12\" class=\"data row12 col12\" >1</td>\n",
       "                        <td id=\"T_cc939b0c_057d_11ec_8abb_02420a3936b0row12_col13\" class=\"data row12 col13\" >0.259194</td>\n",
       "                        <td id=\"T_cc939b0c_057d_11ec_8abb_02420a3936b0row12_col14\" class=\"data row12 col14\" >0.285298</td>\n",
       "            </tr>\n",
       "            <tr>\n",
       "                        <th id=\"T_cc939b0c_057d_11ec_8abb_02420a3936b0level0_row13\" class=\"row_heading level0 row13\" >MultipleLines</th>\n",
       "                        <td id=\"T_cc939b0c_057d_11ec_8abb_02420a3936b0row13_col0\" class=\"data row13 col0\" >0.163746</td>\n",
       "                        <td id=\"T_cc939b0c_057d_11ec_8abb_02420a3936b0row13_col1\" class=\"data row13 col1\" >0.490912</td>\n",
       "                        <td id=\"T_cc939b0c_057d_11ec_8abb_02420a3936b0row13_col2\" class=\"data row13 col2\" >0.469042</td>\n",
       "                        <td id=\"T_cc939b0c_057d_11ec_8abb_02420a3936b0row13_col3\" class=\"data row13 col3\" >0.142996</td>\n",
       "                        <td id=\"T_cc939b0c_057d_11ec_8abb_02420a3936b0row13_col4\" class=\"data row13 col4\" >0.142561</td>\n",
       "                        <td id=\"T_cc939b0c_057d_11ec_8abb_02420a3936b0row13_col5\" class=\"data row13 col5\" >-0.0243067</td>\n",
       "                        <td id=\"T_cc939b0c_057d_11ec_8abb_02420a3936b0row13_col6\" class=\"data row13 col6\" >0.210794</td>\n",
       "                        <td id=\"T_cc939b0c_057d_11ec_8abb_02420a3936b0row13_col7\" class=\"data row13 col7\" >0.098592</td>\n",
       "                        <td id=\"T_cc939b0c_057d_11ec_8abb_02420a3936b0row13_col8\" class=\"data row13 col8\" >0.202228</td>\n",
       "                        <td id=\"T_cc939b0c_057d_11ec_8abb_02420a3936b0row13_col9\" class=\"data row13 col9\" >0.201733</td>\n",
       "                        <td id=\"T_cc939b0c_057d_11ec_8abb_02420a3936b0row13_col10\" class=\"data row13 col10\" >0.100421</td>\n",
       "                        <td id=\"T_cc939b0c_057d_11ec_8abb_02420a3936b0row13_col11\" class=\"data row13 col11\" >0.257804</td>\n",
       "                        <td id=\"T_cc939b0c_057d_11ec_8abb_02420a3936b0row13_col12\" class=\"data row13 col12\" >0.259194</td>\n",
       "                        <td id=\"T_cc939b0c_057d_11ec_8abb_02420a3936b0row13_col13\" class=\"data row13 col13\" >1</td>\n",
       "                        <td id=\"T_cc939b0c_057d_11ec_8abb_02420a3936b0row13_col14\" class=\"data row13 col14\" >0.332292</td>\n",
       "            </tr>\n",
       "            <tr>\n",
       "                        <th id=\"T_cc939b0c_057d_11ec_8abb_02420a3936b0level0_row14\" class=\"row_heading level0 row14\" >time</th>\n",
       "                        <td id=\"T_cc939b0c_057d_11ec_8abb_02420a3936b0row14_col0\" class=\"data row14 col0\" >0.00472887</td>\n",
       "                        <td id=\"T_cc939b0c_057d_11ec_8abb_02420a3936b0row14_col1\" class=\"data row14 col1\" >0.246715</td>\n",
       "                        <td id=\"T_cc939b0c_057d_11ec_8abb_02420a3936b0row14_col2\" class=\"data row14 col2\" >0.825811</td>\n",
       "                        <td id=\"T_cc939b0c_057d_11ec_8abb_02420a3936b0row14_col3\" class=\"data row14 col3\" >0.01563</td>\n",
       "                        <td id=\"T_cc939b0c_057d_11ec_8abb_02420a3936b0row14_col4\" class=\"data row14 col4\" >0.381924</td>\n",
       "                        <td id=\"T_cc939b0c_057d_11ec_8abb_02420a3936b0row14_col5\" class=\"data row14 col5\" >0.163442</td>\n",
       "                        <td id=\"T_cc939b0c_057d_11ec_8abb_02420a3936b0row14_col6\" class=\"data row14 col6\" >0.0374167</td>\n",
       "                        <td id=\"T_cc939b0c_057d_11ec_8abb_02420a3936b0row14_col7\" class=\"data row14 col7\" >0.328299</td>\n",
       "                        <td id=\"T_cc939b0c_057d_11ec_8abb_02420a3936b0row14_col8\" class=\"data row14 col8\" >0.3611</td>\n",
       "                        <td id=\"T_cc939b0c_057d_11ec_8abb_02420a3936b0row14_col9\" class=\"data row14 col9\" >0.361469</td>\n",
       "                        <td id=\"T_cc939b0c_057d_11ec_8abb_02420a3936b0row14_col10\" class=\"data row14 col10\" >0.325307</td>\n",
       "                        <td id=\"T_cc939b0c_057d_11ec_8abb_02420a3936b0row14_col11\" class=\"data row14 col11\" >0.280165</td>\n",
       "                        <td id=\"T_cc939b0c_057d_11ec_8abb_02420a3936b0row14_col12\" class=\"data row14 col12\" >0.285298</td>\n",
       "                        <td id=\"T_cc939b0c_057d_11ec_8abb_02420a3936b0row14_col13\" class=\"data row14 col13\" >0.332292</td>\n",
       "                        <td id=\"T_cc939b0c_057d_11ec_8abb_02420a3936b0row14_col14\" class=\"data row14 col14\" >1</td>\n",
       "            </tr>\n",
       "    </tbody></table>"
      ],
      "text/plain": [
       "<pandas.io.formats.style.Styler at 0x7f9af425a490>"
      ]
     },
     "execution_count": 18,
     "metadata": {},
     "output_type": "execute_result"
    }
   ],
   "source": [
    "corr = data.corr()\n",
    "corr.style.background_gradient(cmap='coolwarm')"
   ]
  },
  {
   "cell_type": "markdown",
   "metadata": {},
   "source": [
    "\n",
    "Видим, что столбец *TotalCharges* коррелируется со столбцом *time*. Удалим его, оставив *time*.\n"
   ]
  },
  {
   "cell_type": "code",
   "execution_count": 19,
   "metadata": {},
   "outputs": [],
   "source": [
    "data.drop(['TotalCharges'], axis='columns', inplace=True)"
   ]
  },
  {
   "cell_type": "markdown",
   "metadata": {},
   "source": [
    "[К оглавлению](#intro)"
   ]
  },
  {
   "cell_type": "markdown",
   "metadata": {},
   "source": [
    "<a id='chapter4'></a>\n",
    "\n",
    "## Подготовка данных"
   ]
  },
  {
   "cell_type": "markdown",
   "metadata": {},
   "source": [
    "\n",
    "Перед нами стоит задача классификации - нам необходимо спрогнозировать уход клиента из компании. Значит целевым признаком в данном случае будет несколько модифицированный столбец *EndDate*. В данном случае нам не важно когда именно клиент расторг договор с компанией, а лишь сам факт этого. Создадим новый целевой признак *target*. Он примет значение 0, если клиент все еще пользуется услугами, и 1, если клиент расторг договор.\n"
   ]
  },
  {
   "cell_type": "code",
   "execution_count": 20,
   "metadata": {},
   "outputs": [],
   "source": [
    "data['target'] = 0\n",
    "data.loc[data['EndDate'] != 'No', 'target'] = 1"
   ]
  },
  {
   "cell_type": "markdown",
   "metadata": {},
   "source": [
    "\n",
    "Теперь сам столбец *EndDate* мы также можем удалить.\n"
   ]
  },
  {
   "cell_type": "code",
   "execution_count": 21,
   "metadata": {},
   "outputs": [
    {
     "name": "stdout",
     "output_type": "stream",
     "text": [
      "<class 'pandas.core.frame.DataFrame'>\n",
      "RangeIndex: 7032 entries, 0 to 7031\n",
      "Data columns (total 18 columns):\n",
      "Type                7032 non-null object\n",
      "PaperlessBilling    7032 non-null int64\n",
      "PaymentMethod       7032 non-null object\n",
      "MonthlyCharges      7032 non-null float64\n",
      "gender              7032 non-null object\n",
      "SeniorCitizen       7032 non-null int64\n",
      "Partner             7032 non-null int64\n",
      "Dependents          7032 non-null int64\n",
      "InternetService     7032 non-null int64\n",
      "OnlineSecurity      7032 non-null int64\n",
      "OnlineBackup        7032 non-null int64\n",
      "DeviceProtection    7032 non-null int64\n",
      "TechSupport         7032 non-null int64\n",
      "StreamingTV         7032 non-null int64\n",
      "StreamingMovies     7032 non-null int64\n",
      "MultipleLines       7032 non-null int64\n",
      "time                7032 non-null int64\n",
      "target              7032 non-null int64\n",
      "dtypes: float64(1), int64(14), object(3)\n",
      "memory usage: 989.0+ KB\n"
     ]
    }
   ],
   "source": [
    "data.drop(['EndDate'], axis='columns', inplace=True)\n",
    "data.info()"
   ]
  },
  {
   "cell_type": "markdown",
   "metadata": {},
   "source": [
    "\n",
    "Построим гистограмму распределения целевого признака.\n"
   ]
  },
  {
   "cell_type": "code",
   "execution_count": 22,
   "metadata": {},
   "outputs": [
    {
     "data": {
      "image/png": "[encoded data removed]",
      "text/plain": [
       "<Figure size 432x288 with 1 Axes>"
      ]
     },
     "metadata": {},
     "output_type": "display_data"
    }
   ],
   "source": [
    "data['target'].hist()\n",
    "plt.title('Распределение целевого признака')\n",
    "plt.xlabel(\"Значение признака\")\n",
    "plt.ylabel(\"Количество\")\n",
    "plt.show()"
   ]
  },
  {
   "cell_type": "markdown",
   "metadata": {},
   "source": [
    "\n",
    "Видим, что значение целевого признака *1*, т.е. \"клиент расторг договор\", встречается гораздо реже, чем значение *0*. Вероятно, при обучении модели в дальнейшем потребуется учесть этот дисбаланс классов.\n"
   ]
  },
  {
   "cell_type": "markdown",
   "metadata": {},
   "source": [
    "\n",
    "Объявим признаки.\n"
   ]
  },
  {
   "cell_type": "code",
   "execution_count": 23,
   "metadata": {},
   "outputs": [],
   "source": [
    "target = data['target']\n",
    "feature = data.drop(['target'], axis=1)"
   ]
  },
  {
   "cell_type": "markdown",
   "metadata": {},
   "source": [
    "\n",
    "Сейчас нам нужно подготовить данные перед обучением модели. Обучить модель на тех данных, что у нас есть, не получится: признаки могут быть только численные, а наши данные содержат и категориальные признаки. Преобразуем их в численные техникой прямого кодирования.\n"
   ]
  },
  {
   "cell_type": "code",
   "execution_count": 24,
   "metadata": {},
   "outputs": [
    {
     "data": {
      "text/html": [
       "<div>\n",
       "<style scoped>\n",
       "    .dataframe tbody tr th:only-of-type {\n",
       "        vertical-align: middle;\n",
       "    }\n",
       "\n",
       "    .dataframe tbody tr th {\n",
       "        vertical-align: top;\n",
       "    }\n",
       "\n",
       "    .dataframe thead th {\n",
       "        text-align: right;\n",
       "    }\n",
       "</style>\n",
       "<table border=\"1\" class=\"dataframe\">\n",
       "  <thead>\n",
       "    <tr style=\"text-align: right;\">\n",
       "      <th></th>\n",
       "      <th>PaperlessBilling</th>\n",
       "      <th>MonthlyCharges</th>\n",
       "      <th>SeniorCitizen</th>\n",
       "      <th>Partner</th>\n",
       "      <th>Dependents</th>\n",
       "      <th>InternetService</th>\n",
       "      <th>OnlineSecurity</th>\n",
       "      <th>OnlineBackup</th>\n",
       "      <th>DeviceProtection</th>\n",
       "      <th>TechSupport</th>\n",
       "      <th>StreamingTV</th>\n",
       "      <th>StreamingMovies</th>\n",
       "      <th>MultipleLines</th>\n",
       "      <th>time</th>\n",
       "      <th>Type_One year</th>\n",
       "      <th>Type_Two year</th>\n",
       "      <th>PaymentMethod_Credit card (automatic)</th>\n",
       "      <th>PaymentMethod_Electronic check</th>\n",
       "      <th>PaymentMethod_Mailed check</th>\n",
       "      <th>gender_Male</th>\n",
       "    </tr>\n",
       "  </thead>\n",
       "  <tbody>\n",
       "    <tr>\n",
       "      <td>0</td>\n",
       "      <td>1</td>\n",
       "      <td>29.85</td>\n",
       "      <td>0</td>\n",
       "      <td>1</td>\n",
       "      <td>0</td>\n",
       "      <td>1</td>\n",
       "      <td>0</td>\n",
       "      <td>1</td>\n",
       "      <td>0</td>\n",
       "      <td>0</td>\n",
       "      <td>0</td>\n",
       "      <td>0</td>\n",
       "      <td>0</td>\n",
       "      <td>31</td>\n",
       "      <td>0</td>\n",
       "      <td>0</td>\n",
       "      <td>0</td>\n",
       "      <td>1</td>\n",
       "      <td>0</td>\n",
       "      <td>0</td>\n",
       "    </tr>\n",
       "    <tr>\n",
       "      <td>1</td>\n",
       "      <td>0</td>\n",
       "      <td>56.95</td>\n",
       "      <td>0</td>\n",
       "      <td>0</td>\n",
       "      <td>0</td>\n",
       "      <td>1</td>\n",
       "      <td>1</td>\n",
       "      <td>0</td>\n",
       "      <td>1</td>\n",
       "      <td>0</td>\n",
       "      <td>0</td>\n",
       "      <td>0</td>\n",
       "      <td>0</td>\n",
       "      <td>1036</td>\n",
       "      <td>1</td>\n",
       "      <td>0</td>\n",
       "      <td>0</td>\n",
       "      <td>0</td>\n",
       "      <td>1</td>\n",
       "      <td>1</td>\n",
       "    </tr>\n",
       "    <tr>\n",
       "      <td>2</td>\n",
       "      <td>1</td>\n",
       "      <td>53.85</td>\n",
       "      <td>0</td>\n",
       "      <td>0</td>\n",
       "      <td>0</td>\n",
       "      <td>1</td>\n",
       "      <td>1</td>\n",
       "      <td>1</td>\n",
       "      <td>0</td>\n",
       "      <td>0</td>\n",
       "      <td>0</td>\n",
       "      <td>0</td>\n",
       "      <td>0</td>\n",
       "      <td>61</td>\n",
       "      <td>0</td>\n",
       "      <td>0</td>\n",
       "      <td>0</td>\n",
       "      <td>0</td>\n",
       "      <td>1</td>\n",
       "      <td>1</td>\n",
       "    </tr>\n",
       "    <tr>\n",
       "      <td>3</td>\n",
       "      <td>0</td>\n",
       "      <td>42.30</td>\n",
       "      <td>0</td>\n",
       "      <td>0</td>\n",
       "      <td>0</td>\n",
       "      <td>1</td>\n",
       "      <td>1</td>\n",
       "      <td>0</td>\n",
       "      <td>1</td>\n",
       "      <td>1</td>\n",
       "      <td>0</td>\n",
       "      <td>0</td>\n",
       "      <td>0</td>\n",
       "      <td>1371</td>\n",
       "      <td>1</td>\n",
       "      <td>0</td>\n",
       "      <td>0</td>\n",
       "      <td>0</td>\n",
       "      <td>0</td>\n",
       "      <td>1</td>\n",
       "    </tr>\n",
       "    <tr>\n",
       "      <td>4</td>\n",
       "      <td>1</td>\n",
       "      <td>70.70</td>\n",
       "      <td>0</td>\n",
       "      <td>0</td>\n",
       "      <td>0</td>\n",
       "      <td>1</td>\n",
       "      <td>0</td>\n",
       "      <td>0</td>\n",
       "      <td>0</td>\n",
       "      <td>0</td>\n",
       "      <td>0</td>\n",
       "      <td>0</td>\n",
       "      <td>0</td>\n",
       "      <td>61</td>\n",
       "      <td>0</td>\n",
       "      <td>0</td>\n",
       "      <td>0</td>\n",
       "      <td>1</td>\n",
       "      <td>0</td>\n",
       "      <td>0</td>\n",
       "    </tr>\n",
       "  </tbody>\n",
       "</table>\n",
       "</div>"
      ],
      "text/plain": [
       "   PaperlessBilling  MonthlyCharges  SeniorCitizen  Partner  Dependents  \\\n",
       "0                 1           29.85              0        1           0   \n",
       "1                 0           56.95              0        0           0   \n",
       "2                 1           53.85              0        0           0   \n",
       "3                 0           42.30              0        0           0   \n",
       "4                 1           70.70              0        0           0   \n",
       "\n",
       "   InternetService  OnlineSecurity  OnlineBackup  DeviceProtection  \\\n",
       "0                1               0             1                 0   \n",
       "1                1               1             0                 1   \n",
       "2                1               1             1                 0   \n",
       "3                1               1             0                 1   \n",
       "4                1               0             0                 0   \n",
       "\n",
       "   TechSupport  StreamingTV  StreamingMovies  MultipleLines  time  \\\n",
       "0            0            0                0              0    31   \n",
       "1            0            0                0              0  1036   \n",
       "2            0            0                0              0    61   \n",
       "3            1            0                0              0  1371   \n",
       "4            0            0                0              0    61   \n",
       "\n",
       "   Type_One year  Type_Two year  PaymentMethod_Credit card (automatic)  \\\n",
       "0              0              0                                      0   \n",
       "1              1              0                                      0   \n",
       "2              0              0                                      0   \n",
       "3              1              0                                      0   \n",
       "4              0              0                                      0   \n",
       "\n",
       "   PaymentMethod_Electronic check  PaymentMethod_Mailed check  gender_Male  \n",
       "0                               1                           0            0  \n",
       "1                               0                           1            1  \n",
       "2                               0                           1            1  \n",
       "3                               0                           0            1  \n",
       "4                               1                           0            0  "
      ]
     },
     "execution_count": 24,
     "metadata": {},
     "output_type": "execute_result"
    }
   ],
   "source": [
    "feature = pd.get_dummies(feature, columns=['Type', 'PaymentMethod', 'gender'], drop_first=True)\n",
    "feature.head()"
   ]
  },
  {
   "cell_type": "markdown",
   "metadata": {},
   "source": [
    "\n",
    "Теперь у нас появились новые столбцы, вместо <i>gender</i> - <i>gender_Male</i>, который принимает значение 0 (клиент женского пола) или 1 (клиент мужского пола).\n"
   ]
  },
  {
   "cell_type": "markdown",
   "metadata": {},
   "source": [
    "\n",
    "Тестовой выборки для предсказывания значений у нас нет. Поэтому необходимо общий набор данных разделить на две части: обучающую выборку и тестовую.\n"
   ]
  },
  {
   "cell_type": "code",
   "execution_count": 25,
   "metadata": {},
   "outputs": [
    {
     "name": "stdout",
     "output_type": "stream",
     "text": [
      "Количество объектов в обучающей выборке: 5625\n",
      "Количество объектов в тестовой выборке: 1407\n"
     ]
    }
   ],
   "source": [
    "#выделим тестовую выборку\n",
    "features_train, features_test, target_train, target_test = (\n",
    "train_test_split(feature, target, test_size=0.2, random_state=0, stratify=target)\n",
    ")\n",
    "print('Количество объектов в обучающей выборке:', len(features_train))\n",
    "print('Количество объектов в тестовой выборке:', len(features_test))"
   ]
  },
  {
   "cell_type": "code",
   "execution_count": 26,
   "metadata": {},
   "outputs": [
    {
     "name": "stdout",
     "output_type": "stream",
     "text": [
      "Значений класса \"1\" в обучающей выборке: 26.6%\n",
      "Значений класса \"1\" в тестовой выборке: 26.6%\n"
     ]
    }
   ],
   "source": [
    "print('Значений класса \"1\" в обучающей выборке: {:.1%}'.format(target_train.sum()/len(target_train)))\n",
    "print('Значений класса \"1\" в тестовой выборке: {:.1%}'.format(target_test.sum()/len(target_test)))"
   ]
  },
  {
   "cell_type": "markdown",
   "metadata": {},
   "source": [
    "\n",
    "Теперь, после разделения набора данных на три выборки, нам необходимо масштабировать признаки. Если в одном столбце значения и их разбросы больше, чем в другом, то алгоритм решит, что этот признак важнее, а это не так: все признаки важны.\n"
   ]
  },
  {
   "cell_type": "code",
   "execution_count": 27,
   "metadata": {},
   "outputs": [
    {
     "data": {
      "text/html": [
       "<div>\n",
       "<style scoped>\n",
       "    .dataframe tbody tr th:only-of-type {\n",
       "        vertical-align: middle;\n",
       "    }\n",
       "\n",
       "    .dataframe tbody tr th {\n",
       "        vertical-align: top;\n",
       "    }\n",
       "\n",
       "    .dataframe thead th {\n",
       "        text-align: right;\n",
       "    }\n",
       "</style>\n",
       "<table border=\"1\" class=\"dataframe\">\n",
       "  <thead>\n",
       "    <tr style=\"text-align: right;\">\n",
       "      <th></th>\n",
       "      <th>PaperlessBilling</th>\n",
       "      <th>MonthlyCharges</th>\n",
       "      <th>SeniorCitizen</th>\n",
       "      <th>Partner</th>\n",
       "      <th>Dependents</th>\n",
       "      <th>InternetService</th>\n",
       "      <th>OnlineSecurity</th>\n",
       "      <th>OnlineBackup</th>\n",
       "      <th>DeviceProtection</th>\n",
       "      <th>TechSupport</th>\n",
       "      <th>StreamingTV</th>\n",
       "      <th>StreamingMovies</th>\n",
       "      <th>MultipleLines</th>\n",
       "      <th>time</th>\n",
       "      <th>Type_One year</th>\n",
       "      <th>Type_Two year</th>\n",
       "      <th>PaymentMethod_Credit card (automatic)</th>\n",
       "      <th>PaymentMethod_Electronic check</th>\n",
       "      <th>PaymentMethod_Mailed check</th>\n",
       "      <th>gender_Male</th>\n",
       "    </tr>\n",
       "  </thead>\n",
       "  <tbody>\n",
       "    <tr>\n",
       "      <td>3780</td>\n",
       "      <td>1</td>\n",
       "      <td>0.360948</td>\n",
       "      <td>0</td>\n",
       "      <td>1</td>\n",
       "      <td>1</td>\n",
       "      <td>1</td>\n",
       "      <td>0</td>\n",
       "      <td>0</td>\n",
       "      <td>0</td>\n",
       "      <td>0</td>\n",
       "      <td>0</td>\n",
       "      <td>0</td>\n",
       "      <td>1</td>\n",
       "      <td>-0.219880</td>\n",
       "      <td>0</td>\n",
       "      <td>0</td>\n",
       "      <td>0</td>\n",
       "      <td>0</td>\n",
       "      <td>0</td>\n",
       "      <td>1</td>\n",
       "    </tr>\n",
       "    <tr>\n",
       "      <td>1588</td>\n",
       "      <td>0</td>\n",
       "      <td>-1.535042</td>\n",
       "      <td>0</td>\n",
       "      <td>1</td>\n",
       "      <td>1</td>\n",
       "      <td>0</td>\n",
       "      <td>0</td>\n",
       "      <td>0</td>\n",
       "      <td>0</td>\n",
       "      <td>0</td>\n",
       "      <td>0</td>\n",
       "      <td>0</td>\n",
       "      <td>0</td>\n",
       "      <td>-1.157282</td>\n",
       "      <td>0</td>\n",
       "      <td>0</td>\n",
       "      <td>0</td>\n",
       "      <td>0</td>\n",
       "      <td>1</td>\n",
       "      <td>1</td>\n",
       "    </tr>\n",
       "    <tr>\n",
       "      <td>2927</td>\n",
       "      <td>1</td>\n",
       "      <td>1.622164</td>\n",
       "      <td>1</td>\n",
       "      <td>1</td>\n",
       "      <td>0</td>\n",
       "      <td>1</td>\n",
       "      <td>0</td>\n",
       "      <td>1</td>\n",
       "      <td>1</td>\n",
       "      <td>1</td>\n",
       "      <td>1</td>\n",
       "      <td>1</td>\n",
       "      <td>1</td>\n",
       "      <td>0.925387</td>\n",
       "      <td>0</td>\n",
       "      <td>1</td>\n",
       "      <td>0</td>\n",
       "      <td>1</td>\n",
       "      <td>0</td>\n",
       "      <td>1</td>\n",
       "    </tr>\n",
       "    <tr>\n",
       "      <td>198</td>\n",
       "      <td>1</td>\n",
       "      <td>1.577180</td>\n",
       "      <td>0</td>\n",
       "      <td>1</td>\n",
       "      <td>1</td>\n",
       "      <td>1</td>\n",
       "      <td>0</td>\n",
       "      <td>1</td>\n",
       "      <td>1</td>\n",
       "      <td>1</td>\n",
       "      <td>1</td>\n",
       "      <td>1</td>\n",
       "      <td>1</td>\n",
       "      <td>1.616034</td>\n",
       "      <td>0</td>\n",
       "      <td>1</td>\n",
       "      <td>0</td>\n",
       "      <td>0</td>\n",
       "      <td>0</td>\n",
       "      <td>1</td>\n",
       "    </tr>\n",
       "    <tr>\n",
       "      <td>4504</td>\n",
       "      <td>1</td>\n",
       "      <td>0.352617</td>\n",
       "      <td>1</td>\n",
       "      <td>0</td>\n",
       "      <td>0</td>\n",
       "      <td>1</td>\n",
       "      <td>0</td>\n",
       "      <td>1</td>\n",
       "      <td>1</td>\n",
       "      <td>1</td>\n",
       "      <td>1</td>\n",
       "      <td>0</td>\n",
       "      <td>1</td>\n",
       "      <td>1.536911</td>\n",
       "      <td>0</td>\n",
       "      <td>1</td>\n",
       "      <td>0</td>\n",
       "      <td>0</td>\n",
       "      <td>0</td>\n",
       "      <td>0</td>\n",
       "    </tr>\n",
       "  </tbody>\n",
       "</table>\n",
       "</div>"
      ],
      "text/plain": [
       "      PaperlessBilling  MonthlyCharges  SeniorCitizen  Partner  Dependents  \\\n",
       "3780                 1        0.360948              0        1           1   \n",
       "1588                 0       -1.535042              0        1           1   \n",
       "2927                 1        1.622164              1        1           0   \n",
       "198                  1        1.577180              0        1           1   \n",
       "4504                 1        0.352617              1        0           0   \n",
       "\n",
       "      InternetService  OnlineSecurity  OnlineBackup  DeviceProtection  \\\n",
       "3780                1               0             0                 0   \n",
       "1588                0               0             0                 0   \n",
       "2927                1               0             1                 1   \n",
       "198                 1               0             1                 1   \n",
       "4504                1               0             1                 1   \n",
       "\n",
       "      TechSupport  StreamingTV  StreamingMovies  MultipleLines      time  \\\n",
       "3780            0            0                0              1 -0.219880   \n",
       "1588            0            0                0              0 -1.157282   \n",
       "2927            1            1                1              1  0.925387   \n",
       "198             1            1                1              1  1.616034   \n",
       "4504            1            1                0              1  1.536911   \n",
       "\n",
       "      Type_One year  Type_Two year  PaymentMethod_Credit card (automatic)  \\\n",
       "3780              0              0                                      0   \n",
       "1588              0              0                                      0   \n",
       "2927              0              1                                      0   \n",
       "198               0              1                                      0   \n",
       "4504              0              1                                      0   \n",
       "\n",
       "      PaymentMethod_Electronic check  PaymentMethod_Mailed check  gender_Male  \n",
       "3780                               0                           0            1  \n",
       "1588                               0                           1            1  \n",
       "2927                               1                           0            1  \n",
       "198                                0                           0            1  \n",
       "4504                               0                           0            0  "
      ]
     },
     "execution_count": 27,
     "metadata": {},
     "output_type": "execute_result"
    }
   ],
   "source": [
    "#численные признаки\n",
    "numeric = ['MonthlyCharges', 'time']\n",
    "#масштабирование\n",
    "scaler = StandardScaler()\n",
    "scaler.fit(features_train[numeric])\n",
    "features_train[numeric] = scaler.transform(features_train[numeric])\n",
    "features_test[numeric] = scaler.transform(features_test[numeric])\n",
    "features_train.head()"
   ]
  },
  {
   "cell_type": "markdown",
   "metadata": {},
   "source": [
    "[К оглавлению](#intro)"
   ]
  },
  {
   "cell_type": "markdown",
   "metadata": {},
   "source": [
    "<a id='chapter5'></a>\n",
    "\n",
    "## Обучение моделей"
   ]
  },
  {
   "cell_type": "markdown",
   "metadata": {},
   "source": [
    "\n",
    "В значениях целевого признака наблюдается сильный дисбаланс классов - значений класса \"1\" в четыре раза меньше, чем значений класса \"0\". В данном разделе попробуем обучить модель без учета дисбаланса.\n"
   ]
  },
  {
   "cell_type": "markdown",
   "metadata": {},
   "source": [
    "\n",
    "Обучим четыре алгоритма классификации:\n",
    "\n",
    "* дерево решений\n",
    "\n",
    "* случайный лес\n",
    "\n",
    "* логистическая регрессия\n",
    "\n",
    "* градиентный бустинг\n"
   ]
  },
  {
   "cell_type": "markdown",
   "metadata": {},
   "source": [
    "\n",
    "Построим модель с предельно большим значением ROC-AUC.\n"
   ]
  },
  {
   "cell_type": "code",
   "execution_count": 28,
   "metadata": {},
   "outputs": [],
   "source": [
    "#функция для обучения дерева решений\n",
    "def Tree(features_train, target_train, params):\n",
    "    dtc = DecisionTreeClassifier()\n",
    "    dtc_grid = GridSearchCV(estimator=dtc, param_grid=params, scoring='roc_auc', cv=5)\n",
    "    model_dtc = dtc_grid.fit(features_train, target_train)\n",
    "    return model_dtc.best_params_, model_dtc.best_score_"
   ]
  },
  {
   "cell_type": "code",
   "execution_count": 29,
   "metadata": {},
   "outputs": [],
   "source": [
    "#функция для обучения случайного леса\n",
    "def Forest(features_train, target_train, params):\n",
    "    rfc = RandomForestClassifier()\n",
    "    rfc_grid = GridSearchCV(estimator=rfc, param_grid=params, scoring='roc_auc', cv=5)\n",
    "    model_rfc = rfc_grid.fit(features_train, target_train)\n",
    "    return model_rfc.best_params_, model_rfc.best_score_"
   ]
  },
  {
   "cell_type": "code",
   "execution_count": 30,
   "metadata": {},
   "outputs": [],
   "source": [
    "#функция для обучения алгоритма градиентного бустинга\n",
    "def Cat(features_train, target_train, params):\n",
    "    clf = CatBoostClassifier()\n",
    "    clf_grid = GridSearchCV(estimator=clf, param_grid=params, scoring='roc_auc', cv=5)\n",
    "    model_clf = clf_grid.fit(features_train, target_train)\n",
    "    return model_clf.best_params_, model_clf.best_score_, clf_grid"
   ]
  },
  {
   "cell_type": "code",
   "execution_count": 31,
   "metadata": {},
   "outputs": [],
   "source": [
    "#функция для построения значимости признаков\n",
    "def plot_feature_importance(importance, names, model_type):\n",
    "    feature_importance = np.array(importance)\n",
    "    feature_names = np.array(names)\n",
    "    data = {'feature_names': feature_names, 'feature_importance': feature_importance}\n",
    "    df = pd.DataFrame(data)\n",
    "    df.sort_values(by=['feature_importance'], ascending=False, inplace=True)\n",
    "    plt.figure(figsize=(10, 8))\n",
    "    sns.barplot(x=df['feature_importance'], y=df['feature_names'])\n",
    "    plt.title(model_type)\n",
    "    plt.xlabel('Важность признаков')\n",
    "    plt.ylabel('Признаки')"
   ]
  },
  {
   "cell_type": "markdown",
   "metadata": {},
   "source": [
    "### Дерево решений"
   ]
  },
  {
   "cell_type": "markdown",
   "metadata": {},
   "source": [
    "\n",
    "Построим модель с помощью дерева решений и подберем глубину дерева с наилучшим значением ROC-AUC.\n"
   ]
  },
  {
   "cell_type": "code",
   "execution_count": 32,
   "metadata": {},
   "outputs": [
    {
     "name": "stdout",
     "output_type": "stream",
     "text": [
      "ROC-AUC: 0.8451877525569492 с глубиной 6\n"
     ]
    }
   ],
   "source": [
    "param_tree = {'max_depth': [1, 2, 3, 4, 5, 6, 7, 8, 9, 10, 11], 'random_state': [0]}\n",
    "best_depth_tree, best_result_tree = Tree(features_train, target_train, param_tree)\n",
    "print('ROC-AUC:', best_result_tree, 'с глубиной', best_depth_tree['max_depth'])"
   ]
  },
  {
   "cell_type": "markdown",
   "metadata": {},
   "source": [
    "\n",
    "Проверим значение ROC-AUC и Accuracy на тестовой выборке.\n"
   ]
  },
  {
   "cell_type": "code",
   "execution_count": 33,
   "metadata": {},
   "outputs": [
    {
     "name": "stdout",
     "output_type": "stream",
     "text": [
      "AUC-ROC: 0.8418577322683011\n",
      "Accuracy: 0.8194740582800284\n"
     ]
    }
   ],
   "source": [
    "model_tree = DecisionTreeClassifier(max_depth=best_depth_tree['max_depth'], random_state=best_depth_tree['random_state'])\n",
    "model_tree.fit(features_train, target_train)\n",
    "predict = model_tree.predict(features_test)\n",
    "probabilities = model_tree.predict_proba(features_test)\n",
    "proba_one_test = probabilities[:, 1]\n",
    "auc_roc_tree = roc_auc_score(target_test, proba_one_test)\n",
    "accuracy_tree = accuracy_score(target_test, predict)\n",
    "print('AUC-ROC:', auc_roc_tree)\n",
    "print('Accuracy:', accuracy_tree)"
   ]
  },
  {
   "cell_type": "markdown",
   "metadata": {},
   "source": [
    "### Случайный лес"
   ]
  },
  {
   "cell_type": "code",
   "execution_count": 34,
   "metadata": {},
   "outputs": [
    {
     "name": "stdout",
     "output_type": "stream",
     "text": [
      "ROC-AUC: 0.8555544308307756 с глубиной 8 и количеством деревьев 50\n"
     ]
    }
   ],
   "source": [
    "param_forest = {'n_estimators': [10, 15, 20, 25, 30, 35, 40, 45, 50],\n",
    "          'max_depth': [1, 2, 3, 4, 5, 6, 7, 8, 9, 10, 11, 12, 13, 14, 15], 'random_state': [0]}\n",
    "best_param_forest, best_result_forest = Forest(features_train, target_train, param_forest)\n",
    "print('ROC-AUC:', best_result_forest, 'с глубиной', best_param_forest['max_depth'], 'и количеством деревьев', best_param_forest['n_estimators'])"
   ]
  },
  {
   "cell_type": "code",
   "execution_count": 35,
   "metadata": {},
   "outputs": [
    {
     "name": "stdout",
     "output_type": "stream",
     "text": [
      "AUC-ROC: 0.8609806855066237\n",
      "Accuracy: 0.8137882018479033\n"
     ]
    }
   ],
   "source": [
    "model_forest = RandomForestClassifier(n_estimators=best_param_forest['n_estimators'],\n",
    "                                      max_depth=best_param_forest['max_depth'],\n",
    "                                      random_state=best_param_forest['random_state'])\n",
    "model_forest.fit(features_train, target_train)\n",
    "predict = model_forest.predict(features_test)\n",
    "probabilities = model_forest.predict_proba(features_test)\n",
    "proba_one_test = probabilities[:, 1]\n",
    "auc_roc_forest = roc_auc_score(target_test, proba_one_test)\n",
    "accuracy_forest = accuracy_score(target_test, predict)\n",
    "print('AUC-ROC:', auc_roc_forest)\n",
    "print('Accuracy:', accuracy_forest)"
   ]
  },
  {
   "cell_type": "markdown",
   "metadata": {},
   "source": [
    "### Логистическая регрессия"
   ]
  },
  {
   "cell_type": "code",
   "execution_count": 36,
   "metadata": {},
   "outputs": [
    {
     "name": "stdout",
     "output_type": "stream",
     "text": [
      "ROC-AUC: 0.8609806855066237\n",
      "Accuracy: 0.8045486851457001\n"
     ]
    }
   ],
   "source": [
    "#создаем модель логистической регрессии\n",
    "model_log = LogisticRegression(random_state=0, solver='liblinear')\n",
    "#обучаем модель\n",
    "model_log.fit(features_train, target_train)\n",
    "predict = model_log.predict(features_test)\n",
    "#предсказываем результаты\n",
    "probabilities = model_log.predict_proba(features_test)\n",
    "proba_one_valid = probabilities[:, 1]\n",
    "auc_roc_log = roc_auc_score(target_test, proba_one_test)\n",
    "accuracy_log = accuracy_score(target_test, predict)\n",
    "print('ROC-AUC:', auc_roc_log)\n",
    "print('Accuracy:', accuracy_log)"
   ]
  },
  {
   "cell_type": "markdown",
   "metadata": {},
   "source": [
    "### Градиентный бустинг"
   ]
  },
  {
   "cell_type": "code",
   "execution_count": 37,
   "metadata": {},
   "outputs": [
    {
     "name": "stdout",
     "output_type": "stream",
     "text": [
      "ROC-AUC: 0.9079121688922722\n"
     ]
    }
   ],
   "source": [
    "param_cat = {'iterations': [100, 200, 500], 'depth': [1, 2, 3, 4, 5, 6], 'loss_function': ['Logloss'], \n",
    "         'logging_level': ['Silent'], 'random_seed': [0]}\n",
    "best_param_cat, best_result_cat, grid_cat = Cat(features_train, target_train, param_cat)\n",
    "print('ROC-AUC:', best_result_cat)"
   ]
  },
  {
   "cell_type": "code",
   "execution_count": 38,
   "metadata": {},
   "outputs": [
    {
     "name": "stdout",
     "output_type": "stream",
     "text": [
      "AUC-ROC: 0.9243468222455751\n",
      "Accuracy: 0.8742004264392325\n"
     ]
    }
   ],
   "source": [
    "model_cat = CatBoostClassifier(iterations=best_param_cat['iterations'],\n",
    "                               loss_function='Logloss', depth=best_param_cat['depth'],\n",
    "                               logging_level='Silent', random_seed=best_param_cat['random_seed'])\n",
    "model_cat.fit(features_train, target_train)\n",
    "probabilities = model_cat.predict_proba(features_test)\n",
    "proba_one_valid = probabilities[:, 1]\n",
    "predict = model_cat.predict(features_test)\n",
    "auc_roc_cat = roc_auc_score(target_test, proba_one_valid)\n",
    "accuracy_cat = accuracy_score(target_test, predict)\n",
    "print('AUC-ROC:', auc_roc_cat)\n",
    "print('Accuracy:', accuracy_cat)"
   ]
  },
  {
   "cell_type": "markdown",
   "metadata": {},
   "source": [
    "\n",
    "Сведем все результаты в таблицу.\n"
   ]
  },
  {
   "cell_type": "code",
   "execution_count": 39,
   "metadata": {},
   "outputs": [],
   "source": [
    "final = pd.DataFrame(index=['Дерево решений', 'Случайный лес', 'Логистическая регрессия', 'Градиентный бустинг'],\n",
    "                     columns=['AUC-ROC', 'Accuracy'])\n",
    "final.loc['Дерево решений', 'Accuracy'] = accuracy_tree\n",
    "final.loc['Дерево решений', 'AUC-ROC'] = auc_roc_tree\n",
    "final.loc['Случайный лес', 'Accuracy'] = accuracy_forest\n",
    "final.loc['Случайный лес', 'AUC-ROC'] = auc_roc_forest\n",
    "final.loc['Логистическая регрессия', 'Accuracy'] = accuracy_log\n",
    "final.loc['Логистическая регрессия', 'AUC-ROC'] = auc_roc_log\n",
    "final.loc['Градиентный бустинг', 'Accuracy'] = accuracy_cat\n",
    "final.loc['Градиентный бустинг', 'AUC-ROC'] = auc_roc_cat"
   ]
  },
  {
   "cell_type": "markdown",
   "metadata": {},
   "source": [
    "### Вывод"
   ]
  },
  {
   "cell_type": "markdown",
   "metadata": {},
   "source": [
    "\n",
    "Итак, подведем промежуточный итог работы алгоритмов.\n"
   ]
  },
  {
   "cell_type": "code",
   "execution_count": 40,
   "metadata": {
    "scrolled": true
   },
   "outputs": [
    {
     "data": {
      "text/html": [
       "<style  type=\"text/css\" >\n",
       "    #T_a17d3c20_04fb_11ec_9438_02420a392f38row3_col0 {\n",
       "            background-color:  yellowgreen;\n",
       "        }    #T_a17d3c20_04fb_11ec_9438_02420a392f38row3_col1 {\n",
       "            background-color:  yellowgreen;\n",
       "        }</style><table id=\"T_a17d3c20_04fb_11ec_9438_02420a392f38\" ><thead>    <tr>        <th class=\"blank level0\" ></th>        <th class=\"col_heading level0 col0\" >AUC-ROC</th>        <th class=\"col_heading level0 col1\" >Accuracy</th>    </tr></thead><tbody>\n",
       "                <tr>\n",
       "                        <th id=\"T_a17d3c20_04fb_11ec_9438_02420a392f38level0_row0\" class=\"row_heading level0 row0\" >Дерево решений</th>\n",
       "                        <td id=\"T_a17d3c20_04fb_11ec_9438_02420a392f38row0_col0\" class=\"data row0 col0\" >0.841858</td>\n",
       "                        <td id=\"T_a17d3c20_04fb_11ec_9438_02420a392f38row0_col1\" class=\"data row0 col1\" >0.819474</td>\n",
       "            </tr>\n",
       "            <tr>\n",
       "                        <th id=\"T_a17d3c20_04fb_11ec_9438_02420a392f38level0_row1\" class=\"row_heading level0 row1\" >Случайный лес</th>\n",
       "                        <td id=\"T_a17d3c20_04fb_11ec_9438_02420a392f38row1_col0\" class=\"data row1 col0\" >0.860981</td>\n",
       "                        <td id=\"T_a17d3c20_04fb_11ec_9438_02420a392f38row1_col1\" class=\"data row1 col1\" >0.813788</td>\n",
       "            </tr>\n",
       "            <tr>\n",
       "                        <th id=\"T_a17d3c20_04fb_11ec_9438_02420a392f38level0_row2\" class=\"row_heading level0 row2\" >Логистическая регрессия</th>\n",
       "                        <td id=\"T_a17d3c20_04fb_11ec_9438_02420a392f38row2_col0\" class=\"data row2 col0\" >0.860981</td>\n",
       "                        <td id=\"T_a17d3c20_04fb_11ec_9438_02420a392f38row2_col1\" class=\"data row2 col1\" >0.804549</td>\n",
       "            </tr>\n",
       "            <tr>\n",
       "                        <th id=\"T_a17d3c20_04fb_11ec_9438_02420a392f38level0_row3\" class=\"row_heading level0 row3\" >Градиентный бустинг</th>\n",
       "                        <td id=\"T_a17d3c20_04fb_11ec_9438_02420a392f38row3_col0\" class=\"data row3 col0\" >0.924347</td>\n",
       "                        <td id=\"T_a17d3c20_04fb_11ec_9438_02420a392f38row3_col1\" class=\"data row3 col1\" >0.8742</td>\n",
       "            </tr>\n",
       "    </tbody></table>"
      ],
      "text/plain": [
       "<pandas.io.formats.style.Styler at 0x7f13b790c550>"
      ]
     },
     "execution_count": 40,
     "metadata": {},
     "output_type": "execute_result"
    }
   ],
   "source": [
    "final.head().style.highlight_max(color='yellowgreen', subset=['Accuracy', 'AUC-ROC'])"
   ]
  },
  {
   "cell_type": "code",
   "execution_count": 41,
   "metadata": {},
   "outputs": [
    {
     "data": {
      "image/png": "[encoded data removed]",
      "text/plain": [
       "<Figure size 432x288 with 1 Axes>"
      ]
     },
     "metadata": {},
     "output_type": "display_data"
    },
    {
     "name": "stdout",
     "output_type": "stream",
     "text": [
      "AUC-ROC: 0.9243468222455751\n"
     ]
    }
   ],
   "source": [
    "#построение кривой ошибок\n",
    "probabilities = model_cat.predict_proba(features_test)\n",
    "proba_one_test = probabilities[:, 1]\n",
    "fpr, tpr, thresholds = roc_curve(target_test, proba_one_test)\n",
    "plt.figure()\n",
    "plt.step(fpr, tpr, where='post')\n",
    "plt.plot([0, 1], [0, 1], linestyle='--')\n",
    "plt.ylim([0, 1])\n",
    "plt.xlim([0, 1])\n",
    "plt.xlabel('Доля ложноположительных ответов')\n",
    "plt.ylabel('Доля истинно положительных ответов')\n",
    "plt.title('Кривая ошибок')\n",
    "plt.show()\n",
    "auc_roc_log = roc_auc_score(target_test, proba_one_test)\n",
    "print('AUC-ROC:', auc_roc_cat)"
   ]
  },
  {
   "cell_type": "markdown",
   "metadata": {},
   "source": [
    "\n",
    "Видим, что метод **CatBoostClassifier** дает очень хороший результат предсказаний даже с дисбалансом классов.\n"
   ]
  },
  {
   "cell_type": "code",
   "execution_count": 42,
   "metadata": {},
   "outputs": [
    {
     "data": {
      "image/png": "[encoded data removed]",
      "text/plain": [
       "<Figure size 720x576 with 1 Axes>"
      ]
     },
     "metadata": {},
     "output_type": "display_data"
    }
   ],
   "source": [
    "plot_feature_importance(grid_cat.best_estimator_.feature_importances_, features_train.columns, 'Градиентный бустинг')"
   ]
  },
  {
   "cell_type": "markdown",
   "metadata": {},
   "source": [
    "\n",
    "При этом наибольшую значимость на то, расторгнет ли клиент договор с компанией, влияет впемя, в течение которого клиент пользуется услугами компании.\n"
   ]
  },
  {
   "cell_type": "markdown",
   "metadata": {},
   "source": [
    "[К оглавлению](#intro)"
   ]
  },
  {
   "cell_type": "markdown",
   "metadata": {},
   "source": [
    "<a id='chapter6'></a>\n",
    "\n",
    "## Борьба с дисбалансом"
   ]
  },
  {
   "cell_type": "markdown",
   "metadata": {},
   "source": [
    "\n",
    "В этой части мы попробуем улучшить качество моделей, учитывая дисбаланс классов. Для этого увеличим выборку техникой upsampling и уменьшим выборку методом downsampling.\n"
   ]
  },
  {
   "cell_type": "markdown",
   "metadata": {},
   "source": [
    "### Увеличение выборки"
   ]
  },
  {
   "cell_type": "markdown",
   "metadata": {},
   "source": [
    "\n",
    "* разделим обучающую выборку на отрицательные и положительные объекты\n",
    "\n",
    "* скопируем четыре раза положительные объекты\n",
    "\n",
    "* с учетом полученных данных создадим новую выборку\n",
    "\n",
    "* перемешаем данные\n"
   ]
  },
  {
   "cell_type": "code",
   "execution_count": 43,
   "metadata": {},
   "outputs": [],
   "source": [
    "#функция upsampling\n",
    "def upsample(features, target, repeat):\n",
    "    features_zeros = features[target==0]\n",
    "    features_ones = features[target==1]\n",
    "    target_zeros = target[target==0]\n",
    "    target_ones = target[target==1]\n",
    "    features_ups = pd.concat([features_zeros]+[features_ones]*repeat)\n",
    "    target_ups = pd.concat([target_zeros]+[target_ones]*repeat)\n",
    "    features_ups, target_ups = shuffle(features_ups, target_ups, random_state=0)\n",
    "    return features_ups, target_ups"
   ]
  },
  {
   "cell_type": "code",
   "execution_count": 44,
   "metadata": {},
   "outputs": [],
   "source": [
    "features_ups, target_ups = upsample(features_train, target_train, 4)"
   ]
  },
  {
   "cell_type": "markdown",
   "metadata": {},
   "source": [
    "\n",
    "Теперь проведем расчет трех алгоритмов, используя увеличенную выборку.\n"
   ]
  },
  {
   "cell_type": "markdown",
   "metadata": {},
   "source": [
    "#### Дерево решений"
   ]
  },
  {
   "cell_type": "code",
   "execution_count": 45,
   "metadata": {},
   "outputs": [
    {
     "name": "stdout",
     "output_type": "stream",
     "text": [
      "ROC-AUC: 0.8953793719176918 с глубиной 11\n"
     ]
    }
   ],
   "source": [
    "best_depth_tree_up, best_result_tree_up = Tree(features_ups, target_ups, param_tree)\n",
    "print('ROC-AUC:', best_result_tree_up, 'с глубиной', best_depth_tree_up['max_depth'])"
   ]
  },
  {
   "cell_type": "code",
   "execution_count": 46,
   "metadata": {},
   "outputs": [
    {
     "name": "stdout",
     "output_type": "stream",
     "text": [
      "AUC-ROC: 0.8046678849309679\n",
      "Accuracy: 0.7277896233120114\n"
     ]
    }
   ],
   "source": [
    "model_tree_up = DecisionTreeClassifier(max_depth=best_depth_tree_up['max_depth'], random_state=best_depth_tree_up['random_state'])\n",
    "model_tree_up.fit(features_ups, target_ups)\n",
    "predict = model_tree_up.predict(features_test)\n",
    "probabilities = model_tree_up.predict_proba(features_test)\n",
    "proba_one_test = probabilities[:, 1]\n",
    "auc_roc_tree_up = roc_auc_score(target_test, proba_one_test)\n",
    "accuracy_tree_up = accuracy_score(target_test, predict)\n",
    "print('AUC-ROC:', auc_roc_tree_up)\n",
    "print('Accuracy:', accuracy_tree_up)"
   ]
  },
  {
   "cell_type": "markdown",
   "metadata": {},
   "source": [
    "#### Случайный лес"
   ]
  },
  {
   "cell_type": "code",
   "execution_count": 47,
   "metadata": {},
   "outputs": [
    {
     "name": "stdout",
     "output_type": "stream",
     "text": [
      "ROC-AUC: 0.9832816409824516 с глубиной 15 и количеством деревьев 50\n"
     ]
    }
   ],
   "source": [
    "best_param_forest_up, best_result_forest_up = Forest(features_ups, target_ups, param_forest)\n",
    "print('ROC-AUC:', best_result_forest_up, 'с глубиной', best_param_forest_up['max_depth'], 'и количеством деревьев', best_param_forest_up['n_estimators'])"
   ]
  },
  {
   "cell_type": "code",
   "execution_count": 48,
   "metadata": {},
   "outputs": [
    {
     "name": "stdout",
     "output_type": "stream",
     "text": [
      "AUC-ROC: 0.842504827329154\n",
      "Accuracy: 0.7810945273631841\n"
     ]
    }
   ],
   "source": [
    "model_forest_up = RandomForestClassifier(n_estimators=best_param_forest_up['n_estimators'],\n",
    "                                      max_depth=best_param_forest_up['max_depth'],\n",
    "                                      random_state=best_param_forest_up['random_state'])\n",
    "model_forest_up.fit(features_ups, target_ups)\n",
    "predict = model_forest_up.predict(features_test)\n",
    "probabilities = model_forest_up.predict_proba(features_test)\n",
    "proba_one_test = probabilities[:, 1]\n",
    "auc_roc_forest_up = roc_auc_score(target_test, proba_one_test)\n",
    "accuracy_forest_up = accuracy_score(target_test, predict)\n",
    "print('AUC-ROC:', auc_roc_forest_up)\n",
    "print('Accuracy:', accuracy_forest_up)"
   ]
  },
  {
   "cell_type": "markdown",
   "metadata": {},
   "source": [
    "#### Градиентный бустинг"
   ]
  },
  {
   "cell_type": "code",
   "execution_count": 49,
   "metadata": {},
   "outputs": [
    {
     "name": "stdout",
     "output_type": "stream",
     "text": [
      "ROC-AUC: 0.9594126304793216\n"
     ]
    }
   ],
   "source": [
    "best_param_cat_up, best_result_cat_up, grid_cat_up = Cat(features_ups, target_ups, param_cat)\n",
    "print('ROC-AUC:', best_result_cat_up)"
   ]
  },
  {
   "cell_type": "code",
   "execution_count": 50,
   "metadata": {},
   "outputs": [
    {
     "name": "stdout",
     "output_type": "stream",
     "text": [
      "AUC-ROC: 0.9196023212594024\n",
      "Accuracy: 0.8208955223880597\n"
     ]
    }
   ],
   "source": [
    "model_cat_up = CatBoostClassifier(iterations=best_param_cat_up['iterations'],\n",
    "                               loss_function='Logloss', depth=best_param_cat_up['depth'],\n",
    "                               logging_level='Silent', random_seed=best_param_cat_up['random_seed'])\n",
    "model_cat_up.fit(features_ups, target_ups)\n",
    "probabilities = model_cat_up.predict_proba(features_test)\n",
    "proba_one_valid = probabilities[:, 1]\n",
    "predict = model_cat_up.predict(features_test)\n",
    "auc_roc_cat_up = roc_auc_score(target_test, proba_one_valid)\n",
    "accuracy_cat_up = accuracy_score(target_test, predict)\n",
    "print('AUC-ROC:', auc_roc_cat_up)\n",
    "print('Accuracy:', accuracy_cat_up)"
   ]
  },
  {
   "cell_type": "markdown",
   "metadata": {},
   "source": [
    "### Уменьшение выборки"
   ]
  },
  {
   "cell_type": "markdown",
   "metadata": {},
   "source": [
    "\n",
    "* разделим обучающую выборку на отрицательные и положительные объекты\n",
    "\n",
    "* отбрасываем часть отрицательных объектов\n",
    "\n",
    "* с учетом полученных данных создадим новую выборку\n",
    "\n",
    "* перемешаем данные\n"
   ]
  },
  {
   "cell_type": "code",
   "execution_count": 51,
   "metadata": {},
   "outputs": [],
   "source": [
    "#функция downsampling\n",
    "def downsample(features, target, frak):\n",
    "    features_zeros = features[target==0]\n",
    "    features_ones = features[target==1]\n",
    "    target_zeros = target[target==0]\n",
    "    target_ones = target[target==1]\n",
    "    features_down = pd.concat([features_zeros.sample(frac=frak, random_state=0)]+[features_ones])\n",
    "    target_down = pd.concat([target_zeros.sample(frac=frak, random_state=0)]+[target_ones])\n",
    "    features_down, target_down = shuffle(features_down, target_down, random_state=0)\n",
    "    return features_down, target_down"
   ]
  },
  {
   "cell_type": "code",
   "execution_count": 52,
   "metadata": {},
   "outputs": [],
   "source": [
    "features_down, target_down = downsample(features_train, target_train, 0.25)"
   ]
  },
  {
   "cell_type": "markdown",
   "metadata": {},
   "source": [
    "#### Дерево решений"
   ]
  },
  {
   "cell_type": "code",
   "execution_count": 53,
   "metadata": {},
   "outputs": [
    {
     "name": "stdout",
     "output_type": "stream",
     "text": [
      "ROC-AUC: 0.827997292912302 с глубиной 5\n"
     ]
    }
   ],
   "source": [
    "best_depth_tree_down, best_result_tree_down = Tree(features_down, target_down, param_tree)\n",
    "print('ROC-AUC:', best_result_tree_down, 'с глубиной', best_depth_tree_down['max_depth'])"
   ]
  },
  {
   "cell_type": "code",
   "execution_count": 54,
   "metadata": {},
   "outputs": [
    {
     "name": "stdout",
     "output_type": "stream",
     "text": [
      "AUC-ROC: 0.8046678849309679\n",
      "Accuracy: 0.7277896233120114\n"
     ]
    }
   ],
   "source": [
    "model_tree_up = DecisionTreeClassifier(max_depth=best_depth_tree_up['max_depth'], random_state=best_depth_tree_up['random_state'])\n",
    "model_tree_up.fit(features_ups, target_ups)\n",
    "predict = model_tree_up.predict(features_test)\n",
    "probabilities = model_tree_up.predict_proba(features_test)\n",
    "proba_one_test = probabilities[:, 1]\n",
    "auc_roc_tree_up = roc_auc_score(target_test, proba_one_test)\n",
    "accuracy_tree_up = accuracy_score(target_test, predict)\n",
    "print('AUC-ROC:', auc_roc_tree_up)\n",
    "print('Accuracy:', accuracy_tree_up)"
   ]
  },
  {
   "cell_type": "markdown",
   "metadata": {},
   "source": [
    "#### Случайный лес"
   ]
  },
  {
   "cell_type": "code",
   "execution_count": 55,
   "metadata": {},
   "outputs": [
    {
     "name": "stdout",
     "output_type": "stream",
     "text": [
      "ROC-AUC: 0.8478717533778928 с глубиной 6 и количеством деревьев 50\n"
     ]
    }
   ],
   "source": [
    "best_param_forest_down, best_result_forest_down = Forest(features_down, target_down, param_forest)\n",
    "print('ROC-AUC:', best_result_forest_down, 'с глубиной', best_param_forest_down['max_depth'], 'и количеством деревьев', best_param_forest_down['n_estimators'])"
   ]
  },
  {
   "cell_type": "code",
   "execution_count": 56,
   "metadata": {},
   "outputs": [
    {
     "name": "stdout",
     "output_type": "stream",
     "text": [
      "AUC-ROC: 0.8484322180865658\n",
      "Accuracy: 0.6965174129353234\n"
     ]
    }
   ],
   "source": [
    "model_forest_down = RandomForestClassifier(n_estimators=best_param_forest_down['n_estimators'],\n",
    "                                      max_depth=best_param_forest_down['max_depth'],\n",
    "                                      random_state=best_param_forest_down['random_state'])\n",
    "model_forest_down.fit(features_down, target_down)\n",
    "predict = model_forest_down.predict(features_test)\n",
    "probabilities = model_forest_down.predict_proba(features_test)\n",
    "proba_one_test = probabilities[:, 1]\n",
    "auc_roc_forest_down = roc_auc_score(target_test, proba_one_test)\n",
    "accuracy_forest_down = accuracy_score(target_test, predict)\n",
    "print('AUC-ROC:', auc_roc_forest_down)\n",
    "print('Accuracy:', accuracy_forest_down)"
   ]
  },
  {
   "cell_type": "markdown",
   "metadata": {},
   "source": [
    "#### Градиентный бустинг"
   ]
  },
  {
   "cell_type": "code",
   "execution_count": 57,
   "metadata": {},
   "outputs": [
    {
     "name": "stdout",
     "output_type": "stream",
     "text": [
      "ROC-AUC: 0.8766385010405477\n"
     ]
    }
   ],
   "source": [
    "#лучшие гиперпараметры для градиентного бустинга\n",
    "best_param_cat_down, best_result_cat_down, grid_cat_down = Cat(features_down, target_down, param_cat)\n",
    "print('ROC-AUC:', best_result_cat_down)"
   ]
  },
  {
   "cell_type": "code",
   "execution_count": 58,
   "metadata": {},
   "outputs": [
    {
     "name": "stdout",
     "output_type": "stream",
     "text": [
      "AUC-ROC: 0.8863571654130279\n",
      "Accuracy: 0.7604832977967306\n"
     ]
    }
   ],
   "source": [
    "#обучаем модель на полученных гиперпараметрах\n",
    "model_cat_down = CatBoostClassifier(iterations=best_param_cat_down['iterations'],\n",
    "                               loss_function='Logloss', depth=best_param_cat_down['depth'],\n",
    "                               logging_level='Silent', random_seed=best_param_cat_down['random_seed'])\n",
    "model_cat_down.fit(features_down, target_down)\n",
    "probabilities = model_cat_down.predict_proba(features_test)\n",
    "proba_one_valid = probabilities[:, 1]\n",
    "predict = model_cat_down.predict(features_test)\n",
    "auc_roc_cat_down = roc_auc_score(target_test, proba_one_valid)\n",
    "accuracy_cat_down = accuracy_score(target_test, predict)\n",
    "print('AUC-ROC:', auc_roc_cat_down)\n",
    "print('Accuracy:', accuracy_cat_down)"
   ]
  },
  {
   "cell_type": "markdown",
   "metadata": {},
   "source": [
    "<a id='chapter7'></a>\n",
    "\n",
    "## Вывод"
   ]
  },
  {
   "cell_type": "markdown",
   "metadata": {},
   "source": [
    "\n",
    "В данной работе мы изучили поведение клиентов \"Ниединогоразрыва.ком\" для создания модели, позволяющей спрогнозировать уход клиента из компании.\n",
    "\n",
    "Изучая исходную информацию - время пользования услугами компании, информацию о тарифе клиента, об активности пользования предоставляемыми услугами и прочее - мы построили несколько моделей, позволяющих определить целевой признак, а именно факт расторжения клиентом договора с компанией.\n",
    "\n",
    "Мы построили модели:\n",
    "\n",
    "* дерева решений с различными значениями глубины дерева\n",
    "\n",
    "* случайного леса с варьирующимися значениями количества деревьев и глубины\n",
    "\n",
    "* логистической регрессии\n",
    "\n",
    "* градиентного бустинга\n",
    "\n",
    "Также мы проанализировали несколько способов борьбы с дисбалансом классом: увеличение выборки редкого класса и уменьшение выборки часто встречающегося класса, однако ни один из них не показал удовлетворительного результата. Модель при этом просто переобучается.\n",
    "\n",
    "Наилучший результат показала модель градиентного бустинга: AUC-ROC на тестовой выборке равен 0.92, Acuracy - 0.87, что является хорошим результатом. При этом наибольшее влияние на то, расторгнет ли клиент договор с компанией, оказывает время, в течение которого клиент пользуется услугами, а также его абонентская плата.\n",
    "\n",
    "Как итог, мы можем рекомендовать использовать данную модель для прогноза ухода клиентов из компании.\n"
   ]
  },
  {
   "cell_type": "code",
   "execution_count": null,
   "metadata": {},
   "outputs": [],
   "source": []
  }
 ],
 "metadata": {
  "ExecuteTimeLog": [
   {
    "duration": 1114,
    "start_time": "2021-08-23T11:52:51.312Z"
   },
   {
    "duration": 89,
    "start_time": "2021-08-23T11:52:54.976Z"
   },
   {
    "duration": 43,
    "start_time": "2021-08-23T11:52:57.498Z"
   },
   {
    "duration": 15,
    "start_time": "2021-08-23T11:54:44.563Z"
   },
   {
    "duration": 16,
    "start_time": "2021-08-23T11:54:55.558Z"
   },
   {
    "duration": 15,
    "start_time": "2021-08-23T11:54:57.543Z"
   },
   {
    "duration": 10,
    "start_time": "2021-08-23T11:55:00.381Z"
   },
   {
    "duration": 9,
    "start_time": "2021-08-23T11:55:09.427Z"
   },
   {
    "duration": 14,
    "start_time": "2021-08-23T11:55:18.029Z"
   },
   {
    "duration": 5,
    "start_time": "2021-08-23T11:55:25.566Z"
   },
   {
    "duration": 4,
    "start_time": "2021-08-23T11:55:29.343Z"
   },
   {
    "duration": 10,
    "start_time": "2021-08-23T11:55:31.984Z"
   },
   {
    "duration": 26,
    "start_time": "2021-08-23T11:55:40.522Z"
   },
   {
    "duration": 20,
    "start_time": "2021-08-23T11:55:48.971Z"
   },
   {
    "duration": 4,
    "start_time": "2021-08-23T11:55:56.187Z"
   },
   {
    "duration": 4,
    "start_time": "2021-08-23T11:56:34.095Z"
   },
   {
    "duration": 58,
    "start_time": "2021-08-23T11:57:19.699Z"
   },
   {
    "duration": 8,
    "start_time": "2021-08-23T11:57:27.994Z"
   },
   {
    "duration": 10,
    "start_time": "2021-08-23T11:57:30.098Z"
   },
   {
    "duration": 167,
    "start_time": "2021-08-23T11:57:42.997Z"
   },
   {
    "duration": 5,
    "start_time": "2021-08-23T11:57:48.823Z"
   },
   {
    "duration": 20,
    "start_time": "2021-08-23T11:57:51.548Z"
   },
   {
    "duration": 10,
    "start_time": "2021-08-23T12:03:44.858Z"
   },
   {
    "duration": 4,
    "start_time": "2021-08-23T12:03:48.506Z"
   },
   {
    "duration": 28,
    "start_time": "2021-08-23T12:03:58.224Z"
   },
   {
    "duration": 4,
    "start_time": "2021-08-23T12:04:05.303Z"
   },
   {
    "duration": 123,
    "start_time": "2021-08-23T12:06:51.086Z"
   },
   {
    "duration": 175,
    "start_time": "2021-08-23T12:06:55.574Z"
   },
   {
    "duration": 4,
    "start_time": "2021-08-23T12:07:07.129Z"
   },
   {
    "duration": 6633,
    "start_time": "2021-08-23T12:07:15.488Z"
   },
   {
    "duration": 26,
    "start_time": "2021-08-23T12:07:41.021Z"
   },
   {
    "duration": 5,
    "start_time": "2021-08-23T12:08:15.735Z"
   },
   {
    "duration": 417,
    "start_time": "2021-08-23T12:08:18.174Z"
   },
   {
    "duration": 4,
    "start_time": "2021-08-23T12:08:32.125Z"
   },
   {
    "duration": 17313,
    "start_time": "2021-08-23T12:08:33.824Z"
   },
   {
    "duration": 4582,
    "start_time": "2021-08-23T12:17:59.917Z"
   },
   {
    "duration": 1620,
    "start_time": "2021-08-23T12:19:15.202Z"
   },
   {
    "duration": 4,
    "start_time": "2021-08-23T12:23:08.248Z"
   },
   {
    "duration": 28860,
    "start_time": "2021-08-23T12:24:33.642Z"
   },
   {
    "duration": 4,
    "start_time": "2021-08-23T12:25:25.460Z"
   },
   {
    "duration": 196863,
    "start_time": "2021-08-23T12:25:40.263Z"
   },
   {
    "duration": 4,
    "start_time": "2021-08-23T12:30:47.428Z"
   },
   {
    "duration": 222510,
    "start_time": "2021-08-23T12:31:06.172Z"
   },
   {
    "duration": 174,
    "start_time": "2021-08-23T12:37:23.588Z"
   },
   {
    "duration": 4,
    "start_time": "2021-08-23T12:38:58.912Z"
   },
   {
    "duration": 13,
    "start_time": "2021-08-23T12:39:52.318Z"
   },
   {
    "duration": 426,
    "start_time": "2021-08-23T12:40:05.306Z"
   },
   {
    "duration": 170,
    "start_time": "2021-08-23T12:41:01.568Z"
   },
   {
    "duration": 260,
    "start_time": "2021-08-23T12:41:43.689Z"
   },
   {
    "duration": 4,
    "start_time": "2021-08-23T12:45:19.888Z"
   },
   {
    "duration": 293,
    "start_time": "2021-08-23T12:45:23.380Z"
   },
   {
    "duration": 173,
    "start_time": "2021-08-23T12:45:44.773Z"
   },
   {
    "duration": 4,
    "start_time": "2021-08-23T12:46:31.837Z"
   },
   {
    "duration": 16625,
    "start_time": "2021-08-23T12:46:36.614Z"
   },
   {
    "duration": 44,
    "start_time": "2021-08-23T12:47:25.249Z"
   },
   {
    "duration": 5,
    "start_time": "2021-08-23T12:47:52.654Z"
   },
   {
    "duration": 219045,
    "start_time": "2021-08-23T12:47:58.709Z"
   },
   {
    "duration": 4,
    "start_time": "2021-08-23T12:51:47.572Z"
   },
   {
    "duration": 13,
    "start_time": "2021-08-23T12:51:56.027Z"
   },
   {
    "duration": 429,
    "start_time": "2021-08-23T12:52:02.040Z"
   },
   {
    "duration": 4,
    "start_time": "2021-08-23T12:52:55.490Z"
   },
   {
    "duration": 11,
    "start_time": "2021-08-23T12:53:12.631Z"
   },
   {
    "duration": 176,
    "start_time": "2021-08-23T12:53:31.685Z"
   },
   {
    "duration": 27724,
    "start_time": "2021-08-23T12:54:48.684Z"
   },
   {
    "duration": 1087,
    "start_time": "2021-08-23T13:19:43.428Z"
   },
   {
    "duration": 87,
    "start_time": "2021-08-23T13:19:44.517Z"
   },
   {
    "duration": 38,
    "start_time": "2021-08-23T13:19:44.606Z"
   },
   {
    "duration": 13,
    "start_time": "2021-08-23T13:19:44.646Z"
   },
   {
    "duration": 15,
    "start_time": "2021-08-23T13:19:44.661Z"
   },
   {
    "duration": 25,
    "start_time": "2021-08-23T13:19:44.677Z"
   },
   {
    "duration": 8,
    "start_time": "2021-08-23T13:19:44.703Z"
   },
   {
    "duration": 7,
    "start_time": "2021-08-23T13:19:44.713Z"
   },
   {
    "duration": 12,
    "start_time": "2021-08-23T13:19:44.722Z"
   },
   {
    "duration": 4,
    "start_time": "2021-08-23T13:19:44.735Z"
   },
   {
    "duration": 8,
    "start_time": "2021-08-23T13:19:44.740Z"
   },
   {
    "duration": 13,
    "start_time": "2021-08-23T13:19:44.749Z"
   },
   {
    "duration": 48,
    "start_time": "2021-08-23T13:19:44.764Z"
   },
   {
    "duration": 18,
    "start_time": "2021-08-23T13:19:44.814Z"
   },
   {
    "duration": 3,
    "start_time": "2021-08-23T13:19:44.834Z"
   },
   {
    "duration": 7,
    "start_time": "2021-08-23T13:19:44.839Z"
   },
   {
    "duration": 80,
    "start_time": "2021-08-23T13:19:44.847Z"
   },
   {
    "duration": 6,
    "start_time": "2021-08-23T13:19:44.929Z"
   },
   {
    "duration": 11,
    "start_time": "2021-08-23T13:19:44.936Z"
   },
   {
    "duration": 176,
    "start_time": "2021-08-23T13:19:44.949Z"
   },
   {
    "duration": 4,
    "start_time": "2021-08-23T13:19:45.127Z"
   },
   {
    "duration": 23,
    "start_time": "2021-08-23T13:19:45.132Z"
   },
   {
    "duration": 9,
    "start_time": "2021-08-23T13:19:45.158Z"
   },
   {
    "duration": 22,
    "start_time": "2021-08-23T13:19:45.169Z"
   },
   {
    "duration": 25,
    "start_time": "2021-08-23T13:19:45.193Z"
   },
   {
    "duration": 4,
    "start_time": "2021-08-23T13:19:45.219Z"
   },
   {
    "duration": 316,
    "start_time": "2021-08-23T13:19:45.225Z"
   },
   {
    "duration": 182,
    "start_time": "2021-08-23T13:19:45.542Z"
   },
   {
    "duration": 4,
    "start_time": "2021-08-23T13:19:45.726Z"
   },
   {
    "duration": 16538,
    "start_time": "2021-08-23T13:19:45.731Z"
   },
   {
    "duration": 31,
    "start_time": "2021-08-23T13:20:02.271Z"
   },
   {
    "duration": 100,
    "start_time": "2021-08-23T13:20:02.393Z"
   },
   {
    "duration": 19,
    "start_time": "2021-08-23T13:20:02.495Z"
   },
   {
    "duration": 10,
    "start_time": "2021-08-23T13:20:02.516Z"
   },
   {
    "duration": 28,
    "start_time": "2021-08-23T13:20:02.528Z"
   },
   {
    "duration": 417,
    "start_time": "2021-08-23T13:20:02.557Z"
   },
   {
    "duration": 23476,
    "start_time": "2021-08-23T13:20:02.975Z"
   },
   {
    "duration": 3,
    "start_time": "2021-08-23T13:20:26.453Z"
   },
   {
    "duration": 14,
    "start_time": "2021-08-23T13:20:26.458Z"
   },
   {
    "duration": 188,
    "start_time": "2021-08-23T13:20:26.474Z"
   },
   {
    "duration": 165,
    "start_time": "2021-08-23T13:20:26.663Z"
   },
   {
    "duration": 294,
    "start_time": "2021-08-23T13:20:26.829Z"
   },
   {
    "duration": 1164,
    "start_time": "2021-08-23T13:33:13.035Z"
   },
   {
    "duration": 92,
    "start_time": "2021-08-23T13:33:14.200Z"
   },
   {
    "duration": 41,
    "start_time": "2021-08-23T13:33:14.293Z"
   },
   {
    "duration": 13,
    "start_time": "2021-08-23T13:33:14.335Z"
   },
   {
    "duration": 14,
    "start_time": "2021-08-23T13:33:14.350Z"
   },
   {
    "duration": 13,
    "start_time": "2021-08-23T13:33:14.366Z"
   },
   {
    "duration": 12,
    "start_time": "2021-08-23T13:33:14.381Z"
   },
   {
    "duration": 8,
    "start_time": "2021-08-23T13:33:14.396Z"
   },
   {
    "duration": 13,
    "start_time": "2021-08-23T13:33:14.406Z"
   },
   {
    "duration": 5,
    "start_time": "2021-08-23T13:33:14.421Z"
   },
   {
    "duration": 14,
    "start_time": "2021-08-23T13:33:14.427Z"
   },
   {
    "duration": 13,
    "start_time": "2021-08-23T13:33:14.442Z"
   },
   {
    "duration": 30,
    "start_time": "2021-08-23T13:33:14.457Z"
   },
   {
    "duration": 20,
    "start_time": "2021-08-23T13:33:14.488Z"
   },
   {
    "duration": 6,
    "start_time": "2021-08-23T13:33:14.510Z"
   },
   {
    "duration": 12,
    "start_time": "2021-08-23T13:33:14.518Z"
   },
   {
    "duration": 79,
    "start_time": "2021-08-23T13:33:14.532Z"
   },
   {
    "duration": 6,
    "start_time": "2021-08-23T13:33:14.613Z"
   },
   {
    "duration": 10,
    "start_time": "2021-08-23T13:33:14.621Z"
   },
   {
    "duration": 166,
    "start_time": "2021-08-23T13:33:14.633Z"
   },
   {
    "duration": 4,
    "start_time": "2021-08-23T13:33:14.800Z"
   },
   {
    "duration": 21,
    "start_time": "2021-08-23T13:33:14.806Z"
   },
   {
    "duration": 10,
    "start_time": "2021-08-23T13:33:14.830Z"
   },
   {
    "duration": 6,
    "start_time": "2021-08-23T13:33:14.842Z"
   },
   {
    "duration": 34,
    "start_time": "2021-08-23T13:33:14.850Z"
   },
   {
    "duration": 4,
    "start_time": "2021-08-23T13:33:14.886Z"
   },
   {
    "duration": 333,
    "start_time": "2021-08-23T13:33:14.892Z"
   },
   {
    "duration": 293,
    "start_time": "2021-08-23T13:33:15.227Z"
   },
   {
    "duration": 5,
    "start_time": "2021-08-23T13:33:15.521Z"
   },
   {
    "duration": 16429,
    "start_time": "2021-08-23T13:33:15.527Z"
   },
   {
    "duration": 42,
    "start_time": "2021-08-23T13:33:31.958Z"
   },
   {
    "duration": 7,
    "start_time": "2021-08-23T13:33:32.093Z"
   },
   {
    "duration": 7,
    "start_time": "2021-08-23T13:33:32.192Z"
   },
   {
    "duration": 5,
    "start_time": "2021-08-23T13:33:32.201Z"
   },
   {
    "duration": 22,
    "start_time": "2021-08-23T13:33:32.207Z"
   },
   {
    "duration": 408,
    "start_time": "2021-08-23T13:33:32.231Z"
   },
   {
    "duration": 22755,
    "start_time": "2021-08-23T13:33:32.641Z"
   },
   {
    "duration": 4,
    "start_time": "2021-08-23T13:33:55.398Z"
   },
   {
    "duration": 16,
    "start_time": "2021-08-23T13:33:55.403Z"
   },
   {
    "duration": 184,
    "start_time": "2021-08-23T13:33:55.420Z"
   },
   {
    "duration": 162,
    "start_time": "2021-08-23T13:33:55.606Z"
   },
   {
    "duration": 294,
    "start_time": "2021-08-23T13:33:55.770Z"
   },
   {
    "duration": 2,
    "start_time": "2021-08-23T13:33:56.065Z"
   },
   {
    "duration": 472,
    "start_time": "2021-08-23T13:33:56.069Z"
   },
   {
    "duration": 392706,
    "start_time": "2021-08-23T13:34:15.043Z"
   },
   {
    "duration": 388180,
    "start_time": "2021-08-23T13:41:10.637Z"
   },
   {
    "duration": 441812,
    "start_time": "2021-08-23T13:49:20.925Z"
   },
   {
    "duration": 11314,
    "start_time": "2021-08-23T14:02:29.525Z"
   },
   {
    "duration": 452,
    "start_time": "2021-08-24T11:57:33.822Z"
   },
   {
    "duration": 1695,
    "start_time": "2021-08-24T12:34:57.889Z"
   },
   {
    "duration": 114,
    "start_time": "2021-08-24T12:35:01.766Z"
   },
   {
    "duration": 68,
    "start_time": "2021-08-24T12:35:04.694Z"
   },
   {
    "duration": 21,
    "start_time": "2021-08-24T12:35:15.348Z"
   },
   {
    "duration": 24,
    "start_time": "2021-08-24T12:35:26.503Z"
   },
   {
    "duration": 21,
    "start_time": "2021-08-24T12:35:29.119Z"
   },
   {
    "duration": 15,
    "start_time": "2021-08-24T12:35:31.646Z"
   },
   {
    "duration": 14,
    "start_time": "2021-08-24T12:35:43.042Z"
   },
   {
    "duration": 21,
    "start_time": "2021-08-24T12:35:51.646Z"
   },
   {
    "duration": 7,
    "start_time": "2021-08-24T12:36:00.838Z"
   },
   {
    "duration": 6,
    "start_time": "2021-08-24T12:36:02.779Z"
   },
   {
    "duration": 13,
    "start_time": "2021-08-24T12:36:04.842Z"
   },
   {
    "duration": 41,
    "start_time": "2021-08-24T12:36:13.831Z"
   },
   {
    "duration": 33,
    "start_time": "2021-08-24T12:36:22.865Z"
   },
   {
    "duration": 6,
    "start_time": "2021-08-24T12:36:26.657Z"
   },
   {
    "duration": 6,
    "start_time": "2021-08-24T12:36:34.033Z"
   },
   {
    "duration": 97,
    "start_time": "2021-08-24T12:36:36.348Z"
   },
   {
    "duration": 11,
    "start_time": "2021-08-24T12:36:45.663Z"
   },
   {
    "duration": 14,
    "start_time": "2021-08-24T12:36:51.382Z"
   },
   {
    "duration": 304,
    "start_time": "2021-08-24T12:37:01.082Z"
   },
   {
    "duration": 6,
    "start_time": "2021-08-24T12:37:12.580Z"
   },
   {
    "duration": 35,
    "start_time": "2021-08-24T12:37:14.892Z"
   },
   {
    "duration": 15,
    "start_time": "2021-08-24T12:37:24.879Z"
   },
   {
    "duration": 6,
    "start_time": "2021-08-24T12:37:28.192Z"
   },
   {
    "duration": 41,
    "start_time": "2021-08-24T12:37:44.136Z"
   },
   {
    "duration": 5,
    "start_time": "2021-08-24T12:37:55.323Z"
   },
   {
    "duration": 5,
    "start_time": "2021-08-24T12:37:57.359Z"
   },
   {
    "duration": 4,
    "start_time": "2021-08-24T12:37:59.290Z"
   },
   {
    "duration": 614,
    "start_time": "2021-08-24T12:38:07.706Z"
   },
   {
    "duration": 891,
    "start_time": "2021-08-24T12:38:40.920Z"
   },
   {
    "duration": 1184,
    "start_time": "2021-08-24T12:39:49.331Z"
   },
   {
    "duration": 35,
    "start_time": "2021-08-24T12:53:18.117Z"
   },
   {
    "duration": 545,
    "start_time": "2021-08-24T12:53:44.646Z"
   },
   {
    "duration": 102724,
    "start_time": "2021-08-24T12:54:14.570Z"
   },
   {
    "duration": 348,
    "start_time": "2021-08-24T13:00:02.649Z"
   },
   {
    "duration": 467,
    "start_time": "2021-08-24T13:03:15.675Z"
   },
   {
    "duration": 45,
    "start_time": "2021-08-24T13:03:36.327Z"
   },
   {
    "duration": 555539,
    "start_time": "2021-08-24T13:06:18.072Z"
   },
   {
    "duration": 550962,
    "start_time": "2021-08-24T13:16:04.566Z"
   },
   {
    "duration": 12494,
    "start_time": "2021-08-24T13:28:57.854Z"
   },
   {
    "duration": 15,
    "start_time": "2021-08-24T13:34:45.883Z"
   },
   {
    "duration": 1045,
    "start_time": "2021-08-24T13:35:29.902Z"
   },
   {
    "duration": 283,
    "start_time": "2021-08-24T13:45:22.622Z"
   },
   {
    "duration": 6,
    "start_time": "2021-08-24T13:52:22.321Z"
   },
   {
    "duration": 412,
    "start_time": "2021-08-24T13:54:23.863Z"
   },
   {
    "duration": 7,
    "start_time": "2021-08-24T14:00:21.821Z"
   },
   {
    "duration": 6,
    "start_time": "2021-08-24T14:01:22.537Z"
   },
   {
    "duration": 1534,
    "start_time": "2021-08-24T14:10:17.727Z"
   },
   {
    "duration": 109,
    "start_time": "2021-08-24T14:10:19.263Z"
   },
   {
    "duration": 68,
    "start_time": "2021-08-24T14:10:19.376Z"
   },
   {
    "duration": 22,
    "start_time": "2021-08-24T14:10:19.447Z"
   },
   {
    "duration": 25,
    "start_time": "2021-08-24T14:10:19.472Z"
   },
   {
    "duration": 23,
    "start_time": "2021-08-24T14:10:19.499Z"
   },
   {
    "duration": 39,
    "start_time": "2021-08-24T14:10:19.525Z"
   },
   {
    "duration": 14,
    "start_time": "2021-08-24T14:10:19.568Z"
   },
   {
    "duration": 21,
    "start_time": "2021-08-24T14:10:19.585Z"
   },
   {
    "duration": 7,
    "start_time": "2021-08-24T14:10:19.608Z"
   },
   {
    "duration": 7,
    "start_time": "2021-08-24T14:10:19.654Z"
   },
   {
    "duration": 15,
    "start_time": "2021-08-24T14:10:19.664Z"
   },
   {
    "duration": 40,
    "start_time": "2021-08-24T14:10:19.682Z"
   },
   {
    "duration": 35,
    "start_time": "2021-08-24T14:10:19.755Z"
   },
   {
    "duration": 7,
    "start_time": "2021-08-24T14:10:19.793Z"
   },
   {
    "duration": 9,
    "start_time": "2021-08-24T14:10:19.803Z"
   },
   {
    "duration": 146,
    "start_time": "2021-08-24T14:10:19.815Z"
   },
   {
    "duration": 8,
    "start_time": "2021-08-24T14:10:19.963Z"
   },
   {
    "duration": 17,
    "start_time": "2021-08-24T14:10:19.974Z"
   },
   {
    "duration": 327,
    "start_time": "2021-08-24T14:10:19.994Z"
   },
   {
    "duration": 7,
    "start_time": "2021-08-24T14:10:20.324Z"
   },
   {
    "duration": 53,
    "start_time": "2021-08-24T14:10:20.334Z"
   },
   {
    "duration": 15,
    "start_time": "2021-08-24T14:10:20.395Z"
   },
   {
    "duration": 6,
    "start_time": "2021-08-24T14:10:20.413Z"
   },
   {
    "duration": 43,
    "start_time": "2021-08-24T14:10:20.454Z"
   },
   {
    "duration": 5,
    "start_time": "2021-08-24T14:10:20.499Z"
   },
   {
    "duration": 8,
    "start_time": "2021-08-24T14:10:20.507Z"
   },
   {
    "duration": 37,
    "start_time": "2021-08-24T14:10:20.517Z"
   },
   {
    "duration": 26,
    "start_time": "2021-08-24T14:10:20.557Z"
   },
   {
    "duration": 1178,
    "start_time": "2021-08-24T14:10:20.586Z"
   },
   {
    "duration": 33,
    "start_time": "2021-08-24T14:10:21.767Z"
   },
   {
    "duration": 106822,
    "start_time": "2021-08-24T14:10:21.803Z"
   },
   {
    "duration": 369,
    "start_time": "2021-08-24T14:12:08.628Z"
   },
   {
    "duration": 64,
    "start_time": "2021-08-24T14:12:08.999Z"
   },
   {
    "duration": 546239,
    "start_time": "2021-08-24T14:12:09.066Z"
   },
   {
    "duration": 12534,
    "start_time": "2021-08-24T14:21:15.307Z"
   },
   {
    "duration": 15,
    "start_time": "2021-08-24T14:21:27.844Z"
   },
   {
    "duration": 1059,
    "start_time": "2021-08-24T14:21:27.861Z"
   },
   {
    "duration": 301,
    "start_time": "2021-08-24T14:21:28.923Z"
   },
   {
    "duration": 1653,
    "start_time": "2021-08-24T14:21:29.226Z"
   },
   {
    "duration": -879,
    "start_time": "2021-08-24T14:21:31.760Z"
   },
   {
    "duration": -930,
    "start_time": "2021-08-24T14:21:31.812Z"
   },
   {
    "duration": -949,
    "start_time": "2021-08-24T14:21:31.833Z"
   },
   {
    "duration": -963,
    "start_time": "2021-08-24T14:21:31.849Z"
   },
   {
    "duration": 7,
    "start_time": "2021-08-24T14:22:57.240Z"
   },
   {
    "duration": 887,
    "start_time": "2021-08-24T14:23:07.109Z"
   },
   {
    "duration": 48,
    "start_time": "2021-08-24T14:23:47.974Z"
   },
   {
    "duration": 595,
    "start_time": "2021-08-24T14:23:56.488Z"
   },
   {
    "duration": 5,
    "start_time": "2021-08-24T14:32:41.534Z"
   },
   {
    "duration": 796,
    "start_time": "2021-08-24T14:32:43.800Z"
   },
   {
    "duration": 7,
    "start_time": "2021-08-24T14:33:24.981Z"
   },
   {
    "duration": 22,
    "start_time": "2021-08-24T14:33:40.015Z"
   },
   {
    "duration": 1932,
    "start_time": "2021-08-24T14:36:00.628Z"
   },
   {
    "duration": 60,
    "start_time": "2021-08-24T14:37:51.447Z"
   },
   {
    "duration": 152999,
    "start_time": "2021-08-24T14:40:10.993Z"
   },
   {
    "duration": 7,
    "start_time": "2021-08-24T15:10:01.465Z"
   },
   {
    "duration": 18,
    "start_time": "2021-08-24T15:10:09.766Z"
   },
   {
    "duration": 1803,
    "start_time": "2021-08-24T15:20:38.625Z"
   },
   {
    "duration": 110,
    "start_time": "2021-08-24T15:20:40.431Z"
   },
   {
    "duration": 70,
    "start_time": "2021-08-24T15:20:40.544Z"
   },
   {
    "duration": 20,
    "start_time": "2021-08-24T15:20:40.617Z"
   },
   {
    "duration": 36,
    "start_time": "2021-08-24T15:20:40.640Z"
   },
   {
    "duration": 21,
    "start_time": "2021-08-24T15:20:40.679Z"
   },
   {
    "duration": 15,
    "start_time": "2021-08-24T15:20:40.702Z"
   },
   {
    "duration": 43,
    "start_time": "2021-08-24T15:20:40.721Z"
   },
   {
    "duration": 21,
    "start_time": "2021-08-24T15:20:40.767Z"
   },
   {
    "duration": 10,
    "start_time": "2021-08-24T15:20:40.790Z"
   },
   {
    "duration": 28,
    "start_time": "2021-08-24T15:20:40.802Z"
   },
   {
    "duration": 36,
    "start_time": "2021-08-24T15:20:40.833Z"
   },
   {
    "duration": 49,
    "start_time": "2021-08-24T15:20:40.872Z"
   },
   {
    "duration": 38,
    "start_time": "2021-08-24T15:20:40.924Z"
   },
   {
    "duration": 6,
    "start_time": "2021-08-24T15:20:40.964Z"
   },
   {
    "duration": 29,
    "start_time": "2021-08-24T15:20:40.973Z"
   },
   {
    "duration": 104,
    "start_time": "2021-08-24T15:20:41.005Z"
   },
   {
    "duration": 8,
    "start_time": "2021-08-24T15:20:41.112Z"
   },
   {
    "duration": 31,
    "start_time": "2021-08-24T15:20:41.123Z"
   },
   {
    "duration": 311,
    "start_time": "2021-08-24T15:20:41.157Z"
   },
   {
    "duration": 5,
    "start_time": "2021-08-24T15:20:41.471Z"
   },
   {
    "duration": 55,
    "start_time": "2021-08-24T15:20:41.478Z"
   },
   {
    "duration": 19,
    "start_time": "2021-08-24T15:20:41.539Z"
   },
   {
    "duration": 13,
    "start_time": "2021-08-24T15:20:41.562Z"
   },
   {
    "duration": 56,
    "start_time": "2021-08-24T15:20:41.577Z"
   },
   {
    "duration": 4,
    "start_time": "2021-08-24T15:20:41.636Z"
   },
   {
    "duration": 10,
    "start_time": "2021-08-24T15:20:41.654Z"
   },
   {
    "duration": 25,
    "start_time": "2021-08-24T15:20:41.666Z"
   },
   {
    "duration": 38,
    "start_time": "2021-08-24T15:20:41.693Z"
   },
   {
    "duration": 1192,
    "start_time": "2021-08-24T15:20:41.733Z"
   },
   {
    "duration": 45,
    "start_time": "2021-08-24T15:20:42.928Z"
   },
   {
    "duration": 104087,
    "start_time": "2021-08-24T15:20:42.976Z"
   },
   {
    "duration": 381,
    "start_time": "2021-08-24T15:22:27.065Z"
   },
   {
    "duration": 108,
    "start_time": "2021-08-24T15:22:27.448Z"
   },
   {
    "duration": 547236,
    "start_time": "2021-08-24T15:22:27.559Z"
   },
   {
    "duration": 12166,
    "start_time": "2021-08-24T15:31:34.798Z"
   },
   {
    "duration": 14,
    "start_time": "2021-08-24T15:31:46.967Z"
   },
   {
    "duration": 940,
    "start_time": "2021-08-24T15:31:46.984Z"
   },
   {
    "duration": 309,
    "start_time": "2021-08-24T15:31:47.927Z"
   },
   {
    "duration": 603,
    "start_time": "2021-08-24T15:31:48.238Z"
   },
   {
    "duration": 12,
    "start_time": "2021-08-24T15:31:48.843Z"
   },
   {
    "duration": 24,
    "start_time": "2021-08-24T15:31:48.858Z"
   },
   {
    "duration": 1764,
    "start_time": "2021-08-24T15:31:48.885Z"
   },
   {
    "duration": 60,
    "start_time": "2021-08-24T15:31:50.655Z"
   },
   {
    "duration": 151132,
    "start_time": "2021-08-24T15:31:50.717Z"
   },
   {
    "duration": 644,
    "start_time": "2021-08-24T15:34:21.851Z"
   },
   {
    "duration": 658953,
    "start_time": "2021-08-24T15:34:22.497Z"
   },
   {
    "duration": 39314,
    "start_time": "2021-08-24T15:45:21.453Z"
   },
   {
    "duration": 5,
    "start_time": "2021-08-24T15:46:00.770Z"
   },
   {
    "duration": 43,
    "start_time": "2021-08-24T15:46:00.778Z"
   },
   {
    "duration": 743,
    "start_time": "2021-08-24T15:46:00.824Z"
   },
   {
    "duration": 58,
    "start_time": "2021-08-24T15:46:01.569Z"
   },
   {
    "duration": 66652,
    "start_time": "2021-08-24T15:46:01.629Z"
   },
   {
    "duration": 233,
    "start_time": "2021-08-24T15:47:08.284Z"
   },
   {
    "duration": 449074,
    "start_time": "2021-08-24T15:47:08.520Z"
   },
   {
    "duration": 7803,
    "start_time": "2021-08-24T15:54:37.596Z"
   },
   {
    "duration": 9672,
    "start_time": "2021-08-24T16:32:38.246Z"
   },
   {
    "duration": 141,
    "start_time": "2021-08-24T16:33:09.814Z"
   },
   {
    "duration": 6,
    "start_time": "2021-08-24T16:35:28.992Z"
   },
   {
    "duration": 1632,
    "start_time": "2021-08-24T16:35:47.093Z"
   },
   {
    "duration": 112,
    "start_time": "2021-08-24T16:35:48.728Z"
   },
   {
    "duration": 70,
    "start_time": "2021-08-24T16:35:48.843Z"
   },
   {
    "duration": 37,
    "start_time": "2021-08-24T16:35:48.917Z"
   },
   {
    "duration": 25,
    "start_time": "2021-08-24T16:35:48.957Z"
   },
   {
    "duration": 22,
    "start_time": "2021-08-24T16:35:48.986Z"
   },
   {
    "duration": 48,
    "start_time": "2021-08-24T16:35:49.011Z"
   },
   {
    "duration": 13,
    "start_time": "2021-08-24T16:35:49.065Z"
   },
   {
    "duration": 24,
    "start_time": "2021-08-24T16:35:49.081Z"
   },
   {
    "duration": 8,
    "start_time": "2021-08-24T16:35:49.107Z"
   },
   {
    "duration": 37,
    "start_time": "2021-08-24T16:35:49.117Z"
   },
   {
    "duration": 24,
    "start_time": "2021-08-24T16:35:49.156Z"
   },
   {
    "duration": 41,
    "start_time": "2021-08-24T16:35:49.183Z"
   },
   {
    "duration": 47,
    "start_time": "2021-08-24T16:35:49.227Z"
   },
   {
    "duration": 8,
    "start_time": "2021-08-24T16:35:49.277Z"
   },
   {
    "duration": 17,
    "start_time": "2021-08-24T16:35:49.288Z"
   },
   {
    "duration": 127,
    "start_time": "2021-08-24T16:35:49.308Z"
   },
   {
    "duration": 819,
    "start_time": "2021-08-24T16:35:49.438Z"
   },
   {
    "duration": 8,
    "start_time": "2021-08-24T16:35:50.259Z"
   },
   {
    "duration": 30,
    "start_time": "2021-08-24T16:35:50.270Z"
   },
   {
    "duration": 28,
    "start_time": "2021-08-24T16:35:50.302Z"
   },
   {
    "duration": 312,
    "start_time": "2021-08-24T16:35:50.334Z"
   },
   {
    "duration": 6,
    "start_time": "2021-08-24T16:35:50.656Z"
   },
   {
    "duration": 34,
    "start_time": "2021-08-24T16:35:50.667Z"
   },
   {
    "duration": 17,
    "start_time": "2021-08-24T16:35:50.704Z"
   },
   {
    "duration": 7,
    "start_time": "2021-08-24T16:35:50.755Z"
   },
   {
    "duration": 628,
    "start_time": "2021-08-24T16:35:50.765Z"
   },
   {
    "duration": -1736,
    "start_time": "2021-08-24T16:35:53.133Z"
   },
   {
    "duration": -2376,
    "start_time": "2021-08-24T16:35:53.776Z"
   },
   {
    "duration": -2745,
    "start_time": "2021-08-24T16:35:54.147Z"
   },
   {
    "duration": -2763,
    "start_time": "2021-08-24T16:35:54.167Z"
   },
   {
    "duration": -2786,
    "start_time": "2021-08-24T16:35:54.193Z"
   },
   {
    "duration": -2803,
    "start_time": "2021-08-24T16:35:54.212Z"
   },
   {
    "duration": -2818,
    "start_time": "2021-08-24T16:35:54.229Z"
   },
   {
    "duration": -2871,
    "start_time": "2021-08-24T16:35:54.284Z"
   },
   {
    "duration": -2886,
    "start_time": "2021-08-24T16:35:54.302Z"
   },
   {
    "duration": -2904,
    "start_time": "2021-08-24T16:35:54.322Z"
   },
   {
    "duration": -2919,
    "start_time": "2021-08-24T16:35:54.339Z"
   },
   {
    "duration": -2935,
    "start_time": "2021-08-24T16:35:54.358Z"
   },
   {
    "duration": -2950,
    "start_time": "2021-08-24T16:35:54.375Z"
   },
   {
    "duration": -2968,
    "start_time": "2021-08-24T16:35:54.395Z"
   },
   {
    "duration": -2982,
    "start_time": "2021-08-24T16:35:54.412Z"
   },
   {
    "duration": -3010,
    "start_time": "2021-08-24T16:35:54.441Z"
   },
   {
    "duration": -3025,
    "start_time": "2021-08-24T16:35:54.457Z"
   },
   {
    "duration": -3023,
    "start_time": "2021-08-24T16:35:54.477Z"
   },
   {
    "duration": -3039,
    "start_time": "2021-08-24T16:35:54.494Z"
   },
   {
    "duration": -3056,
    "start_time": "2021-08-24T16:35:54.513Z"
   },
   {
    "duration": -3072,
    "start_time": "2021-08-24T16:35:54.530Z"
   },
   {
    "duration": -3089,
    "start_time": "2021-08-24T16:35:54.548Z"
   },
   {
    "duration": -3104,
    "start_time": "2021-08-24T16:35:54.565Z"
   },
   {
    "duration": -3121,
    "start_time": "2021-08-24T16:35:54.584Z"
   },
   {
    "duration": -3136,
    "start_time": "2021-08-24T16:35:54.601Z"
   },
   {
    "duration": -3155,
    "start_time": "2021-08-24T16:35:54.621Z"
   },
   {
    "duration": -3170,
    "start_time": "2021-08-24T16:35:54.638Z"
   },
   {
    "duration": -3187,
    "start_time": "2021-08-24T16:35:54.656Z"
   },
   {
    "duration": -3202,
    "start_time": "2021-08-24T16:35:54.673Z"
   },
   {
    "duration": -3278,
    "start_time": "2021-08-24T16:35:54.751Z"
   },
   {
    "duration": -3158,
    "start_time": "2021-08-24T16:35:54.770Z"
   },
   {
    "duration": 1588,
    "start_time": "2021-08-24T16:38:01.279Z"
   },
   {
    "duration": 113,
    "start_time": "2021-08-24T16:38:02.870Z"
   },
   {
    "duration": 73,
    "start_time": "2021-08-24T16:38:02.987Z"
   },
   {
    "duration": 21,
    "start_time": "2021-08-24T16:38:03.064Z"
   },
   {
    "duration": 25,
    "start_time": "2021-08-24T16:38:03.088Z"
   },
   {
    "duration": 56,
    "start_time": "2021-08-24T16:38:03.115Z"
   },
   {
    "duration": 16,
    "start_time": "2021-08-24T16:38:03.174Z"
   },
   {
    "duration": 22,
    "start_time": "2021-08-24T16:38:03.193Z"
   },
   {
    "duration": 41,
    "start_time": "2021-08-24T16:38:03.218Z"
   },
   {
    "duration": 7,
    "start_time": "2021-08-24T16:38:03.262Z"
   },
   {
    "duration": 16,
    "start_time": "2021-08-24T16:38:03.271Z"
   },
   {
    "duration": 22,
    "start_time": "2021-08-24T16:38:03.290Z"
   },
   {
    "duration": 66,
    "start_time": "2021-08-24T16:38:03.314Z"
   },
   {
    "duration": 33,
    "start_time": "2021-08-24T16:38:03.382Z"
   },
   {
    "duration": 7,
    "start_time": "2021-08-24T16:38:03.418Z"
   },
   {
    "duration": 7,
    "start_time": "2021-08-24T16:38:03.455Z"
   },
   {
    "duration": 112,
    "start_time": "2021-08-24T16:38:03.464Z"
   },
   {
    "duration": 780,
    "start_time": "2021-08-24T16:38:03.578Z"
   },
   {
    "duration": 8,
    "start_time": "2021-08-24T16:38:04.361Z"
   },
   {
    "duration": 41,
    "start_time": "2021-08-24T16:38:04.372Z"
   },
   {
    "duration": 31,
    "start_time": "2021-08-24T16:38:04.416Z"
   },
   {
    "duration": 369,
    "start_time": "2021-08-24T16:38:04.451Z"
   },
   {
    "duration": 6,
    "start_time": "2021-08-24T16:38:04.828Z"
   },
   {
    "duration": 46,
    "start_time": "2021-08-24T16:38:04.839Z"
   },
   {
    "duration": 17,
    "start_time": "2021-08-24T16:38:04.889Z"
   },
   {
    "duration": 15,
    "start_time": "2021-08-24T16:38:04.908Z"
   },
   {
    "duration": 66,
    "start_time": "2021-08-24T16:38:04.925Z"
   },
   {
    "duration": 7,
    "start_time": "2021-08-24T16:38:04.994Z"
   },
   {
    "duration": 126,
    "start_time": "2021-08-24T16:38:05.003Z"
   },
   {
    "duration": 31,
    "start_time": "2021-08-24T16:38:05.133Z"
   },
   {
    "duration": 25,
    "start_time": "2021-08-24T16:38:05.167Z"
   },
   {
    "duration": 1018,
    "start_time": "2021-08-24T16:38:05.194Z"
   },
   {
    "duration": 43,
    "start_time": "2021-08-24T16:38:06.215Z"
   },
   {
    "duration": 98148,
    "start_time": "2021-08-24T16:38:06.261Z"
   },
   {
    "duration": 320,
    "start_time": "2021-08-24T16:39:44.412Z"
   },
   {
    "duration": 123,
    "start_time": "2021-08-24T16:39:44.735Z"
   },
   {
    "duration": 727175,
    "start_time": "2021-08-24T16:39:44.861Z"
   },
   {
    "duration": 21343,
    "start_time": "2021-08-24T16:51:52.038Z"
   },
   {
    "duration": 15,
    "start_time": "2021-08-24T16:52:13.383Z"
   },
   {
    "duration": 33,
    "start_time": "2021-08-24T16:52:13.400Z"
   },
   {
    "duration": 333,
    "start_time": "2021-08-24T16:52:13.436Z"
   },
   {
    "duration": 622,
    "start_time": "2021-08-24T16:52:13.772Z"
   },
   {
    "duration": 5,
    "start_time": "2021-08-24T16:52:14.397Z"
   },
   {
    "duration": 41,
    "start_time": "2021-08-24T16:52:14.405Z"
   },
   {
    "duration": 1582,
    "start_time": "2021-08-24T16:52:14.449Z"
   },
   {
    "duration": 66,
    "start_time": "2021-08-24T16:52:16.033Z"
   },
   {
    "duration": 144453,
    "start_time": "2021-08-24T16:52:16.102Z"
   },
   {
    "duration": 723,
    "start_time": "2021-08-24T16:54:40.558Z"
   },
   {
    "duration": 690750,
    "start_time": "2021-08-24T16:54:41.283Z"
   },
   {
    "duration": 37407,
    "start_time": "2021-08-24T17:06:12.036Z"
   },
   {
    "duration": 8,
    "start_time": "2021-08-24T17:06:49.446Z"
   },
   {
    "duration": 35,
    "start_time": "2021-08-24T17:06:49.457Z"
   },
   {
    "duration": 760,
    "start_time": "2021-08-24T17:06:49.495Z"
   },
   {
    "duration": 52,
    "start_time": "2021-08-24T17:06:50.257Z"
   },
   {
    "duration": 65262,
    "start_time": "2021-08-24T17:06:50.312Z"
   },
   {
    "duration": 203,
    "start_time": "2021-08-24T17:07:55.576Z"
   },
   {
    "duration": 482383,
    "start_time": "2021-08-24T17:07:55.782Z"
   },
   {
    "duration": 12009,
    "start_time": "2021-08-24T17:15:58.169Z"
   },
   {
    "duration": 1833,
    "start_time": "2021-08-25T08:23:49.149Z"
   },
   {
    "duration": 93,
    "start_time": "2021-08-25T08:23:50.985Z"
   },
   {
    "duration": 69,
    "start_time": "2021-08-25T08:23:53.894Z"
   },
   {
    "duration": 24,
    "start_time": "2021-08-25T08:23:53.965Z"
   },
   {
    "duration": 22,
    "start_time": "2021-08-25T08:23:53.992Z"
   },
   {
    "duration": 21,
    "start_time": "2021-08-25T08:23:54.409Z"
   },
   {
    "duration": 13,
    "start_time": "2021-08-25T08:23:55.002Z"
   },
   {
    "duration": 14,
    "start_time": "2021-08-25T08:23:55.425Z"
   },
   {
    "duration": 20,
    "start_time": "2021-08-25T08:23:55.634Z"
   },
   {
    "duration": 7,
    "start_time": "2021-08-25T08:23:56.013Z"
   },
   {
    "duration": 6,
    "start_time": "2021-08-25T08:23:56.419Z"
   },
   {
    "duration": 14,
    "start_time": "2021-08-25T08:23:56.946Z"
   },
   {
    "duration": 42,
    "start_time": "2021-08-25T08:23:57.329Z"
   },
   {
    "duration": 33,
    "start_time": "2021-08-25T08:23:57.842Z"
   },
   {
    "duration": 7,
    "start_time": "2021-08-25T08:23:58.025Z"
   },
   {
    "duration": 6,
    "start_time": "2021-08-25T08:23:58.552Z"
   },
   {
    "duration": 98,
    "start_time": "2021-08-25T08:23:58.730Z"
   },
   {
    "duration": 1054,
    "start_time": "2021-08-25T08:23:59.258Z"
   },
   {
    "duration": 7,
    "start_time": "2021-08-25T08:24:00.315Z"
   },
   {
    "duration": 11,
    "start_time": "2021-08-25T08:30:54.746Z"
   },
   {
    "duration": 17,
    "start_time": "2021-08-25T08:31:15.066Z"
   },
   {
    "duration": 293,
    "start_time": "2021-08-25T08:31:26.492Z"
   },
   {
    "duration": 6,
    "start_time": "2021-08-25T08:31:28.154Z"
   },
   {
    "duration": 30,
    "start_time": "2021-08-25T08:31:28.581Z"
   },
   {
    "duration": 14,
    "start_time": "2021-08-25T08:31:29.206Z"
   },
   {
    "duration": 6,
    "start_time": "2021-08-25T08:31:29.413Z"
   },
   {
    "duration": 32,
    "start_time": "2021-08-25T08:31:29.803Z"
   },
   {
    "duration": 5,
    "start_time": "2021-08-25T08:32:37.826Z"
   },
   {
    "duration": 5,
    "start_time": "2021-08-25T08:32:38.660Z"
   },
   {
    "duration": 71,
    "start_time": "2021-08-25T08:32:39.356Z"
   },
   {
    "duration": 5,
    "start_time": "2021-08-25T08:32:41.059Z"
   },
   {
    "duration": 948,
    "start_time": "2021-08-25T08:33:17.237Z"
   },
   {
    "duration": 29,
    "start_time": "2021-08-25T08:33:29.043Z"
   },
   {
    "duration": 92806,
    "start_time": "2021-08-25T08:33:38.580Z"
   },
   {
    "duration": 290,
    "start_time": "2021-08-25T08:35:11.388Z"
   },
   {
    "duration": 206,
    "start_time": "2021-08-25T08:35:11.684Z"
   },
   {
    "duration": 743814,
    "start_time": "2021-08-25T08:35:11.894Z"
   },
   {
    "duration": 19858,
    "start_time": "2021-08-25T08:47:35.711Z"
   },
   {
    "duration": 13,
    "start_time": "2021-08-25T08:47:55.572Z"
   }
  ],
  "kernelspec": {
   "display_name": "Python 3",
   "language": "python",
   "name": "python3"
  },
  "language_info": {
   "codemirror_mode": {
    "name": "ipython",
    "version": 3
   },
   "file_extension": ".py",
   "mimetype": "text/x-python",
   "name": "python",
   "nbconvert_exporter": "python",
   "pygments_lexer": "ipython3",
   "version": "3.7.8"
  },
  "toc": {
   "base_numbering": 1,
   "nav_menu": {},
   "number_sections": true,
   "sideBar": true,
   "skip_h1_title": true,
   "title_cell": "Table of Contents",
   "title_sidebar": "Contents",
   "toc_cell": false,
   "toc_position": {},
   "toc_section_display": true,
   "toc_window_display": false
  }
 },
 "nbformat": 4,
 "nbformat_minor": 2
}
