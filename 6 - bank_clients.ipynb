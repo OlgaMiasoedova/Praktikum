{
 "cells": [
  {
   "cell_type": "markdown",
   "metadata": {},
   "source": [
    "# Отток клиентов"
   ]
  },
  {
   "cell_type": "markdown",
   "metadata": {},
   "source": [
    "Из «Бета-Банка» стали уходить клиенты. Каждый месяц. Немного, но заметно. Банковские маркетологи посчитали: сохранять текущих клиентов дешевле, чем привлекать новых.\n",
    "\n",
    "Нужно спрогнозировать, уйдёт клиент из банка в ближайшее время или нет. Вам предоставлены исторические данные о поведении клиентов и расторжении договоров с банком. \n",
    "\n",
    "Постройте модель с предельно большим значением *F1*-меры. Чтобы сдать проект успешно, нужно довести метрику до 0.59. Проверьте *F1*-меру на тестовой выборке самостоятельно.\n",
    "\n",
    "Дополнительно измеряйте *AUC-ROC*, сравнивайте её значение с *F1*-мерой.\n",
    "\n",
    "Источник данных: [https://www.kaggle.com/barelydedicated/bank-customer-churn-modeling](https://www.kaggle.com/barelydedicated/bank-customer-churn-modeling)"
   ]
  },
  {
   "cell_type": "markdown",
   "metadata": {},
   "source": [
    "<a id='intro'></a>\n",
    "\n",
    "## Оглавление"
   ]
  },
  {
   "cell_type": "markdown",
   "metadata": {},
   "source": [
    "[Введение](#chapter2)\n",
    "\n",
    "[Подготовка данных](#chapter3)\n",
    "\n",
    "[Исследование задачи](#chapter4)\n",
    "\n",
    "[Борьба с дисбалансом](#chapter5)\n",
    "\n",
    "[Тестирование модели](#chapter6)\n",
    "\n",
    "[Общий вывод](#chapter7)"
   ]
  },
  {
   "cell_type": "markdown",
   "metadata": {},
   "source": [
    "<a id='chapter2'></a>\n",
    "\n",
    "# Введение"
   ]
  },
  {
   "cell_type": "markdown",
   "metadata": {},
   "source": [
    "\n",
    "Цель данной работы: спрогнозировать уход клиента из банка. Для решения этой задачи мы должны построить модель для задачи классификации, которая сможет определить уйдет данный клиент из банка или нет.\n",
    "\n",
    "В качестве исходной информации нам передали данные о поведении клиентов и расторжении договоров с банком.\n"
   ]
  },
  {
   "cell_type": "markdown",
   "metadata": {},
   "source": [
    "[К оглавлению](#intro)"
   ]
  },
  {
   "cell_type": "markdown",
   "metadata": {},
   "source": [
    "<a id='chapter3'></a>\n",
    "\n",
    "# 1. Подготовка данных"
   ]
  },
  {
   "cell_type": "markdown",
   "metadata": {},
   "source": [
    "\n",
    "Загрузим переданный файл с данными в проект и посмотрим информацию по нему.\n"
   ]
  },
  {
   "cell_type": "code",
   "execution_count": 1,
   "metadata": {},
   "outputs": [],
   "source": [
    "#загрузка необходимых библиотек\n",
    "import pandas as pd\n",
    "from sklearn.model_selection import train_test_split\n",
    "from sklearn.preprocessing import StandardScaler\n",
    "from sklearn.tree import DecisionTreeClassifier\n",
    "from sklearn.ensemble import RandomForestClassifier\n",
    "from sklearn.linear_model import LogisticRegression\n",
    "from sklearn.metrics import f1_score, roc_auc_score, roc_curve\n",
    "from sklearn.utils import shuffle\n",
    "import matplotlib.pyplot as plt\n",
    "import warnings\n",
    "warnings.filterwarnings('ignore')"
   ]
  },
  {
   "cell_type": "code",
   "execution_count": 2,
   "metadata": {},
   "outputs": [
    {
     "data": {
      "text/html": [
       "<div>\n",
       "<style scoped>\n",
       "    .dataframe tbody tr th:only-of-type {\n",
       "        vertical-align: middle;\n",
       "    }\n",
       "\n",
       "    .dataframe tbody tr th {\n",
       "        vertical-align: top;\n",
       "    }\n",
       "\n",
       "    .dataframe thead th {\n",
       "        text-align: right;\n",
       "    }\n",
       "</style>\n",
       "<table border=\"1\" class=\"dataframe\">\n",
       "  <thead>\n",
       "    <tr style=\"text-align: right;\">\n",
       "      <th></th>\n",
       "      <th>RowNumber</th>\n",
       "      <th>CustomerId</th>\n",
       "      <th>Surname</th>\n",
       "      <th>CreditScore</th>\n",
       "      <th>Geography</th>\n",
       "      <th>Gender</th>\n",
       "      <th>Age</th>\n",
       "      <th>Tenure</th>\n",
       "      <th>Balance</th>\n",
       "      <th>NumOfProducts</th>\n",
       "      <th>HasCrCard</th>\n",
       "      <th>IsActiveMember</th>\n",
       "      <th>EstimatedSalary</th>\n",
       "      <th>Exited</th>\n",
       "    </tr>\n",
       "  </thead>\n",
       "  <tbody>\n",
       "    <tr>\n",
       "      <td>0</td>\n",
       "      <td>1</td>\n",
       "      <td>15634602</td>\n",
       "      <td>Hargrave</td>\n",
       "      <td>619</td>\n",
       "      <td>France</td>\n",
       "      <td>Female</td>\n",
       "      <td>42</td>\n",
       "      <td>2.0</td>\n",
       "      <td>0.00</td>\n",
       "      <td>1</td>\n",
       "      <td>1</td>\n",
       "      <td>1</td>\n",
       "      <td>101348.88</td>\n",
       "      <td>1</td>\n",
       "    </tr>\n",
       "    <tr>\n",
       "      <td>1</td>\n",
       "      <td>2</td>\n",
       "      <td>15647311</td>\n",
       "      <td>Hill</td>\n",
       "      <td>608</td>\n",
       "      <td>Spain</td>\n",
       "      <td>Female</td>\n",
       "      <td>41</td>\n",
       "      <td>1.0</td>\n",
       "      <td>83807.86</td>\n",
       "      <td>1</td>\n",
       "      <td>0</td>\n",
       "      <td>1</td>\n",
       "      <td>112542.58</td>\n",
       "      <td>0</td>\n",
       "    </tr>\n",
       "    <tr>\n",
       "      <td>2</td>\n",
       "      <td>3</td>\n",
       "      <td>15619304</td>\n",
       "      <td>Onio</td>\n",
       "      <td>502</td>\n",
       "      <td>France</td>\n",
       "      <td>Female</td>\n",
       "      <td>42</td>\n",
       "      <td>8.0</td>\n",
       "      <td>159660.80</td>\n",
       "      <td>3</td>\n",
       "      <td>1</td>\n",
       "      <td>0</td>\n",
       "      <td>113931.57</td>\n",
       "      <td>1</td>\n",
       "    </tr>\n",
       "    <tr>\n",
       "      <td>3</td>\n",
       "      <td>4</td>\n",
       "      <td>15701354</td>\n",
       "      <td>Boni</td>\n",
       "      <td>699</td>\n",
       "      <td>France</td>\n",
       "      <td>Female</td>\n",
       "      <td>39</td>\n",
       "      <td>1.0</td>\n",
       "      <td>0.00</td>\n",
       "      <td>2</td>\n",
       "      <td>0</td>\n",
       "      <td>0</td>\n",
       "      <td>93826.63</td>\n",
       "      <td>0</td>\n",
       "    </tr>\n",
       "    <tr>\n",
       "      <td>4</td>\n",
       "      <td>5</td>\n",
       "      <td>15737888</td>\n",
       "      <td>Mitchell</td>\n",
       "      <td>850</td>\n",
       "      <td>Spain</td>\n",
       "      <td>Female</td>\n",
       "      <td>43</td>\n",
       "      <td>2.0</td>\n",
       "      <td>125510.82</td>\n",
       "      <td>1</td>\n",
       "      <td>1</td>\n",
       "      <td>1</td>\n",
       "      <td>79084.10</td>\n",
       "      <td>0</td>\n",
       "    </tr>\n",
       "  </tbody>\n",
       "</table>\n",
       "</div>"
      ],
      "text/plain": [
       "   RowNumber  CustomerId   Surname  CreditScore Geography  Gender  Age  \\\n",
       "0          1    15634602  Hargrave          619    France  Female   42   \n",
       "1          2    15647311      Hill          608     Spain  Female   41   \n",
       "2          3    15619304      Onio          502    France  Female   42   \n",
       "3          4    15701354      Boni          699    France  Female   39   \n",
       "4          5    15737888  Mitchell          850     Spain  Female   43   \n",
       "\n",
       "   Tenure    Balance  NumOfProducts  HasCrCard  IsActiveMember  \\\n",
       "0     2.0       0.00              1          1               1   \n",
       "1     1.0   83807.86              1          0               1   \n",
       "2     8.0  159660.80              3          1               0   \n",
       "3     1.0       0.00              2          0               0   \n",
       "4     2.0  125510.82              1          1               1   \n",
       "\n",
       "   EstimatedSalary  Exited  \n",
       "0        101348.88       1  \n",
       "1        112542.58       0  \n",
       "2        113931.57       1  \n",
       "3         93826.63       0  \n",
       "4         79084.10       0  "
      ]
     },
     "execution_count": 2,
     "metadata": {},
     "output_type": "execute_result"
    }
   ],
   "source": [
    "#загрузка файла с данными и просмотр пяти первых строк таблицы\n",
    "data = pd.read_csv('/datasets/Churn.csv')\n",
    "data.head()"
   ]
  },
  {
   "cell_type": "code",
   "execution_count": 3,
   "metadata": {},
   "outputs": [
    {
     "name": "stdout",
     "output_type": "stream",
     "text": [
      "<class 'pandas.core.frame.DataFrame'>\n",
      "RangeIndex: 10000 entries, 0 to 9999\n",
      "Data columns (total 14 columns):\n",
      "RowNumber          10000 non-null int64\n",
      "CustomerId         10000 non-null int64\n",
      "Surname            10000 non-null object\n",
      "CreditScore        10000 non-null int64\n",
      "Geography          10000 non-null object\n",
      "Gender             10000 non-null object\n",
      "Age                10000 non-null int64\n",
      "Tenure             9091 non-null float64\n",
      "Balance            10000 non-null float64\n",
      "NumOfProducts      10000 non-null int64\n",
      "HasCrCard          10000 non-null int64\n",
      "IsActiveMember     10000 non-null int64\n",
      "EstimatedSalary    10000 non-null float64\n",
      "Exited             10000 non-null int64\n",
      "dtypes: float64(3), int64(8), object(3)\n",
      "memory usage: 1.1+ MB\n"
     ]
    }
   ],
   "source": [
    "#просмотр информации о датасете\n",
    "data.info()"
   ]
  },
  {
   "cell_type": "markdown",
   "metadata": {},
   "source": [
    "\n",
    "Перед нами таблица с данными, содержащая 14 столбцов:\n",
    "\n",
    "* <i> RowNumber</i> - индекс строки;\n",
    "\n",
    "* <i> CustomerId</i> - уникальный идентификатор клиента;\n",
    "\n",
    "* <i> Surname</i> - фамилия клиента;\n",
    "\n",
    "* <i> CreditScore</i> - кредитный рейтинг;\n",
    "\n",
    "* <i> Geography</i> - страна проживания;\n",
    "\n",
    "* <i> Gender</i> - пол клиента;\n",
    "\n",
    "* <i> Age</i> - возраст клиента;\n",
    "\n",
    "* <i> Tenure</i> - количество недвижимости;\n",
    "\n",
    "* <i> Balance</i> - баланс на счете;\n",
    "\n",
    "* <i> NumOfProducts</i> - количество продуктов банка, используемых клиентом;\n",
    "\n",
    "* <i> HasCrCard</i> - наличие кредитной карты;\n",
    "\n",
    "* <i> IsActiveMember</i> - активность клиента;\n",
    "\n",
    "* <i> EstimatedSalary</i> - предполагаемая зарплата;\n",
    "\n",
    "* <i> Exited</i> - факт ухода клиента.\n"
   ]
  },
  {
   "cell_type": "markdown",
   "metadata": {},
   "source": [
    "\n",
    "Проведем небольшую предобработку данных. Проверим данные на наличие пропусков и дубликатов.\n"
   ]
  },
  {
   "cell_type": "code",
   "execution_count": 4,
   "metadata": {},
   "outputs": [
    {
     "data": {
      "text/plain": [
       "RowNumber            0\n",
       "CustomerId           0\n",
       "Surname              0\n",
       "CreditScore          0\n",
       "Geography            0\n",
       "Gender               0\n",
       "Age                  0\n",
       "Tenure             909\n",
       "Balance              0\n",
       "NumOfProducts        0\n",
       "HasCrCard            0\n",
       "IsActiveMember       0\n",
       "EstimatedSalary      0\n",
       "Exited               0\n",
       "dtype: int64"
      ]
     },
     "execution_count": 4,
     "metadata": {},
     "output_type": "execute_result"
    }
   ],
   "source": [
    "#проверка пропусков\n",
    "data.isna().sum()"
   ]
  },
  {
   "cell_type": "code",
   "execution_count": 5,
   "metadata": {},
   "outputs": [
    {
     "data": {
      "text/plain": [
       "0"
      ]
     },
     "execution_count": 5,
     "metadata": {},
     "output_type": "execute_result"
    }
   ],
   "source": [
    "#проверка количества дубликатов\n",
    "data.duplicated().sum()"
   ]
  },
  {
   "cell_type": "markdown",
   "metadata": {},
   "source": [
    "\n",
    "Пропуски в столбце <i>Tenure</i>, вероятно, связаны с тем, что у клиента нет недвижимости. Можем заполнить их нулями.\n"
   ]
  },
  {
   "cell_type": "code",
   "execution_count": 6,
   "metadata": {},
   "outputs": [],
   "source": [
    "#замена пропусков\n",
    "data.loc[data['Tenure'].isna(), 'Tenure'] = 0"
   ]
  },
  {
   "cell_type": "markdown",
   "metadata": {},
   "source": [
    "\n",
    "Выделим среди данных целевой признак - в данном случае это столбец <i>Exited</i>.\n",
    "\n",
    "Для решения поставленной задачи нам не нужны все эти столбцы. К примеру, нам не потребуются первые три столбца - они никак не влияют на желание клиента расторгнуть договор с банком, можем не учитывать их в обучающем наборе.\n"
   ]
  },
  {
   "cell_type": "code",
   "execution_count": 7,
   "metadata": {},
   "outputs": [],
   "source": [
    "#объявление признаков\n",
    "target = data['Exited']\n",
    "feature = data.drop(['Exited', 'RowNumber', 'CustomerId', 'Surname'], axis=1)"
   ]
  },
  {
   "cell_type": "code",
   "execution_count": 8,
   "metadata": {},
   "outputs": [
    {
     "data": {
      "text/html": [
       "<div>\n",
       "<style scoped>\n",
       "    .dataframe tbody tr th:only-of-type {\n",
       "        vertical-align: middle;\n",
       "    }\n",
       "\n",
       "    .dataframe tbody tr th {\n",
       "        vertical-align: top;\n",
       "    }\n",
       "\n",
       "    .dataframe thead th {\n",
       "        text-align: right;\n",
       "    }\n",
       "</style>\n",
       "<table border=\"1\" class=\"dataframe\">\n",
       "  <thead>\n",
       "    <tr style=\"text-align: right;\">\n",
       "      <th></th>\n",
       "      <th>CreditScore</th>\n",
       "      <th>Age</th>\n",
       "      <th>Tenure</th>\n",
       "      <th>Balance</th>\n",
       "      <th>NumOfProducts</th>\n",
       "      <th>HasCrCard</th>\n",
       "      <th>IsActiveMember</th>\n",
       "      <th>EstimatedSalary</th>\n",
       "    </tr>\n",
       "  </thead>\n",
       "  <tbody>\n",
       "    <tr>\n",
       "      <td>count</td>\n",
       "      <td>10000.000000</td>\n",
       "      <td>10000.000000</td>\n",
       "      <td>10000.000000</td>\n",
       "      <td>10000.000000</td>\n",
       "      <td>10000.000000</td>\n",
       "      <td>10000.00000</td>\n",
       "      <td>10000.000000</td>\n",
       "      <td>10000.000000</td>\n",
       "    </tr>\n",
       "    <tr>\n",
       "      <td>mean</td>\n",
       "      <td>650.528800</td>\n",
       "      <td>38.921800</td>\n",
       "      <td>4.543400</td>\n",
       "      <td>76485.889288</td>\n",
       "      <td>1.530200</td>\n",
       "      <td>0.70550</td>\n",
       "      <td>0.515100</td>\n",
       "      <td>100090.239881</td>\n",
       "    </tr>\n",
       "    <tr>\n",
       "      <td>std</td>\n",
       "      <td>96.653299</td>\n",
       "      <td>10.487806</td>\n",
       "      <td>3.111573</td>\n",
       "      <td>62397.405202</td>\n",
       "      <td>0.581654</td>\n",
       "      <td>0.45584</td>\n",
       "      <td>0.499797</td>\n",
       "      <td>57510.492818</td>\n",
       "    </tr>\n",
       "    <tr>\n",
       "      <td>min</td>\n",
       "      <td>350.000000</td>\n",
       "      <td>18.000000</td>\n",
       "      <td>0.000000</td>\n",
       "      <td>0.000000</td>\n",
       "      <td>1.000000</td>\n",
       "      <td>0.00000</td>\n",
       "      <td>0.000000</td>\n",
       "      <td>11.580000</td>\n",
       "    </tr>\n",
       "    <tr>\n",
       "      <td>25%</td>\n",
       "      <td>584.000000</td>\n",
       "      <td>32.000000</td>\n",
       "      <td>2.000000</td>\n",
       "      <td>0.000000</td>\n",
       "      <td>1.000000</td>\n",
       "      <td>0.00000</td>\n",
       "      <td>0.000000</td>\n",
       "      <td>51002.110000</td>\n",
       "    </tr>\n",
       "    <tr>\n",
       "      <td>50%</td>\n",
       "      <td>652.000000</td>\n",
       "      <td>37.000000</td>\n",
       "      <td>4.000000</td>\n",
       "      <td>97198.540000</td>\n",
       "      <td>1.000000</td>\n",
       "      <td>1.00000</td>\n",
       "      <td>1.000000</td>\n",
       "      <td>100193.915000</td>\n",
       "    </tr>\n",
       "    <tr>\n",
       "      <td>75%</td>\n",
       "      <td>718.000000</td>\n",
       "      <td>44.000000</td>\n",
       "      <td>7.000000</td>\n",
       "      <td>127644.240000</td>\n",
       "      <td>2.000000</td>\n",
       "      <td>1.00000</td>\n",
       "      <td>1.000000</td>\n",
       "      <td>149388.247500</td>\n",
       "    </tr>\n",
       "    <tr>\n",
       "      <td>max</td>\n",
       "      <td>850.000000</td>\n",
       "      <td>92.000000</td>\n",
       "      <td>10.000000</td>\n",
       "      <td>250898.090000</td>\n",
       "      <td>4.000000</td>\n",
       "      <td>1.00000</td>\n",
       "      <td>1.000000</td>\n",
       "      <td>199992.480000</td>\n",
       "    </tr>\n",
       "  </tbody>\n",
       "</table>\n",
       "</div>"
      ],
      "text/plain": [
       "        CreditScore           Age        Tenure        Balance  NumOfProducts  \\\n",
       "count  10000.000000  10000.000000  10000.000000   10000.000000   10000.000000   \n",
       "mean     650.528800     38.921800      4.543400   76485.889288       1.530200   \n",
       "std       96.653299     10.487806      3.111573   62397.405202       0.581654   \n",
       "min      350.000000     18.000000      0.000000       0.000000       1.000000   \n",
       "25%      584.000000     32.000000      2.000000       0.000000       1.000000   \n",
       "50%      652.000000     37.000000      4.000000   97198.540000       1.000000   \n",
       "75%      718.000000     44.000000      7.000000  127644.240000       2.000000   \n",
       "max      850.000000     92.000000     10.000000  250898.090000       4.000000   \n",
       "\n",
       "         HasCrCard  IsActiveMember  EstimatedSalary  \n",
       "count  10000.00000    10000.000000     10000.000000  \n",
       "mean       0.70550        0.515100    100090.239881  \n",
       "std        0.45584        0.499797     57510.492818  \n",
       "min        0.00000        0.000000        11.580000  \n",
       "25%        0.00000        0.000000     51002.110000  \n",
       "50%        1.00000        1.000000    100193.915000  \n",
       "75%        1.00000        1.000000    149388.247500  \n",
       "max        1.00000        1.000000    199992.480000  "
      ]
     },
     "execution_count": 8,
     "metadata": {},
     "output_type": "execute_result"
    }
   ],
   "source": [
    "feature.describe()"
   ]
  },
  {
   "cell_type": "code",
   "execution_count": 9,
   "metadata": {},
   "outputs": [
    {
     "data": {
      "text/plain": [
       "array(['Female', 'Male'], dtype=object)"
      ]
     },
     "execution_count": 9,
     "metadata": {},
     "output_type": "execute_result"
    }
   ],
   "source": [
    "feature['Gender'].unique()"
   ]
  },
  {
   "cell_type": "code",
   "execution_count": 10,
   "metadata": {},
   "outputs": [
    {
     "data": {
      "text/plain": [
       "array(['France', 'Spain', 'Germany'], dtype=object)"
      ]
     },
     "execution_count": 10,
     "metadata": {},
     "output_type": "execute_result"
    }
   ],
   "source": [
    "feature['Geography'].unique()"
   ]
  },
  {
   "cell_type": "markdown",
   "metadata": {},
   "source": [
    "\n",
    "Значения признаков выглядят правдоподобно - нет таких артефактов, как отрицательные значения или возраста клиента, меньше 18 лет. Столбец с полом клиента принимает только два значения: мужской и женский.\n"
   ]
  },
  {
   "cell_type": "markdown",
   "metadata": {},
   "source": [
    "### Вывод"
   ]
  },
  {
   "cell_type": "markdown",
   "metadata": {},
   "source": [
    "\n",
    "Итак, на данном шаге мы загрузили исходные данные и провели их предобработку. Для решения задачи прогноза оттока клиентов мы выделили целевой признак - столбец <i>Exited</i> - факт ухода клиента - и обучающий набор признаков, такие как количество недвижимости у клиента, баланс на счете и прочие. Перед нами задача классификации, т.е. тип целевого признака категориальный: он принимает только значения 0 или 1 (клиент ушел). В обучающем наборе есть как категориальные признаки: пол, страна проживания, так и численные: баланс на счете, зарплата.\n"
   ]
  },
  {
   "cell_type": "markdown",
   "metadata": {},
   "source": [
    "[К оглавлению](#intro)"
   ]
  },
  {
   "cell_type": "markdown",
   "metadata": {},
   "source": [
    "<a id='chapter4'></a>\n",
    "\n",
    "# 2. Исследование задачи"
   ]
  },
  {
   "cell_type": "markdown",
   "metadata": {},
   "source": [
    "\n",
    "Сейчас нам нужно подготовить данные перед обучением модели. Обучить модель на тех данных, что у нас есть, не получится: признаки могут быть только численные, а наши данные содержат и категориальные признаки. Преобразуем их в численные техникой прямого кодирования.\n"
   ]
  },
  {
   "cell_type": "code",
   "execution_count": 11,
   "metadata": {},
   "outputs": [
    {
     "data": {
      "text/html": [
       "<div>\n",
       "<style scoped>\n",
       "    .dataframe tbody tr th:only-of-type {\n",
       "        vertical-align: middle;\n",
       "    }\n",
       "\n",
       "    .dataframe tbody tr th {\n",
       "        vertical-align: top;\n",
       "    }\n",
       "\n",
       "    .dataframe thead th {\n",
       "        text-align: right;\n",
       "    }\n",
       "</style>\n",
       "<table border=\"1\" class=\"dataframe\">\n",
       "  <thead>\n",
       "    <tr style=\"text-align: right;\">\n",
       "      <th></th>\n",
       "      <th>CreditScore</th>\n",
       "      <th>Age</th>\n",
       "      <th>Tenure</th>\n",
       "      <th>Balance</th>\n",
       "      <th>NumOfProducts</th>\n",
       "      <th>HasCrCard</th>\n",
       "      <th>IsActiveMember</th>\n",
       "      <th>EstimatedSalary</th>\n",
       "      <th>Gender_Male</th>\n",
       "      <th>Geography_Germany</th>\n",
       "      <th>Geography_Spain</th>\n",
       "    </tr>\n",
       "  </thead>\n",
       "  <tbody>\n",
       "    <tr>\n",
       "      <td>0</td>\n",
       "      <td>619</td>\n",
       "      <td>42</td>\n",
       "      <td>2.0</td>\n",
       "      <td>0.00</td>\n",
       "      <td>1</td>\n",
       "      <td>1</td>\n",
       "      <td>1</td>\n",
       "      <td>101348.88</td>\n",
       "      <td>0</td>\n",
       "      <td>0</td>\n",
       "      <td>0</td>\n",
       "    </tr>\n",
       "    <tr>\n",
       "      <td>1</td>\n",
       "      <td>608</td>\n",
       "      <td>41</td>\n",
       "      <td>1.0</td>\n",
       "      <td>83807.86</td>\n",
       "      <td>1</td>\n",
       "      <td>0</td>\n",
       "      <td>1</td>\n",
       "      <td>112542.58</td>\n",
       "      <td>0</td>\n",
       "      <td>0</td>\n",
       "      <td>1</td>\n",
       "    </tr>\n",
       "    <tr>\n",
       "      <td>2</td>\n",
       "      <td>502</td>\n",
       "      <td>42</td>\n",
       "      <td>8.0</td>\n",
       "      <td>159660.80</td>\n",
       "      <td>3</td>\n",
       "      <td>1</td>\n",
       "      <td>0</td>\n",
       "      <td>113931.57</td>\n",
       "      <td>0</td>\n",
       "      <td>0</td>\n",
       "      <td>0</td>\n",
       "    </tr>\n",
       "    <tr>\n",
       "      <td>3</td>\n",
       "      <td>699</td>\n",
       "      <td>39</td>\n",
       "      <td>1.0</td>\n",
       "      <td>0.00</td>\n",
       "      <td>2</td>\n",
       "      <td>0</td>\n",
       "      <td>0</td>\n",
       "      <td>93826.63</td>\n",
       "      <td>0</td>\n",
       "      <td>0</td>\n",
       "      <td>0</td>\n",
       "    </tr>\n",
       "    <tr>\n",
       "      <td>4</td>\n",
       "      <td>850</td>\n",
       "      <td>43</td>\n",
       "      <td>2.0</td>\n",
       "      <td>125510.82</td>\n",
       "      <td>1</td>\n",
       "      <td>1</td>\n",
       "      <td>1</td>\n",
       "      <td>79084.10</td>\n",
       "      <td>0</td>\n",
       "      <td>0</td>\n",
       "      <td>1</td>\n",
       "    </tr>\n",
       "  </tbody>\n",
       "</table>\n",
       "</div>"
      ],
      "text/plain": [
       "   CreditScore  Age  Tenure    Balance  NumOfProducts  HasCrCard  \\\n",
       "0          619   42     2.0       0.00              1          1   \n",
       "1          608   41     1.0   83807.86              1          0   \n",
       "2          502   42     8.0  159660.80              3          1   \n",
       "3          699   39     1.0       0.00              2          0   \n",
       "4          850   43     2.0  125510.82              1          1   \n",
       "\n",
       "   IsActiveMember  EstimatedSalary  Gender_Male  Geography_Germany  \\\n",
       "0               1        101348.88            0                  0   \n",
       "1               1        112542.58            0                  0   \n",
       "2               0        113931.57            0                  0   \n",
       "3               0         93826.63            0                  0   \n",
       "4               1         79084.10            0                  0   \n",
       "\n",
       "   Geography_Spain  \n",
       "0                0  \n",
       "1                1  \n",
       "2                0  \n",
       "3                0  \n",
       "4                1  "
      ]
     },
     "execution_count": 11,
     "metadata": {},
     "output_type": "execute_result"
    }
   ],
   "source": [
    "feature = pd.get_dummies(feature, columns=['Gender', 'Geography'], drop_first=True)\n",
    "feature.head()"
   ]
  },
  {
   "cell_type": "markdown",
   "metadata": {},
   "source": [
    "\n",
    "Теперь у нас появился новый столбец, вместо <i>Gender</i> - <i>Gender_Male</i>, который принимает значение 0 (клиент женского пола) или 1 (клиент мужского пола). А также два столбца со страной проживания - Германия или Испания. Если значения в них равны 0, то страна проживания - Франция.\n"
   ]
  },
  {
   "cell_type": "markdown",
   "metadata": {},
   "source": [
    "\n",
    "Тестовой выборки для предсказывания значений у нас нет. Поэтому необходимо общий набор данных разделить на три части: обучающую выборку, валидационную и тестовую в соотношении 3:1:1.\n",
    "\n",
    "На обучающей выборке мы обучим модель, на валидационной - проверочной - подберем параметры.\n"
   ]
  },
  {
   "cell_type": "code",
   "execution_count": 12,
   "metadata": {},
   "outputs": [
    {
     "name": "stdout",
     "output_type": "stream",
     "text": [
      "Количество объектов в обучающей выборке: 6000\n",
      "Количество объектов в валидационной выборке: 2000\n",
      "Количество объектов в тестовой выборке: 2000\n"
     ]
    }
   ],
   "source": [
    "#выделим тестовую выборку\n",
    "data_features, features_test, data_target, target_test = (\n",
    "train_test_split(feature, target, test_size=0.2, random_state=0)\n",
    ")\n",
    "#выделим обучающую и валидационную выборку\n",
    "features_train, features_valid, target_train, target_valid = (\n",
    "train_test_split(data_features, data_target, test_size=0.25, random_state=0)\n",
    ")\n",
    "print('Количество объектов в обучающей выборке:', len(features_train))\n",
    "print('Количество объектов в валидационной выборке:', len(features_valid))\n",
    "print('Количество объектов в тестовой выборке:', len(features_test))"
   ]
  },
  {
   "cell_type": "code",
   "execution_count": 13,
   "metadata": {},
   "outputs": [
    {
     "name": "stdout",
     "output_type": "stream",
     "text": [
      "Значений класса \"1\" в обучающей выборке: 20.2%\n",
      "Значений класса \"1\" в валидационной выборке: 20.8%\n",
      "Значений класса \"1\" в тестовой выборке: 20.2%\n"
     ]
    }
   ],
   "source": [
    "print('Значений класса \"1\" в обучающей выборке: {:.1%}'.format(target_train.sum()/len(target_train)))\n",
    "print('Значений класса \"1\" в валидационной выборке: {:.1%}'.format(target_valid.sum()/len(target_valid)))\n",
    "print('Значений класса \"1\" в тестовой выборке: {:.1%}'.format(target_test.sum()/len(target_test)))"
   ]
  },
  {
   "cell_type": "markdown",
   "metadata": {},
   "source": [
    "\n",
    "В значениях целевого признака наблюдается сильный дисбаланс классов - значений класса \"1\" в четыре раза меньше, чем значений класса \"0\". В данном разделе попробуем обучить модель без учета дисбаланса.\n"
   ]
  },
  {
   "cell_type": "markdown",
   "metadata": {},
   "source": [
    "\n",
    "Теперь, после разделения набора данных на три выборки, нам необходимо масштабировать признаки. Если в одном столбце значения и их разбросы больше, чем в другом, то алгоритм решит, что этот признак важнее, а это не так: все признаки важны.\n"
   ]
  },
  {
   "cell_type": "code",
   "execution_count": 14,
   "metadata": {},
   "outputs": [
    {
     "data": {
      "text/html": [
       "<div>\n",
       "<style scoped>\n",
       "    .dataframe tbody tr th:only-of-type {\n",
       "        vertical-align: middle;\n",
       "    }\n",
       "\n",
       "    .dataframe tbody tr th {\n",
       "        vertical-align: top;\n",
       "    }\n",
       "\n",
       "    .dataframe thead th {\n",
       "        text-align: right;\n",
       "    }\n",
       "</style>\n",
       "<table border=\"1\" class=\"dataframe\">\n",
       "  <thead>\n",
       "    <tr style=\"text-align: right;\">\n",
       "      <th></th>\n",
       "      <th>CreditScore</th>\n",
       "      <th>Age</th>\n",
       "      <th>Tenure</th>\n",
       "      <th>Balance</th>\n",
       "      <th>NumOfProducts</th>\n",
       "      <th>HasCrCard</th>\n",
       "      <th>IsActiveMember</th>\n",
       "      <th>EstimatedSalary</th>\n",
       "      <th>Gender_Male</th>\n",
       "      <th>Geography_Germany</th>\n",
       "      <th>Geography_Spain</th>\n",
       "    </tr>\n",
       "  </thead>\n",
       "  <tbody>\n",
       "    <tr>\n",
       "      <td>8997</td>\n",
       "      <td>0.614238</td>\n",
       "      <td>-0.568058</td>\n",
       "      <td>-1.442526</td>\n",
       "      <td>0.00</td>\n",
       "      <td>0.803737</td>\n",
       "      <td>1</td>\n",
       "      <td>0</td>\n",
       "      <td>-0.470238</td>\n",
       "      <td>0</td>\n",
       "      <td>0</td>\n",
       "      <td>0</td>\n",
       "    </tr>\n",
       "    <tr>\n",
       "      <td>2295</td>\n",
       "      <td>0.500880</td>\n",
       "      <td>0.100058</td>\n",
       "      <td>0.813771</td>\n",
       "      <td>0.00</td>\n",
       "      <td>-0.930947</td>\n",
       "      <td>0</td>\n",
       "      <td>1</td>\n",
       "      <td>0.917127</td>\n",
       "      <td>1</td>\n",
       "      <td>0</td>\n",
       "      <td>0</td>\n",
       "    </tr>\n",
       "    <tr>\n",
       "      <td>6793</td>\n",
       "      <td>-0.282322</td>\n",
       "      <td>1.054511</td>\n",
       "      <td>0.813771</td>\n",
       "      <td>126608.37</td>\n",
       "      <td>-0.930947</td>\n",
       "      <td>0</td>\n",
       "      <td>1</td>\n",
       "      <td>-1.725150</td>\n",
       "      <td>1</td>\n",
       "      <td>1</td>\n",
       "      <td>0</td>\n",
       "    </tr>\n",
       "    <tr>\n",
       "      <td>2071</td>\n",
       "      <td>0.366911</td>\n",
       "      <td>-0.281722</td>\n",
       "      <td>0.169115</td>\n",
       "      <td>0.00</td>\n",
       "      <td>0.803737</td>\n",
       "      <td>1</td>\n",
       "      <td>1</td>\n",
       "      <td>0.918915</td>\n",
       "      <td>0</td>\n",
       "      <td>0</td>\n",
       "      <td>1</td>\n",
       "    </tr>\n",
       "    <tr>\n",
       "      <td>6344</td>\n",
       "      <td>2.056978</td>\n",
       "      <td>0.195504</td>\n",
       "      <td>-0.475542</td>\n",
       "      <td>0.00</td>\n",
       "      <td>0.803737</td>\n",
       "      <td>1</td>\n",
       "      <td>0</td>\n",
       "      <td>0.500839</td>\n",
       "      <td>1</td>\n",
       "      <td>0</td>\n",
       "      <td>0</td>\n",
       "    </tr>\n",
       "  </tbody>\n",
       "</table>\n",
       "</div>"
      ],
      "text/plain": [
       "      CreditScore       Age    Tenure    Balance  NumOfProducts  HasCrCard  \\\n",
       "8997     0.614238 -0.568058 -1.442526       0.00       0.803737          1   \n",
       "2295     0.500880  0.100058  0.813771       0.00      -0.930947          0   \n",
       "6793    -0.282322  1.054511  0.813771  126608.37      -0.930947          0   \n",
       "2071     0.366911 -0.281722  0.169115       0.00       0.803737          1   \n",
       "6344     2.056978  0.195504 -0.475542       0.00       0.803737          1   \n",
       "\n",
       "      IsActiveMember  EstimatedSalary  Gender_Male  Geography_Germany  \\\n",
       "8997               0        -0.470238            0                  0   \n",
       "2295               1         0.917127            1                  0   \n",
       "6793               1        -1.725150            1                  1   \n",
       "2071               1         0.918915            0                  0   \n",
       "6344               0         0.500839            1                  0   \n",
       "\n",
       "      Geography_Spain  \n",
       "8997                0  \n",
       "2295                0  \n",
       "6793                0  \n",
       "2071                1  \n",
       "6344                0  "
      ]
     },
     "execution_count": 14,
     "metadata": {},
     "output_type": "execute_result"
    }
   ],
   "source": [
    "#численные признаки\n",
    "numeric = ['CreditScore', 'Age', 'Tenure', 'NumOfProducts', 'EstimatedSalary']\n",
    "#масштабирование\n",
    "scaler = StandardScaler()\n",
    "scaler.fit(features_train[numeric])\n",
    "features_train[numeric] = scaler.transform(features_train[numeric])\n",
    "features_valid[numeric] = scaler.transform(features_valid[numeric])\n",
    "features_test[numeric] = scaler.transform(features_test[numeric])\n",
    "features_train.head()"
   ]
  },
  {
   "cell_type": "markdown",
   "metadata": {},
   "source": [
    "\n",
    "В данный момент нам известны три алгоритма классификации:\n",
    "\n",
    "* дерево решений\n",
    "\n",
    "* случайный лес\n",
    "\n",
    "* логистическая регрессия\n"
   ]
  },
  {
   "cell_type": "markdown",
   "metadata": {},
   "source": [
    "\n",
    "Построим модель с предельно большим значением F1-меры.\n"
   ]
  },
  {
   "cell_type": "markdown",
   "metadata": {},
   "source": [
    "### Дерево решений"
   ]
  },
  {
   "cell_type": "markdown",
   "metadata": {},
   "source": [
    "\n",
    "Построим модель с помощью дерева решений и подберем глубину дерева с наилучшим значением F1-меры.\n"
   ]
  },
  {
   "cell_type": "code",
   "execution_count": 15,
   "metadata": {},
   "outputs": [],
   "source": [
    "#функция построения модели дерева решений\n",
    "def Tree(features_train, target_train, features_valid, target_valid):\n",
    "    #зададим переменные, в которые сохраним наилучшие результаты\n",
    "    best_depth_tree = 0\n",
    "    best_result_tree = 0\n",
    "    #создадим пустой датафрейм, с помощью которого потом построим график\n",
    "    model_tree = pd.DataFrame(columns=['depth', 'result'])\n",
    "    #в цикле перебираем значения глубины дерева\n",
    "    for depth in range(1, 11):\n",
    "        #задаем модель с текущей глубиной\n",
    "        model = DecisionTreeClassifier(random_state=0, max_depth=depth)\n",
    "        #обучаем модель на обучающей выборке\n",
    "        model.fit(features_train, target_train)\n",
    "        #предсказываем результаты на валидационной выборке\n",
    "        predictions = model.predict(features_valid)\n",
    "        #рассчитываем значение F1\n",
    "        result = f1_score(target_valid, predictions)\n",
    "        model_tree.loc[depth-1, 'depth'] = depth\n",
    "        model_tree.loc[depth-1, 'result'] = result\n",
    "        #выбираем наилучший результат\n",
    "        if result > best_result_tree:\n",
    "            best_result_tree = result\n",
    "            best_depth_tree = depth\n",
    "    return best_depth_tree, best_result_tree, model_tree"
   ]
  },
  {
   "cell_type": "code",
   "execution_count": 16,
   "metadata": {},
   "outputs": [
    {
     "name": "stdout",
     "output_type": "stream",
     "text": [
      "Наилучшая F1-мера: 0.5915915915915916 с глубиной 5\n"
     ]
    }
   ],
   "source": [
    "best_depth_tree, best_result_tree, model_tree = Tree(features_train, target_train, features_valid, target_valid)\n",
    "print('Наилучшая F1-мера:', best_result_tree, 'с глубиной', best_depth_tree)"
   ]
  },
  {
   "cell_type": "code",
   "execution_count": 17,
   "metadata": {},
   "outputs": [
    {
     "data": {
      "image/png": "[encoded data removed]",
      "text/plain": [
       "<Figure size 432x288 with 1 Axes>"
      ]
     },
     "metadata": {
      "needs_background": "light"
     },
     "output_type": "display_data"
    }
   ],
   "source": [
    "#построим график зависимости F1-меры от глубины дерева\n",
    "model_tree.plot(x='depth', y='result', grid=True)\n",
    "plt.title('Зависимость F1 от глубины')\n",
    "plt.xlabel('Глубина дерева')\n",
    "plt.ylabel('F1-мера')\n",
    "plt.show()"
   ]
  },
  {
   "cell_type": "code",
   "execution_count": 18,
   "metadata": {},
   "outputs": [
    {
     "data": {
      "image/png": "[encoded data removed]",
      "text/plain": [
       "<Figure size 432x288 with 1 Axes>"
      ]
     },
     "metadata": {
      "needs_background": "light"
     },
     "output_type": "display_data"
    },
    {
     "name": "stdout",
     "output_type": "stream",
     "text": [
      "AUC-ROC: 0.8463266026471307\n"
     ]
    }
   ],
   "source": [
    "model = DecisionTreeClassifier(random_state=0, max_depth=best_depth_tree)\n",
    "model.fit(features_train, target_train)\n",
    "probabilities = model.predict_proba(features_valid)\n",
    "proba_one_valid = probabilities[:, 1]\n",
    "fpr, tpr, thresholds = roc_curve(target_valid, proba_one_valid)\n",
    "plt.figure()\n",
    "plt.step(fpr, tpr, where='post')\n",
    "plt.plot([0, 1], [0, 1], linestyle='--')\n",
    "plt.ylim([0, 1])\n",
    "plt.xlim([0, 1])\n",
    "plt.xlabel('Доля ложноположительных ответов')\n",
    "plt.ylabel('Доля истинно положительных ответов')\n",
    "plt.title('Кривая ошибок')\n",
    "plt.show()\n",
    "auc_roc_tree = roc_auc_score(target_valid, proba_one_valid)\n",
    "print('AUC-ROC:', auc_roc_tree)"
   ]
  },
  {
   "cell_type": "markdown",
   "metadata": {},
   "source": [
    "\n",
    "Значение площади под кривой ошибок довольно высокое - 0.85.\n"
   ]
  },
  {
   "cell_type": "markdown",
   "metadata": {},
   "source": [
    "### Случайный лес"
   ]
  },
  {
   "cell_type": "markdown",
   "metadata": {},
   "source": [
    "\n",
    "Построим модель с помощью алгоритма \"случайный лес\". При этом варьировать будем два гиперпараметра - глубину дерева и количество деревьев.\n"
   ]
  },
  {
   "cell_type": "code",
   "execution_count": 19,
   "metadata": {},
   "outputs": [],
   "source": [
    "#функция построения модели случайного леса\n",
    "def Forest(features_train, target_train, features_valid, target_valid):\n",
    "    #зададим переменные, в которые сохраним наилучшие результаты\n",
    "    best_est_forest = 0\n",
    "    best_depth_forest = 0\n",
    "    best_result_forest = 0\n",
    "    #в цикле перебираем значения глубины дерева и количества деревьев\n",
    "    for est in range(10, 51, 5):\n",
    "        for depth in range(1, 11):\n",
    "            #задаем модель с текущей глубиной\n",
    "            model = RandomForestClassifier(random_state=0, n_estimators=est, max_depth=depth)\n",
    "            #обучаем модель на обучающей выборке\n",
    "            model.fit(features_train, target_train)\n",
    "            #предсказываем результаты на валидационной выборке\n",
    "            predictions = model.predict(features_valid)\n",
    "            #рассчитываем значение F1\n",
    "            result = f1_score(target_valid, predictions)\n",
    "            #выбираем наилучший результат\n",
    "            if result > best_result_forest:\n",
    "                best_result_forest = result\n",
    "                best_depth_forest = depth\n",
    "                best_est_forest = est\n",
    "    return best_depth_tree, best_result_tree, best_est_forest"
   ]
  },
  {
   "cell_type": "code",
   "execution_count": 20,
   "metadata": {},
   "outputs": [
    {
     "name": "stdout",
     "output_type": "stream",
     "text": [
      "Наилучшая F1-мера: 0.5915915915915916 с глубиной 5 и количеством деревьев 10\n"
     ]
    }
   ],
   "source": [
    "best_depth_forest, best_result_forest, best_est_forest = Forest(features_train, target_train, features_valid, target_valid)\n",
    "print('Наилучшая F1-мера:', best_result_forest, 'с глубиной', best_depth_forest, 'и количеством деревьев', best_est_forest)"
   ]
  },
  {
   "cell_type": "code",
   "execution_count": 21,
   "metadata": {},
   "outputs": [
    {
     "data": {
      "image/png": "[encoded data removed]",
      "text/plain": [
       "<Figure size 432x288 with 1 Axes>"
      ]
     },
     "metadata": {
      "needs_background": "light"
     },
     "output_type": "display_data"
    },
    {
     "name": "stdout",
     "output_type": "stream",
     "text": [
      "AUC-ROC: 0.8548797096245934\n"
     ]
    }
   ],
   "source": [
    "model = RandomForestClassifier(random_state=0, max_depth=best_depth_forest, n_estimators=best_est_forest)\n",
    "model.fit(features_train, target_train)\n",
    "probabilities = model.predict_proba(features_valid)\n",
    "proba_one_valid = probabilities[:, 1]\n",
    "fpr, tpr, thresholds = roc_curve(target_valid, proba_one_valid)\n",
    "plt.figure()\n",
    "plt.step(fpr, tpr, where='post')\n",
    "plt.plot([0, 1], [0, 1], linestyle='--')\n",
    "plt.ylim([0, 1])\n",
    "plt.xlim([0, 1])\n",
    "plt.xlabel('Доля ложноположительных ответов')\n",
    "plt.ylabel('Доля истинно положительных ответов')\n",
    "plt.title('Кривая ошибок')\n",
    "plt.show()\n",
    "auc_roc_forest = roc_auc_score(target_valid, proba_one_valid)\n",
    "print('AUC-ROC:', auc_roc_forest)"
   ]
  },
  {
   "cell_type": "markdown",
   "metadata": {},
   "source": [
    "### Логистическая регрессия"
   ]
  },
  {
   "cell_type": "markdown",
   "metadata": {},
   "source": [
    "\n",
    "Построим еще одну модель с помощью алгоритма логистической регрессии.\n"
   ]
  },
  {
   "cell_type": "code",
   "execution_count": 22,
   "metadata": {},
   "outputs": [
    {
     "name": "stdout",
     "output_type": "stream",
     "text": [
      "Наилучшая F1-мера: 0.0047619047619047615\n"
     ]
    }
   ],
   "source": [
    "#создаем модель логистической регрессии\n",
    "model = LogisticRegression(random_state=0, solver='liblinear')\n",
    "#обучаем модель\n",
    "model.fit(features_train, target_train)\n",
    "#предсказываем результаты на валидационной выборке\n",
    "predictions = model.predict(features_valid)\n",
    "#рассчитываем F1-меру\n",
    "result_logistic = f1_score(target_valid, predictions)\n",
    "print('Наилучшая F1-мера:', result_logistic)"
   ]
  },
  {
   "cell_type": "code",
   "execution_count": 23,
   "metadata": {},
   "outputs": [
    {
     "data": {
      "image/png": "[encoded data removed]",
      "text/plain": [
       "<Figure size 432x288 with 1 Axes>"
      ]
     },
     "metadata": {
      "needs_background": "light"
     },
     "output_type": "display_data"
    },
    {
     "name": "stdout",
     "output_type": "stream",
     "text": [
      "AUC-ROC: 0.4296716764301761\n"
     ]
    }
   ],
   "source": [
    "probabilities = model.predict_proba(features_valid)\n",
    "proba_one_valid = probabilities[:, 1]\n",
    "fpr, tpr, thresholds = roc_curve(target_valid, proba_one_valid)\n",
    "plt.figure()\n",
    "plt.step(fpr, tpr, where='post')\n",
    "plt.plot([0, 1], [0, 1], linestyle='--')\n",
    "plt.ylim([0, 1])\n",
    "plt.xlim([0, 1])\n",
    "plt.xlabel('Доля ложноположительных ответов')\n",
    "plt.ylabel('Доля истинно положительных ответов')\n",
    "plt.title('Кривая ошибок')\n",
    "plt.show()\n",
    "auc_roc_log = roc_auc_score(target_valid, proba_one_valid)\n",
    "print('AUC-ROC:', auc_roc_log)"
   ]
  },
  {
   "cell_type": "code",
   "execution_count": 24,
   "metadata": {},
   "outputs": [],
   "source": [
    "#создаем результирующую таблицу\n",
    "final = pd.DataFrame(index=['Дерево решений', 'Случайный лес', 'Логистическая регрессия'], columns=['F1', 'AUC-ROC'])\n",
    "final.loc['Дерево решений', 'F1'] = best_result_tree\n",
    "final.loc['Дерево решений', 'AUC-ROC'] = auc_roc_tree\n",
    "final.loc['Случайный лес', 'F1'] = best_result_forest\n",
    "final.loc['Случайный лес', 'AUC-ROC'] = auc_roc_forest\n",
    "final.loc['Логистическая регрессия', 'F1'] = result_logistic\n",
    "final.loc['Логистическая регрессия', 'AUC-ROC'] = auc_roc_log"
   ]
  },
  {
   "cell_type": "markdown",
   "metadata": {},
   "source": [
    "### Вывод"
   ]
  },
  {
   "cell_type": "markdown",
   "metadata": {},
   "source": [
    "\n",
    "Подведем итог по проведенному анализу моделей.\n"
   ]
  },
  {
   "cell_type": "code",
   "execution_count": 25,
   "metadata": {},
   "outputs": [
    {
     "data": {
      "text/html": [
       "<style  type=\"text/css\" >\n",
       "    #T_fc9b6f54_49ae_11eb_ab27_02420a3981c6row0_col0 {\n",
       "            background-color:  yellowgreen;\n",
       "        }    #T_fc9b6f54_49ae_11eb_ab27_02420a3981c6row1_col0 {\n",
       "            background-color:  yellowgreen;\n",
       "        }    #T_fc9b6f54_49ae_11eb_ab27_02420a3981c6row1_col1 {\n",
       "            background-color:  yellowgreen;\n",
       "        }</style><table id=\"T_fc9b6f54_49ae_11eb_ab27_02420a3981c6\" ><thead>    <tr>        <th class=\"blank level0\" ></th>        <th class=\"col_heading level0 col0\" >F1</th>        <th class=\"col_heading level0 col1\" >AUC-ROC</th>    </tr></thead><tbody>\n",
       "                <tr>\n",
       "                        <th id=\"T_fc9b6f54_49ae_11eb_ab27_02420a3981c6level0_row0\" class=\"row_heading level0 row0\" >Дерево решений</th>\n",
       "                        <td id=\"T_fc9b6f54_49ae_11eb_ab27_02420a3981c6row0_col0\" class=\"data row0 col0\" >0.591592</td>\n",
       "                        <td id=\"T_fc9b6f54_49ae_11eb_ab27_02420a3981c6row0_col1\" class=\"data row0 col1\" >0.846327</td>\n",
       "            </tr>\n",
       "            <tr>\n",
       "                        <th id=\"T_fc9b6f54_49ae_11eb_ab27_02420a3981c6level0_row1\" class=\"row_heading level0 row1\" >Случайный лес</th>\n",
       "                        <td id=\"T_fc9b6f54_49ae_11eb_ab27_02420a3981c6row1_col0\" class=\"data row1 col0\" >0.591592</td>\n",
       "                        <td id=\"T_fc9b6f54_49ae_11eb_ab27_02420a3981c6row1_col1\" class=\"data row1 col1\" >0.85488</td>\n",
       "            </tr>\n",
       "            <tr>\n",
       "                        <th id=\"T_fc9b6f54_49ae_11eb_ab27_02420a3981c6level0_row2\" class=\"row_heading level0 row2\" >Логистическая регрессия</th>\n",
       "                        <td id=\"T_fc9b6f54_49ae_11eb_ab27_02420a3981c6row2_col0\" class=\"data row2 col0\" >0.0047619</td>\n",
       "                        <td id=\"T_fc9b6f54_49ae_11eb_ab27_02420a3981c6row2_col1\" class=\"data row2 col1\" >0.429672</td>\n",
       "            </tr>\n",
       "    </tbody></table>"
      ],
      "text/plain": [
       "<pandas.io.formats.style.Styler at 0x7fc6207f5d50>"
      ]
     },
     "execution_count": 25,
     "metadata": {},
     "output_type": "execute_result"
    }
   ],
   "source": [
    "final.head().style.highlight_max(color='yellowgreen', subset=['F1', 'AUC-ROC'])"
   ]
  },
  {
   "cell_type": "markdown",
   "metadata": {},
   "source": [
    "\n",
    "Дерево решений и случайный лес показывают одинаковую F1-меру, но значение AUC-ROC у алгоритма случайного леса выше.\n"
   ]
  },
  {
   "cell_type": "markdown",
   "metadata": {},
   "source": [
    "[К оглавлению](#intro)"
   ]
  },
  {
   "cell_type": "markdown",
   "metadata": {},
   "source": [
    "<a id='chapter5'></a>\n",
    "\n",
    "# 3. Борьба с дисбалансом"
   ]
  },
  {
   "cell_type": "markdown",
   "metadata": {},
   "source": [
    "\n",
    "В этой части мы попробуем улучшить качество моделей, учитывая дисбаланс классов. Для этого увеличим выборку техникой upsampling и уменьшим выборку методом downsampling.\n"
   ]
  },
  {
   "cell_type": "markdown",
   "metadata": {},
   "source": [
    "### Увеличение выборки"
   ]
  },
  {
   "cell_type": "markdown",
   "metadata": {},
   "source": [
    "\n",
    "* разделим обучающую выборку на отрицательные и положительные объекты\n",
    "\n",
    "* скопируем четыре раза положительные объекты\n",
    "\n",
    "* с учетом полученных данных создадим новую выборку\n",
    "\n",
    "* перемешаем данные\n"
   ]
  },
  {
   "cell_type": "code",
   "execution_count": 26,
   "metadata": {},
   "outputs": [],
   "source": [
    "#функция upsampling\n",
    "def upsample(features, target, repeat):\n",
    "    features_zeros = features[target==0]\n",
    "    features_ones = features[target==1]\n",
    "    target_zeros = target[target==0]\n",
    "    target_ones = target[target==1]\n",
    "    features_ups = pd.concat([features_zeros]+[features_ones]*repeat)\n",
    "    target_ups = pd.concat([target_zeros]+[target_ones]*repeat)\n",
    "    features_ups, target_ups = shuffle(features_ups, target_ups, random_state=0)\n",
    "    return features_ups, target_ups"
   ]
  },
  {
   "cell_type": "code",
   "execution_count": 27,
   "metadata": {},
   "outputs": [],
   "source": [
    "features_ups, target_ups = upsample(features_train, target_train, 4)"
   ]
  },
  {
   "cell_type": "markdown",
   "metadata": {},
   "source": [
    "\n",
    "Теперь проведем расчет трех алгоритмов, используя увеличенную выборку.\n"
   ]
  },
  {
   "cell_type": "markdown",
   "metadata": {},
   "source": [
    "### Дерево решений"
   ]
  },
  {
   "cell_type": "code",
   "execution_count": 28,
   "metadata": {},
   "outputs": [
    {
     "name": "stdout",
     "output_type": "stream",
     "text": [
      "Наилучшая F1-мера: 0.6186186186186187 с глубиной 6\n"
     ]
    }
   ],
   "source": [
    "#рассчитаем F1-меру на дереве решений с увеличенной выборкой\n",
    "best_depth_tree, best_result_tree, model_tree = Tree(features_ups, target_ups, features_valid, target_valid)\n",
    "print('Наилучшая F1-мера:', best_result_tree, 'с глубиной', best_depth_tree)"
   ]
  },
  {
   "cell_type": "code",
   "execution_count": 29,
   "metadata": {},
   "outputs": [
    {
     "data": {
      "image/png": "[encoded data removed]",
      "text/plain": [
       "<Figure size 432x288 with 1 Axes>"
      ]
     },
     "metadata": {
      "needs_background": "light"
     },
     "output_type": "display_data"
    },
    {
     "name": "stdout",
     "output_type": "stream",
     "text": [
      "AUC-ROC: 0.8543017765194035\n"
     ]
    }
   ],
   "source": [
    "model = DecisionTreeClassifier(random_state=0, max_depth=best_depth_tree)\n",
    "model.fit(features_ups, target_ups)\n",
    "probabilities = model.predict_proba(features_valid)\n",
    "proba_one_valid = probabilities[:, 1]\n",
    "fpr, tpr, thresholds = roc_curve(target_valid, proba_one_valid)\n",
    "plt.figure()\n",
    "plt.step(fpr, tpr, where='post')\n",
    "plt.plot([0, 1], [0, 1], linestyle='--')\n",
    "plt.ylim([0, 1])\n",
    "plt.xlim([0, 1])\n",
    "plt.xlabel('Доля ложноположительных ответов')\n",
    "plt.ylabel('Доля истинно положительных ответов')\n",
    "plt.title('Кривая ошибок')\n",
    "plt.show()\n",
    "auc_roc_tree = roc_auc_score(target_valid, proba_one_valid)\n",
    "print('AUC-ROC:', auc_roc_tree)"
   ]
  },
  {
   "cell_type": "markdown",
   "metadata": {},
   "source": [
    "### Случайный лес"
   ]
  },
  {
   "cell_type": "code",
   "execution_count": 30,
   "metadata": {},
   "outputs": [
    {
     "name": "stdout",
     "output_type": "stream",
     "text": [
      "Наилучшая F1-мера: 0.6186186186186187 с глубиной 6 и количеством деревьев 25\n"
     ]
    }
   ],
   "source": [
    "best_depth_forest, best_result_forest, best_est_forest = Forest(features_ups, target_ups, features_valid, target_valid)\n",
    "print('Наилучшая F1-мера:', best_result_forest, 'с глубиной', best_depth_forest, 'и количеством деревьев', best_est_forest)"
   ]
  },
  {
   "cell_type": "code",
   "execution_count": 31,
   "metadata": {},
   "outputs": [
    {
     "data": {
      "image/png": "[encoded data removed]",
      "text/plain": [
       "<Figure size 432x288 with 1 Axes>"
      ]
     },
     "metadata": {
      "needs_background": "light"
     },
     "output_type": "display_data"
    },
    {
     "name": "stdout",
     "output_type": "stream",
     "text": [
      "AUC-ROC: 0.8599917286638157\n"
     ]
    }
   ],
   "source": [
    "best_model = RandomForestClassifier(random_state=0, max_depth=best_depth_forest, n_estimators=best_est_forest)\n",
    "best_model.fit(features_ups, target_ups)\n",
    "probabilities = best_model.predict_proba(features_valid)\n",
    "proba_one_valid = probabilities[:, 1]\n",
    "fpr, tpr, thresholds = roc_curve(target_valid, proba_one_valid)\n",
    "plt.figure()\n",
    "plt.step(fpr, tpr, where='post')\n",
    "plt.plot([0, 1], [0, 1], linestyle='--')\n",
    "plt.ylim([0, 1])\n",
    "plt.xlim([0, 1])\n",
    "plt.xlabel('Доля ложноположительных ответов')\n",
    "plt.ylabel('Доля истинно положительных ответов')\n",
    "plt.title('Кривая ошибок')\n",
    "plt.show()\n",
    "auc_roc_forest = roc_auc_score(target_valid, proba_one_valid)\n",
    "print('AUC-ROC:', auc_roc_forest)"
   ]
  },
  {
   "cell_type": "markdown",
   "metadata": {},
   "source": [
    "### Логистическая регрессия"
   ]
  },
  {
   "cell_type": "code",
   "execution_count": 32,
   "metadata": {},
   "outputs": [
    {
     "name": "stdout",
     "output_type": "stream",
     "text": [
      "Наилучшая F1-мера: 0.4073275862068965\n",
      "Наилучшая F1-мера: 0.4073275862068965\n"
     ]
    }
   ],
   "source": [
    "#создаем модель логистической регрессии\n",
    "model = LogisticRegression(random_state=0, solver='liblinear')\n",
    "#обучаем модель\n",
    "model.fit(features_ups, target_ups)\n",
    "#предсказываем результаты на валидационной выборке\n",
    "predictions = model.predict(features_valid)\n",
    "#рассчитываем F1-меру\n",
    "result_logistic = f1_score(target_valid, predictions)\n",
    "print('Наилучшая F1-мера:', result_logistic)#создаем модель логистической регрессии\n",
    "model = LogisticRegression(random_state=0, solver='liblinear')\n",
    "#обучаем модель\n",
    "model.fit(features_ups, target_ups)\n",
    "#предсказываем результаты на валидационной выборке\n",
    "predictions = model.predict(features_valid)\n",
    "#рассчитываем F1-меру\n",
    "result_logistic = f1_score(target_valid, predictions)\n",
    "print('Наилучшая F1-мера:', result_logistic)"
   ]
  },
  {
   "cell_type": "code",
   "execution_count": 33,
   "metadata": {},
   "outputs": [
    {
     "data": {
      "image/png": "[encoded data removed]",
      "text/plain": [
       "<Figure size 432x288 with 1 Axes>"
      ]
     },
     "metadata": {
      "needs_background": "light"
     },
     "output_type": "display_data"
    },
    {
     "name": "stdout",
     "output_type": "stream",
     "text": [
      "AUC-ROC: 0.6195155057255523\n"
     ]
    }
   ],
   "source": [
    "probabilities = model.predict_proba(features_valid)\n",
    "proba_one_valid = probabilities[:, 1]\n",
    "fpr, tpr, thresholds = roc_curve(target_valid, proba_one_valid)\n",
    "plt.figure()\n",
    "plt.step(fpr, tpr, where='post')\n",
    "plt.plot([0, 1], [0, 1], linestyle='--')\n",
    "plt.ylim([0, 1])\n",
    "plt.xlim([0, 1])\n",
    "plt.xlabel('Доля ложноположительных ответов')\n",
    "plt.ylabel('Доля истинно положительных ответов')\n",
    "plt.title('Кривая ошибок')\n",
    "plt.show()\n",
    "auc_roc_log = roc_auc_score(target_valid, proba_one_valid)\n",
    "print('AUC-ROC:', auc_roc_log)"
   ]
  },
  {
   "cell_type": "code",
   "execution_count": 34,
   "metadata": {},
   "outputs": [],
   "source": [
    "#создаем результирующую таблицу\n",
    "final = pd.DataFrame(index=['Дерево решений', 'Случайный лес', 'Логистическая регрессия'], columns=['F1', 'AUC-ROC'])\n",
    "final.loc['Дерево решений', 'F1'] = best_result_tree\n",
    "final.loc['Дерево решений', 'AUC-ROC'] = auc_roc_tree\n",
    "final.loc['Случайный лес', 'F1'] = best_result_forest\n",
    "final.loc['Случайный лес', 'AUC-ROC'] = auc_roc_forest\n",
    "final.loc['Логистическая регрессия', 'F1'] = result_logistic\n",
    "final.loc['Логистическая регрессия', 'AUC-ROC'] = auc_roc_log"
   ]
  },
  {
   "cell_type": "markdown",
   "metadata": {},
   "source": [
    "### Уменьшение выборки"
   ]
  },
  {
   "cell_type": "markdown",
   "metadata": {},
   "source": [
    "\n",
    "* разделим обучающую выборку на отрицательные и положительные объекты\n",
    "\n",
    "* отбрасываем часть отрицательных объектов\n",
    "\n",
    "* с учетом полученных данных создадим новую выборку\n",
    "\n",
    "* перемешаем данные\n"
   ]
  },
  {
   "cell_type": "code",
   "execution_count": 35,
   "metadata": {},
   "outputs": [],
   "source": [
    "#функция downsampling\n",
    "def downsample(features, target, frak):\n",
    "    features_zeros = features[target==0]\n",
    "    features_ones = features[target==1]\n",
    "    target_zeros = target[target==0]\n",
    "    target_ones = target[target==1]\n",
    "    features_down = pd.concat([features_zeros.sample(frac=frak, random_state=0)]+[features_ones])\n",
    "    target_down = pd.concat([target_zeros.sample(frac=frak, random_state=0)]+[target_ones])\n",
    "    features_down, target_down = shuffle(features_down, target_down, random_state=0)\n",
    "    return features_down, target_down"
   ]
  },
  {
   "cell_type": "code",
   "execution_count": 36,
   "metadata": {},
   "outputs": [],
   "source": [
    "features_down, target_down = downsample(features_train, target_train, 0.25)"
   ]
  },
  {
   "cell_type": "markdown",
   "metadata": {},
   "source": [
    "### Дерево решений"
   ]
  },
  {
   "cell_type": "code",
   "execution_count": 37,
   "metadata": {},
   "outputs": [
    {
     "name": "stdout",
     "output_type": "stream",
     "text": [
      "Наилучшая F1-мера: 0.5743174924165825 с глубиной 5\n"
     ]
    }
   ],
   "source": [
    "#рассчитаем F1-меру на дереве решений с увеличенной выборкой\n",
    "best_depth_tree, best_result_tree, model_tree = Tree(features_down, target_down, features_valid, target_valid)\n",
    "print('Наилучшая F1-мера:', best_result_tree, 'с глубиной', best_depth_tree)"
   ]
  },
  {
   "cell_type": "markdown",
   "metadata": {},
   "source": [
    "### Случайный лес"
   ]
  },
  {
   "cell_type": "code",
   "execution_count": 38,
   "metadata": {},
   "outputs": [
    {
     "name": "stdout",
     "output_type": "stream",
     "text": [
      "Наилучшая F1-мера: 0.5743174924165825 с глубиной 5 и количеством деревьев 40\n"
     ]
    }
   ],
   "source": [
    "best_depth_forest, best_result_forest, best_est_forest = Forest(features_down, target_down, features_valid, target_valid)\n",
    "print('Наилучшая F1-мера:', best_result_forest, 'с глубиной', best_depth_forest, 'и количеством деревьев', best_est_forest)"
   ]
  },
  {
   "cell_type": "markdown",
   "metadata": {},
   "source": [
    "### Логистическая регрессия"
   ]
  },
  {
   "cell_type": "code",
   "execution_count": 39,
   "metadata": {},
   "outputs": [
    {
     "name": "stdout",
     "output_type": "stream",
     "text": [
      "Наилучшая F1-мера: 0.40774610005379236\n"
     ]
    }
   ],
   "source": [
    "#создаем модель логистической регрессии\n",
    "model = LogisticRegression(random_state=0, solver='liblinear')\n",
    "#обучаем модель\n",
    "model.fit(features_down, target_down)\n",
    "#предсказываем результаты на валидационной выборке\n",
    "predictions = model.predict(features_valid)\n",
    "#рассчитываем F1-меру\n",
    "result_logistic = f1_score(target_valid, predictions)\n",
    "print('Наилучшая F1-мера:', result_logistic)"
   ]
  },
  {
   "cell_type": "markdown",
   "metadata": {},
   "source": [
    "### Вывод"
   ]
  },
  {
   "cell_type": "markdown",
   "metadata": {},
   "source": [
    "\n",
    "Увеличение выборки позволило увеличить значение F1-меры и AUC-ROC. Наилучший результат показывает алгоритм случайного дерева, наихудший - логистическая регрессия.\n",
    "\n",
    "На следующем этапе проверим адекватность выбранной модели на тестовой выборке.\n"
   ]
  },
  {
   "cell_type": "code",
   "execution_count": 40,
   "metadata": {},
   "outputs": [
    {
     "data": {
      "text/html": [
       "<style  type=\"text/css\" >\n",
       "    #T_128f5028_49af_11eb_ab27_02420a3981c6row0_col0 {\n",
       "            background-color:  yellowgreen;\n",
       "        }    #T_128f5028_49af_11eb_ab27_02420a3981c6row1_col0 {\n",
       "            background-color:  yellowgreen;\n",
       "        }    #T_128f5028_49af_11eb_ab27_02420a3981c6row1_col1 {\n",
       "            background-color:  yellowgreen;\n",
       "        }</style><table id=\"T_128f5028_49af_11eb_ab27_02420a3981c6\" ><thead>    <tr>        <th class=\"blank level0\" ></th>        <th class=\"col_heading level0 col0\" >F1</th>        <th class=\"col_heading level0 col1\" >AUC-ROC</th>    </tr></thead><tbody>\n",
       "                <tr>\n",
       "                        <th id=\"T_128f5028_49af_11eb_ab27_02420a3981c6level0_row0\" class=\"row_heading level0 row0\" >Дерево решений</th>\n",
       "                        <td id=\"T_128f5028_49af_11eb_ab27_02420a3981c6row0_col0\" class=\"data row0 col0\" >0.618619</td>\n",
       "                        <td id=\"T_128f5028_49af_11eb_ab27_02420a3981c6row0_col1\" class=\"data row0 col1\" >0.854302</td>\n",
       "            </tr>\n",
       "            <tr>\n",
       "                        <th id=\"T_128f5028_49af_11eb_ab27_02420a3981c6level0_row1\" class=\"row_heading level0 row1\" >Случайный лес</th>\n",
       "                        <td id=\"T_128f5028_49af_11eb_ab27_02420a3981c6row1_col0\" class=\"data row1 col0\" >0.618619</td>\n",
       "                        <td id=\"T_128f5028_49af_11eb_ab27_02420a3981c6row1_col1\" class=\"data row1 col1\" >0.859992</td>\n",
       "            </tr>\n",
       "            <tr>\n",
       "                        <th id=\"T_128f5028_49af_11eb_ab27_02420a3981c6level0_row2\" class=\"row_heading level0 row2\" >Логистическая регрессия</th>\n",
       "                        <td id=\"T_128f5028_49af_11eb_ab27_02420a3981c6row2_col0\" class=\"data row2 col0\" >0.407328</td>\n",
       "                        <td id=\"T_128f5028_49af_11eb_ab27_02420a3981c6row2_col1\" class=\"data row2 col1\" >0.619516</td>\n",
       "            </tr>\n",
       "    </tbody></table>"
      ],
      "text/plain": [
       "<pandas.io.formats.style.Styler at 0x7fc620b16d10>"
      ]
     },
     "execution_count": 40,
     "metadata": {},
     "output_type": "execute_result"
    }
   ],
   "source": [
    "final.head().style.highlight_max(color='yellowgreen', subset=['F1', 'AUC-ROC'])"
   ]
  },
  {
   "cell_type": "markdown",
   "metadata": {},
   "source": [
    "[К оглавлению](#intro)"
   ]
  },
  {
   "cell_type": "markdown",
   "metadata": {},
   "source": [
    "<a id='chapter6'></a>\n",
    "\n",
    "# 4. Тестирование модели"
   ]
  },
  {
   "cell_type": "markdown",
   "metadata": {},
   "source": [
    "\n",
    "На предыдущих этапах мы выяснили, что наилучшие показатели дает алгоритм случайного леса с количеством деревьев 25 и глубиной 6. Сейчас проверим, какую F1-меру даст этот алгоритм на тестовой выборке.\n"
   ]
  },
  {
   "cell_type": "code",
   "execution_count": 41,
   "metadata": {},
   "outputs": [
    {
     "name": "stdout",
     "output_type": "stream",
     "text": [
      "F1-мера на тестовой выборке: 0.5941343424787133\n"
     ]
    }
   ],
   "source": [
    "predictions = best_model.predict(features_test)\n",
    "#рассчитываем значение F1\n",
    "result = f1_score(target_test, predictions)\n",
    "print('F1-мера на тестовой выборке:', result)"
   ]
  },
  {
   "cell_type": "code",
   "execution_count": 42,
   "metadata": {},
   "outputs": [
    {
     "data": {
      "image/png": "[encoded data removed]",
      "text/plain": [
       "<Figure size 432x288 with 1 Axes>"
      ]
     },
     "metadata": {
      "needs_background": "light"
     },
     "output_type": "display_data"
    },
    {
     "name": "stdout",
     "output_type": "stream",
     "text": [
      "AUC-ROC: 0.8627996439490693\n"
     ]
    }
   ],
   "source": [
    "probabilities = best_model.predict_proba(features_test)\n",
    "proba_one_valid = probabilities[:, 1]\n",
    "fpr, tpr, thresholds = roc_curve(target_test, proba_one_valid)\n",
    "plt.figure()\n",
    "plt.step(fpr, tpr, where='post')\n",
    "plt.plot([0, 1], [0, 1], linestyle='--')\n",
    "plt.ylim([0, 1])\n",
    "plt.xlim([0, 1])\n",
    "plt.xlabel('Доля ложноположительных ответов')\n",
    "plt.ylabel('Доля истинно положительных ответов')\n",
    "plt.title('Кривая ошибок')\n",
    "plt.show()\n",
    "auc_roc_forest = roc_auc_score(target_test, proba_one_valid)\n",
    "print('AUC-ROC:', auc_roc_forest)"
   ]
  },
  {
   "cell_type": "markdown",
   "metadata": {},
   "source": [
    "[К оглавлению](#intro)"
   ]
  },
  {
   "cell_type": "markdown",
   "metadata": {},
   "source": [
    "<a id='chapter7'></a>\n",
    "\n",
    "# Общий вывод"
   ]
  },
  {
   "cell_type": "markdown",
   "metadata": {},
   "source": [
    "\n",
    "В данной работе мы изучили поведение клиентов \"Бета-Банка\" для создания модели, позволяющей спрогнозировать уход клиента из банка.\n",
    "\n",
    "Изучая исходную информацию - кредитный рейтинг, страну проживания, количество недвижимости клиентов и прочее - мы построили несколько моделей, позволяющих определить целевой признак, а именно факт расторжения клиентом договора с банком.\n",
    "\n",
    "Мы построили модели:\n",
    "\n",
    "* дерева решений с различными значениями глубины дерева\n",
    "\n",
    "* случайного леса с варьирующимися значениями количества деревьев и глубины\n",
    "\n",
    "* логистической регрессии\n",
    "\n",
    "Также мы проанализировали несколько способов борьбы с дисбалансом классом: увеличение выборки редкого класса и уменьшение выборки часто встречающегося класса.\n",
    "\n",
    "На валидационной выборке наибольшее значение F1-меры показал алгоритм случайного леса с глубиной 6 и количеством деревьев 25, а также с учетом увеличения выборки редкого класса. Поэтому именно эту модель мы применили к тестовой выборке, на которой значение F1-меры было равно 0.59, что является хорошим результатом.\n",
    "\n",
    "А значит мы можем использовать данную модель для прогноза ухода клиентов из банка."
   ]
  },
  {
   "cell_type": "markdown",
   "metadata": {},
   "source": [
    "[К оглавлению](#intro)"
   ]
  },
  {
   "cell_type": "markdown",
   "metadata": {},
   "source": [
    "\n"
   ]
  },
  {
   "cell_type": "code",
   "execution_count": null,
   "metadata": {},
   "outputs": [],
   "source": []
  }
 ],
 "metadata": {
  "kernelspec": {
   "display_name": "Python 3",
   "language": "python",
   "name": "python3"
  },
  "language_info": {
   "codemirror_mode": {
    "name": "ipython",
    "version": 3
   },
   "file_extension": ".py",
   "mimetype": "text/x-python",
   "name": "python",
   "nbconvert_exporter": "python",
   "pygments_lexer": "ipython3",
   "version": "3.7.8"
  },
  "toc": {
   "base_numbering": 1,
   "nav_menu": {},
   "number_sections": true,
   "sideBar": true,
   "skip_h1_title": false,
   "title_cell": "Table of Contents",
   "title_sidebar": "Contents",
   "toc_cell": false,
   "toc_position": {},
   "toc_section_display": true,
   "toc_window_display": false
  }
 },
 "nbformat": 4,
 "nbformat_minor": 2
}
