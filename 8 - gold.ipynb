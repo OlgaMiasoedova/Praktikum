{
 "cells": [
  {
   "cell_type": "markdown",
   "metadata": {},
   "source": [
    "# Описание проекта\n",
    "\n",
    "Подготовьте прототип модели машинного обучения для «Цифры». Компания разрабатывает решения для эффективной работы промышленных предприятий.\n",
    "\n",
    "Модель должна предсказать коэффициент восстановления золота из золотосодержащей руды. В вашем распоряжении данные с параметрами добычи и очистки. \n",
    "\n",
    "Модель поможет оптимизировать производство, чтобы не запускать предприятие с убыточными характеристиками.\n",
    "\n",
    "Вам нужно:\n",
    "\n",
    "1. Подготовить данные;\n",
    "2. Провести исследовательский анализ данных;\n",
    "3. Построить и обучить модель.\n",
    "\n",
    "Чтобы выполнить проект, обращайтесь к библиотекам *pandas*, *matplotlib* и *sklearn.* Вам поможет их документация."
   ]
  },
  {
   "cell_type": "markdown",
   "metadata": {},
   "source": [
    "1. Подготовьте данные\n",
    "1.1. Откройте файлы и изучите их.\n",
    "Путь к файлам:\n",
    "/datasets/gold_recovery_train.csv.\n",
    "/datasets/gold_recovery_test.csv.\n",
    "/datasets/gold_recovery_full.csv.\n",
    "1.2. Проверьте, что эффективность обогащения рассчитана правильно. Вычислите её на обучающей выборке для признака rougher.output.recovery. Найдите MAE между вашими расчётами и значением признака. Опишите выводы.\n",
    "1.3. Проанализируйте признаки, недоступные в тестовой выборке. Что это за параметры? К какому типу относятся?\n",
    "1.4. Проведите предобработку данных.\n",
    "2. Проанализируйте данные\n",
    "2.1. Посмотрите, как меняется концентрация металлов (Au, Ag, Pb) на различных этапах очистки. Опишите выводы.\n",
    "2.2. Сравните распределения размеров гранул сырья на обучающей и тестовой выборках. Если распределения сильно отличаются друг от друга, оценка модели будет неправильной.\n",
    "2.3. Исследуйте суммарную концентрацию всех веществ на разных стадиях: в сырье, в черновом и финальном концентратах. Заметили аномальные значения в суммарном распределении или нет? Если они есть, стоит ли их удалять из обеих выборок? Опишите выводы и удалите аномалии.\n",
    "3. Постройте модель\n",
    "3.1. Напишите функцию для вычисления итоговой sMAPE.\n",
    "3.2. Обучите разные модели и оцените их качество кросс-валидацией. Выберите лучшую модель и проверьте её на тестовой выборке. Опишите выводы.\n",
    "Вам пригодятся формулы метрик качества:"
   ]
  },
  {
   "cell_type": "markdown",
   "metadata": {},
   "source": [
    "<a id='intro'></a>\n",
    "\n",
    "## Содержание"
   ]
  },
  {
   "cell_type": "markdown",
   "metadata": {},
   "source": [
    "\n",
    "[Введение](#chapter0)\n",
    "\n",
    "[Подготовка данных](#chapter1)\n",
    "\n",
    "[Анализ данных](#chapter2)\n",
    "\n",
    "[Построение модели](#chapter3)\n",
    "\n",
    "[Общий вывод](#chapter4)\n"
   ]
  },
  {
   "cell_type": "markdown",
   "metadata": {},
   "source": [
    "<a id='chapter0'></a>\n",
    "\n",
    "# Введение"
   ]
  },
  {
   "cell_type": "markdown",
   "metadata": {},
   "source": [
    "\n",
    "Компания \"Цифры\" разрабатывает решения для эффективной работы промышленных предприятий. Цель нашей работы - построить модель, которая должна предсказывать коэффициент восстановления золота из золотосодержащей руды. В качестве исходной информации нам даны файлы с параметрами добычи и очистки.\n"
   ]
  },
  {
   "cell_type": "markdown",
   "metadata": {},
   "source": [
    "[К оглавлению](#intro)"
   ]
  },
  {
   "cell_type": "markdown",
   "metadata": {},
   "source": [
    "<a id='chapter1'></a>\n",
    "\n",
    "# Подготовка данных"
   ]
  },
  {
   "cell_type": "markdown",
   "metadata": {},
   "source": [
    "\n",
    "На данном этапе наша задача - изучить исходные данные и подготовить их к анализу.\n"
   ]
  },
  {
   "cell_type": "code",
   "execution_count": 1,
   "metadata": {},
   "outputs": [],
   "source": [
    "#загрузка необходимых библиотек\n",
    "import pandas as pd\n",
    "import numpy as np\n",
    "from sklearn.metrics import mean_absolute_error\n",
    "import matplotlib.pyplot as plt\n",
    "from sklearn.model_selection import cross_val_score\n",
    "from sklearn.tree import DecisionTreeRegressor\n",
    "from sklearn.ensemble import RandomForestRegressor\n",
    "from sklearn.linear_model import LinearRegression\n",
    "from sklearn.metrics import make_scorer\n",
    "from sklearn.preprocessing import StandardScaler\n",
    "from sklearn.model_selection import train_test_split\n",
    "pd.options.display.float_format = '{:.2f}'.format"
   ]
  },
  {
   "cell_type": "code",
   "execution_count": 2,
   "metadata": {},
   "outputs": [],
   "source": [
    "#загрузка исходных данных\n",
    "data_train = pd.read_csv('/datasets/gold_recovery_train.csv')\n",
    "data_test = pd.read_csv('/datasets/gold_recovery_test.csv')\n",
    "data_full = pd.read_csv('/datasets/gold_recovery_full.csv')"
   ]
  },
  {
   "cell_type": "code",
   "execution_count": 3,
   "metadata": {},
   "outputs": [],
   "source": [
    "data_test = pd.read_csv('/datasets/gold_recovery_test.csv')"
   ]
  },
  {
   "cell_type": "code",
   "execution_count": 4,
   "metadata": {},
   "outputs": [
    {
     "name": "stdout",
     "output_type": "stream",
     "text": [
      "<class 'pandas.core.frame.DataFrame'>\n",
      "RangeIndex: 22716 entries, 0 to 22715\n",
      "Data columns (total 87 columns):\n",
      "date                                                  22716 non-null object\n",
      "final.output.concentrate_ag                           22627 non-null float64\n",
      "final.output.concentrate_pb                           22629 non-null float64\n",
      "final.output.concentrate_sol                          22331 non-null float64\n",
      "final.output.concentrate_au                           22630 non-null float64\n",
      "final.output.recovery                                 20753 non-null float64\n",
      "final.output.tail_ag                                  22633 non-null float64\n",
      "final.output.tail_pb                                  22516 non-null float64\n",
      "final.output.tail_sol                                 22445 non-null float64\n",
      "final.output.tail_au                                  22635 non-null float64\n",
      "primary_cleaner.input.sulfate                         21107 non-null float64\n",
      "primary_cleaner.input.depressant                      21170 non-null float64\n",
      "primary_cleaner.input.feed_size                       22716 non-null float64\n",
      "primary_cleaner.input.xanthate                        21565 non-null float64\n",
      "primary_cleaner.output.concentrate_ag                 22618 non-null float64\n",
      "primary_cleaner.output.concentrate_pb                 22268 non-null float64\n",
      "primary_cleaner.output.concentrate_sol                21918 non-null float64\n",
      "primary_cleaner.output.concentrate_au                 22618 non-null float64\n",
      "primary_cleaner.output.tail_ag                        22614 non-null float64\n",
      "primary_cleaner.output.tail_pb                        22594 non-null float64\n",
      "primary_cleaner.output.tail_sol                       22365 non-null float64\n",
      "primary_cleaner.output.tail_au                        22617 non-null float64\n",
      "primary_cleaner.state.floatbank8_a_air                22660 non-null float64\n",
      "primary_cleaner.state.floatbank8_a_level              22667 non-null float64\n",
      "primary_cleaner.state.floatbank8_b_air                22660 non-null float64\n",
      "primary_cleaner.state.floatbank8_b_level              22673 non-null float64\n",
      "primary_cleaner.state.floatbank8_c_air                22662 non-null float64\n",
      "primary_cleaner.state.floatbank8_c_level              22673 non-null float64\n",
      "primary_cleaner.state.floatbank8_d_air                22661 non-null float64\n",
      "primary_cleaner.state.floatbank8_d_level              22673 non-null float64\n",
      "rougher.calculation.sulfate_to_au_concentrate         22672 non-null float64\n",
      "rougher.calculation.floatbank10_sulfate_to_au_feed    22672 non-null float64\n",
      "rougher.calculation.floatbank11_sulfate_to_au_feed    22672 non-null float64\n",
      "rougher.calculation.au_pb_ratio                       21089 non-null float64\n",
      "rougher.input.feed_ag                                 22618 non-null float64\n",
      "rougher.input.feed_pb                                 22472 non-null float64\n",
      "rougher.input.feed_rate                               22163 non-null float64\n",
      "rougher.input.feed_size                               22277 non-null float64\n",
      "rougher.input.feed_sol                                22357 non-null float64\n",
      "rougher.input.feed_au                                 22617 non-null float64\n",
      "rougher.input.floatbank10_sulfate                     21415 non-null float64\n",
      "rougher.input.floatbank10_xanthate                    22247 non-null float64\n",
      "rougher.input.floatbank11_sulfate                     22038 non-null float64\n",
      "rougher.input.floatbank11_xanthate                    20459 non-null float64\n",
      "rougher.output.concentrate_ag                         22618 non-null float64\n",
      "rougher.output.concentrate_pb                         22618 non-null float64\n",
      "rougher.output.concentrate_sol                        22526 non-null float64\n",
      "rougher.output.concentrate_au                         22618 non-null float64\n",
      "rougher.output.recovery                               19597 non-null float64\n",
      "rougher.output.tail_ag                                19979 non-null float64\n",
      "rougher.output.tail_pb                                22618 non-null float64\n",
      "rougher.output.tail_sol                               19980 non-null float64\n",
      "rougher.output.tail_au                                19980 non-null float64\n",
      "rougher.state.floatbank10_a_air                       22646 non-null float64\n",
      "rougher.state.floatbank10_a_level                     22647 non-null float64\n",
      "rougher.state.floatbank10_b_air                       22646 non-null float64\n",
      "rougher.state.floatbank10_b_level                     22647 non-null float64\n",
      "rougher.state.floatbank10_c_air                       22646 non-null float64\n",
      "rougher.state.floatbank10_c_level                     22654 non-null float64\n",
      "rougher.state.floatbank10_d_air                       22641 non-null float64\n",
      "rougher.state.floatbank10_d_level                     22649 non-null float64\n",
      "rougher.state.floatbank10_e_air                       22096 non-null float64\n",
      "rougher.state.floatbank10_e_level                     22649 non-null float64\n",
      "rougher.state.floatbank10_f_air                       22641 non-null float64\n",
      "rougher.state.floatbank10_f_level                     22642 non-null float64\n",
      "secondary_cleaner.output.tail_ag                      22616 non-null float64\n",
      "secondary_cleaner.output.tail_pb                      22600 non-null float64\n",
      "secondary_cleaner.output.tail_sol                     20501 non-null float64\n",
      "secondary_cleaner.output.tail_au                      22618 non-null float64\n",
      "secondary_cleaner.state.floatbank2_a_air              22333 non-null float64\n",
      "secondary_cleaner.state.floatbank2_a_level            22591 non-null float64\n",
      "secondary_cleaner.state.floatbank2_b_air              22538 non-null float64\n",
      "secondary_cleaner.state.floatbank2_b_level            22588 non-null float64\n",
      "secondary_cleaner.state.floatbank3_a_air              22585 non-null float64\n",
      "secondary_cleaner.state.floatbank3_a_level            22587 non-null float64\n",
      "secondary_cleaner.state.floatbank3_b_air              22592 non-null float64\n",
      "secondary_cleaner.state.floatbank3_b_level            22590 non-null float64\n",
      "secondary_cleaner.state.floatbank4_a_air              22571 non-null float64\n",
      "secondary_cleaner.state.floatbank4_a_level            22587 non-null float64\n",
      "secondary_cleaner.state.floatbank4_b_air              22608 non-null float64\n",
      "secondary_cleaner.state.floatbank4_b_level            22607 non-null float64\n",
      "secondary_cleaner.state.floatbank5_a_air              22615 non-null float64\n",
      "secondary_cleaner.state.floatbank5_a_level            22615 non-null float64\n",
      "secondary_cleaner.state.floatbank5_b_air              22615 non-null float64\n",
      "secondary_cleaner.state.floatbank5_b_level            22616 non-null float64\n",
      "secondary_cleaner.state.floatbank6_a_air              22597 non-null float64\n",
      "secondary_cleaner.state.floatbank6_a_level            22615 non-null float64\n",
      "dtypes: float64(86), object(1)\n",
      "memory usage: 15.1+ MB\n"
     ]
    }
   ],
   "source": [
    "data_full.info()"
   ]
  },
  {
   "cell_type": "code",
   "execution_count": 5,
   "metadata": {},
   "outputs": [
    {
     "data": {
      "text/html": [
       "<div>\n",
       "<style scoped>\n",
       "    .dataframe tbody tr th:only-of-type {\n",
       "        vertical-align: middle;\n",
       "    }\n",
       "\n",
       "    .dataframe tbody tr th {\n",
       "        vertical-align: top;\n",
       "    }\n",
       "\n",
       "    .dataframe thead th {\n",
       "        text-align: right;\n",
       "    }\n",
       "</style>\n",
       "<table border=\"1\" class=\"dataframe\">\n",
       "  <thead>\n",
       "    <tr style=\"text-align: right;\">\n",
       "      <th></th>\n",
       "      <th>date</th>\n",
       "      <th>final.output.concentrate_ag</th>\n",
       "      <th>final.output.concentrate_pb</th>\n",
       "      <th>final.output.concentrate_sol</th>\n",
       "      <th>final.output.concentrate_au</th>\n",
       "      <th>final.output.recovery</th>\n",
       "      <th>final.output.tail_ag</th>\n",
       "      <th>final.output.tail_pb</th>\n",
       "      <th>final.output.tail_sol</th>\n",
       "      <th>final.output.tail_au</th>\n",
       "      <th>...</th>\n",
       "      <th>secondary_cleaner.state.floatbank4_a_air</th>\n",
       "      <th>secondary_cleaner.state.floatbank4_a_level</th>\n",
       "      <th>secondary_cleaner.state.floatbank4_b_air</th>\n",
       "      <th>secondary_cleaner.state.floatbank4_b_level</th>\n",
       "      <th>secondary_cleaner.state.floatbank5_a_air</th>\n",
       "      <th>secondary_cleaner.state.floatbank5_a_level</th>\n",
       "      <th>secondary_cleaner.state.floatbank5_b_air</th>\n",
       "      <th>secondary_cleaner.state.floatbank5_b_level</th>\n",
       "      <th>secondary_cleaner.state.floatbank6_a_air</th>\n",
       "      <th>secondary_cleaner.state.floatbank6_a_level</th>\n",
       "    </tr>\n",
       "  </thead>\n",
       "  <tbody>\n",
       "    <tr>\n",
       "      <td>0</td>\n",
       "      <td>2016-01-15 00:00:00</td>\n",
       "      <td>6.06</td>\n",
       "      <td>9.89</td>\n",
       "      <td>5.51</td>\n",
       "      <td>42.19</td>\n",
       "      <td>70.54</td>\n",
       "      <td>10.41</td>\n",
       "      <td>0.90</td>\n",
       "      <td>16.90</td>\n",
       "      <td>2.14</td>\n",
       "      <td>...</td>\n",
       "      <td>14.02</td>\n",
       "      <td>-502.49</td>\n",
       "      <td>12.10</td>\n",
       "      <td>-504.72</td>\n",
       "      <td>9.93</td>\n",
       "      <td>-498.31</td>\n",
       "      <td>8.08</td>\n",
       "      <td>-500.47</td>\n",
       "      <td>14.15</td>\n",
       "      <td>-605.84</td>\n",
       "    </tr>\n",
       "    <tr>\n",
       "      <td>1</td>\n",
       "      <td>2016-01-15 01:00:00</td>\n",
       "      <td>6.03</td>\n",
       "      <td>9.97</td>\n",
       "      <td>5.26</td>\n",
       "      <td>42.70</td>\n",
       "      <td>69.27</td>\n",
       "      <td>10.46</td>\n",
       "      <td>0.93</td>\n",
       "      <td>16.63</td>\n",
       "      <td>2.22</td>\n",
       "      <td>...</td>\n",
       "      <td>13.99</td>\n",
       "      <td>-505.50</td>\n",
       "      <td>11.95</td>\n",
       "      <td>-501.33</td>\n",
       "      <td>10.04</td>\n",
       "      <td>-500.17</td>\n",
       "      <td>7.98</td>\n",
       "      <td>-500.58</td>\n",
       "      <td>14.00</td>\n",
       "      <td>-599.79</td>\n",
       "    </tr>\n",
       "    <tr>\n",
       "      <td>2</td>\n",
       "      <td>2016-01-15 02:00:00</td>\n",
       "      <td>6.06</td>\n",
       "      <td>10.21</td>\n",
       "      <td>5.38</td>\n",
       "      <td>42.66</td>\n",
       "      <td>68.12</td>\n",
       "      <td>10.51</td>\n",
       "      <td>0.95</td>\n",
       "      <td>16.21</td>\n",
       "      <td>2.26</td>\n",
       "      <td>...</td>\n",
       "      <td>14.02</td>\n",
       "      <td>-502.52</td>\n",
       "      <td>11.91</td>\n",
       "      <td>-501.13</td>\n",
       "      <td>10.07</td>\n",
       "      <td>-500.13</td>\n",
       "      <td>8.01</td>\n",
       "      <td>-500.52</td>\n",
       "      <td>14.03</td>\n",
       "      <td>-601.43</td>\n",
       "    </tr>\n",
       "    <tr>\n",
       "      <td>3</td>\n",
       "      <td>2016-01-15 03:00:00</td>\n",
       "      <td>6.05</td>\n",
       "      <td>9.98</td>\n",
       "      <td>4.86</td>\n",
       "      <td>42.69</td>\n",
       "      <td>68.35</td>\n",
       "      <td>10.42</td>\n",
       "      <td>0.88</td>\n",
       "      <td>16.53</td>\n",
       "      <td>2.15</td>\n",
       "      <td>...</td>\n",
       "      <td>14.04</td>\n",
       "      <td>-500.86</td>\n",
       "      <td>12.00</td>\n",
       "      <td>-501.19</td>\n",
       "      <td>9.97</td>\n",
       "      <td>-499.20</td>\n",
       "      <td>7.98</td>\n",
       "      <td>-500.26</td>\n",
       "      <td>14.01</td>\n",
       "      <td>-600.00</td>\n",
       "    </tr>\n",
       "    <tr>\n",
       "      <td>4</td>\n",
       "      <td>2016-01-15 04:00:00</td>\n",
       "      <td>6.15</td>\n",
       "      <td>10.14</td>\n",
       "      <td>4.94</td>\n",
       "      <td>42.77</td>\n",
       "      <td>66.93</td>\n",
       "      <td>10.36</td>\n",
       "      <td>0.79</td>\n",
       "      <td>16.53</td>\n",
       "      <td>2.06</td>\n",
       "      <td>...</td>\n",
       "      <td>14.03</td>\n",
       "      <td>-499.84</td>\n",
       "      <td>11.95</td>\n",
       "      <td>-501.05</td>\n",
       "      <td>9.93</td>\n",
       "      <td>-501.69</td>\n",
       "      <td>7.89</td>\n",
       "      <td>-500.36</td>\n",
       "      <td>14.00</td>\n",
       "      <td>-601.50</td>\n",
       "    </tr>\n",
       "  </tbody>\n",
       "</table>\n",
       "<p>5 rows × 87 columns</p>\n",
       "</div>"
      ],
      "text/plain": [
       "                  date  final.output.concentrate_ag  \\\n",
       "0  2016-01-15 00:00:00                         6.06   \n",
       "1  2016-01-15 01:00:00                         6.03   \n",
       "2  2016-01-15 02:00:00                         6.06   \n",
       "3  2016-01-15 03:00:00                         6.05   \n",
       "4  2016-01-15 04:00:00                         6.15   \n",
       "\n",
       "   final.output.concentrate_pb  final.output.concentrate_sol  \\\n",
       "0                         9.89                          5.51   \n",
       "1                         9.97                          5.26   \n",
       "2                        10.21                          5.38   \n",
       "3                         9.98                          4.86   \n",
       "4                        10.14                          4.94   \n",
       "\n",
       "   final.output.concentrate_au  final.output.recovery  final.output.tail_ag  \\\n",
       "0                        42.19                  70.54                 10.41   \n",
       "1                        42.70                  69.27                 10.46   \n",
       "2                        42.66                  68.12                 10.51   \n",
       "3                        42.69                  68.35                 10.42   \n",
       "4                        42.77                  66.93                 10.36   \n",
       "\n",
       "   final.output.tail_pb  final.output.tail_sol  final.output.tail_au  ...  \\\n",
       "0                  0.90                  16.90                  2.14  ...   \n",
       "1                  0.93                  16.63                  2.22  ...   \n",
       "2                  0.95                  16.21                  2.26  ...   \n",
       "3                  0.88                  16.53                  2.15  ...   \n",
       "4                  0.79                  16.53                  2.06  ...   \n",
       "\n",
       "   secondary_cleaner.state.floatbank4_a_air  \\\n",
       "0                                     14.02   \n",
       "1                                     13.99   \n",
       "2                                     14.02   \n",
       "3                                     14.04   \n",
       "4                                     14.03   \n",
       "\n",
       "   secondary_cleaner.state.floatbank4_a_level  \\\n",
       "0                                     -502.49   \n",
       "1                                     -505.50   \n",
       "2                                     -502.52   \n",
       "3                                     -500.86   \n",
       "4                                     -499.84   \n",
       "\n",
       "   secondary_cleaner.state.floatbank4_b_air  \\\n",
       "0                                     12.10   \n",
       "1                                     11.95   \n",
       "2                                     11.91   \n",
       "3                                     12.00   \n",
       "4                                     11.95   \n",
       "\n",
       "   secondary_cleaner.state.floatbank4_b_level  \\\n",
       "0                                     -504.72   \n",
       "1                                     -501.33   \n",
       "2                                     -501.13   \n",
       "3                                     -501.19   \n",
       "4                                     -501.05   \n",
       "\n",
       "   secondary_cleaner.state.floatbank5_a_air  \\\n",
       "0                                      9.93   \n",
       "1                                     10.04   \n",
       "2                                     10.07   \n",
       "3                                      9.97   \n",
       "4                                      9.93   \n",
       "\n",
       "   secondary_cleaner.state.floatbank5_a_level  \\\n",
       "0                                     -498.31   \n",
       "1                                     -500.17   \n",
       "2                                     -500.13   \n",
       "3                                     -499.20   \n",
       "4                                     -501.69   \n",
       "\n",
       "   secondary_cleaner.state.floatbank5_b_air  \\\n",
       "0                                      8.08   \n",
       "1                                      7.98   \n",
       "2                                      8.01   \n",
       "3                                      7.98   \n",
       "4                                      7.89   \n",
       "\n",
       "   secondary_cleaner.state.floatbank5_b_level  \\\n",
       "0                                     -500.47   \n",
       "1                                     -500.58   \n",
       "2                                     -500.52   \n",
       "3                                     -500.26   \n",
       "4                                     -500.36   \n",
       "\n",
       "   secondary_cleaner.state.floatbank6_a_air  \\\n",
       "0                                     14.15   \n",
       "1                                     14.00   \n",
       "2                                     14.03   \n",
       "3                                     14.01   \n",
       "4                                     14.00   \n",
       "\n",
       "   secondary_cleaner.state.floatbank6_a_level  \n",
       "0                                     -605.84  \n",
       "1                                     -599.79  \n",
       "2                                     -601.43  \n",
       "3                                     -600.00  \n",
       "4                                     -601.50  \n",
       "\n",
       "[5 rows x 87 columns]"
      ]
     },
     "execution_count": 5,
     "metadata": {},
     "output_type": "execute_result"
    }
   ],
   "source": [
    "data_full.head()"
   ]
  },
  {
   "cell_type": "markdown",
   "metadata": {},
   "source": [
    "\n",
    "В таблице содержится вся информация обо всех этапах добычи и очистки золотосодержащей руды. Столбцы именуются следующим образом:\n",
    "\n",
    "[этап].[тип_параметра].[название_параметра]\n"
   ]
  },
  {
   "cell_type": "markdown",
   "metadata": {},
   "source": [
    "\n",
    "Этап:\n",
    "\n",
    "    * rougher - флотация\n",
    "    \n",
    "    * primary_cleaner - первичная очистка\n",
    "    \n",
    "    * secondary_cleaner - вторичная очистка\n",
    "    \n",
    "    * final - финальные характеристики\n"
   ]
  },
  {
   "cell_type": "markdown",
   "metadata": {},
   "source": [
    "\n",
    "Типы параметров:\n",
    "\n",
    "    * input - параметры сырья\n",
    "    \n",
    "    * output - параметры продукта\n",
    "    \n",
    "    * state - параметры, характеризующие текущее состояние этапа\n",
    "    \n",
    "    * calculation - расчетные характеристики\n"
   ]
  },
  {
   "cell_type": "markdown",
   "metadata": {},
   "source": [
    "\n",
    "Первый столбец - это дата процесса.\n"
   ]
  },
  {
   "cell_type": "code",
   "execution_count": 6,
   "metadata": {},
   "outputs": [
    {
     "data": {
      "text/html": [
       "<div>\n",
       "<style scoped>\n",
       "    .dataframe tbody tr th:only-of-type {\n",
       "        vertical-align: middle;\n",
       "    }\n",
       "\n",
       "    .dataframe tbody tr th {\n",
       "        vertical-align: top;\n",
       "    }\n",
       "\n",
       "    .dataframe thead th {\n",
       "        text-align: right;\n",
       "    }\n",
       "</style>\n",
       "<table border=\"1\" class=\"dataframe\">\n",
       "  <thead>\n",
       "    <tr style=\"text-align: right;\">\n",
       "      <th></th>\n",
       "      <th>date</th>\n",
       "      <th>final.output.concentrate_ag</th>\n",
       "      <th>final.output.concentrate_pb</th>\n",
       "      <th>final.output.concentrate_sol</th>\n",
       "      <th>final.output.concentrate_au</th>\n",
       "      <th>final.output.recovery</th>\n",
       "      <th>final.output.tail_ag</th>\n",
       "      <th>final.output.tail_pb</th>\n",
       "      <th>final.output.tail_sol</th>\n",
       "      <th>final.output.tail_au</th>\n",
       "      <th>...</th>\n",
       "      <th>secondary_cleaner.state.floatbank4_a_air</th>\n",
       "      <th>secondary_cleaner.state.floatbank4_a_level</th>\n",
       "      <th>secondary_cleaner.state.floatbank4_b_air</th>\n",
       "      <th>secondary_cleaner.state.floatbank4_b_level</th>\n",
       "      <th>secondary_cleaner.state.floatbank5_a_air</th>\n",
       "      <th>secondary_cleaner.state.floatbank5_a_level</th>\n",
       "      <th>secondary_cleaner.state.floatbank5_b_air</th>\n",
       "      <th>secondary_cleaner.state.floatbank5_b_level</th>\n",
       "      <th>secondary_cleaner.state.floatbank6_a_air</th>\n",
       "      <th>secondary_cleaner.state.floatbank6_a_level</th>\n",
       "    </tr>\n",
       "  </thead>\n",
       "  <tbody>\n",
       "    <tr>\n",
       "      <td>0</td>\n",
       "      <td>2016-01-15 00:00:00</td>\n",
       "      <td>6.06</td>\n",
       "      <td>9.89</td>\n",
       "      <td>5.51</td>\n",
       "      <td>42.19</td>\n",
       "      <td>70.54</td>\n",
       "      <td>10.41</td>\n",
       "      <td>0.90</td>\n",
       "      <td>16.90</td>\n",
       "      <td>2.14</td>\n",
       "      <td>...</td>\n",
       "      <td>14.02</td>\n",
       "      <td>-502.49</td>\n",
       "      <td>12.10</td>\n",
       "      <td>-504.72</td>\n",
       "      <td>9.93</td>\n",
       "      <td>-498.31</td>\n",
       "      <td>8.08</td>\n",
       "      <td>-500.47</td>\n",
       "      <td>14.15</td>\n",
       "      <td>-605.84</td>\n",
       "    </tr>\n",
       "    <tr>\n",
       "      <td>1</td>\n",
       "      <td>2016-01-15 01:00:00</td>\n",
       "      <td>6.03</td>\n",
       "      <td>9.97</td>\n",
       "      <td>5.26</td>\n",
       "      <td>42.70</td>\n",
       "      <td>69.27</td>\n",
       "      <td>10.46</td>\n",
       "      <td>0.93</td>\n",
       "      <td>16.63</td>\n",
       "      <td>2.22</td>\n",
       "      <td>...</td>\n",
       "      <td>13.99</td>\n",
       "      <td>-505.50</td>\n",
       "      <td>11.95</td>\n",
       "      <td>-501.33</td>\n",
       "      <td>10.04</td>\n",
       "      <td>-500.17</td>\n",
       "      <td>7.98</td>\n",
       "      <td>-500.58</td>\n",
       "      <td>14.00</td>\n",
       "      <td>-599.79</td>\n",
       "    </tr>\n",
       "    <tr>\n",
       "      <td>2</td>\n",
       "      <td>2016-01-15 02:00:00</td>\n",
       "      <td>6.06</td>\n",
       "      <td>10.21</td>\n",
       "      <td>5.38</td>\n",
       "      <td>42.66</td>\n",
       "      <td>68.12</td>\n",
       "      <td>10.51</td>\n",
       "      <td>0.95</td>\n",
       "      <td>16.21</td>\n",
       "      <td>2.26</td>\n",
       "      <td>...</td>\n",
       "      <td>14.02</td>\n",
       "      <td>-502.52</td>\n",
       "      <td>11.91</td>\n",
       "      <td>-501.13</td>\n",
       "      <td>10.07</td>\n",
       "      <td>-500.13</td>\n",
       "      <td>8.01</td>\n",
       "      <td>-500.52</td>\n",
       "      <td>14.03</td>\n",
       "      <td>-601.43</td>\n",
       "    </tr>\n",
       "    <tr>\n",
       "      <td>3</td>\n",
       "      <td>2016-01-15 03:00:00</td>\n",
       "      <td>6.05</td>\n",
       "      <td>9.98</td>\n",
       "      <td>4.86</td>\n",
       "      <td>42.69</td>\n",
       "      <td>68.35</td>\n",
       "      <td>10.42</td>\n",
       "      <td>0.88</td>\n",
       "      <td>16.53</td>\n",
       "      <td>2.15</td>\n",
       "      <td>...</td>\n",
       "      <td>14.04</td>\n",
       "      <td>-500.86</td>\n",
       "      <td>12.00</td>\n",
       "      <td>-501.19</td>\n",
       "      <td>9.97</td>\n",
       "      <td>-499.20</td>\n",
       "      <td>7.98</td>\n",
       "      <td>-500.26</td>\n",
       "      <td>14.01</td>\n",
       "      <td>-600.00</td>\n",
       "    </tr>\n",
       "    <tr>\n",
       "      <td>4</td>\n",
       "      <td>2016-01-15 04:00:00</td>\n",
       "      <td>6.15</td>\n",
       "      <td>10.14</td>\n",
       "      <td>4.94</td>\n",
       "      <td>42.77</td>\n",
       "      <td>66.93</td>\n",
       "      <td>10.36</td>\n",
       "      <td>0.79</td>\n",
       "      <td>16.53</td>\n",
       "      <td>2.06</td>\n",
       "      <td>...</td>\n",
       "      <td>14.03</td>\n",
       "      <td>-499.84</td>\n",
       "      <td>11.95</td>\n",
       "      <td>-501.05</td>\n",
       "      <td>9.93</td>\n",
       "      <td>-501.69</td>\n",
       "      <td>7.89</td>\n",
       "      <td>-500.36</td>\n",
       "      <td>14.00</td>\n",
       "      <td>-601.50</td>\n",
       "    </tr>\n",
       "  </tbody>\n",
       "</table>\n",
       "<p>5 rows × 87 columns</p>\n",
       "</div>"
      ],
      "text/plain": [
       "                 date  final.output.concentrate_ag  \\\n",
       "0 2016-01-15 00:00:00                         6.06   \n",
       "1 2016-01-15 01:00:00                         6.03   \n",
       "2 2016-01-15 02:00:00                         6.06   \n",
       "3 2016-01-15 03:00:00                         6.05   \n",
       "4 2016-01-15 04:00:00                         6.15   \n",
       "\n",
       "   final.output.concentrate_pb  final.output.concentrate_sol  \\\n",
       "0                         9.89                          5.51   \n",
       "1                         9.97                          5.26   \n",
       "2                        10.21                          5.38   \n",
       "3                         9.98                          4.86   \n",
       "4                        10.14                          4.94   \n",
       "\n",
       "   final.output.concentrate_au  final.output.recovery  final.output.tail_ag  \\\n",
       "0                        42.19                  70.54                 10.41   \n",
       "1                        42.70                  69.27                 10.46   \n",
       "2                        42.66                  68.12                 10.51   \n",
       "3                        42.69                  68.35                 10.42   \n",
       "4                        42.77                  66.93                 10.36   \n",
       "\n",
       "   final.output.tail_pb  final.output.tail_sol  final.output.tail_au  ...  \\\n",
       "0                  0.90                  16.90                  2.14  ...   \n",
       "1                  0.93                  16.63                  2.22  ...   \n",
       "2                  0.95                  16.21                  2.26  ...   \n",
       "3                  0.88                  16.53                  2.15  ...   \n",
       "4                  0.79                  16.53                  2.06  ...   \n",
       "\n",
       "   secondary_cleaner.state.floatbank4_a_air  \\\n",
       "0                                     14.02   \n",
       "1                                     13.99   \n",
       "2                                     14.02   \n",
       "3                                     14.04   \n",
       "4                                     14.03   \n",
       "\n",
       "   secondary_cleaner.state.floatbank4_a_level  \\\n",
       "0                                     -502.49   \n",
       "1                                     -505.50   \n",
       "2                                     -502.52   \n",
       "3                                     -500.86   \n",
       "4                                     -499.84   \n",
       "\n",
       "   secondary_cleaner.state.floatbank4_b_air  \\\n",
       "0                                     12.10   \n",
       "1                                     11.95   \n",
       "2                                     11.91   \n",
       "3                                     12.00   \n",
       "4                                     11.95   \n",
       "\n",
       "   secondary_cleaner.state.floatbank4_b_level  \\\n",
       "0                                     -504.72   \n",
       "1                                     -501.33   \n",
       "2                                     -501.13   \n",
       "3                                     -501.19   \n",
       "4                                     -501.05   \n",
       "\n",
       "   secondary_cleaner.state.floatbank5_a_air  \\\n",
       "0                                      9.93   \n",
       "1                                     10.04   \n",
       "2                                     10.07   \n",
       "3                                      9.97   \n",
       "4                                      9.93   \n",
       "\n",
       "   secondary_cleaner.state.floatbank5_a_level  \\\n",
       "0                                     -498.31   \n",
       "1                                     -500.17   \n",
       "2                                     -500.13   \n",
       "3                                     -499.20   \n",
       "4                                     -501.69   \n",
       "\n",
       "   secondary_cleaner.state.floatbank5_b_air  \\\n",
       "0                                      8.08   \n",
       "1                                      7.98   \n",
       "2                                      8.01   \n",
       "3                                      7.98   \n",
       "4                                      7.89   \n",
       "\n",
       "   secondary_cleaner.state.floatbank5_b_level  \\\n",
       "0                                     -500.47   \n",
       "1                                     -500.58   \n",
       "2                                     -500.52   \n",
       "3                                     -500.26   \n",
       "4                                     -500.36   \n",
       "\n",
       "   secondary_cleaner.state.floatbank6_a_air  \\\n",
       "0                                     14.15   \n",
       "1                                     14.00   \n",
       "2                                     14.03   \n",
       "3                                     14.01   \n",
       "4                                     14.00   \n",
       "\n",
       "   secondary_cleaner.state.floatbank6_a_level  \n",
       "0                                     -605.84  \n",
       "1                                     -599.79  \n",
       "2                                     -601.43  \n",
       "3                                     -600.00  \n",
       "4                                     -601.50  \n",
       "\n",
       "[5 rows x 87 columns]"
      ]
     },
     "execution_count": 6,
     "metadata": {},
     "output_type": "execute_result"
    }
   ],
   "source": [
    "#преобразование столбца в формат даты\n",
    "data_full['date'] = pd.to_datetime(data_full['date'], format='%Y-%m-%dT%H:%M:%S')\n",
    "data_full.head()"
   ]
  },
  {
   "cell_type": "markdown",
   "metadata": {},
   "source": [
    "\n",
    "Этот датасет уже разбит на две выборки: обучающую и тестовую. В дальнейшем будем работать с ними.\n"
   ]
  },
  {
   "cell_type": "code",
   "execution_count": 7,
   "metadata": {},
   "outputs": [
    {
     "name": "stdout",
     "output_type": "stream",
     "text": [
      "<class 'pandas.core.frame.DataFrame'>\n",
      "RangeIndex: 16860 entries, 0 to 16859\n",
      "Data columns (total 87 columns):\n",
      "date                                                  16860 non-null object\n",
      "final.output.concentrate_ag                           16788 non-null float64\n",
      "final.output.concentrate_pb                           16788 non-null float64\n",
      "final.output.concentrate_sol                          16490 non-null float64\n",
      "final.output.concentrate_au                           16789 non-null float64\n",
      "final.output.recovery                                 15339 non-null float64\n",
      "final.output.tail_ag                                  16794 non-null float64\n",
      "final.output.tail_pb                                  16677 non-null float64\n",
      "final.output.tail_sol                                 16715 non-null float64\n",
      "final.output.tail_au                                  16794 non-null float64\n",
      "primary_cleaner.input.sulfate                         15553 non-null float64\n",
      "primary_cleaner.input.depressant                      15598 non-null float64\n",
      "primary_cleaner.input.feed_size                       16860 non-null float64\n",
      "primary_cleaner.input.xanthate                        15875 non-null float64\n",
      "primary_cleaner.output.concentrate_ag                 16778 non-null float64\n",
      "primary_cleaner.output.concentrate_pb                 16502 non-null float64\n",
      "primary_cleaner.output.concentrate_sol                16224 non-null float64\n",
      "primary_cleaner.output.concentrate_au                 16778 non-null float64\n",
      "primary_cleaner.output.tail_ag                        16777 non-null float64\n",
      "primary_cleaner.output.tail_pb                        16761 non-null float64\n",
      "primary_cleaner.output.tail_sol                       16579 non-null float64\n",
      "primary_cleaner.output.tail_au                        16777 non-null float64\n",
      "primary_cleaner.state.floatbank8_a_air                16820 non-null float64\n",
      "primary_cleaner.state.floatbank8_a_level              16827 non-null float64\n",
      "primary_cleaner.state.floatbank8_b_air                16820 non-null float64\n",
      "primary_cleaner.state.floatbank8_b_level              16833 non-null float64\n",
      "primary_cleaner.state.floatbank8_c_air                16822 non-null float64\n",
      "primary_cleaner.state.floatbank8_c_level              16833 non-null float64\n",
      "primary_cleaner.state.floatbank8_d_air                16821 non-null float64\n",
      "primary_cleaner.state.floatbank8_d_level              16833 non-null float64\n",
      "rougher.calculation.sulfate_to_au_concentrate         16833 non-null float64\n",
      "rougher.calculation.floatbank10_sulfate_to_au_feed    16833 non-null float64\n",
      "rougher.calculation.floatbank11_sulfate_to_au_feed    16833 non-null float64\n",
      "rougher.calculation.au_pb_ratio                       15618 non-null float64\n",
      "rougher.input.feed_ag                                 16778 non-null float64\n",
      "rougher.input.feed_pb                                 16632 non-null float64\n",
      "rougher.input.feed_rate                               16347 non-null float64\n",
      "rougher.input.feed_size                               16443 non-null float64\n",
      "rougher.input.feed_sol                                16568 non-null float64\n",
      "rougher.input.feed_au                                 16777 non-null float64\n",
      "rougher.input.floatbank10_sulfate                     15816 non-null float64\n",
      "rougher.input.floatbank10_xanthate                    16514 non-null float64\n",
      "rougher.input.floatbank11_sulfate                     16237 non-null float64\n",
      "rougher.input.floatbank11_xanthate                    14956 non-null float64\n",
      "rougher.output.concentrate_ag                         16778 non-null float64\n",
      "rougher.output.concentrate_pb                         16778 non-null float64\n",
      "rougher.output.concentrate_sol                        16698 non-null float64\n",
      "rougher.output.concentrate_au                         16778 non-null float64\n",
      "rougher.output.recovery                               14287 non-null float64\n",
      "rougher.output.tail_ag                                14610 non-null float64\n",
      "rougher.output.tail_pb                                16778 non-null float64\n",
      "rougher.output.tail_sol                               14611 non-null float64\n",
      "rougher.output.tail_au                                14611 non-null float64\n",
      "rougher.state.floatbank10_a_air                       16807 non-null float64\n",
      "rougher.state.floatbank10_a_level                     16807 non-null float64\n",
      "rougher.state.floatbank10_b_air                       16807 non-null float64\n",
      "rougher.state.floatbank10_b_level                     16807 non-null float64\n",
      "rougher.state.floatbank10_c_air                       16807 non-null float64\n",
      "rougher.state.floatbank10_c_level                     16814 non-null float64\n",
      "rougher.state.floatbank10_d_air                       16802 non-null float64\n",
      "rougher.state.floatbank10_d_level                     16809 non-null float64\n",
      "rougher.state.floatbank10_e_air                       16257 non-null float64\n",
      "rougher.state.floatbank10_e_level                     16809 non-null float64\n",
      "rougher.state.floatbank10_f_air                       16802 non-null float64\n",
      "rougher.state.floatbank10_f_level                     16802 non-null float64\n",
      "secondary_cleaner.output.tail_ag                      16776 non-null float64\n",
      "secondary_cleaner.output.tail_pb                      16764 non-null float64\n",
      "secondary_cleaner.output.tail_sol                     14874 non-null float64\n",
      "secondary_cleaner.output.tail_au                      16778 non-null float64\n",
      "secondary_cleaner.state.floatbank2_a_air              16497 non-null float64\n",
      "secondary_cleaner.state.floatbank2_a_level            16751 non-null float64\n",
      "secondary_cleaner.state.floatbank2_b_air              16705 non-null float64\n",
      "secondary_cleaner.state.floatbank2_b_level            16748 non-null float64\n",
      "secondary_cleaner.state.floatbank3_a_air              16763 non-null float64\n",
      "secondary_cleaner.state.floatbank3_a_level            16747 non-null float64\n",
      "secondary_cleaner.state.floatbank3_b_air              16752 non-null float64\n",
      "secondary_cleaner.state.floatbank3_b_level            16750 non-null float64\n",
      "secondary_cleaner.state.floatbank4_a_air              16731 non-null float64\n",
      "secondary_cleaner.state.floatbank4_a_level            16747 non-null float64\n",
      "secondary_cleaner.state.floatbank4_b_air              16768 non-null float64\n",
      "secondary_cleaner.state.floatbank4_b_level            16767 non-null float64\n",
      "secondary_cleaner.state.floatbank5_a_air              16775 non-null float64\n",
      "secondary_cleaner.state.floatbank5_a_level            16775 non-null float64\n",
      "secondary_cleaner.state.floatbank5_b_air              16775 non-null float64\n",
      "secondary_cleaner.state.floatbank5_b_level            16776 non-null float64\n",
      "secondary_cleaner.state.floatbank6_a_air              16757 non-null float64\n",
      "secondary_cleaner.state.floatbank6_a_level            16775 non-null float64\n",
      "dtypes: float64(86), object(1)\n",
      "memory usage: 11.2+ MB\n"
     ]
    }
   ],
   "source": [
    "data_train.info()"
   ]
  },
  {
   "cell_type": "code",
   "execution_count": 8,
   "metadata": {},
   "outputs": [],
   "source": [
    "#преобразование столбца в формат даты\n",
    "data_train['date'] = pd.to_datetime(data_train['date'], format='%Y-%m-%dT%H:%M:%S')"
   ]
  },
  {
   "cell_type": "markdown",
   "metadata": {},
   "source": [
    "\n",
    "Мы должны проверить, правильно ли рассчитывается эффективность обогащения <i> rougher.output.recovery </i>.\n"
   ]
  },
  {
   "cell_type": "code",
   "execution_count": 9,
   "metadata": {},
   "outputs": [
    {
     "name": "stdout",
     "output_type": "stream",
     "text": [
      "9.444891926100695e-15\n"
     ]
    },
    {
     "name": "stderr",
     "output_type": "stream",
     "text": [
      "/opt/conda/lib/python3.7/site-packages/ipykernel_launcher.py:13: SettingWithCopyWarning: \n",
      "A value is trying to be set on a copy of a slice from a DataFrame.\n",
      "Try using .loc[row_indexer,col_indexer] = value instead\n",
      "\n",
      "See the caveats in the documentation: http://pandas.pydata.org/pandas-docs/stable/user_guide/indexing.html#returning-a-view-versus-a-copy\n",
      "  del sys.path[0]\n"
     ]
    }
   ],
   "source": [
    "#создадим новый набор данных с отсутствующими нулевыми значениями столбцов, необходимых для расчета\n",
    "clean_train = (\n",
    "    data_train[(data_train['rougher.output.concentrate_au'].notna())\n",
    "                     &(data_train['rougher.input.feed_au'].notna())\n",
    "                     &(data_train['rougher.output.tail_au'].notna())\n",
    "                     &(data_train['rougher.output.recovery'].notna())]\n",
    ")\n",
    "#параметры, участвующие в формуле\n",
    "c = clean_train['rougher.output.concentrate_au']\n",
    "f = clean_train['rougher.input.feed_au']\n",
    "t = clean_train['rougher.output.tail_au']\n",
    "#рассчитанная эффективность обогащения\n",
    "clean_train['result'] = (c*(f-t))/(f*(c-t))*100\n",
    "#вывод МАЕ\n",
    "print(mean_absolute_error(clean_train['rougher.output.recovery'], clean_train['result']))"
   ]
  },
  {
   "cell_type": "markdown",
   "metadata": {},
   "source": [
    "\n",
    "Значение МАЕ очень близко к 0, значит можем сделать вывод, что параметр эффективности обогащения рассчитан верно.\n"
   ]
  },
  {
   "cell_type": "markdown",
   "metadata": {},
   "source": [
    "\n",
    "Теперь рассмотрим последний датасет - тестовую выборку.\n"
   ]
  },
  {
   "cell_type": "code",
   "execution_count": 10,
   "metadata": {},
   "outputs": [
    {
     "name": "stdout",
     "output_type": "stream",
     "text": [
      "<class 'pandas.core.frame.DataFrame'>\n",
      "RangeIndex: 5856 entries, 0 to 5855\n",
      "Data columns (total 53 columns):\n",
      "date                                          5856 non-null object\n",
      "primary_cleaner.input.sulfate                 5554 non-null float64\n",
      "primary_cleaner.input.depressant              5572 non-null float64\n",
      "primary_cleaner.input.feed_size               5856 non-null float64\n",
      "primary_cleaner.input.xanthate                5690 non-null float64\n",
      "primary_cleaner.state.floatbank8_a_air        5840 non-null float64\n",
      "primary_cleaner.state.floatbank8_a_level      5840 non-null float64\n",
      "primary_cleaner.state.floatbank8_b_air        5840 non-null float64\n",
      "primary_cleaner.state.floatbank8_b_level      5840 non-null float64\n",
      "primary_cleaner.state.floatbank8_c_air        5840 non-null float64\n",
      "primary_cleaner.state.floatbank8_c_level      5840 non-null float64\n",
      "primary_cleaner.state.floatbank8_d_air        5840 non-null float64\n",
      "primary_cleaner.state.floatbank8_d_level      5840 non-null float64\n",
      "rougher.input.feed_ag                         5840 non-null float64\n",
      "rougher.input.feed_pb                         5840 non-null float64\n",
      "rougher.input.feed_rate                       5816 non-null float64\n",
      "rougher.input.feed_size                       5834 non-null float64\n",
      "rougher.input.feed_sol                        5789 non-null float64\n",
      "rougher.input.feed_au                         5840 non-null float64\n",
      "rougher.input.floatbank10_sulfate             5599 non-null float64\n",
      "rougher.input.floatbank10_xanthate            5733 non-null float64\n",
      "rougher.input.floatbank11_sulfate             5801 non-null float64\n",
      "rougher.input.floatbank11_xanthate            5503 non-null float64\n",
      "rougher.state.floatbank10_a_air               5839 non-null float64\n",
      "rougher.state.floatbank10_a_level             5840 non-null float64\n",
      "rougher.state.floatbank10_b_air               5839 non-null float64\n",
      "rougher.state.floatbank10_b_level             5840 non-null float64\n",
      "rougher.state.floatbank10_c_air               5839 non-null float64\n",
      "rougher.state.floatbank10_c_level             5840 non-null float64\n",
      "rougher.state.floatbank10_d_air               5839 non-null float64\n",
      "rougher.state.floatbank10_d_level             5840 non-null float64\n",
      "rougher.state.floatbank10_e_air               5839 non-null float64\n",
      "rougher.state.floatbank10_e_level             5840 non-null float64\n",
      "rougher.state.floatbank10_f_air               5839 non-null float64\n",
      "rougher.state.floatbank10_f_level             5840 non-null float64\n",
      "secondary_cleaner.state.floatbank2_a_air      5836 non-null float64\n",
      "secondary_cleaner.state.floatbank2_a_level    5840 non-null float64\n",
      "secondary_cleaner.state.floatbank2_b_air      5833 non-null float64\n",
      "secondary_cleaner.state.floatbank2_b_level    5840 non-null float64\n",
      "secondary_cleaner.state.floatbank3_a_air      5822 non-null float64\n",
      "secondary_cleaner.state.floatbank3_a_level    5840 non-null float64\n",
      "secondary_cleaner.state.floatbank3_b_air      5840 non-null float64\n",
      "secondary_cleaner.state.floatbank3_b_level    5840 non-null float64\n",
      "secondary_cleaner.state.floatbank4_a_air      5840 non-null float64\n",
      "secondary_cleaner.state.floatbank4_a_level    5840 non-null float64\n",
      "secondary_cleaner.state.floatbank4_b_air      5840 non-null float64\n",
      "secondary_cleaner.state.floatbank4_b_level    5840 non-null float64\n",
      "secondary_cleaner.state.floatbank5_a_air      5840 non-null float64\n",
      "secondary_cleaner.state.floatbank5_a_level    5840 non-null float64\n",
      "secondary_cleaner.state.floatbank5_b_air      5840 non-null float64\n",
      "secondary_cleaner.state.floatbank5_b_level    5840 non-null float64\n",
      "secondary_cleaner.state.floatbank6_a_air      5840 non-null float64\n",
      "secondary_cleaner.state.floatbank6_a_level    5840 non-null float64\n",
      "dtypes: float64(52), object(1)\n",
      "memory usage: 2.4+ MB\n"
     ]
    }
   ],
   "source": [
    "data_test.info()"
   ]
  },
  {
   "cell_type": "code",
   "execution_count": 11,
   "metadata": {},
   "outputs": [],
   "source": [
    "#преобразование столбца в формат даты\n",
    "data_test['date'] = pd.to_datetime(data_test['date'], format='%Y-%m-%dT%H:%M:%S')"
   ]
  },
  {
   "cell_type": "markdown",
   "metadata": {},
   "source": [
    "\n",
    "Первое, что бросается в глаза - это гораздо меньшее количество столбцов, чем в обучающей выборке. Видим, что в тестовой выборке отсутствуют параметры, полученные уже в процессе очистки. Поскольку нам необходимо смоделировать коэффициент восстановление золота как раз, чтобы не запускать предприятия с убыточными характеристиками, то параметров, полученных уже в процессе производства, и не должно быть в качестве исходных. Таким образом, при построении модели в качестве признаков <i> features </i> будут использованы только те столбцы, которые присутствуют в тестовой выборке.\n"
   ]
  },
  {
   "cell_type": "markdown",
   "metadata": {},
   "source": [
    "\n",
    "Сейчас мы проведем предобработку данных, проверим есть ли дубликаты в исходных данных и заполним пропущенные значения.\n"
   ]
  },
  {
   "cell_type": "code",
   "execution_count": 12,
   "metadata": {},
   "outputs": [
    {
     "data": {
      "text/plain": [
       "0"
      ]
     },
     "execution_count": 12,
     "metadata": {},
     "output_type": "execute_result"
    }
   ],
   "source": [
    "data_train.duplicated().sum()"
   ]
  },
  {
   "cell_type": "code",
   "execution_count": 13,
   "metadata": {},
   "outputs": [
    {
     "data": {
      "text/plain": [
       "0"
      ]
     },
     "execution_count": 13,
     "metadata": {},
     "output_type": "execute_result"
    }
   ],
   "source": [
    "data_test.duplicated().sum()"
   ]
  },
  {
   "cell_type": "markdown",
   "metadata": {},
   "source": [
    "\n",
    "В поставленной задаче нам необходимо спрогнозировать два целевых признака: <i> rougher.output.recovery </i> и <i> final.output.recovery </i>. В случае, если в них есть пропуски, мы можем их заполнить по уже данной формуле.\n",
    "\n",
    "Проверим пропуски в других столбцах.\n"
   ]
  },
  {
   "cell_type": "code",
   "execution_count": 14,
   "metadata": {},
   "outputs": [],
   "source": [
    "columns_train = data_train.columns[(data_train.columns!='rougher.output.recovery')&(data_train.columns!='final.output.recovery')&(data_train.columns!='date')]"
   ]
  },
  {
   "cell_type": "code",
   "execution_count": 15,
   "metadata": {},
   "outputs": [
    {
     "data": {
      "text/plain": [
       "final.output.concentrate_ag                             72\n",
       "final.output.concentrate_pb                             72\n",
       "final.output.concentrate_sol                           370\n",
       "final.output.concentrate_au                             71\n",
       "final.output.tail_ag                                    66\n",
       "final.output.tail_pb                                   183\n",
       "final.output.tail_sol                                  145\n",
       "final.output.tail_au                                    66\n",
       "primary_cleaner.input.sulfate                         1307\n",
       "primary_cleaner.input.depressant                      1262\n",
       "primary_cleaner.input.feed_size                          0\n",
       "primary_cleaner.input.xanthate                         985\n",
       "primary_cleaner.output.concentrate_ag                   82\n",
       "primary_cleaner.output.concentrate_pb                  358\n",
       "primary_cleaner.output.concentrate_sol                 636\n",
       "primary_cleaner.output.concentrate_au                   82\n",
       "primary_cleaner.output.tail_ag                          83\n",
       "primary_cleaner.output.tail_pb                          99\n",
       "primary_cleaner.output.tail_sol                        281\n",
       "primary_cleaner.output.tail_au                          83\n",
       "primary_cleaner.state.floatbank8_a_air                  40\n",
       "primary_cleaner.state.floatbank8_a_level                33\n",
       "primary_cleaner.state.floatbank8_b_air                  40\n",
       "primary_cleaner.state.floatbank8_b_level                27\n",
       "primary_cleaner.state.floatbank8_c_air                  38\n",
       "primary_cleaner.state.floatbank8_c_level                27\n",
       "primary_cleaner.state.floatbank8_d_air                  39\n",
       "primary_cleaner.state.floatbank8_d_level                27\n",
       "rougher.calculation.sulfate_to_au_concentrate           27\n",
       "rougher.calculation.floatbank10_sulfate_to_au_feed      27\n",
       "rougher.calculation.floatbank11_sulfate_to_au_feed      27\n",
       "rougher.calculation.au_pb_ratio                       1242\n",
       "rougher.input.feed_ag                                   82\n",
       "rougher.input.feed_pb                                  228\n",
       "rougher.input.feed_rate                                513\n",
       "rougher.input.feed_size                                417\n",
       "rougher.input.feed_sol                                 292\n",
       "rougher.input.feed_au                                   83\n",
       "rougher.input.floatbank10_sulfate                     1044\n",
       "rougher.input.floatbank10_xanthate                     346\n",
       "rougher.input.floatbank11_sulfate                      623\n",
       "rougher.input.floatbank11_xanthate                    1904\n",
       "rougher.output.concentrate_ag                           82\n",
       "rougher.output.concentrate_pb                           82\n",
       "rougher.output.concentrate_sol                         162\n",
       "rougher.output.concentrate_au                           82\n",
       "rougher.output.tail_ag                                2250\n",
       "rougher.output.tail_pb                                  82\n",
       "rougher.output.tail_sol                               2249\n",
       "rougher.output.tail_au                                2249\n",
       "rougher.state.floatbank10_a_air                         53\n",
       "rougher.state.floatbank10_a_level                       53\n",
       "rougher.state.floatbank10_b_air                         53\n",
       "rougher.state.floatbank10_b_level                       53\n",
       "rougher.state.floatbank10_c_air                         53\n",
       "rougher.state.floatbank10_c_level                       46\n",
       "rougher.state.floatbank10_d_air                         58\n",
       "rougher.state.floatbank10_d_level                       51\n",
       "rougher.state.floatbank10_e_air                        603\n",
       "rougher.state.floatbank10_e_level                       51\n",
       "rougher.state.floatbank10_f_air                         58\n",
       "rougher.state.floatbank10_f_level                       58\n",
       "secondary_cleaner.output.tail_ag                        84\n",
       "secondary_cleaner.output.tail_pb                        96\n",
       "secondary_cleaner.output.tail_sol                     1986\n",
       "secondary_cleaner.output.tail_au                        82\n",
       "secondary_cleaner.state.floatbank2_a_air               363\n",
       "secondary_cleaner.state.floatbank2_a_level             109\n",
       "secondary_cleaner.state.floatbank2_b_air               155\n",
       "secondary_cleaner.state.floatbank2_b_level             112\n",
       "secondary_cleaner.state.floatbank3_a_air                97\n",
       "secondary_cleaner.state.floatbank3_a_level             113\n",
       "secondary_cleaner.state.floatbank3_b_air               108\n",
       "secondary_cleaner.state.floatbank3_b_level             110\n",
       "secondary_cleaner.state.floatbank4_a_air               129\n",
       "secondary_cleaner.state.floatbank4_a_level             113\n",
       "secondary_cleaner.state.floatbank4_b_air                92\n",
       "secondary_cleaner.state.floatbank4_b_level              93\n",
       "secondary_cleaner.state.floatbank5_a_air                85\n",
       "secondary_cleaner.state.floatbank5_a_level              85\n",
       "secondary_cleaner.state.floatbank5_b_air                85\n",
       "secondary_cleaner.state.floatbank5_b_level              84\n",
       "secondary_cleaner.state.floatbank6_a_air               103\n",
       "secondary_cleaner.state.floatbank6_a_level              85\n",
       "dtype: int64"
      ]
     },
     "execution_count": 15,
     "metadata": {},
     "output_type": "execute_result"
    }
   ],
   "source": [
    "pd.options.display.max_rows = 100\n",
    "data_train[columns_train].isna().sum()"
   ]
  },
  {
   "cell_type": "markdown",
   "metadata": {},
   "source": [
    "\n",
    "Пропуски в этих столбцах мы можем заполнить.\n"
   ]
  },
  {
   "cell_type": "code",
   "execution_count": 16,
   "metadata": {},
   "outputs": [
    {
     "data": {
      "text/plain": [
       "final.output.concentrate_ag                           0\n",
       "final.output.concentrate_pb                           0\n",
       "final.output.concentrate_sol                          0\n",
       "final.output.concentrate_au                           0\n",
       "final.output.tail_ag                                  0\n",
       "final.output.tail_pb                                  0\n",
       "final.output.tail_sol                                 0\n",
       "final.output.tail_au                                  0\n",
       "primary_cleaner.input.sulfate                         0\n",
       "primary_cleaner.input.depressant                      0\n",
       "primary_cleaner.input.feed_size                       0\n",
       "primary_cleaner.input.xanthate                        0\n",
       "primary_cleaner.output.concentrate_ag                 0\n",
       "primary_cleaner.output.concentrate_pb                 0\n",
       "primary_cleaner.output.concentrate_sol                0\n",
       "primary_cleaner.output.concentrate_au                 0\n",
       "primary_cleaner.output.tail_ag                        0\n",
       "primary_cleaner.output.tail_pb                        0\n",
       "primary_cleaner.output.tail_sol                       0\n",
       "primary_cleaner.output.tail_au                        0\n",
       "primary_cleaner.state.floatbank8_a_air                0\n",
       "primary_cleaner.state.floatbank8_a_level              0\n",
       "primary_cleaner.state.floatbank8_b_air                0\n",
       "primary_cleaner.state.floatbank8_b_level              0\n",
       "primary_cleaner.state.floatbank8_c_air                0\n",
       "primary_cleaner.state.floatbank8_c_level              0\n",
       "primary_cleaner.state.floatbank8_d_air                0\n",
       "primary_cleaner.state.floatbank8_d_level              0\n",
       "rougher.calculation.sulfate_to_au_concentrate         0\n",
       "rougher.calculation.floatbank10_sulfate_to_au_feed    0\n",
       "rougher.calculation.floatbank11_sulfate_to_au_feed    0\n",
       "rougher.calculation.au_pb_ratio                       0\n",
       "rougher.input.feed_ag                                 0\n",
       "rougher.input.feed_pb                                 0\n",
       "rougher.input.feed_rate                               0\n",
       "rougher.input.feed_size                               0\n",
       "rougher.input.feed_sol                                0\n",
       "rougher.input.feed_au                                 0\n",
       "rougher.input.floatbank10_sulfate                     0\n",
       "rougher.input.floatbank10_xanthate                    0\n",
       "rougher.input.floatbank11_sulfate                     0\n",
       "rougher.input.floatbank11_xanthate                    0\n",
       "rougher.output.concentrate_ag                         0\n",
       "rougher.output.concentrate_pb                         0\n",
       "rougher.output.concentrate_sol                        0\n",
       "rougher.output.concentrate_au                         0\n",
       "rougher.output.tail_ag                                0\n",
       "rougher.output.tail_pb                                0\n",
       "rougher.output.tail_sol                               0\n",
       "rougher.output.tail_au                                0\n",
       "rougher.state.floatbank10_a_air                       0\n",
       "rougher.state.floatbank10_a_level                     0\n",
       "rougher.state.floatbank10_b_air                       0\n",
       "rougher.state.floatbank10_b_level                     0\n",
       "rougher.state.floatbank10_c_air                       0\n",
       "rougher.state.floatbank10_c_level                     0\n",
       "rougher.state.floatbank10_d_air                       0\n",
       "rougher.state.floatbank10_d_level                     0\n",
       "rougher.state.floatbank10_e_air                       0\n",
       "rougher.state.floatbank10_e_level                     0\n",
       "rougher.state.floatbank10_f_air                       0\n",
       "rougher.state.floatbank10_f_level                     0\n",
       "secondary_cleaner.output.tail_ag                      0\n",
       "secondary_cleaner.output.tail_pb                      0\n",
       "secondary_cleaner.output.tail_sol                     0\n",
       "secondary_cleaner.output.tail_au                      0\n",
       "secondary_cleaner.state.floatbank2_a_air              0\n",
       "secondary_cleaner.state.floatbank2_a_level            0\n",
       "secondary_cleaner.state.floatbank2_b_air              0\n",
       "secondary_cleaner.state.floatbank2_b_level            0\n",
       "secondary_cleaner.state.floatbank3_a_air              0\n",
       "secondary_cleaner.state.floatbank3_a_level            0\n",
       "secondary_cleaner.state.floatbank3_b_air              0\n",
       "secondary_cleaner.state.floatbank3_b_level            0\n",
       "secondary_cleaner.state.floatbank4_a_air              0\n",
       "secondary_cleaner.state.floatbank4_a_level            0\n",
       "secondary_cleaner.state.floatbank4_b_air              0\n",
       "secondary_cleaner.state.floatbank4_b_level            0\n",
       "secondary_cleaner.state.floatbank5_a_air              0\n",
       "secondary_cleaner.state.floatbank5_a_level            0\n",
       "secondary_cleaner.state.floatbank5_b_air              0\n",
       "secondary_cleaner.state.floatbank5_b_level            0\n",
       "secondary_cleaner.state.floatbank6_a_air              0\n",
       "secondary_cleaner.state.floatbank6_a_level            0\n",
       "dtype: int64"
      ]
     },
     "execution_count": 16,
     "metadata": {},
     "output_type": "execute_result"
    }
   ],
   "source": [
    "data_train[columns_train] = data_train[columns_train].ffill(axis=1).astype('float64')\n",
    "data_train[columns_train] = data_train[columns_train].bfill(axis=1).astype('float64')\n",
    "data_train[columns_train].isna().sum()"
   ]
  },
  {
   "cell_type": "markdown",
   "metadata": {},
   "source": [
    "\n",
    "Целевые признаки теперь мы можем заполнить по формуле выше.\n"
   ]
  },
  {
   "cell_type": "code",
   "execution_count": 17,
   "metadata": {},
   "outputs": [
    {
     "data": {
      "text/plain": [
       "2573"
      ]
     },
     "execution_count": 17,
     "metadata": {},
     "output_type": "execute_result"
    }
   ],
   "source": [
    "data_train['rougher.output.recovery'].isna().sum()"
   ]
  },
  {
   "cell_type": "code",
   "execution_count": 18,
   "metadata": {},
   "outputs": [
    {
     "name": "stdout",
     "output_type": "stream",
     "text": [
      "0.07473309608540925\n"
     ]
    }
   ],
   "source": [
    "#параметры, участвующие в формуле\n",
    "c = data_train['rougher.output.concentrate_au']\n",
    "f = data_train['rougher.input.feed_au']\n",
    "t = data_train['rougher.output.tail_au']\n",
    "data_train['div'] = f*(c-t)\n",
    "\n",
    "print(data_train[data_train['div']==0]['rougher.output.recovery'].isna().sum()/len(data_train))"
   ]
  },
  {
   "cell_type": "markdown",
   "metadata": {},
   "source": [
    "\n",
    "В случае, если знаменатель в формуле будет равен 0, мы не сможем посчитать его. Таких строк не очень много и мы можем их удалить, т.к. для модели важно, чтобы целевые признаки были без пропусков.\n"
   ]
  },
  {
   "cell_type": "code",
   "execution_count": 19,
   "metadata": {},
   "outputs": [],
   "source": [
    "data_train = data_train.loc[data_train['div'] != 0]\n",
    "\n",
    "data_train.loc[data_train['rougher.output.recovery'].isna(), 'rougher.output.recovery'] = (c*(f-t))/(data_train['div'])*100\n"
   ]
  },
  {
   "cell_type": "markdown",
   "metadata": {},
   "source": [
    "\n",
    "Количество пропусков во втором целевом столбце - <i> final.output.recovery </i> - очень мало, их можно также удалить.\n"
   ]
  },
  {
   "cell_type": "code",
   "execution_count": 20,
   "metadata": {},
   "outputs": [],
   "source": [
    "data_train = data_train.loc[data_train['final.output.recovery'].notna()]"
   ]
  },
  {
   "cell_type": "markdown",
   "metadata": {},
   "source": [
    "\n",
    "Теперь мы должны обработать данные во втором датасете - в тестовой выборке. Здесь отсутствуют два целевых столбца, мы должны их подгрузить из общего датасета. Затем также проверим данные на дубликаты и пропуски.\n"
   ]
  },
  {
   "cell_type": "code",
   "execution_count": 21,
   "metadata": {},
   "outputs": [
    {
     "name": "stdout",
     "output_type": "stream",
     "text": [
      "<class 'pandas.core.frame.DataFrame'>\n",
      "Int64Index: 5856 entries, 0 to 5855\n",
      "Data columns (total 55 columns):\n",
      "date                                          5856 non-null datetime64[ns]\n",
      "primary_cleaner.input.sulfate                 5554 non-null float64\n",
      "primary_cleaner.input.depressant              5572 non-null float64\n",
      "primary_cleaner.input.feed_size               5856 non-null float64\n",
      "primary_cleaner.input.xanthate                5690 non-null float64\n",
      "primary_cleaner.state.floatbank8_a_air        5840 non-null float64\n",
      "primary_cleaner.state.floatbank8_a_level      5840 non-null float64\n",
      "primary_cleaner.state.floatbank8_b_air        5840 non-null float64\n",
      "primary_cleaner.state.floatbank8_b_level      5840 non-null float64\n",
      "primary_cleaner.state.floatbank8_c_air        5840 non-null float64\n",
      "primary_cleaner.state.floatbank8_c_level      5840 non-null float64\n",
      "primary_cleaner.state.floatbank8_d_air        5840 non-null float64\n",
      "primary_cleaner.state.floatbank8_d_level      5840 non-null float64\n",
      "rougher.input.feed_ag                         5840 non-null float64\n",
      "rougher.input.feed_pb                         5840 non-null float64\n",
      "rougher.input.feed_rate                       5816 non-null float64\n",
      "rougher.input.feed_size                       5834 non-null float64\n",
      "rougher.input.feed_sol                        5789 non-null float64\n",
      "rougher.input.feed_au                         5840 non-null float64\n",
      "rougher.input.floatbank10_sulfate             5599 non-null float64\n",
      "rougher.input.floatbank10_xanthate            5733 non-null float64\n",
      "rougher.input.floatbank11_sulfate             5801 non-null float64\n",
      "rougher.input.floatbank11_xanthate            5503 non-null float64\n",
      "rougher.state.floatbank10_a_air               5839 non-null float64\n",
      "rougher.state.floatbank10_a_level             5840 non-null float64\n",
      "rougher.state.floatbank10_b_air               5839 non-null float64\n",
      "rougher.state.floatbank10_b_level             5840 non-null float64\n",
      "rougher.state.floatbank10_c_air               5839 non-null float64\n",
      "rougher.state.floatbank10_c_level             5840 non-null float64\n",
      "rougher.state.floatbank10_d_air               5839 non-null float64\n",
      "rougher.state.floatbank10_d_level             5840 non-null float64\n",
      "rougher.state.floatbank10_e_air               5839 non-null float64\n",
      "rougher.state.floatbank10_e_level             5840 non-null float64\n",
      "rougher.state.floatbank10_f_air               5839 non-null float64\n",
      "rougher.state.floatbank10_f_level             5840 non-null float64\n",
      "secondary_cleaner.state.floatbank2_a_air      5836 non-null float64\n",
      "secondary_cleaner.state.floatbank2_a_level    5840 non-null float64\n",
      "secondary_cleaner.state.floatbank2_b_air      5833 non-null float64\n",
      "secondary_cleaner.state.floatbank2_b_level    5840 non-null float64\n",
      "secondary_cleaner.state.floatbank3_a_air      5822 non-null float64\n",
      "secondary_cleaner.state.floatbank3_a_level    5840 non-null float64\n",
      "secondary_cleaner.state.floatbank3_b_air      5840 non-null float64\n",
      "secondary_cleaner.state.floatbank3_b_level    5840 non-null float64\n",
      "secondary_cleaner.state.floatbank4_a_air      5840 non-null float64\n",
      "secondary_cleaner.state.floatbank4_a_level    5840 non-null float64\n",
      "secondary_cleaner.state.floatbank4_b_air      5840 non-null float64\n",
      "secondary_cleaner.state.floatbank4_b_level    5840 non-null float64\n",
      "secondary_cleaner.state.floatbank5_a_air      5840 non-null float64\n",
      "secondary_cleaner.state.floatbank5_a_level    5840 non-null float64\n",
      "secondary_cleaner.state.floatbank5_b_air      5840 non-null float64\n",
      "secondary_cleaner.state.floatbank5_b_level    5840 non-null float64\n",
      "secondary_cleaner.state.floatbank6_a_air      5840 non-null float64\n",
      "secondary_cleaner.state.floatbank6_a_level    5840 non-null float64\n",
      "rougher.output.recovery                       5310 non-null float64\n",
      "final.output.recovery                         5414 non-null float64\n",
      "dtypes: datetime64[ns](1), float64(54)\n",
      "memory usage: 2.5 MB\n"
     ]
    }
   ],
   "source": [
    "#объединение двух таблиц - в тестовую выборку переносим целевые признаки из общей таблицы\n",
    "data_test = data_test.merge(data_full[['date', 'rougher.output.recovery', 'final.output.recovery']], on='date', how='left')\n",
    "data_test.info()"
   ]
  },
  {
   "cell_type": "markdown",
   "metadata": {},
   "source": [
    "\n",
    "В целевых признаках присутствуют пропуски, но их меньше 10%, поэтому можем удалить эти строки. В случае пропусков в других столбцах, можем заполнить их по аналогии с пропусками в таблице <i> data_train </i>.\n"
   ]
  },
  {
   "cell_type": "code",
   "execution_count": 22,
   "metadata": {},
   "outputs": [
    {
     "name": "stdout",
     "output_type": "stream",
     "text": [
      "<class 'pandas.core.frame.DataFrame'>\n",
      "Int64Index: 5290 entries, 0 to 5855\n",
      "Data columns (total 55 columns):\n",
      "date                                          5290 non-null datetime64[ns]\n",
      "primary_cleaner.input.sulfate                 5290 non-null float64\n",
      "primary_cleaner.input.depressant              5290 non-null float64\n",
      "primary_cleaner.input.feed_size               5290 non-null float64\n",
      "primary_cleaner.input.xanthate                5290 non-null float64\n",
      "primary_cleaner.state.floatbank8_a_air        5290 non-null float64\n",
      "primary_cleaner.state.floatbank8_a_level      5290 non-null float64\n",
      "primary_cleaner.state.floatbank8_b_air        5290 non-null float64\n",
      "primary_cleaner.state.floatbank8_b_level      5290 non-null float64\n",
      "primary_cleaner.state.floatbank8_c_air        5290 non-null float64\n",
      "primary_cleaner.state.floatbank8_c_level      5290 non-null float64\n",
      "primary_cleaner.state.floatbank8_d_air        5290 non-null float64\n",
      "primary_cleaner.state.floatbank8_d_level      5290 non-null float64\n",
      "rougher.input.feed_ag                         5290 non-null float64\n",
      "rougher.input.feed_pb                         5290 non-null float64\n",
      "rougher.input.feed_rate                       5290 non-null float64\n",
      "rougher.input.feed_size                       5290 non-null float64\n",
      "rougher.input.feed_sol                        5290 non-null float64\n",
      "rougher.input.feed_au                         5290 non-null float64\n",
      "rougher.input.floatbank10_sulfate             5290 non-null float64\n",
      "rougher.input.floatbank10_xanthate            5290 non-null float64\n",
      "rougher.input.floatbank11_sulfate             5290 non-null float64\n",
      "rougher.input.floatbank11_xanthate            5290 non-null float64\n",
      "rougher.state.floatbank10_a_air               5290 non-null float64\n",
      "rougher.state.floatbank10_a_level             5290 non-null float64\n",
      "rougher.state.floatbank10_b_air               5290 non-null float64\n",
      "rougher.state.floatbank10_b_level             5290 non-null float64\n",
      "rougher.state.floatbank10_c_air               5290 non-null float64\n",
      "rougher.state.floatbank10_c_level             5290 non-null float64\n",
      "rougher.state.floatbank10_d_air               5290 non-null float64\n",
      "rougher.state.floatbank10_d_level             5290 non-null float64\n",
      "rougher.state.floatbank10_e_air               5290 non-null float64\n",
      "rougher.state.floatbank10_e_level             5290 non-null float64\n",
      "rougher.state.floatbank10_f_air               5290 non-null float64\n",
      "rougher.state.floatbank10_f_level             5290 non-null float64\n",
      "secondary_cleaner.state.floatbank2_a_air      5290 non-null float64\n",
      "secondary_cleaner.state.floatbank2_a_level    5290 non-null float64\n",
      "secondary_cleaner.state.floatbank2_b_air      5290 non-null float64\n",
      "secondary_cleaner.state.floatbank2_b_level    5290 non-null float64\n",
      "secondary_cleaner.state.floatbank3_a_air      5290 non-null float64\n",
      "secondary_cleaner.state.floatbank3_a_level    5290 non-null float64\n",
      "secondary_cleaner.state.floatbank3_b_air      5290 non-null float64\n",
      "secondary_cleaner.state.floatbank3_b_level    5290 non-null float64\n",
      "secondary_cleaner.state.floatbank4_a_air      5290 non-null float64\n",
      "secondary_cleaner.state.floatbank4_a_level    5290 non-null float64\n",
      "secondary_cleaner.state.floatbank4_b_air      5290 non-null float64\n",
      "secondary_cleaner.state.floatbank4_b_level    5290 non-null float64\n",
      "secondary_cleaner.state.floatbank5_a_air      5290 non-null float64\n",
      "secondary_cleaner.state.floatbank5_a_level    5290 non-null float64\n",
      "secondary_cleaner.state.floatbank5_b_air      5290 non-null float64\n",
      "secondary_cleaner.state.floatbank5_b_level    5290 non-null float64\n",
      "secondary_cleaner.state.floatbank6_a_air      5290 non-null float64\n",
      "secondary_cleaner.state.floatbank6_a_level    5290 non-null float64\n",
      "rougher.output.recovery                       5290 non-null float64\n",
      "final.output.recovery                         5290 non-null float64\n",
      "dtypes: datetime64[ns](1), float64(54)\n",
      "memory usage: 2.3 MB\n"
     ]
    }
   ],
   "source": [
    "data_test = data_test.loc[data_test['final.output.recovery'].notna()]\n",
    "data_test = data_test.loc[data_test['rougher.output.recovery'].notna()]\n",
    "columns_test = data_test.columns[(data_test.columns!='rougher.output.recovery')&(data_test.columns!='final.output.recovery')&(data_test.columns!='date')]\n",
    "data_test[columns_test] = data_test[columns_test].ffill(axis=1).astype('float64')\n",
    "data_test[columns_test] = data_test[columns_test].bfill(axis=1).astype('float64')\n",
    "data_test.info()"
   ]
  },
  {
   "cell_type": "markdown",
   "metadata": {},
   "source": [
    "## Вывод"
   ]
  },
  {
   "cell_type": "markdown",
   "metadata": {},
   "source": [
    "\n",
    "В первой части работы мы загрузили и изучили исходную информацию, провели предобработку данных и подготовили их к дальнейшему анализу. Сейчас в необходимых нам выборках нет дубликатов и пропусков, а также присутствуют все необходимые для построения модели признаки.\n"
   ]
  },
  {
   "cell_type": "markdown",
   "metadata": {},
   "source": [
    "[К оглавлению](#intro)"
   ]
  },
  {
   "cell_type": "markdown",
   "metadata": {},
   "source": [
    "<a id='chapter2'></a>\n",
    "\n",
    "# Анализ данных"
   ]
  },
  {
   "cell_type": "markdown",
   "metadata": {},
   "source": [
    "\n",
    "Посмотрим, как меняется концентрация металлов после разных ступеней очистки.\n"
   ]
  },
  {
   "cell_type": "code",
   "execution_count": 23,
   "metadata": {},
   "outputs": [
    {
     "data": {
      "text/plain": [
       "Text(0.5, 1.0, 'Распределение после флотации')"
      ]
     },
     "execution_count": 23,
     "metadata": {},
     "output_type": "execute_result"
    },
    {
     "data": {
      "image/png": "[encoded data removed]",
      "text/plain": [
       "<Figure size 432x288 with 1 Axes>"
      ]
     },
     "metadata": {
      "needs_background": "light"
     },
     "output_type": "display_data"
    }
   ],
   "source": [
    "new_full = data_full\n",
    "new_full = new_full.rename(columns={'rougher.output.concentrate_au' : 'AU', 'rougher.output.concentrate_ag' : 'AG', 'rougher.output.concentrate_pb' : 'PB'})\n",
    "ax = new_full.boxplot(column=['AU', 'AG', 'PB'])\n",
    "ax.set_title('Распределение после флотации')"
   ]
  },
  {
   "cell_type": "code",
   "execution_count": 24,
   "metadata": {},
   "outputs": [
    {
     "name": "stderr",
     "output_type": "stream",
     "text": [
      "/opt/conda/lib/python3.7/site-packages/numpy/core/_asarray.py:83: VisibleDeprecationWarning: Creating an ndarray from ragged nested sequences (which is a list-or-tuple of lists-or-tuples-or ndarrays with different lengths or shapes) is deprecated. If you meant to do this, you must specify 'dtype=object' when creating the ndarray\n",
      "  return array(a, dtype, copy=False, order=order)\n"
     ]
    },
    {
     "data": {
      "text/plain": [
       "Text(0.5, 1.0, 'Распределение после первой очистки')"
      ]
     },
     "execution_count": 24,
     "metadata": {},
     "output_type": "execute_result"
    },
    {
     "data": {
      "image/png": "[encoded data removed]",
      "text/plain": [
       "<Figure size 432x288 with 1 Axes>"
      ]
     },
     "metadata": {
      "needs_background": "light"
     },
     "output_type": "display_data"
    }
   ],
   "source": [
    "new_full = data_full\n",
    "new_full = new_full.rename(columns={'primary_cleaner.output.concentrate_au' : 'AU', 'primary_cleaner.output.concentrate_ag' : 'AG', 'primary_cleaner.output.concentrate_pb' : 'PB'})\n",
    "ax = new_full.boxplot(column=['AU', 'AG', 'PB'])\n",
    "ax.set_title('Распределение после первой очистки')"
   ]
  },
  {
   "cell_type": "code",
   "execution_count": 25,
   "metadata": {},
   "outputs": [
    {
     "name": "stderr",
     "output_type": "stream",
     "text": [
      "/opt/conda/lib/python3.7/site-packages/numpy/core/_asarray.py:83: VisibleDeprecationWarning: Creating an ndarray from ragged nested sequences (which is a list-or-tuple of lists-or-tuples-or ndarrays with different lengths or shapes) is deprecated. If you meant to do this, you must specify 'dtype=object' when creating the ndarray\n",
      "  return array(a, dtype, copy=False, order=order)\n"
     ]
    },
    {
     "data": {
      "text/plain": [
       "Text(0.5, 1.0, 'Распределение после второй очистки')"
      ]
     },
     "execution_count": 25,
     "metadata": {},
     "output_type": "execute_result"
    },
    {
     "data": {
      "image/png": "[encoded data removed]",
      "text/plain": [
       "<Figure size 432x288 with 1 Axes>"
      ]
     },
     "metadata": {
      "needs_background": "light"
     },
     "output_type": "display_data"
    }
   ],
   "source": [
    "new_full = data_full\n",
    "new_full = new_full.rename(columns={'final.output.concentrate_au' : 'AU', 'final.output.concentrate_ag' : 'AG', 'final.output.concentrate_pb' : 'PB'})\n",
    "ax = new_full.boxplot(column=['AU', 'AG', 'PB'])\n",
    "ax.set_title('Распределение после второй очистки')"
   ]
  },
  {
   "cell_type": "markdown",
   "metadata": {},
   "source": [
    "\n",
    "На боксплотах видно, что на каждом этапе очистки концентрация золота растет.\n"
   ]
  },
  {
   "cell_type": "markdown",
   "metadata": {},
   "source": [
    "\n",
    "Сейчас сравним распределения размеров гранул сырья на обучающей и тестовой выборках. Если распределения сильно отличаются друг от друга, то оценка модели будет неверной.\n"
   ]
  },
  {
   "cell_type": "code",
   "execution_count": 26,
   "metadata": {},
   "outputs": [
    {
     "data": {
      "text/plain": [
       "<function matplotlib.pyplot.show(*args, **kw)>"
      ]
     },
     "execution_count": 26,
     "metadata": {},
     "output_type": "execute_result"
    },
    {
     "data": {
      "image/png": "[encoded data removed]",
      "text/plain": [
       "<Figure size 432x288 with 1 Axes>"
      ]
     },
     "metadata": {
      "needs_background": "light"
     },
     "output_type": "display_data"
    }
   ],
   "source": [
    "ax = data_train['primary_cleaner.input.feed_size'].hist()\n",
    "ax2 = data_test['primary_cleaner.input.feed_size'].hist(ax=ax)\n",
    "plt.suptitle('Распределение размеров гранул')\n",
    "plt.show"
   ]
  },
  {
   "cell_type": "code",
   "execution_count": 27,
   "metadata": {},
   "outputs": [
    {
     "data": {
      "text/plain": [
       "count   15331.00\n",
       "mean        7.31\n",
       "std         0.61\n",
       "min         1.08\n",
       "25%         6.94\n",
       "50%         7.28\n",
       "75%         7.67\n",
       "max        10.47\n",
       "Name: primary_cleaner.input.feed_size, dtype: float64"
      ]
     },
     "execution_count": 27,
     "metadata": {},
     "output_type": "execute_result"
    }
   ],
   "source": [
    "data_train['primary_cleaner.input.feed_size'].describe()"
   ]
  },
  {
   "cell_type": "code",
   "execution_count": 28,
   "metadata": {},
   "outputs": [
    {
     "data": {
      "text/plain": [
       "count   5290.00\n",
       "mean       7.27\n",
       "std        0.61\n",
       "min        5.65\n",
       "25%        6.89\n",
       "50%        7.25\n",
       "75%        7.60\n",
       "max       15.50\n",
       "Name: primary_cleaner.input.feed_size, dtype: float64"
      ]
     },
     "execution_count": 28,
     "metadata": {},
     "output_type": "execute_result"
    }
   ],
   "source": [
    "data_test['primary_cleaner.input.feed_size'].describe()"
   ]
  },
  {
   "cell_type": "markdown",
   "metadata": {},
   "source": [
    "\n",
    "Распределение размеров гранул в двух выборках примерно одинаковое, что по распределению на гистограмме, что по средним и медианным значениям.\n"
   ]
  },
  {
   "cell_type": "markdown",
   "metadata": {},
   "source": [
    "\n",
    "Сейчас проанализируем концентрацию всех веществ на разных стадиях в обучающей и тестовой выборках.\n"
   ]
  },
  {
   "cell_type": "code",
   "execution_count": 29,
   "metadata": {},
   "outputs": [
    {
     "data": {
      "text/html": [
       "<div>\n",
       "<style scoped>\n",
       "    .dataframe tbody tr th:only-of-type {\n",
       "        vertical-align: middle;\n",
       "    }\n",
       "\n",
       "    .dataframe tbody tr th {\n",
       "        vertical-align: top;\n",
       "    }\n",
       "\n",
       "    .dataframe thead th {\n",
       "        text-align: right;\n",
       "    }\n",
       "</style>\n",
       "<table border=\"1\" class=\"dataframe\">\n",
       "  <thead>\n",
       "    <tr style=\"text-align: right;\">\n",
       "      <th></th>\n",
       "      <th>rougher_input</th>\n",
       "      <th>prime_output</th>\n",
       "      <th>rougher_output</th>\n",
       "      <th>final_output</th>\n",
       "    </tr>\n",
       "  </thead>\n",
       "  <tbody>\n",
       "    <tr>\n",
       "      <td>count</td>\n",
       "      <td>15331.00</td>\n",
       "      <td>15331.00</td>\n",
       "      <td>15331.00</td>\n",
       "      <td>15331.00</td>\n",
       "    </tr>\n",
       "    <tr>\n",
       "      <td>mean</td>\n",
       "      <td>19.72</td>\n",
       "      <td>48.68</td>\n",
       "      <td>37.60</td>\n",
       "      <td>57.63</td>\n",
       "    </tr>\n",
       "    <tr>\n",
       "      <td>std</td>\n",
       "      <td>5.43</td>\n",
       "      <td>11.28</td>\n",
       "      <td>9.82</td>\n",
       "      <td>11.03</td>\n",
       "    </tr>\n",
       "    <tr>\n",
       "      <td>min</td>\n",
       "      <td>0.03</td>\n",
       "      <td>0.00</td>\n",
       "      <td>0.00</td>\n",
       "      <td>0.00</td>\n",
       "    </tr>\n",
       "    <tr>\n",
       "      <td>25%</td>\n",
       "      <td>16.76</td>\n",
       "      <td>49.22</td>\n",
       "      <td>37.62</td>\n",
       "      <td>59.02</td>\n",
       "    </tr>\n",
       "    <tr>\n",
       "      <td>50%</td>\n",
       "      <td>19.19</td>\n",
       "      <td>51.61</td>\n",
       "      <td>39.76</td>\n",
       "      <td>60.18</td>\n",
       "    </tr>\n",
       "    <tr>\n",
       "      <td>75%</td>\n",
       "      <td>22.79</td>\n",
       "      <td>53.34</td>\n",
       "      <td>41.84</td>\n",
       "      <td>61.02</td>\n",
       "    </tr>\n",
       "    <tr>\n",
       "      <td>max</td>\n",
       "      <td>35.07</td>\n",
       "      <td>60.27</td>\n",
       "      <td>55.57</td>\n",
       "      <td>65.58</td>\n",
       "    </tr>\n",
       "  </tbody>\n",
       "</table>\n",
       "</div>"
      ],
      "text/plain": [
       "       rougher_input  prime_output  rougher_output  final_output\n",
       "count       15331.00      15331.00        15331.00      15331.00\n",
       "mean           19.72         48.68           37.60         57.63\n",
       "std             5.43         11.28            9.82         11.03\n",
       "min             0.03          0.00            0.00          0.00\n",
       "25%            16.76         49.22           37.62         59.02\n",
       "50%            19.19         51.61           39.76         60.18\n",
       "75%            22.79         53.34           41.84         61.02\n",
       "max            35.07         60.27           55.57         65.58"
      ]
     },
     "execution_count": 29,
     "metadata": {},
     "output_type": "execute_result"
    }
   ],
   "source": [
    "data_train['rougher_input'] = (data_train['rougher.input.feed_au']+data_train['rougher.input.feed_ag']+\n",
    "                               data_train['rougher.input.feed_pb']\n",
    ")\n",
    "data_train['prime_output'] = (data_train['primary_cleaner.output.concentrate_au']+\n",
    "                               data_train['primary_cleaner.output.concentrate_ag']+\n",
    "                               data_train['primary_cleaner.output.concentrate_pb']\n",
    ")\n",
    "data_train['rougher_output'] = (data_train['rougher.output.concentrate_au']+\n",
    "                               data_train['rougher.output.concentrate_ag']+\n",
    "                               data_train['rougher.output.concentrate_pb']\n",
    ")\n",
    "data_train['final_output'] = (data_train['final.output.concentrate_au']+\n",
    "                               data_train['final.output.concentrate_ag']+\n",
    "                               data_train['final.output.concentrate_pb']\n",
    ")\n",
    "data_train[['rougher_input', 'prime_output', 'rougher_output', 'final_output']].describe()"
   ]
  },
  {
   "cell_type": "markdown",
   "metadata": {},
   "source": [
    "\n",
    "Видим аномалию - суммарная концентрация всех веществ не должна быть равна нулю. Возможно, это ошибка оборудования, либо эксперимент был проведен неверно. Такие значения нужно удалить из выборок.\n"
   ]
  },
  {
   "cell_type": "code",
   "execution_count": 30,
   "metadata": {},
   "outputs": [],
   "source": [
    "data_train = data_train.loc[data_train['final_output']!=0]\n",
    "data_train = data_train.loc[data_train['rougher_output']!=0]\n",
    "data_train = data_train.loc[data_train['prime_output']!=0]\n",
    "data_train = data_train.loc[data_train['rougher_input']!=0]"
   ]
  },
  {
   "cell_type": "markdown",
   "metadata": {},
   "source": [
    "\n",
    "В тестовой выборке мы можем оценить только первоначальную концентрацию веществ.\n"
   ]
  },
  {
   "cell_type": "code",
   "execution_count": 31,
   "metadata": {},
   "outputs": [
    {
     "data": {
      "text/plain": [
       "count   5290.00\n",
       "mean      22.50\n",
       "std        4.06\n",
       "min        1.41\n",
       "25%       19.82\n",
       "50%       22.98\n",
       "75%       25.11\n",
       "max       33.50\n",
       "Name: rougher_input, dtype: float64"
      ]
     },
     "execution_count": 31,
     "metadata": {},
     "output_type": "execute_result"
    }
   ],
   "source": [
    "data_test['rougher_input'] = (data_test['rougher.input.feed_au']+data_test['rougher.input.feed_ag']+\n",
    "                               data_test['rougher.input.feed_pb']\n",
    ")\n",
    "data_test['rougher_input'].describe()"
   ]
  },
  {
   "cell_type": "code",
   "execution_count": 32,
   "metadata": {},
   "outputs": [],
   "source": [
    "data_test = data_test.drop(['rougher_input'], axis=1)"
   ]
  },
  {
   "cell_type": "markdown",
   "metadata": {},
   "source": [
    "## Вывод"
   ]
  },
  {
   "cell_type": "markdown",
   "metadata": {},
   "source": [
    "\n",
    "Мы проанализировали данные и закончили предобработку данных, чтобы приступить к следующему этапу - построению модели.\n"
   ]
  },
  {
   "cell_type": "markdown",
   "metadata": {},
   "source": [
    "[К оглавлению](#intro)"
   ]
  },
  {
   "cell_type": "markdown",
   "metadata": {},
   "source": [
    "<a id='chapter3'></a>\n",
    "\n",
    "# Модель"
   ]
  },
  {
   "cell_type": "markdown",
   "metadata": {},
   "source": [
    "\n",
    "В данной работе нам необходимо построить модель, предсказывающую два целевых признака: <i> rougher.output.recovery </i> и <i> final.output.recovery </i>. Эти параметры имеют тип данных float, а значит перед нами задача регрессии. Выделим среди данных целевые признаки.\n",
    "\n",
    "У нас есть обучающая выборка и тестовая. Разделим обучающую выборку на две части: обучающую и валидационную. На обучающей выборке мы обучим модель, а на валидационной подберем параметры. Учтем при этом, что в тренировочной и валидационной выборке должны быть только те столбцы, какие есть в тестовой.\n"
   ]
  },
  {
   "cell_type": "code",
   "execution_count": 33,
   "metadata": {},
   "outputs": [],
   "source": [
    "#объявление признаков\n",
    "target_rougher = data_train['rougher.output.recovery']\n",
    "target_final = data_train['final.output.recovery']\n",
    "features = data_train[columns_test]"
   ]
  },
  {
   "cell_type": "code",
   "execution_count": 34,
   "metadata": {},
   "outputs": [],
   "source": [
    "target_test_rougher = data_test['rougher.output.recovery']\n",
    "target_test_final = data_test['final.output.recovery']\n",
    "features_test = data_test[columns_test]"
   ]
  },
  {
   "cell_type": "markdown",
   "metadata": {},
   "source": [
    "\n",
    "Также нам необходимо масштабировать признаки. Если в одном из них разбросы больше, чем в другом, то алгоритм решит, что тот признак важнее, а это не так: все признаки важны.\n"
   ]
  },
  {
   "cell_type": "code",
   "execution_count": 35,
   "metadata": {},
   "outputs": [],
   "source": [
    "#масштабирование\n",
    "scaler = StandardScaler()\n",
    "scaler.fit(features)\n",
    "features = scaler.transform(features)"
   ]
  },
  {
   "cell_type": "markdown",
   "metadata": {},
   "source": []
  },
  {
   "cell_type": "code",
   "execution_count": 36,
   "metadata": {},
   "outputs": [
    {
     "name": "stdout",
     "output_type": "stream",
     "text": [
      "Количество объектов в обучающей выборке: 11136\n",
      "Количество объектов в валидационной выборке: 3712\n"
     ]
    }
   ],
   "source": [
    "#выделим обучающую и валидационную выборки для двух целевых признаков\n",
    "features_train_rougher, features_valid_rougher, target_train_rougher, target_valid_rougher = (\n",
    "train_test_split(features, target_rougher, test_size=0.25, random_state=0)\n",
    ")\n",
    "features_train_final, features_valid_final, target_train_final, target_valid_final = (\n",
    "train_test_split(features, target_final, test_size=0.25, random_state=0)\n",
    ")\n",
    "print('Количество объектов в обучающей выборке:', len(features_train_rougher))\n",
    "print('Количество объектов в валидационной выборке:', len(features_valid_rougher))"
   ]
  },
  {
   "cell_type": "markdown",
   "metadata": {},
   "source": [
    "\n",
    "Для проверки качества модели нам потребуется особая метрика качества - функция sMAPE - симметричное среднее абсолютное процентное отклонение. Напишем функцию для ее нахождения.\n"
   ]
  },
  {
   "cell_type": "code",
   "execution_count": 37,
   "metadata": {},
   "outputs": [],
   "source": [
    "def smape(target, predict):\n",
    "    n = len(target)\n",
    "    result = abs(target - predict)/((abs(target) + abs(predict))/2)\n",
    "    return result.sum()/n*100"
   ]
  },
  {
   "cell_type": "code",
   "execution_count": 38,
   "metadata": {},
   "outputs": [],
   "source": [
    "my_score = make_scorer(smape, greater_is_better=False)"
   ]
  },
  {
   "cell_type": "markdown",
   "metadata": {},
   "source": [
    "\n",
    "В данный момент нам известны три алгоритма моделирования:\n",
    "\n",
    "* линейная регрессия\n",
    "\n",
    "* дерево решений\n",
    "\n",
    "* случайный лес\n"
   ]
  },
  {
   "cell_type": "markdown",
   "metadata": {},
   "source": [
    "\n",
    "Построим модель с минимальным значением функции sMAPE.\n"
   ]
  },
  {
   "cell_type": "markdown",
   "metadata": {},
   "source": [
    "## Линейная регрессия"
   ]
  },
  {
   "cell_type": "code",
   "execution_count": 39,
   "metadata": {},
   "outputs": [
    {
     "name": "stdout",
     "output_type": "stream",
     "text": [
      "[-32.79058164 -34.2116182  -49.24597094 -32.68637762 -46.77319058]\n"
     ]
    }
   ],
   "source": [
    "model_linear_rougher = LinearRegression()\n",
    "model_linear_rougher.fit(features, target_rougher)\n",
    "model_linear_final = LinearRegression()\n",
    "model_linear_final.fit(features, target_final)\n",
    "final_score_rougher = cross_val_score(model_linear_rougher, features, target_rougher, scoring=my_score, cv=5)\n",
    "final_score_final = cross_val_score(model_linear_final, features, target_final, scoring=my_score, cv=5)\n",
    "print(0.25*final_score_rougher+0.75*final_score_final)"
   ]
  },
  {
   "cell_type": "markdown",
   "metadata": {},
   "source": [
    "## Дерево решений"
   ]
  },
  {
   "cell_type": "code",
   "execution_count": 40,
   "metadata": {},
   "outputs": [
    {
     "name": "stdout",
     "output_type": "stream",
     "text": [
      "Наилучшая мера: 7.518408387991368 с глубиной 10\n"
     ]
    }
   ],
   "source": [
    "#зададим переменные для наилучших результатов\n",
    "best_depth_tree = 0\n",
    "best_result_tree = 1000\n",
    "model_tree_rougher = None\n",
    "model_tree_final = None\n",
    "#в цикле перебираем значения глубины\n",
    "for depth in range(1, 11):\n",
    "    #задаем модели с текущей глубиной\n",
    "    model_rougher = DecisionTreeRegressor(random_state=0, max_depth=depth)\n",
    "    model_final = DecisionTreeRegressor(random_state=0, max_depth=depth)\n",
    "    #обучаем модели\n",
    "    model_rougher.fit(features_train_rougher, target_train_rougher)\n",
    "    model_final.fit(features_train_final, target_train_final)\n",
    "    #предсказываем результаты на валидационной выборке\n",
    "    predict_rougher = model_rougher.predict(features_valid_rougher)\n",
    "    predict_final = model_final.predict(features_valid_final)\n",
    "    #рассчитываем меру\n",
    "    result = 0.25*smape(target_valid_rougher, predict_rougher)+0.75*smape(target_valid_final, predict_final)\n",
    "    #выбираем наилучший результат\n",
    "    if result<best_result_tree:\n",
    "        best_result_tree = result\n",
    "        best_depth_tree = depth\n",
    "        model_tree_rougher = model_rougher\n",
    "        model_tree_final = model_final\n",
    "print('Наилучшая мера:', best_result_tree, 'с глубиной', best_depth_tree)"
   ]
  },
  {
   "cell_type": "markdown",
   "metadata": {},
   "source": [
    "## Случайный лес"
   ]
  },
  {
   "cell_type": "code",
   "execution_count": 41,
   "metadata": {},
   "outputs": [
    {
     "name": "stdout",
     "output_type": "stream",
     "text": [
      "Наилучшая мера: 7.065250502122303 с глубиной 10 и количеством деревьев 50\n"
     ]
    }
   ],
   "source": [
    "#зададим переменные для наилучших результатов\n",
    "best_depth_forest = 0\n",
    "best_result_forest = 1000\n",
    "best_est_forest = 0\n",
    "model_forest_rougher = None\n",
    "model_forest_final = None\n",
    "#\n",
    "for est in range(10, 51, 5):\n",
    "    for depth in range(1, 11):\n",
    "        #\n",
    "        model_rougher = RandomForestRegressor(random_state=0, n_estimators=est, max_depth=depth)\n",
    "        model_final = RandomForestRegressor(random_state=0, n_estimators=est, max_depth=depth)\n",
    "        #обучаем модели\n",
    "        model_rougher.fit(features_train_rougher, target_train_rougher)\n",
    "        model_final.fit(features_train_final, target_train_final)\n",
    "        #предсказываем результаты на валидационной выборке\n",
    "        predict_rougher = model_rougher.predict(features_valid_rougher)\n",
    "        predict_final = model_final.predict(features_valid_final)\n",
    "        #рассчитываем меру\n",
    "        result = 0.25*smape(target_valid_rougher, predict_rougher)+0.75*smape(target_valid_final, predict_final)\n",
    "        #выбираем наилучший результат\n",
    "        if result<best_result_forest:\n",
    "            best_result_forest = result\n",
    "            best_depth_forest = depth\n",
    "            best_est_forest = est\n",
    "            model_forest_rougher = model_rougher\n",
    "            model_forest_final = model_final\n",
    "print('Наилучшая мера:', best_result_forest, 'с глубиной', best_depth_forest, 'и количеством деревьев', best_est_forest)"
   ]
  },
  {
   "cell_type": "code",
   "execution_count": 42,
   "metadata": {},
   "outputs": [
    {
     "name": "stdout",
     "output_type": "stream",
     "text": [
      "[-7.88390015 -7.56563873 -7.28321178 -8.28570916 -8.06060808]\n"
     ]
    }
   ],
   "source": [
    "final_score_rougher = cross_val_score(model_forest_rougher, features_valid_rougher, target_valid_rougher, scoring=my_score, cv=5)\n",
    "final_score_final = cross_val_score(model_forest_final, features_valid_final, target_valid_final, scoring=my_score, cv=5)\n",
    "print(0.25*final_score_rougher+0.75*final_score_final)"
   ]
  },
  {
   "cell_type": "markdown",
   "metadata": {},
   "source": [
    "\n",
    "Итак, наилучший результат показал метод случайного леса с количеством деревьев 50 и глубиной 10. Проверим его на тестовой выборке.\n"
   ]
  },
  {
   "cell_type": "markdown",
   "metadata": {},
   "source": [
    "<a id='correct0'></a>"
   ]
  },
  {
   "cell_type": "code",
   "execution_count": 43,
   "metadata": {},
   "outputs": [
    {
     "name": "stdout",
     "output_type": "stream",
     "text": [
      "Результат на тестовой выборке: 9.628727091649285\n"
     ]
    }
   ],
   "source": [
    "features_test_scaled = scaler.transform(features_test)\n",
    "predict_rougher = model_forest_rougher.predict(features_test_scaled)\n",
    "predict_final = model_forest_final.predict(features_test_scaled)\n",
    "result = 0.25*smape(target_test_rougher, predict_rougher)+0.75*smape(target_test_final, predict_final)\n",
    "print('Результат на тестовой выборке:', result)"
   ]
  },
  {
   "cell_type": "markdown",
   "metadata": {},
   "source": [
    "\n",
    "Проверим какой результат даст сравнение со средним по выбрке.\n"
   ]
  },
  {
   "cell_type": "code",
   "execution_count": 44,
   "metadata": {},
   "outputs": [
    {
     "name": "stdout",
     "output_type": "stream",
     "text": [
      "Результат на тестовой выборке: 9.281820651877297\n"
     ]
    }
   ],
   "source": [
    "median_rougher = pd.Series(target_train_rougher.median(), index=target_test_rougher.index)\n",
    "median_final = pd.Series(target_train_final.median(), index=target_test_final.index)\n",
    "result = 0.25*smape(target_test_rougher, median_rougher)+0.75*smape(target_test_final, median_final)\n",
    "print('Результат на тестовой выборке:', result)"
   ]
  },
  {
   "cell_type": "markdown",
   "metadata": {},
   "source": [
    "[К оглавлению](#intro)"
   ]
  },
  {
   "cell_type": "markdown",
   "metadata": {},
   "source": [
    "<a id='chapter4'></a>\n",
    "\n",
    "# Общий вывод"
   ]
  },
  {
   "cell_type": "markdown",
   "metadata": {},
   "source": [
    "\n",
    "В данной работе мы изучили промышленный процесс получения золота из руды для создания модели, позволяющей спрогнозировать эффуктивность восстановления золота, чтобы не запускать убыточные предприятия.\n",
    "\n",
    "Изучив исходную информацию - концентрацию веществ на входе, размер зерен и прочее, - мы выделили два целевых признака, которые должна спрогнозировать наша модель, а также выделили столбцы, которые позволят обучить модель.\n",
    "\n",
    "Мы построили три вида моделей:\n",
    "\n",
    "* дерева решений с различными значениями глубины дерева\n",
    "\n",
    "* случайного леса с варьирующимися значениями количества деревьев и глубины\n",
    "\n",
    "* логистической регрессии\n",
    "\n",
    "Для выбора наилучшего метода была построена особая метрика - функция sMAPE - симметричное среднее абсолютное процентное отклонение.\n",
    "\n",
    "Согласно введенной метрике, лучшие результаты показал алгоритм случайного леса с 50 деревьями и глубиной 10. Именно на нем мы и проверили прогнозные результаты для тестовой выборки. Мы получили значение меры sMAPE равное 9.6, что является хорошим результатом, а значит мы можем использовать эту модель для прогноза эффективности восстановления золота из руды.\n"
   ]
  },
  {
   "cell_type": "markdown",
   "metadata": {},
   "source": [
    "[К оглавлению](#intro)"
   ]
  }
 ],
 "metadata": {
  "kernelspec": {
   "display_name": "Python 3",
   "language": "python",
   "name": "python3"
  },
  "language_info": {
   "codemirror_mode": {
    "name": "ipython",
    "version": 3
   },
   "file_extension": ".py",
   "mimetype": "text/x-python",
   "name": "python",
   "nbconvert_exporter": "python",
   "pygments_lexer": "ipython3",
   "version": "3.7.8"
  },
  "toc": {
   "base_numbering": 1,
   "nav_menu": {},
   "number_sections": true,
   "sideBar": true,
   "skip_h1_title": false,
   "title_cell": "Table of Contents",
   "title_sidebar": "Contents",
   "toc_cell": false,
   "toc_position": {},
   "toc_section_display": true,
   "toc_window_display": false
  }
 },
 "nbformat": 4,
 "nbformat_minor": 2
}
